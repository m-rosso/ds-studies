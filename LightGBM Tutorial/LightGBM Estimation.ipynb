{
 "cells": [
  {
   "cell_type": "markdown",
   "metadata": {},
   "source": [
    "## LightGBM estimation\n",
    "## Tutorial"
   ]
  },
  {
   "cell_type": "markdown",
   "metadata": {},
   "source": [
    "This project aims to explore some main functionalities of LightGBM library for estimating GBMs in such a way that efficient and high-performance models come up based on functions and classes whose synthax is somewhat different from traditional sci-kit learn. All codes for model estimation follow from [LightGBM documentation](https://lightgbm.readthedocs.io/en/latest/index.html). Some of its crucial aspects are [installation guide](https://lightgbm.readthedocs.io/en/latest/Installation-Guide.html), [tutorials](https://lightgbm.readthedocs.io/en/latest/Python-Intro.html), [main features](https://lightgbm.readthedocs.io/en/latest/Features.html) of functions and classes, complete list of [parameters](https://lightgbm.readthedocs.io/en/latest/Parameters.html) and their alternatives, and, finally, main possibilities of [parameters tuning](https://lightgbm.readthedocs.io/en/latest/Parameters-Tuning.html). Some additional tutorials can be found in [LightGBM Github](https://github.com/microsoft/LightGBM/tree/master/examples/python-guide).\n",
    "<br>\n",
    "<br>\n",
    "Main functions and classes used during LightGBM estimation concern dataset creation (using [Dataset class](https://lightgbm.readthedocs.io/en/latest/pythonapi/lightgbm.Dataset.html#lightgbm.Dataset)), hyper-parameters definition, training the model using an entire training data (using [train class](https://lightgbm.readthedocs.io/en/latest/pythonapi/lightgbm.train.html#lightgbm.train)), and training the model using K-folds cross-validation (using [cv class](https://lightgbm.readthedocs.io/en/latest/pythonapi/lightgbm.cv.html#lightgbm.cv)). The hyper-parameters definition is particularly important, since it follows a synthax based on a dictionary whose keys are parameters and values are some specific choices for them. Consequently, given that there are a huge collection of hyper-parameters that can be set, [parameters documentation](https://lightgbm.readthedocs.io/en/latest/Parameters.html) is probably the most relevant for LightGBM implementation.\n",
    "<br>\n",
    "<br>\n",
    "The creation of a [dataset object](https://lightgbm.readthedocs.io/en/latest/pythonapi/lightgbm.Dataset.html#lightgbm.Dataset) depends on declaring the training data with *data* argument for input variables and with *labels* argument for the output variable. Some additional and interesting arguments are *weight*, for modifying how each instance contributes with model training, and *feature_name*, for defining names of features (important if plotting tools are expected to be used).\n",
    "<br>\n",
    "<br>\n",
    "Training a LightGBM model with [train class](https://lightgbm.readthedocs.io/en/latest/pythonapi/lightgbm.train.html#lightgbm.train) is pretty straightforward. The two most relevant arguments are *params*, dictionary containing all explicitly declared hyper-parameters and their values, and *train_set*, the dataset object previously created. Initialization argument *num_boost_round* is optional, since it can be declared in the parameters dictionary. *valid_sets* and *valid_names* are arguments that should be declared for monitoring model performance on a validation dataset, necessary when implementing early stopping. The initialization arguments *fobj*, which receives a customized cost function, and *feval*, similar to *fobj* but used for model evaluation, are optional, since standard alternatives are available to be declared in parameters dictionary. Finally, some other relevant parameters are *learning_rates* (receives a list or function of customized learning schedules) and *callbacks* (receives a list of callbacks for model monitoring).\n",
    "<br>\n",
    "<br>\n",
    "Training a LightGBM model through [K-folds CV](https://lightgbm.readthedocs.io/en/latest/pythonapi/lightgbm.cv.html#lightgbm.cv) requires the initialization of an object using basically the same arguments as those for the train class. The most important extra arguments are *nfolds* (number of folds for splitting data), *shuffle* (whether data should be randomized prior to data split), and *stratified* (if *shuffle* is set to true, this parameter forces folds of data to be representative samples according to output variable).\n",
    "<br>\n",
    "<br>\n",
    "There are several collections of parameters available: [learning control parameters](https://lightgbm.readthedocs.io/en/latest/Parameters.html#learning-control-parameters) (hyper-paramenters that control how GBM estimation occurs), [dataset parameters](https://lightgbm.readthedocs.io/en/latest/Parameters.html#dataset-parameters) (affects the creation of the dataset object), [predict parameters](https://lightgbm.readthedocs.io/en/latest/Parameters.html#predict-parameters) (defines how predictions are executed), [objective parameters](https://lightgbm.readthedocs.io/en/latest/Parameters.html#objective-parameters) (referring to the learning task), and [metric parameters](https://lightgbm.readthedocs.io/en/latest/Parameters.html#metric-parameters) (which refers to learning or performance metrics evaluated during model training). [This section](https://lightgbm.readthedocs.io/en/latest/Parameters.html#core-parameters) presents the core parameters for applying LightGBM. Except from dataset (used in dataset class) and predict (used in predict method) parameters, all of them should be declared in the parameters dictionary that feeds *param* argument of train class.\n",
    "<br>\n",
    "<br>\n",
    "Special attention should be focused on [core](https://lightgbm.readthedocs.io/en/latest/Parameters.html#core-parameters) and [learning control](https://lightgbm.readthedocs.io/en/latest/Parameters.html#learning-control-parameters) parameters. Core parameters, for instance, gather the objective function (*objective*) for model training, the type of boosting (*boosting*) to be performed (traditional boosted trees, DART, etc.), the number of estimators in the ensemble (*num_iterations*), the learning rate (*learning_rate*). Learning control parameters complete the collection of most relevant hyper-parameters for GBM estimation: maximum allowed number of levels in each tree in the ensemble (*max_depth*) and subsample parameter (*bagging_fraction*, together with *bagging_freq* that should be defined to be larger than one if stochastic GBM is to be implemented).\n",
    "<br>\n",
    "<br>\n",
    "Additional hyper-parameters can lead to an even further fine tuning of model performance. *pos_bagging_fraction* and *neg_bagging_fraction* help to deal with unbalanced datasets for binary classification. *feature_fraction* and *feature_fraction_bynode* allows the use of only a random sample of features at each iteration and split, respectively. Minimum node size (*min_data_in_leaf*) controls tree complexity, while *min_gain_to_split* defines minimum improvements in cost function for further splittings. *lambda_l1* and *lambda_l2* provide additional regularization. The complete [list of parameters](https://lightgbm.readthedocs.io/en/latest/Parameters.html#learning-control-parameters) is huge, just illustrating how powerful it is to use LightGBM for implementing boosted models. Finally, a very nice section of LightGBM documentation refers to [parameters tuning](https://lightgbm.readthedocs.io/en/latest/Parameters-Tuning.html). Several distinct hints are given concerning computational time and model performance.\n",
    "<br>\n",
    "<br>\n",
    "Early stopping can be easily implemented with LightGBM. It requires the definition of arguments *valid_sets* (list with validation dataset objects), *valid_names* (respective names of validation datasets) and *early_stopping_rounds* (number of tolerated iterations without improvement in the performance metric declared in parameters dictionary). Attribute *best_iteration* can then be used for predicting with the best subset of estimators or for saving the model as it was at the best iteration.\n",
    "<br>\n",
    "<br>\n",
    "In addition to Python API for dataset construction and model estimation, one can make great use of documenation presenting how to implement LightGBM following the [sklearn interface](https://lightgbm.readthedocs.io/en/latest/Python-API.html#scikit-learn-api). More sophisticated usages involve [distributed version](https://lightgbm.readthedocs.io/en/latest/Python-API.html#dask-api) of the library and the development of [callbacks](https://lightgbm.readthedocs.io/en/latest/Python-API.html#callbacks) for monitoring model training and performance. The [plotting](https://lightgbm.readthedocs.io/en/latest/Python-API.html#plotting) of model outcomes is also a useful feature of LightGBM.\n",
    "<br>\n",
    "<br>\n",
    "No straightforward method seems available for defining hyper-parameters based on grid or random search under LightGBM. Therefore, third party libraries or customized Python modules should be combined for improving the performance of LightGBM models."
   ]
  },
  {
   "cell_type": "markdown",
   "metadata": {},
   "source": [
    "**Summary:**\n",
    "1. [Libraries](#libraries)<a href='#libraries'></a>.\n",
    "2. [Functions and classes](#functions_classes)<a href='#functions_classes'></a>.\n",
    "3. [Settings](#settings)<a href='#settings'></a>.\n",
    "4. [Importing data](#imports)<a href='#imports'></a>.\n",
    "    * [Features and label](#feats_label)<a href='#feats_label'></a>.\n",
    "    * [Model assessment](#model_assess)<a href='#model_assess'></a>.\n",
    "<br>\n",
    "<br>\n",
    "5. [Model estimation](#model_estimation)<a href='#model_estimation'></a>.\n",
    "    * [Train-test estimation](#train_test)<a href='#train_test'></a>.\n",
    "    * [Early stopping](#es)<a href='#es'></a>.\n",
    "    * [CV estimation](#cv)<a href='#cv'></a>.\n",
    "    * [Grid and random searches](#grid_random_searches)<a href='#grid_random_searches'></a>."
   ]
  },
  {
   "cell_type": "markdown",
   "metadata": {},
   "source": [
    "<a id='libraries'></a>"
   ]
  },
  {
   "cell_type": "markdown",
   "metadata": {},
   "source": [
    "## Libraries"
   ]
  },
  {
   "cell_type": "code",
   "execution_count": 1,
   "metadata": {},
   "outputs": [],
   "source": [
    "import pandas as pd\n",
    "import numpy as np\n",
    "\n",
    "import os\n",
    "import json\n",
    "\n",
    "import re\n",
    "# pip install unidecode\n",
    "from unidecode import unidecode\n",
    "\n",
    "from datetime import datetime\n",
    "import time\n",
    "\n",
    "from scipy.stats import uniform, norm, randint\n",
    "\n",
    "# pip install lightgbm\n",
    "import lightgbm as lgb\n",
    "\n",
    "from sklearn.metrics import roc_auc_score, average_precision_score, auc, precision_recall_curve, brier_score_loss"
   ]
  },
  {
   "cell_type": "markdown",
   "metadata": {},
   "source": [
    "<a id='functions_classes'></a>"
   ]
  },
  {
   "cell_type": "markdown",
   "metadata": {},
   "source": [
    "## Functions and classes"
   ]
  },
  {
   "cell_type": "code",
   "execution_count": 2,
   "metadata": {
    "scrolled": true
   },
   "outputs": [],
   "source": [
    "import utils\n",
    "from utils import loading_data, running_time"
   ]
  },
  {
   "cell_type": "code",
   "execution_count": 3,
   "metadata": {},
   "outputs": [],
   "source": [
    "import kfolds\n",
    "from kfolds import Kfolds_fit"
   ]
  },
  {
   "cell_type": "markdown",
   "metadata": {},
   "source": [
    "<a id='settings'></a>"
   ]
  },
  {
   "cell_type": "markdown",
   "metadata": {},
   "source": [
    "## Settings"
   ]
  },
  {
   "cell_type": "code",
   "execution_count": 4,
   "metadata": {},
   "outputs": [],
   "source": [
    "# Declare whether to export results:\n",
    "export = True\n",
    "\n",
    "# Define the dataset_id:\n",
    "dataset_id = 2706"
   ]
  },
  {
   "cell_type": "markdown",
   "metadata": {},
   "source": [
    "<a id='imports'></a>"
   ]
  },
  {
   "cell_type": "markdown",
   "metadata": {},
   "source": [
    "## Importing data"
   ]
  },
  {
   "cell_type": "markdown",
   "metadata": {},
   "source": [
    "<a id='feats_label'></a>"
   ]
  },
  {
   "cell_type": "markdown",
   "metadata": {},
   "source": [
    "### Features and label"
   ]
  },
  {
   "cell_type": "markdown",
   "metadata": {},
   "source": [
    "#### Training data"
   ]
  },
  {
   "cell_type": "code",
   "execution_count": 5,
   "metadata": {
    "scrolled": true
   },
   "outputs": [
    {
     "name": "stdout",
     "output_type": "stream",
     "text": [
      "----------------------------------------\n",
      "\u001b[1mDataset 2706:\u001b[0m\n",
      "Shape of df: (7217, 1286).\n",
      "Number of distinct instances: 7217.\n",
      "Time period: from 2020-12-31 to 2021-02-17.\n",
      "----------------------------------------\n",
      "\n",
      "\n"
     ]
    }
   ],
   "source": [
    "print('----------------------------------------')\n",
    "print(f'\\033[1mDataset {dataset_id}:\\033[0m')\n",
    "\n",
    "df_train = loading_data(path=f'../Datasets/dataset_{dataset_id}_train.csv',\n",
    "                        dtype={'order_id': str, 'store_id': int, 'epoch': str},\n",
    "                        id_var='order_id')\n",
    "\n",
    "print('----------------------------------------')\n",
    "print('\\n')\n",
    "\n",
    "# Accessory variables:\n",
    "drop_vars = ['y', 'order_id', 'epoch', 'date']"
   ]
  },
  {
   "cell_type": "markdown",
   "metadata": {},
   "source": [
    "#### Test data"
   ]
  },
  {
   "cell_type": "code",
   "execution_count": 6,
   "metadata": {},
   "outputs": [
    {
     "name": "stdout",
     "output_type": "stream",
     "text": [
      "----------------------------------------\n",
      "\u001b[1mDataset 2706:\u001b[0m\n",
      "Shape of df: (7217, 1286).\n",
      "Number of distinct instances: 7217.\n",
      "Time period: from 2021-02-17 to 2021-03-31.\n",
      "----------------------------------------\n",
      "\n",
      "\n"
     ]
    }
   ],
   "source": [
    "print('----------------------------------------')\n",
    "print(f'\\033[1mDataset {dataset_id}:\\033[0m')\n",
    "\n",
    "df_test = loading_data(path=f'../Datasets/dataset_{dataset_id}_test.csv',\n",
    "                        dtype={'order_id': str, 'store_id': int, 'epoch': str},\n",
    "                        id_var='order_id')\n",
    "\n",
    "print('----------------------------------------')\n",
    "print('\\n')"
   ]
  },
  {
   "cell_type": "markdown",
   "metadata": {},
   "source": [
    "<a id='model_estimation'></a>"
   ]
  },
  {
   "cell_type": "markdown",
   "metadata": {},
   "source": [
    "## Model estimation"
   ]
  },
  {
   "cell_type": "markdown",
   "metadata": {},
   "source": [
    "<a id='train_test'></a>"
   ]
  },
  {
   "cell_type": "markdown",
   "metadata": {},
   "source": [
    "### Train-test estimation"
   ]
  },
  {
   "cell_type": "markdown",
   "metadata": {},
   "source": [
    "#### Creating the object for training data"
   ]
  },
  {
   "cell_type": "code",
   "execution_count": 8,
   "metadata": {},
   "outputs": [],
   "source": [
    "features_names = [re.sub('[^A-Za-z0-9_]+', '', f) for f in df_train.drop(drop_vars, axis=1).columns]\n",
    "\n",
    "# Creating the training data object:\n",
    "train_data = lgb.Dataset(data=df_train.drop(drop_vars, axis=1).values,\n",
    "                         label=df_train['y'].values,\n",
    "                         feature_name=features_names)"
   ]
  },
  {
   "cell_type": "markdown",
   "metadata": {},
   "source": [
    "#### Training the model"
   ]
  },
  {
   "cell_type": "code",
   "execution_count": 9,
   "metadata": {},
   "outputs": [
    {
     "name": "stdout",
     "output_type": "stream",
     "text": [
      "Help on function train in module lightgbm.engine:\n",
      "\n",
      "train(params, train_set, num_boost_round=100, valid_sets=None, valid_names=None, fobj=None, feval=None, init_model=None, feature_name='auto', categorical_feature='auto', early_stopping_rounds=None, evals_result=None, verbose_eval=True, learning_rates=None, keep_training_booster=False, callbacks=None)\n",
      "    Perform the training with given parameters.\n",
      "    \n",
      "    Parameters\n",
      "    ----------\n",
      "    params : dict\n",
      "        Parameters for training.\n",
      "    train_set : Dataset\n",
      "        Data to be trained on.\n",
      "    num_boost_round : int, optional (default=100)\n",
      "        Number of boosting iterations.\n",
      "    valid_sets : list of Datasets or None, optional (default=None)\n",
      "        List of data to be evaluated on during training.\n",
      "    valid_names : list of strings or None, optional (default=None)\n",
      "        Names of ``valid_sets``.\n",
      "    fobj : callable or None, optional (default=None)\n",
      "        Customized objective function.\n",
      "        Should accept two parameters: preds, train_data,\n",
      "        and return (grad, hess).\n",
      "    \n",
      "            preds : list or numpy 1-D array\n",
      "                The predicted values.\n",
      "            train_data : Dataset\n",
      "                The training dataset.\n",
      "            grad : list or numpy 1-D array\n",
      "                The value of the first order derivative (gradient) for each sample point.\n",
      "            hess : list or numpy 1-D array\n",
      "                The value of the second order derivative (Hessian) for each sample point.\n",
      "    \n",
      "        For binary task, the preds is margin.\n",
      "        For multi-class task, the preds is group by class_id first, then group by row_id.\n",
      "        If you want to get i-th row preds in j-th class, the access way is score[j * num_data + i]\n",
      "        and you should group grad and hess in this way as well.\n",
      "    \n",
      "    feval : callable or None, optional (default=None)\n",
      "        Customized evaluation function.\n",
      "        Should accept two parameters: preds, train_data,\n",
      "        and return (eval_name, eval_result, is_higher_better) or list of such tuples.\n",
      "    \n",
      "            preds : list or numpy 1-D array\n",
      "                The predicted values.\n",
      "            train_data : Dataset\n",
      "                The training dataset.\n",
      "            eval_name : string\n",
      "                The name of evaluation function (without whitespaces).\n",
      "            eval_result : float\n",
      "                The eval result.\n",
      "            is_higher_better : bool\n",
      "                Is eval result higher better, e.g. AUC is ``is_higher_better``.\n",
      "    \n",
      "        For binary task, the preds is probability of positive class (or margin in case of specified ``fobj``).\n",
      "        For multi-class task, the preds is group by class_id first, then group by row_id.\n",
      "        If you want to get i-th row preds in j-th class, the access way is preds[j * num_data + i].\n",
      "        To ignore the default metric corresponding to the used objective,\n",
      "        set the ``metric`` parameter to the string ``\"None\"`` in ``params``.\n",
      "    init_model : string, Booster or None, optional (default=None)\n",
      "        Filename of LightGBM model or Booster instance used for continue training.\n",
      "    feature_name : list of strings or 'auto', optional (default=\"auto\")\n",
      "        Feature names.\n",
      "        If 'auto' and data is pandas DataFrame, data columns names are used.\n",
      "    categorical_feature : list of strings or int, or 'auto', optional (default=\"auto\")\n",
      "        Categorical features.\n",
      "        If list of int, interpreted as indices.\n",
      "        If list of strings, interpreted as feature names (need to specify ``feature_name`` as well).\n",
      "        If 'auto' and data is pandas DataFrame, pandas unordered categorical columns are used.\n",
      "        All values in categorical features should be less than int32 max value (2147483647).\n",
      "        Large values could be memory consuming. Consider using consecutive integers starting from zero.\n",
      "        All negative values in categorical features will be treated as missing values.\n",
      "        The output cannot be monotonically constrained with respect to a categorical feature.\n",
      "    early_stopping_rounds : int or None, optional (default=None)\n",
      "        Activates early stopping. The model will train until the validation score stops improving.\n",
      "        Validation score needs to improve at least every ``early_stopping_rounds`` round(s)\n",
      "        to continue training.\n",
      "        Requires at least one validation data and one metric.\n",
      "        If there's more than one, will check all of them. But the training data is ignored anyway.\n",
      "        To check only the first metric, set the ``first_metric_only`` parameter to ``True`` in ``params``.\n",
      "        The index of iteration that has the best performance will be saved in the ``best_iteration`` field\n",
      "        if early stopping logic is enabled by setting ``early_stopping_rounds``.\n",
      "    evals_result: dict or None, optional (default=None)\n",
      "        This dictionary used to store all evaluation results of all the items in ``valid_sets``.\n",
      "    \n",
      "        .. rubric:: Example\n",
      "    \n",
      "        With a ``valid_sets`` = [valid_set, train_set],\n",
      "        ``valid_names`` = ['eval', 'train']\n",
      "        and a ``params`` = {'metric': 'logloss'}\n",
      "        returns {'train': {'logloss': ['0.48253', '0.35953', ...]},\n",
      "        'eval': {'logloss': ['0.480385', '0.357756', ...]}}.\n",
      "    \n",
      "    verbose_eval : bool or int, optional (default=True)\n",
      "        Requires at least one validation data.\n",
      "        If True, the eval metric on the valid set is printed at each boosting stage.\n",
      "        If int, the eval metric on the valid set is printed at every ``verbose_eval`` boosting stage.\n",
      "        The last boosting stage or the boosting stage found by using ``early_stopping_rounds`` is also printed.\n",
      "    \n",
      "        .. rubric:: Example\n",
      "    \n",
      "        With ``verbose_eval`` = 4 and at least one item in ``valid_sets``,\n",
      "        an evaluation metric is printed every 4 (instead of 1) boosting stages.\n",
      "    \n",
      "    learning_rates : list, callable or None, optional (default=None)\n",
      "        List of learning rates for each boosting round\n",
      "        or a customized function that calculates ``learning_rate``\n",
      "        in terms of current number of round (e.g. yields learning rate decay).\n",
      "    keep_training_booster : bool, optional (default=False)\n",
      "        Whether the returned Booster will be used to keep training.\n",
      "        If False, the returned value will be converted into _InnerPredictor before returning.\n",
      "        When your model is very large and cause the memory error, you can try to set this param to ``True`` to avoid the model conversion performed during the internal call of ``model_to_string``.\n",
      "        You can still use _InnerPredictor as ``init_model`` for future continue training.\n",
      "    callbacks : list of callables or None, optional (default=None)\n",
      "        List of callback functions that are applied at each iteration.\n",
      "        See Callbacks in Python API for more information.\n",
      "    \n",
      "    Returns\n",
      "    -------\n",
      "    booster : Booster\n",
      "        The trained Booster model.\n",
      "\n"
     ]
    }
   ],
   "source": [
    "help(lgb.train)"
   ]
  },
  {
   "cell_type": "code",
   "execution_count": 10,
   "metadata": {},
   "outputs": [],
   "source": [
    "# Declaring dictionary with hyper-parameters:\n",
    "param = {'objective': 'binary',\n",
    "         'bagging_fraction': 0.75, 'learning_rate': 0.01, 'max_depth': 3, 'num_iterations': 500,\n",
    "         'bagging_freq': 1,\n",
    "         'verbose': -1}"
   ]
  },
  {
   "cell_type": "code",
   "execution_count": 11,
   "metadata": {
    "scrolled": true
   },
   "outputs": [
    {
     "name": "stderr",
     "output_type": "stream",
     "text": [
      "/home/matheus_rosso/anaconda3/lib/python3.7/site-packages/lightgbm/engine.py:151: UserWarning: Found `num_iterations` in params. Will use it instead of argument\n",
      "  warnings.warn(\"Found `{}` in params. Will use it instead of argument\".format(alias))\n"
     ]
    }
   ],
   "source": [
    "# Training the model:\n",
    "lgb_model = lgb.train(params=param, train_set=train_data,\n",
    "                      feature_name=features_names,\n",
    "                      verbose_eval = False)"
   ]
  },
  {
   "cell_type": "markdown",
   "metadata": {},
   "source": [
    "#### Performance metrics"
   ]
  },
  {
   "cell_type": "code",
   "execution_count": 12,
   "metadata": {},
   "outputs": [],
   "source": [
    "# Predicting scores for test data:\n",
    "score_pred_test = lgb_model.predict(df_test.drop(drop_vars, axis=1).values)"
   ]
  },
  {
   "cell_type": "code",
   "execution_count": 13,
   "metadata": {},
   "outputs": [
    {
     "name": "stdout",
     "output_type": "stream",
     "text": [
      "\u001b[1mPerformance metrics (test data):\u001b[0m\n",
      "Test ROC-AUC: 0.992877420577318.\n",
      "Test average precision score: 0.963687610627367.\n",
      "Test Brier score: 0.004888418242082601.\n"
     ]
    }
   ],
   "source": [
    "# Performance metrics:\n",
    "test_roc_auc = roc_auc_score(df_test['y'], score_pred_test)\n",
    "test_prec_avg = average_precision_score(df_test['y'], score_pred_test)\n",
    "test_brier = brier_score_loss(df_test['y'], score_pred_test)\n",
    "\n",
    "print('\\033[1mPerformance metrics (test data):\\033[0m')\n",
    "print(f'Test ROC-AUC: {test_roc_auc}.')\n",
    "print(f'Test average precision score: {test_prec_avg}.')\n",
    "print(f'Test Brier score: {test_brier}.')"
   ]
  },
  {
   "cell_type": "markdown",
   "metadata": {},
   "source": [
    "#### Relevant attributes or methods of the trained model"
   ]
  },
  {
   "cell_type": "markdown",
   "metadata": {},
   "source": [
    "Visualizing the ensemble of trees using a dataframe"
   ]
  },
  {
   "cell_type": "code",
   "execution_count": 14,
   "metadata": {
    "scrolled": true
   },
   "outputs": [
    {
     "data": {
      "text/html": [
       "<div>\n",
       "<style scoped>\n",
       "    .dataframe tbody tr th:only-of-type {\n",
       "        vertical-align: middle;\n",
       "    }\n",
       "\n",
       "    .dataframe tbody tr th {\n",
       "        vertical-align: top;\n",
       "    }\n",
       "\n",
       "    .dataframe thead th {\n",
       "        text-align: right;\n",
       "    }\n",
       "</style>\n",
       "<table border=\"1\" class=\"dataframe\">\n",
       "  <thead>\n",
       "    <tr style=\"text-align: right;\">\n",
       "      <th></th>\n",
       "      <th>tree_index</th>\n",
       "      <th>node_depth</th>\n",
       "      <th>node_index</th>\n",
       "      <th>left_child</th>\n",
       "      <th>right_child</th>\n",
       "      <th>parent_index</th>\n",
       "      <th>split_feature</th>\n",
       "      <th>split_gain</th>\n",
       "      <th>threshold</th>\n",
       "      <th>decision_type</th>\n",
       "      <th>missing_direction</th>\n",
       "      <th>missing_type</th>\n",
       "      <th>value</th>\n",
       "      <th>weight</th>\n",
       "      <th>count</th>\n",
       "    </tr>\n",
       "  </thead>\n",
       "  <tbody>\n",
       "    <tr>\n",
       "      <td>0</td>\n",
       "      <td>0</td>\n",
       "      <td>1</td>\n",
       "      <td>0-S0</td>\n",
       "      <td>0-S1</td>\n",
       "      <td>0-S2</td>\n",
       "      <td>None</td>\n",
       "      <td>feat_879</td>\n",
       "      <td>3582.459961</td>\n",
       "      <td>2.838081</td>\n",
       "      <td>&lt;=</td>\n",
       "      <td>left</td>\n",
       "      <td>None</td>\n",
       "      <td>-3.113880</td>\n",
       "      <td>0.000000</td>\n",
       "      <td>5404</td>\n",
       "    </tr>\n",
       "    <tr>\n",
       "      <td>1</td>\n",
       "      <td>0</td>\n",
       "      <td>2</td>\n",
       "      <td>0-S1</td>\n",
       "      <td>0-S3</td>\n",
       "      <td>0-L2</td>\n",
       "      <td>0-S0</td>\n",
       "      <td>feat_886</td>\n",
       "      <td>728.320007</td>\n",
       "      <td>5.626141</td>\n",
       "      <td>&lt;=</td>\n",
       "      <td>left</td>\n",
       "      <td>None</td>\n",
       "      <td>-3.121360</td>\n",
       "      <td>212.768000</td>\n",
       "      <td>5224</td>\n",
       "    </tr>\n",
       "    <tr>\n",
       "      <td>2</td>\n",
       "      <td>0</td>\n",
       "      <td>3</td>\n",
       "      <td>0-S3</td>\n",
       "      <td>0-L0</td>\n",
       "      <td>0-L4</td>\n",
       "      <td>0-S1</td>\n",
       "      <td>feat_804</td>\n",
       "      <td>16.809900</td>\n",
       "      <td>3.609614</td>\n",
       "      <td>&lt;=</td>\n",
       "      <td>left</td>\n",
       "      <td>None</td>\n",
       "      <td>-3.122900</td>\n",
       "      <td>211.302000</td>\n",
       "      <td>5188</td>\n",
       "    </tr>\n",
       "    <tr>\n",
       "      <td>3</td>\n",
       "      <td>0</td>\n",
       "      <td>4</td>\n",
       "      <td>0-L0</td>\n",
       "      <td>None</td>\n",
       "      <td>None</td>\n",
       "      <td>0-S3</td>\n",
       "      <td>None</td>\n",
       "      <td>NaN</td>\n",
       "      <td>NaN</td>\n",
       "      <td>None</td>\n",
       "      <td>None</td>\n",
       "      <td>None</td>\n",
       "      <td>-3.123086</td>\n",
       "      <td>210.405654</td>\n",
       "      <td>5166</td>\n",
       "    </tr>\n",
       "    <tr>\n",
       "      <td>4</td>\n",
       "      <td>0</td>\n",
       "      <td>4</td>\n",
       "      <td>0-L4</td>\n",
       "      <td>None</td>\n",
       "      <td>None</td>\n",
       "      <td>0-S3</td>\n",
       "      <td>None</td>\n",
       "      <td>NaN</td>\n",
       "      <td>NaN</td>\n",
       "      <td>None</td>\n",
       "      <td>None</td>\n",
       "      <td>None</td>\n",
       "      <td>-3.079680</td>\n",
       "      <td>0.896036</td>\n",
       "      <td>22</td>\n",
       "    </tr>\n",
       "    <tr>\n",
       "      <td>5</td>\n",
       "      <td>0</td>\n",
       "      <td>3</td>\n",
       "      <td>0-L2</td>\n",
       "      <td>None</td>\n",
       "      <td>None</td>\n",
       "      <td>0-S1</td>\n",
       "      <td>None</td>\n",
       "      <td>NaN</td>\n",
       "      <td>NaN</td>\n",
       "      <td>None</td>\n",
       "      <td>None</td>\n",
       "      <td>None</td>\n",
       "      <td>-2.899256</td>\n",
       "      <td>1.466241</td>\n",
       "      <td>36</td>\n",
       "    </tr>\n",
       "    <tr>\n",
       "      <td>6</td>\n",
       "      <td>0</td>\n",
       "      <td>2</td>\n",
       "      <td>0-S2</td>\n",
       "      <td>0-S4</td>\n",
       "      <td>0-L3</td>\n",
       "      <td>0-S0</td>\n",
       "      <td>feat_223</td>\n",
       "      <td>55.989498</td>\n",
       "      <td>0.015152</td>\n",
       "      <td>&lt;=</td>\n",
       "      <td>left</td>\n",
       "      <td>None</td>\n",
       "      <td>-2.896530</td>\n",
       "      <td>7.331210</td>\n",
       "      <td>180</td>\n",
       "    </tr>\n",
       "    <tr>\n",
       "      <td>7</td>\n",
       "      <td>0</td>\n",
       "      <td>3</td>\n",
       "      <td>0-S4</td>\n",
       "      <td>0-L1</td>\n",
       "      <td>0-L5</td>\n",
       "      <td>0-S2</td>\n",
       "      <td>feat_228</td>\n",
       "      <td>6.139870</td>\n",
       "      <td>0.379437</td>\n",
       "      <td>&lt;=</td>\n",
       "      <td>left</td>\n",
       "      <td>None</td>\n",
       "      <td>-2.885170</td>\n",
       "      <td>6.272260</td>\n",
       "      <td>154</td>\n",
       "    </tr>\n",
       "    <tr>\n",
       "      <td>8</td>\n",
       "      <td>0</td>\n",
       "      <td>4</td>\n",
       "      <td>0-L1</td>\n",
       "      <td>None</td>\n",
       "      <td>None</td>\n",
       "      <td>0-S4</td>\n",
       "      <td>None</td>\n",
       "      <td>NaN</td>\n",
       "      <td>NaN</td>\n",
       "      <td>None</td>\n",
       "      <td>None</td>\n",
       "      <td>None</td>\n",
       "      <td>-2.880714</td>\n",
       "      <td>5.213303</td>\n",
       "      <td>128</td>\n",
       "    </tr>\n",
       "    <tr>\n",
       "      <td>9</td>\n",
       "      <td>0</td>\n",
       "      <td>4</td>\n",
       "      <td>0-L5</td>\n",
       "      <td>None</td>\n",
       "      <td>None</td>\n",
       "      <td>0-S4</td>\n",
       "      <td>None</td>\n",
       "      <td>NaN</td>\n",
       "      <td>NaN</td>\n",
       "      <td>None</td>\n",
       "      <td>None</td>\n",
       "      <td>None</td>\n",
       "      <td>-2.907126</td>\n",
       "      <td>1.058952</td>\n",
       "      <td>26</td>\n",
       "    </tr>\n",
       "    <tr>\n",
       "      <td>10</td>\n",
       "      <td>0</td>\n",
       "      <td>3</td>\n",
       "      <td>0-L3</td>\n",
       "      <td>None</td>\n",
       "      <td>None</td>\n",
       "      <td>0-S2</td>\n",
       "      <td>None</td>\n",
       "      <td>NaN</td>\n",
       "      <td>NaN</td>\n",
       "      <td>None</td>\n",
       "      <td>None</td>\n",
       "      <td>None</td>\n",
       "      <td>-2.963785</td>\n",
       "      <td>1.058952</td>\n",
       "      <td>26</td>\n",
       "    </tr>\n",
       "    <tr>\n",
       "      <td>11</td>\n",
       "      <td>1</td>\n",
       "      <td>1</td>\n",
       "      <td>1-S0</td>\n",
       "      <td>1-S1</td>\n",
       "      <td>1-S2</td>\n",
       "      <td>None</td>\n",
       "      <td>feat_879</td>\n",
       "      <td>2859.399902</td>\n",
       "      <td>2.838081</td>\n",
       "      <td>&lt;=</td>\n",
       "      <td>left</td>\n",
       "      <td>None</td>\n",
       "      <td>0.000000</td>\n",
       "      <td>0.000000</td>\n",
       "      <td>5397</td>\n",
       "    </tr>\n",
       "    <tr>\n",
       "      <td>12</td>\n",
       "      <td>1</td>\n",
       "      <td>2</td>\n",
       "      <td>1-S1</td>\n",
       "      <td>1-S3</td>\n",
       "      <td>1-L2</td>\n",
       "      <td>1-S0</td>\n",
       "      <td>feat_886</td>\n",
       "      <td>524.755005</td>\n",
       "      <td>5.626141</td>\n",
       "      <td>&lt;=</td>\n",
       "      <td>left</td>\n",
       "      <td>None</td>\n",
       "      <td>-0.007405</td>\n",
       "      <td>210.815000</td>\n",
       "      <td>5211</td>\n",
       "    </tr>\n",
       "    <tr>\n",
       "      <td>13</td>\n",
       "      <td>1</td>\n",
       "      <td>3</td>\n",
       "      <td>1-S3</td>\n",
       "      <td>1-L0</td>\n",
       "      <td>1-L4</td>\n",
       "      <td>1-S1</td>\n",
       "      <td>feat_804</td>\n",
       "      <td>26.975100</td>\n",
       "      <td>3.604307</td>\n",
       "      <td>&lt;=</td>\n",
       "      <td>left</td>\n",
       "      <td>None</td>\n",
       "      <td>-0.008862</td>\n",
       "      <td>209.034000</td>\n",
       "      <td>5175</td>\n",
       "    </tr>\n",
       "    <tr>\n",
       "      <td>14</td>\n",
       "      <td>1</td>\n",
       "      <td>4</td>\n",
       "      <td>1-L0</td>\n",
       "      <td>None</td>\n",
       "      <td>None</td>\n",
       "      <td>1-S3</td>\n",
       "      <td>None</td>\n",
       "      <td>NaN</td>\n",
       "      <td>NaN</td>\n",
       "      <td>None</td>\n",
       "      <td>None</td>\n",
       "      <td>None</td>\n",
       "      <td>-0.009095</td>\n",
       "      <td>208.155044</td>\n",
       "      <td>5154</td>\n",
       "    </tr>\n",
       "    <tr>\n",
       "      <td>15</td>\n",
       "      <td>1</td>\n",
       "      <td>4</td>\n",
       "      <td>1-L4</td>\n",
       "      <td>None</td>\n",
       "      <td>None</td>\n",
       "      <td>1-S3</td>\n",
       "      <td>None</td>\n",
       "      <td>NaN</td>\n",
       "      <td>NaN</td>\n",
       "      <td>None</td>\n",
       "      <td>None</td>\n",
       "      <td>None</td>\n",
       "      <td>0.046413</td>\n",
       "      <td>0.879180</td>\n",
       "      <td>21</td>\n",
       "    </tr>\n",
       "    <tr>\n",
       "      <td>16</td>\n",
       "      <td>1</td>\n",
       "      <td>3</td>\n",
       "      <td>1-L2</td>\n",
       "      <td>None</td>\n",
       "      <td>None</td>\n",
       "      <td>1-S1</td>\n",
       "      <td>None</td>\n",
       "      <td>NaN</td>\n",
       "      <td>NaN</td>\n",
       "      <td>None</td>\n",
       "      <td>None</td>\n",
       "      <td>None</td>\n",
       "      <td>0.163529</td>\n",
       "      <td>1.780794</td>\n",
       "      <td>36</td>\n",
       "    </tr>\n",
       "    <tr>\n",
       "      <td>17</td>\n",
       "      <td>1</td>\n",
       "      <td>2</td>\n",
       "      <td>1-S2</td>\n",
       "      <td>1-L1</td>\n",
       "      <td>1-S4</td>\n",
       "      <td>1-S0</td>\n",
       "      <td>feat_744</td>\n",
       "      <td>48.211800</td>\n",
       "      <td>0.235306</td>\n",
       "      <td>&lt;=</td>\n",
       "      <td>left</td>\n",
       "      <td>None</td>\n",
       "      <td>0.172302</td>\n",
       "      <td>9.242260</td>\n",
       "      <td>186</td>\n",
       "    </tr>\n",
       "    <tr>\n",
       "      <td>18</td>\n",
       "      <td>1</td>\n",
       "      <td>3</td>\n",
       "      <td>1-L1</td>\n",
       "      <td>None</td>\n",
       "      <td>None</td>\n",
       "      <td>1-S2</td>\n",
       "      <td>None</td>\n",
       "      <td>NaN</td>\n",
       "      <td>NaN</td>\n",
       "      <td>None</td>\n",
       "      <td>None</td>\n",
       "      <td>None</td>\n",
       "      <td>0.120862</td>\n",
       "      <td>1.521971</td>\n",
       "      <td>31</td>\n",
       "    </tr>\n",
       "    <tr>\n",
       "      <td>19</td>\n",
       "      <td>1</td>\n",
       "      <td>3</td>\n",
       "      <td>1-S4</td>\n",
       "      <td>1-L3</td>\n",
       "      <td>1-L5</td>\n",
       "      <td>1-S2</td>\n",
       "      <td>feat_227</td>\n",
       "      <td>11.378000</td>\n",
       "      <td>-0.448905</td>\n",
       "      <td>&lt;=</td>\n",
       "      <td>left</td>\n",
       "      <td>None</td>\n",
       "      <td>0.182443</td>\n",
       "      <td>7.720290</td>\n",
       "      <td>155</td>\n",
       "    </tr>\n",
       "    <tr>\n",
       "      <td>20</td>\n",
       "      <td>1</td>\n",
       "      <td>4</td>\n",
       "      <td>1-L3</td>\n",
       "      <td>None</td>\n",
       "      <td>None</td>\n",
       "      <td>1-S4</td>\n",
       "      <td>None</td>\n",
       "      <td>NaN</td>\n",
       "      <td>NaN</td>\n",
       "      <td>None</td>\n",
       "      <td>None</td>\n",
       "      <td>None</td>\n",
       "      <td>0.150817</td>\n",
       "      <td>0.991511</td>\n",
       "      <td>20</td>\n",
       "    </tr>\n",
       "    <tr>\n",
       "      <td>21</td>\n",
       "      <td>1</td>\n",
       "      <td>4</td>\n",
       "      <td>1-L5</td>\n",
       "      <td>None</td>\n",
       "      <td>None</td>\n",
       "      <td>1-S4</td>\n",
       "      <td>None</td>\n",
       "      <td>NaN</td>\n",
       "      <td>NaN</td>\n",
       "      <td>None</td>\n",
       "      <td>None</td>\n",
       "      <td>None</td>\n",
       "      <td>0.187103</td>\n",
       "      <td>6.728776</td>\n",
       "      <td>135</td>\n",
       "    </tr>\n",
       "    <tr>\n",
       "      <td>22</td>\n",
       "      <td>2</td>\n",
       "      <td>1</td>\n",
       "      <td>2-S0</td>\n",
       "      <td>2-S1</td>\n",
       "      <td>2-S2</td>\n",
       "      <td>None</td>\n",
       "      <td>feat_630</td>\n",
       "      <td>2467.629883</td>\n",
       "      <td>2.808004</td>\n",
       "      <td>&lt;=</td>\n",
       "      <td>left</td>\n",
       "      <td>None</td>\n",
       "      <td>0.000000</td>\n",
       "      <td>0.000000</td>\n",
       "      <td>5429</td>\n",
       "    </tr>\n",
       "    <tr>\n",
       "      <td>23</td>\n",
       "      <td>2</td>\n",
       "      <td>2</td>\n",
       "      <td>2-S1</td>\n",
       "      <td>2-S4</td>\n",
       "      <td>2-L2</td>\n",
       "      <td>2-S0</td>\n",
       "      <td>feat_886</td>\n",
       "      <td>485.197998</td>\n",
       "      <td>5.626141</td>\n",
       "      <td>&lt;=</td>\n",
       "      <td>left</td>\n",
       "      <td>None</td>\n",
       "      <td>-0.007445</td>\n",
       "      <td>210.457000</td>\n",
       "      <td>5236</td>\n",
       "    </tr>\n",
       "    <tr>\n",
       "      <td>24</td>\n",
       "      <td>2</td>\n",
       "      <td>3</td>\n",
       "      <td>2-S4</td>\n",
       "      <td>2-L0</td>\n",
       "      <td>2-L5</td>\n",
       "      <td>2-S1</td>\n",
       "      <td>feat_804</td>\n",
       "      <td>20.688601</td>\n",
       "      <td>3.604307</td>\n",
       "      <td>&lt;=</td>\n",
       "      <td>left</td>\n",
       "      <td>None</td>\n",
       "      <td>-0.008996</td>\n",
       "      <td>208.284000</td>\n",
       "      <td>5198</td>\n",
       "    </tr>\n",
       "  </tbody>\n",
       "</table>\n",
       "</div>"
      ],
      "text/plain": [
       "    tree_index  node_depth node_index left_child right_child parent_index  \\\n",
       "0            0           1       0-S0       0-S1        0-S2         None   \n",
       "1            0           2       0-S1       0-S3        0-L2         0-S0   \n",
       "2            0           3       0-S3       0-L0        0-L4         0-S1   \n",
       "3            0           4       0-L0       None        None         0-S3   \n",
       "4            0           4       0-L4       None        None         0-S3   \n",
       "5            0           3       0-L2       None        None         0-S1   \n",
       "6            0           2       0-S2       0-S4        0-L3         0-S0   \n",
       "7            0           3       0-S4       0-L1        0-L5         0-S2   \n",
       "8            0           4       0-L1       None        None         0-S4   \n",
       "9            0           4       0-L5       None        None         0-S4   \n",
       "10           0           3       0-L3       None        None         0-S2   \n",
       "11           1           1       1-S0       1-S1        1-S2         None   \n",
       "12           1           2       1-S1       1-S3        1-L2         1-S0   \n",
       "13           1           3       1-S3       1-L0        1-L4         1-S1   \n",
       "14           1           4       1-L0       None        None         1-S3   \n",
       "15           1           4       1-L4       None        None         1-S3   \n",
       "16           1           3       1-L2       None        None         1-S1   \n",
       "17           1           2       1-S2       1-L1        1-S4         1-S0   \n",
       "18           1           3       1-L1       None        None         1-S2   \n",
       "19           1           3       1-S4       1-L3        1-L5         1-S2   \n",
       "20           1           4       1-L3       None        None         1-S4   \n",
       "21           1           4       1-L5       None        None         1-S4   \n",
       "22           2           1       2-S0       2-S1        2-S2         None   \n",
       "23           2           2       2-S1       2-S4        2-L2         2-S0   \n",
       "24           2           3       2-S4       2-L0        2-L5         2-S1   \n",
       "\n",
       "   split_feature   split_gain  threshold decision_type missing_direction  \\\n",
       "0       feat_879  3582.459961   2.838081            <=              left   \n",
       "1       feat_886   728.320007   5.626141            <=              left   \n",
       "2       feat_804    16.809900   3.609614            <=              left   \n",
       "3           None          NaN        NaN          None              None   \n",
       "4           None          NaN        NaN          None              None   \n",
       "5           None          NaN        NaN          None              None   \n",
       "6       feat_223    55.989498   0.015152            <=              left   \n",
       "7       feat_228     6.139870   0.379437            <=              left   \n",
       "8           None          NaN        NaN          None              None   \n",
       "9           None          NaN        NaN          None              None   \n",
       "10          None          NaN        NaN          None              None   \n",
       "11      feat_879  2859.399902   2.838081            <=              left   \n",
       "12      feat_886   524.755005   5.626141            <=              left   \n",
       "13      feat_804    26.975100   3.604307            <=              left   \n",
       "14          None          NaN        NaN          None              None   \n",
       "15          None          NaN        NaN          None              None   \n",
       "16          None          NaN        NaN          None              None   \n",
       "17      feat_744    48.211800   0.235306            <=              left   \n",
       "18          None          NaN        NaN          None              None   \n",
       "19      feat_227    11.378000  -0.448905            <=              left   \n",
       "20          None          NaN        NaN          None              None   \n",
       "21          None          NaN        NaN          None              None   \n",
       "22      feat_630  2467.629883   2.808004            <=              left   \n",
       "23      feat_886   485.197998   5.626141            <=              left   \n",
       "24      feat_804    20.688601   3.604307            <=              left   \n",
       "\n",
       "   missing_type     value      weight  count  \n",
       "0          None -3.113880    0.000000   5404  \n",
       "1          None -3.121360  212.768000   5224  \n",
       "2          None -3.122900  211.302000   5188  \n",
       "3          None -3.123086  210.405654   5166  \n",
       "4          None -3.079680    0.896036     22  \n",
       "5          None -2.899256    1.466241     36  \n",
       "6          None -2.896530    7.331210    180  \n",
       "7          None -2.885170    6.272260    154  \n",
       "8          None -2.880714    5.213303    128  \n",
       "9          None -2.907126    1.058952     26  \n",
       "10         None -2.963785    1.058952     26  \n",
       "11         None  0.000000    0.000000   5397  \n",
       "12         None -0.007405  210.815000   5211  \n",
       "13         None -0.008862  209.034000   5175  \n",
       "14         None -0.009095  208.155044   5154  \n",
       "15         None  0.046413    0.879180     21  \n",
       "16         None  0.163529    1.780794     36  \n",
       "17         None  0.172302    9.242260    186  \n",
       "18         None  0.120862    1.521971     31  \n",
       "19         None  0.182443    7.720290    155  \n",
       "20         None  0.150817    0.991511     20  \n",
       "21         None  0.187103    6.728776    135  \n",
       "22         None  0.000000    0.000000   5429  \n",
       "23         None -0.007445  210.457000   5236  \n",
       "24         None -0.008996  208.284000   5198  "
      ]
     },
     "execution_count": 14,
     "metadata": {},
     "output_type": "execute_result"
    }
   ],
   "source": [
    "lgb_model.trees_to_dataframe().head(25)"
   ]
  },
  {
   "cell_type": "markdown",
   "metadata": {},
   "source": [
    "<a id='es'></a>"
   ]
  },
  {
   "cell_type": "markdown",
   "metadata": {},
   "source": [
    "### Early stopping"
   ]
  },
  {
   "cell_type": "markdown",
   "metadata": {},
   "source": [
    "#### Creating the object for training data"
   ]
  },
  {
   "cell_type": "code",
   "execution_count": 77,
   "metadata": {},
   "outputs": [],
   "source": [
    "features_names = [re.sub('[^A-Za-z0-9_]+', '', f) for f in df_train.drop(drop_vars, axis=1).columns]\n",
    "\n",
    "# Creating the training data object:\n",
    "train_data = lgb.Dataset(data=df_train.drop(drop_vars, axis=1).values,\n",
    "                         label=df_train['y'].values,\n",
    "                         feature_name=features_names)\n",
    "\n",
    "# Creating the validation data object:\n",
    "val_data = lgb.Dataset(data=df_test.drop(drop_vars, axis=1).values,\n",
    "                       label=df_test['y'].values,\n",
    "                       feature_name=features_names)"
   ]
  },
  {
   "cell_type": "markdown",
   "metadata": {},
   "source": [
    "#### Training the model"
   ]
  },
  {
   "cell_type": "code",
   "execution_count": 86,
   "metadata": {},
   "outputs": [],
   "source": [
    "# Declaring dictionary with hyper-parameters:\n",
    "param = {'objective': 'binary', 'metric': 'auc',\n",
    "         'bagging_fraction': 0.75, 'learning_rate': 0.01, 'max_depth': 3, 'num_iterations': 500,\n",
    "         'bagging_freq': 1,\n",
    "         'verbose': -1}"
   ]
  },
  {
   "cell_type": "code",
   "execution_count": 88,
   "metadata": {
    "scrolled": true
   },
   "outputs": [
    {
     "name": "stdout",
     "output_type": "stream",
     "text": [
      "[1]\tvalidation_data's auc: 0.95666\n",
      "Training until validation scores don't improve for 50 rounds\n",
      "[2]\tvalidation_data's auc: 0.956607\n",
      "[3]\tvalidation_data's auc: 0.958165\n",
      "[4]\tvalidation_data's auc: 0.95817\n",
      "[5]\tvalidation_data's auc: 0.958159\n",
      "[6]\tvalidation_data's auc: 0.958194\n",
      "[7]\tvalidation_data's auc: 0.958171\n",
      "[8]\tvalidation_data's auc: 0.966776\n",
      "[9]\tvalidation_data's auc: 0.966669\n",
      "[10]\tvalidation_data's auc: 0.966694\n",
      "[11]\tvalidation_data's auc: 0.966677\n",
      "[12]\tvalidation_data's auc: 0.966682\n",
      "[13]\tvalidation_data's auc: 0.966683\n",
      "[14]\tvalidation_data's auc: 0.966708\n",
      "[15]\tvalidation_data's auc: 0.966521\n",
      "[16]\tvalidation_data's auc: 0.970675\n",
      "[17]\tvalidation_data's auc: 0.970677\n",
      "[18]\tvalidation_data's auc: 0.97068\n",
      "[19]\tvalidation_data's auc: 0.970668\n",
      "[20]\tvalidation_data's auc: 0.970671\n",
      "[21]\tvalidation_data's auc: 0.970673\n",
      "[22]\tvalidation_data's auc: 0.970678\n",
      "[23]\tvalidation_data's auc: 0.972838\n",
      "[24]\tvalidation_data's auc: 0.972838\n",
      "[25]\tvalidation_data's auc: 0.972834\n",
      "[26]\tvalidation_data's auc: 0.972881\n",
      "[27]\tvalidation_data's auc: 0.972884\n",
      "[28]\tvalidation_data's auc: 0.972907\n",
      "[29]\tvalidation_data's auc: 0.972953\n",
      "[30]\tvalidation_data's auc: 0.973876\n",
      "[31]\tvalidation_data's auc: 0.973703\n",
      "[32]\tvalidation_data's auc: 0.975069\n",
      "[33]\tvalidation_data's auc: 0.975063\n",
      "[34]\tvalidation_data's auc: 0.975062\n",
      "[35]\tvalidation_data's auc: 0.975056\n",
      "[36]\tvalidation_data's auc: 0.975039\n",
      "[37]\tvalidation_data's auc: 0.974955\n",
      "[38]\tvalidation_data's auc: 0.97494\n",
      "[39]\tvalidation_data's auc: 0.974989\n",
      "[40]\tvalidation_data's auc: 0.974978\n",
      "[41]\tvalidation_data's auc: 0.974979\n",
      "[42]\tvalidation_data's auc: 0.97503\n",
      "[43]\tvalidation_data's auc: 0.976448\n",
      "[44]\tvalidation_data's auc: 0.976449\n",
      "[45]\tvalidation_data's auc: 0.97645\n",
      "[46]\tvalidation_data's auc: 0.976449\n",
      "[47]\tvalidation_data's auc: 0.976451\n",
      "[48]\tvalidation_data's auc: 0.976442\n",
      "[49]\tvalidation_data's auc: 0.976466\n",
      "[50]\tvalidation_data's auc: 0.976474\n",
      "[51]\tvalidation_data's auc: 0.97617\n",
      "[52]\tvalidation_data's auc: 0.976168\n",
      "[53]\tvalidation_data's auc: 0.976167\n",
      "[54]\tvalidation_data's auc: 0.976194\n",
      "[55]\tvalidation_data's auc: 0.976203\n",
      "[56]\tvalidation_data's auc: 0.976191\n",
      "[57]\tvalidation_data's auc: 0.976176\n",
      "[58]\tvalidation_data's auc: 0.976162\n",
      "[59]\tvalidation_data's auc: 0.976198\n",
      "[60]\tvalidation_data's auc: 0.976191\n",
      "[61]\tvalidation_data's auc: 0.976169\n",
      "[62]\tvalidation_data's auc: 0.976173\n",
      "[63]\tvalidation_data's auc: 0.976178\n",
      "[64]\tvalidation_data's auc: 0.976149\n",
      "[65]\tvalidation_data's auc: 0.976134\n",
      "[66]\tvalidation_data's auc: 0.976157\n",
      "[67]\tvalidation_data's auc: 0.976137\n",
      "[68]\tvalidation_data's auc: 0.97614\n",
      "[69]\tvalidation_data's auc: 0.97614\n",
      "[70]\tvalidation_data's auc: 0.976139\n",
      "[71]\tvalidation_data's auc: 0.976146\n",
      "[72]\tvalidation_data's auc: 0.976163\n",
      "[73]\tvalidation_data's auc: 0.976162\n",
      "[74]\tvalidation_data's auc: 0.976148\n",
      "[75]\tvalidation_data's auc: 0.97614\n",
      "[76]\tvalidation_data's auc: 0.97615\n",
      "[77]\tvalidation_data's auc: 0.976148\n",
      "[78]\tvalidation_data's auc: 0.976121\n",
      "[79]\tvalidation_data's auc: 0.976108\n",
      "[80]\tvalidation_data's auc: 0.976121\n",
      "[81]\tvalidation_data's auc: 0.976115\n",
      "[82]\tvalidation_data's auc: 0.976113\n",
      "[83]\tvalidation_data's auc: 0.976097\n",
      "[84]\tvalidation_data's auc: 0.975828\n",
      "[85]\tvalidation_data's auc: 0.975816\n",
      "[86]\tvalidation_data's auc: 0.975815\n",
      "[87]\tvalidation_data's auc: 0.976839\n",
      "[88]\tvalidation_data's auc: 0.976842\n",
      "[89]\tvalidation_data's auc: 0.976847\n",
      "[90]\tvalidation_data's auc: 0.976798\n",
      "[91]\tvalidation_data's auc: 0.976798\n",
      "[92]\tvalidation_data's auc: 0.97679\n",
      "[93]\tvalidation_data's auc: 0.976797\n",
      "[94]\tvalidation_data's auc: 0.976778\n",
      "[95]\tvalidation_data's auc: 0.976779\n",
      "[96]\tvalidation_data's auc: 0.986514\n",
      "[97]\tvalidation_data's auc: 0.986562\n",
      "[98]\tvalidation_data's auc: 0.986574\n",
      "[99]\tvalidation_data's auc: 0.985078\n",
      "[100]\tvalidation_data's auc: 0.985075\n",
      "[101]\tvalidation_data's auc: 0.985075\n",
      "[102]\tvalidation_data's auc: 0.985074\n",
      "[103]\tvalidation_data's auc: 0.985067\n",
      "[104]\tvalidation_data's auc: 0.98508\n",
      "[105]\tvalidation_data's auc: 0.984847\n",
      "[106]\tvalidation_data's auc: 0.984852\n",
      "[107]\tvalidation_data's auc: 0.984835\n",
      "[108]\tvalidation_data's auc: 0.985278\n",
      "[109]\tvalidation_data's auc: 0.985287\n",
      "[110]\tvalidation_data's auc: 0.98529\n",
      "[111]\tvalidation_data's auc: 0.98525\n",
      "[112]\tvalidation_data's auc: 0.985256\n",
      "[113]\tvalidation_data's auc: 0.985243\n",
      "[114]\tvalidation_data's auc: 0.98519\n",
      "[115]\tvalidation_data's auc: 0.985192\n",
      "[116]\tvalidation_data's auc: 0.985355\n",
      "[117]\tvalidation_data's auc: 0.985319\n",
      "[118]\tvalidation_data's auc: 0.98532\n",
      "[119]\tvalidation_data's auc: 0.985728\n",
      "[120]\tvalidation_data's auc: 0.985742\n",
      "[121]\tvalidation_data's auc: 0.985719\n",
      "[122]\tvalidation_data's auc: 0.985712\n",
      "[123]\tvalidation_data's auc: 0.985691\n",
      "[124]\tvalidation_data's auc: 0.985659\n",
      "[125]\tvalidation_data's auc: 0.985616\n",
      "[126]\tvalidation_data's auc: 0.985619\n",
      "[127]\tvalidation_data's auc: 0.985519\n",
      "[128]\tvalidation_data's auc: 0.985509\n",
      "[129]\tvalidation_data's auc: 0.985515\n",
      "[130]\tvalidation_data's auc: 0.985454\n",
      "[131]\tvalidation_data's auc: 0.985455\n",
      "[132]\tvalidation_data's auc: 0.985516\n",
      "[133]\tvalidation_data's auc: 0.985522\n",
      "[134]\tvalidation_data's auc: 0.985525\n",
      "[135]\tvalidation_data's auc: 0.985532\n",
      "[136]\tvalidation_data's auc: 0.986494\n",
      "[137]\tvalidation_data's auc: 0.986495\n",
      "[138]\tvalidation_data's auc: 0.986496\n",
      "[139]\tvalidation_data's auc: 0.987275\n",
      "[140]\tvalidation_data's auc: 0.987257\n",
      "[141]\tvalidation_data's auc: 0.987323\n",
      "[142]\tvalidation_data's auc: 0.988176\n",
      "[143]\tvalidation_data's auc: 0.988598\n",
      "[144]\tvalidation_data's auc: 0.988559\n",
      "[145]\tvalidation_data's auc: 0.988349\n",
      "[146]\tvalidation_data's auc: 0.988349\n",
      "[147]\tvalidation_data's auc: 0.988462\n",
      "[148]\tvalidation_data's auc: 0.988551\n",
      "[149]\tvalidation_data's auc: 0.988771\n",
      "[150]\tvalidation_data's auc: 0.988795\n",
      "[151]\tvalidation_data's auc: 0.98873\n",
      "[152]\tvalidation_data's auc: 0.988737\n",
      "[153]\tvalidation_data's auc: 0.988731\n",
      "[154]\tvalidation_data's auc: 0.988718\n",
      "[155]\tvalidation_data's auc: 0.988709\n",
      "[156]\tvalidation_data's auc: 0.988665\n",
      "[157]\tvalidation_data's auc: 0.988664\n",
      "[158]\tvalidation_data's auc: 0.988664\n",
      "[159]\tvalidation_data's auc: 0.988643\n",
      "[160]\tvalidation_data's auc: 0.988647\n",
      "[161]\tvalidation_data's auc: 0.988647\n",
      "[162]\tvalidation_data's auc: 0.988783\n",
      "[163]\tvalidation_data's auc: 0.988826\n",
      "[164]\tvalidation_data's auc: 0.988785\n",
      "[165]\tvalidation_data's auc: 0.988778\n",
      "[166]\tvalidation_data's auc: 0.988808\n",
      "[167]\tvalidation_data's auc: 0.988903\n",
      "[168]\tvalidation_data's auc: 0.988914\n",
      "[169]\tvalidation_data's auc: 0.989054\n",
      "[170]\tvalidation_data's auc: 0.989064\n",
      "[171]\tvalidation_data's auc: 0.989164\n",
      "[172]\tvalidation_data's auc: 0.989148\n",
      "[173]\tvalidation_data's auc: 0.989023\n",
      "[174]\tvalidation_data's auc: 0.99004\n",
      "[175]\tvalidation_data's auc: 0.990172\n",
      "[176]\tvalidation_data's auc: 0.990186\n",
      "[177]\tvalidation_data's auc: 0.990132\n",
      "[178]\tvalidation_data's auc: 0.990079\n",
      "[179]\tvalidation_data's auc: 0.990245\n",
      "[180]\tvalidation_data's auc: 0.990281\n",
      "[181]\tvalidation_data's auc: 0.99027\n",
      "[182]\tvalidation_data's auc: 0.990258\n",
      "[183]\tvalidation_data's auc: 0.990287\n",
      "[184]\tvalidation_data's auc: 0.990224\n",
      "[185]\tvalidation_data's auc: 0.990178\n",
      "[186]\tvalidation_data's auc: 0.990222\n",
      "[187]\tvalidation_data's auc: 0.990206\n",
      "[188]\tvalidation_data's auc: 0.990983\n",
      "[189]\tvalidation_data's auc: 0.991219\n",
      "[190]\tvalidation_data's auc: 0.991236\n",
      "[191]\tvalidation_data's auc: 0.991282\n",
      "[192]\tvalidation_data's auc: 0.991427\n",
      "[193]\tvalidation_data's auc: 0.991408\n",
      "[194]\tvalidation_data's auc: 0.991298\n",
      "[195]\tvalidation_data's auc: 0.991303\n",
      "[196]\tvalidation_data's auc: 0.99139\n",
      "[197]\tvalidation_data's auc: 0.991518\n",
      "[198]\tvalidation_data's auc: 0.991581\n",
      "[199]\tvalidation_data's auc: 0.991633\n",
      "[200]\tvalidation_data's auc: 0.991609\n",
      "[201]\tvalidation_data's auc: 0.991575\n",
      "[202]\tvalidation_data's auc: 0.991591\n",
      "[203]\tvalidation_data's auc: 0.991583\n",
      "[204]\tvalidation_data's auc: 0.991576\n",
      "[205]\tvalidation_data's auc: 0.991546\n",
      "[206]\tvalidation_data's auc: 0.991559\n",
      "[207]\tvalidation_data's auc: 0.99155\n",
      "[208]\tvalidation_data's auc: 0.99156\n",
      "[209]\tvalidation_data's auc: 0.991646\n",
      "[210]\tvalidation_data's auc: 0.991636\n",
      "[211]\tvalidation_data's auc: 0.991657\n",
      "[212]\tvalidation_data's auc: 0.991747\n",
      "[213]\tvalidation_data's auc: 0.991713\n",
      "[214]\tvalidation_data's auc: 0.991687\n",
      "[215]\tvalidation_data's auc: 0.991646\n",
      "[216]\tvalidation_data's auc: 0.991639\n",
      "[217]\tvalidation_data's auc: 0.991649\n",
      "[218]\tvalidation_data's auc: 0.991691\n",
      "[219]\tvalidation_data's auc: 0.991669\n",
      "[220]\tvalidation_data's auc: 0.991664\n",
      "[221]\tvalidation_data's auc: 0.991811\n",
      "[222]\tvalidation_data's auc: 0.991802\n",
      "[223]\tvalidation_data's auc: 0.991917\n",
      "[224]\tvalidation_data's auc: 0.991908\n",
      "[225]\tvalidation_data's auc: 0.991921\n",
      "[226]\tvalidation_data's auc: 0.991957\n",
      "[227]\tvalidation_data's auc: 0.991894\n",
      "[228]\tvalidation_data's auc: 0.991887\n",
      "[229]\tvalidation_data's auc: 0.991828\n",
      "[230]\tvalidation_data's auc: 0.991838\n",
      "[231]\tvalidation_data's auc: 0.991831\n",
      "[232]\tvalidation_data's auc: 0.991768\n",
      "[233]\tvalidation_data's auc: 0.99175\n",
      "[234]\tvalidation_data's auc: 0.991788\n",
      "[235]\tvalidation_data's auc: 0.991783\n",
      "[236]\tvalidation_data's auc: 0.991777\n",
      "[237]\tvalidation_data's auc: 0.991772\n",
      "[238]\tvalidation_data's auc: 0.991782\n",
      "[239]\tvalidation_data's auc: 0.99182\n",
      "[240]\tvalidation_data's auc: 0.991841\n",
      "[241]\tvalidation_data's auc: 0.991879\n",
      "[242]\tvalidation_data's auc: 0.991895\n",
      "[243]\tvalidation_data's auc: 0.991949\n",
      "[244]\tvalidation_data's auc: 0.99198\n",
      "[245]\tvalidation_data's auc: 0.992057\n",
      "[246]\tvalidation_data's auc: 0.992015\n",
      "[247]\tvalidation_data's auc: 0.992034\n",
      "[248]\tvalidation_data's auc: 0.992074\n",
      "[249]\tvalidation_data's auc: 0.992159\n",
      "[250]\tvalidation_data's auc: 0.992231\n",
      "[251]\tvalidation_data's auc: 0.992259\n",
      "[252]\tvalidation_data's auc: 0.992284\n",
      "[253]\tvalidation_data's auc: 0.992276\n",
      "[254]\tvalidation_data's auc: 0.992335\n",
      "[255]\tvalidation_data's auc: 0.992402\n",
      "[256]\tvalidation_data's auc: 0.992389\n",
      "[257]\tvalidation_data's auc: 0.99241\n"
     ]
    },
    {
     "name": "stdout",
     "output_type": "stream",
     "text": [
      "[258]\tvalidation_data's auc: 0.992467\n",
      "[259]\tvalidation_data's auc: 0.99248\n",
      "[260]\tvalidation_data's auc: 0.992484\n",
      "[261]\tvalidation_data's auc: 0.992489\n",
      "[262]\tvalidation_data's auc: 0.992449\n",
      "[263]\tvalidation_data's auc: 0.992401\n",
      "[264]\tvalidation_data's auc: 0.992379\n",
      "[265]\tvalidation_data's auc: 0.992365\n",
      "[266]\tvalidation_data's auc: 0.992322\n",
      "[267]\tvalidation_data's auc: 0.992325\n",
      "[268]\tvalidation_data's auc: 0.992348\n",
      "[269]\tvalidation_data's auc: 0.992414\n",
      "[270]\tvalidation_data's auc: 0.992412\n",
      "[271]\tvalidation_data's auc: 0.992396\n",
      "[272]\tvalidation_data's auc: 0.992386\n",
      "[273]\tvalidation_data's auc: 0.992392\n",
      "[274]\tvalidation_data's auc: 0.992441\n",
      "[275]\tvalidation_data's auc: 0.992441\n",
      "[276]\tvalidation_data's auc: 0.992529\n",
      "[277]\tvalidation_data's auc: 0.992535\n",
      "[278]\tvalidation_data's auc: 0.992565\n",
      "[279]\tvalidation_data's auc: 0.992579\n",
      "[280]\tvalidation_data's auc: 0.99259\n",
      "[281]\tvalidation_data's auc: 0.992591\n",
      "[282]\tvalidation_data's auc: 0.992573\n",
      "[283]\tvalidation_data's auc: 0.992778\n",
      "[284]\tvalidation_data's auc: 0.992789\n",
      "[285]\tvalidation_data's auc: 0.992773\n",
      "[286]\tvalidation_data's auc: 0.992776\n",
      "[287]\tvalidation_data's auc: 0.992749\n",
      "[288]\tvalidation_data's auc: 0.992746\n",
      "[289]\tvalidation_data's auc: 0.992767\n",
      "[290]\tvalidation_data's auc: 0.992778\n",
      "[291]\tvalidation_data's auc: 0.992807\n",
      "[292]\tvalidation_data's auc: 0.992839\n",
      "[293]\tvalidation_data's auc: 0.992837\n",
      "[294]\tvalidation_data's auc: 0.992835\n",
      "[295]\tvalidation_data's auc: 0.992831\n",
      "[296]\tvalidation_data's auc: 0.992786\n",
      "[297]\tvalidation_data's auc: 0.992807\n",
      "[298]\tvalidation_data's auc: 0.992775\n",
      "[299]\tvalidation_data's auc: 0.99277\n",
      "[300]\tvalidation_data's auc: 0.992745\n",
      "[301]\tvalidation_data's auc: 0.992728\n",
      "[302]\tvalidation_data's auc: 0.992729\n",
      "[303]\tvalidation_data's auc: 0.992711\n",
      "[304]\tvalidation_data's auc: 0.992694\n",
      "[305]\tvalidation_data's auc: 0.992726\n",
      "[306]\tvalidation_data's auc: 0.992726\n",
      "[307]\tvalidation_data's auc: 0.992726\n",
      "[308]\tvalidation_data's auc: 0.992703\n",
      "[309]\tvalidation_data's auc: 0.992697\n",
      "[310]\tvalidation_data's auc: 0.99269\n",
      "[311]\tvalidation_data's auc: 0.99266\n",
      "[312]\tvalidation_data's auc: 0.992641\n",
      "[313]\tvalidation_data's auc: 0.99264\n",
      "[314]\tvalidation_data's auc: 0.992693\n",
      "[315]\tvalidation_data's auc: 0.992674\n",
      "[316]\tvalidation_data's auc: 0.992723\n",
      "[317]\tvalidation_data's auc: 0.992706\n",
      "[318]\tvalidation_data's auc: 0.992712\n",
      "[319]\tvalidation_data's auc: 0.992726\n",
      "[320]\tvalidation_data's auc: 0.992812\n",
      "[321]\tvalidation_data's auc: 0.992806\n",
      "[322]\tvalidation_data's auc: 0.992811\n",
      "[323]\tvalidation_data's auc: 0.992781\n",
      "[324]\tvalidation_data's auc: 0.992783\n",
      "[325]\tvalidation_data's auc: 0.992771\n",
      "[326]\tvalidation_data's auc: 0.992762\n",
      "[327]\tvalidation_data's auc: 0.992751\n",
      "[328]\tvalidation_data's auc: 0.99274\n",
      "[329]\tvalidation_data's auc: 0.992736\n",
      "[330]\tvalidation_data's auc: 0.992727\n",
      "[331]\tvalidation_data's auc: 0.992777\n",
      "[332]\tvalidation_data's auc: 0.992785\n",
      "[333]\tvalidation_data's auc: 0.992789\n",
      "[334]\tvalidation_data's auc: 0.992777\n",
      "[335]\tvalidation_data's auc: 0.992788\n",
      "[336]\tvalidation_data's auc: 0.992771\n",
      "[337]\tvalidation_data's auc: 0.992718\n",
      "[338]\tvalidation_data's auc: 0.992674\n",
      "[339]\tvalidation_data's auc: 0.992629\n",
      "[340]\tvalidation_data's auc: 0.992612\n",
      "[341]\tvalidation_data's auc: 0.992583\n",
      "[342]\tvalidation_data's auc: 0.99255\n",
      "Early stopping, best iteration is:\n",
      "[292]\tvalidation_data's auc: 0.992839\n"
     ]
    }
   ],
   "source": [
    "# Training the model:\n",
    "lgb_model = lgb.train(params=param, train_set=train_data,\n",
    "                      feature_name=features_names,\n",
    "                      valid_sets=[val_data], valid_names=['validation_data'], early_stopping_rounds=50,\n",
    "                      verbose_eval = True)"
   ]
  },
  {
   "cell_type": "markdown",
   "metadata": {},
   "source": [
    "#### Performance metrics"
   ]
  },
  {
   "cell_type": "code",
   "execution_count": 89,
   "metadata": {},
   "outputs": [],
   "source": [
    "# Predicting scores for test data:\n",
    "score_pred_val = lgb_model.predict(df_test.drop(drop_vars, axis=1).values,\n",
    "                                   num_iteration=lgb_model.best_iteration)"
   ]
  },
  {
   "cell_type": "code",
   "execution_count": 91,
   "metadata": {},
   "outputs": [
    {
     "name": "stdout",
     "output_type": "stream",
     "text": [
      "\u001b[1mPerformance metrics (test data):\u001b[0m\n",
      "Test ROC-AUC: 0.9928389315792501.\n",
      "Test average precision score: 0.9594216812829266.\n",
      "Test Brier score: 0.005455706706754901.\n"
     ]
    }
   ],
   "source": [
    "# Performance metrics:\n",
    "val_roc_auc = roc_auc_score(df_test['y'], score_pred_val)\n",
    "val_prec_avg = average_precision_score(df_test['y'], score_pred_val)\n",
    "val_brier = brier_score_loss(df_test['y'], score_pred_val)\n",
    "\n",
    "print('\\033[1mPerformance metrics (validation data):\\033[0m')\n",
    "print(f'Test ROC-AUC: {val_roc_auc}.')\n",
    "print(f'Test average precision score: {val_prec_avg}.')\n",
    "print(f'Test Brier score: {val_brier}.')"
   ]
  },
  {
   "cell_type": "markdown",
   "metadata": {},
   "source": [
    "<a id='cv'></a>"
   ]
  },
  {
   "cell_type": "markdown",
   "metadata": {},
   "source": [
    "### CV estimation"
   ]
  },
  {
   "cell_type": "code",
   "execution_count": 25,
   "metadata": {},
   "outputs": [
    {
     "name": "stdout",
     "output_type": "stream",
     "text": [
      "Help on function cv in module lightgbm.engine:\n",
      "\n",
      "cv(params, train_set, num_boost_round=100, folds=None, nfold=5, stratified=True, shuffle=True, metrics=None, fobj=None, feval=None, init_model=None, feature_name='auto', categorical_feature='auto', early_stopping_rounds=None, fpreproc=None, verbose_eval=None, show_stdv=True, seed=0, callbacks=None, eval_train_metric=False, return_cvbooster=False)\n",
      "    Perform the cross-validation with given paramaters.\n",
      "    \n",
      "    Parameters\n",
      "    ----------\n",
      "    params : dict\n",
      "        Parameters for Booster.\n",
      "    train_set : Dataset\n",
      "        Data to be trained on.\n",
      "    num_boost_round : int, optional (default=100)\n",
      "        Number of boosting iterations.\n",
      "    folds : generator or iterator of (train_idx, test_idx) tuples, scikit-learn splitter object or None, optional (default=None)\n",
      "        If generator or iterator, it should yield the train and test indices for each fold.\n",
      "        If object, it should be one of the scikit-learn splitter classes\n",
      "        (https://scikit-learn.org/stable/modules/classes.html#splitter-classes)\n",
      "        and have ``split`` method.\n",
      "        This argument has highest priority over other data split arguments.\n",
      "    nfold : int, optional (default=5)\n",
      "        Number of folds in CV.\n",
      "    stratified : bool, optional (default=True)\n",
      "        Whether to perform stratified sampling.\n",
      "    shuffle : bool, optional (default=True)\n",
      "        Whether to shuffle before splitting data.\n",
      "    metrics : string, list of strings or None, optional (default=None)\n",
      "        Evaluation metrics to be monitored while CV.\n",
      "        If not None, the metric in ``params`` will be overridden.\n",
      "    fobj : callable or None, optional (default=None)\n",
      "        Customized objective function.\n",
      "        Should accept two parameters: preds, train_data,\n",
      "        and return (grad, hess).\n",
      "    \n",
      "            preds : list or numpy 1-D array\n",
      "                The predicted values.\n",
      "            train_data : Dataset\n",
      "                The training dataset.\n",
      "            grad : list or numpy 1-D array\n",
      "                The value of the first order derivative (gradient) for each sample point.\n",
      "            hess : list or numpy 1-D array\n",
      "                The value of the second order derivative (Hessian) for each sample point.\n",
      "    \n",
      "        For binary task, the preds is margin.\n",
      "        For multi-class task, the preds is group by class_id first, then group by row_id.\n",
      "        If you want to get i-th row preds in j-th class, the access way is score[j * num_data + i]\n",
      "        and you should group grad and hess in this way as well.\n",
      "    \n",
      "    feval : callable or None, optional (default=None)\n",
      "        Customized evaluation function.\n",
      "        Should accept two parameters: preds, train_data,\n",
      "        and return (eval_name, eval_result, is_higher_better) or list of such tuples.\n",
      "    \n",
      "            preds : list or numpy 1-D array\n",
      "                The predicted values.\n",
      "            train_data : Dataset\n",
      "                The training dataset.\n",
      "            eval_name : string\n",
      "                The name of evaluation function (without whitespaces).\n",
      "            eval_result : float\n",
      "                The eval result.\n",
      "            is_higher_better : bool\n",
      "                Is eval result higher better, e.g. AUC is ``is_higher_better``.\n",
      "    \n",
      "        For binary task, the preds is probability of positive class (or margin in case of specified ``fobj``).\n",
      "        For multi-class task, the preds is group by class_id first, then group by row_id.\n",
      "        If you want to get i-th row preds in j-th class, the access way is preds[j * num_data + i].\n",
      "        To ignore the default metric corresponding to the used objective,\n",
      "        set ``metrics`` to the string ``\"None\"``.\n",
      "    init_model : string, Booster or None, optional (default=None)\n",
      "        Filename of LightGBM model or Booster instance used for continue training.\n",
      "    feature_name : list of strings or 'auto', optional (default=\"auto\")\n",
      "        Feature names.\n",
      "        If 'auto' and data is pandas DataFrame, data columns names are used.\n",
      "    categorical_feature : list of strings or int, or 'auto', optional (default=\"auto\")\n",
      "        Categorical features.\n",
      "        If list of int, interpreted as indices.\n",
      "        If list of strings, interpreted as feature names (need to specify ``feature_name`` as well).\n",
      "        If 'auto' and data is pandas DataFrame, pandas unordered categorical columns are used.\n",
      "        All values in categorical features should be less than int32 max value (2147483647).\n",
      "        Large values could be memory consuming. Consider using consecutive integers starting from zero.\n",
      "        All negative values in categorical features will be treated as missing values.\n",
      "        The output cannot be monotonically constrained with respect to a categorical feature.\n",
      "    early_stopping_rounds : int or None, optional (default=None)\n",
      "        Activates early stopping.\n",
      "        CV score needs to improve at least every ``early_stopping_rounds`` round(s)\n",
      "        to continue.\n",
      "        Requires at least one metric. If there's more than one, will check all of them.\n",
      "        To check only the first metric, set the ``first_metric_only`` parameter to ``True`` in ``params``.\n",
      "        Last entry in evaluation history is the one from the best iteration.\n",
      "    fpreproc : callable or None, optional (default=None)\n",
      "        Preprocessing function that takes (dtrain, dtest, params)\n",
      "        and returns transformed versions of those.\n",
      "    verbose_eval : bool, int, or None, optional (default=None)\n",
      "        Whether to display the progress.\n",
      "        If None, progress will be displayed when np.ndarray is returned.\n",
      "        If True, progress will be displayed at every boosting stage.\n",
      "        If int, progress will be displayed at every given ``verbose_eval`` boosting stage.\n",
      "    show_stdv : bool, optional (default=True)\n",
      "        Whether to display the standard deviation in progress.\n",
      "        Results are not affected by this parameter, and always contain std.\n",
      "    seed : int, optional (default=0)\n",
      "        Seed used to generate the folds (passed to numpy.random.seed).\n",
      "    callbacks : list of callables or None, optional (default=None)\n",
      "        List of callback functions that are applied at each iteration.\n",
      "        See Callbacks in Python API for more information.\n",
      "    eval_train_metric : bool, optional (default=False)\n",
      "        Whether to display the train metric in progress.\n",
      "        The score of the metric is calculated again after each training step, so there is some impact on performance.\n",
      "    return_cvbooster : bool, optional (default=False)\n",
      "        Whether to return Booster models trained on each fold through ``CVBooster``.\n",
      "    \n",
      "    Returns\n",
      "    -------\n",
      "    eval_hist : dict\n",
      "        Evaluation history.\n",
      "        The dictionary has the following format:\n",
      "        {'metric1-mean': [values], 'metric1-stdv': [values],\n",
      "        'metric2-mean': [values], 'metric2-stdv': [values],\n",
      "        ...}.\n",
      "        If ``return_cvbooster=True``, also returns trained boosters via ``cvbooster`` key.\n",
      "\n"
     ]
    }
   ],
   "source": [
    "help(lgb.cv)"
   ]
  },
  {
   "cell_type": "code",
   "execution_count": 26,
   "metadata": {},
   "outputs": [],
   "source": [
    "# Declaring dictionary with hyper-parameters:\n",
    "param = {'metric': 'cross_entropy', 'objective': 'binary',\n",
    "         'bagging_fraction': 1.0, 'learning_rate': 0.01, 'max_depth': 3, 'num_iterations': 500,\n",
    "         'verbose': -1}"
   ]
  },
  {
   "cell_type": "code",
   "execution_count": 27,
   "metadata": {},
   "outputs": [],
   "source": [
    "# Creating the training data object:\n",
    "train_data = lgb.Dataset(data=df_train.drop(drop_vars, axis=1).values,\n",
    "                         label=df_train['y'].values)"
   ]
  },
  {
   "cell_type": "code",
   "execution_count": 28,
   "metadata": {},
   "outputs": [
    {
     "name": "stderr",
     "output_type": "stream",
     "text": [
      "/home/matheus_rosso/anaconda3/lib/python3.7/site-packages/lightgbm/engine.py:530: UserWarning: Found `num_iterations` in params. Will use it instead of argument\n",
      "  warnings.warn(\"Found `{}` in params. Will use it instead of argument\".format(alias))\n"
     ]
    }
   ],
   "source": [
    "# Training the model:\n",
    "lgb_cv = lgb.cv(param, train_data, nfold=3, shuffle=False, metrics=['cross_entropy', 'auc'],\n",
    "                verbose_eval = False)"
   ]
  },
  {
   "cell_type": "markdown",
   "metadata": {},
   "source": [
    "<a id='grid_random_searches'></a>"
   ]
  },
  {
   "cell_type": "markdown",
   "metadata": {},
   "source": [
    "### Grid and random searches"
   ]
  },
  {
   "cell_type": "code",
   "execution_count": 29,
   "metadata": {},
   "outputs": [],
   "source": [
    "estimation_id = int(time.time())"
   ]
  },
  {
   "cell_type": "code",
   "execution_count": 31,
   "metadata": {
    "scrolled": true
   },
   "outputs": [
    {
     "name": "stderr",
     "output_type": "stream",
     "text": [
      "\u001b[1mGrid estimation progress:\u001b[0m [                                              ] N/A%/home/matheus_rosso/anaconda3/lib/python3.7/site-packages/lightgbm/engine.py:151: UserWarning: Found `num_iterations` in params. Will use it instead of argument\n",
      "  warnings.warn(\"Found `{}` in params. Will use it instead of argument\".format(alias))\n",
      "/home/matheus_rosso/anaconda3/lib/python3.7/site-packages/lightgbm/engine.py:151: UserWarning: Found `num_iterations` in params. Will use it instead of argument\n",
      "  warnings.warn(\"Found `{}` in params. Will use it instead of argument\".format(alias))\n"
     ]
    },
    {
     "name": "stdout",
     "output_type": "stream",
     "text": [
      "[LightGBM] [Warning] Accuracy may be bad since you didn't set num_leaves and 2^max_depth > num_leaves\n"
     ]
    },
    {
     "name": "stderr",
     "output_type": "stream",
     "text": [
      "/home/matheus_rosso/anaconda3/lib/python3.7/site-packages/lightgbm/engine.py:151: UserWarning: Found `num_iterations` in params. Will use it instead of argument\n",
      "  warnings.warn(\"Found `{}` in params. Will use it instead of argument\".format(alias))\n"
     ]
    },
    {
     "name": "stdout",
     "output_type": "stream",
     "text": [
      "[LightGBM] [Warning] Accuracy may be bad since you didn't set num_leaves and 2^max_depth > num_leaves\n"
     ]
    },
    {
     "name": "stderr",
     "output_type": "stream",
     "text": [
      "\u001b[1mGrid estimation progress:\u001b[0m [----                                          ]  10%/home/matheus_rosso/anaconda3/lib/python3.7/site-packages/lightgbm/engine.py:151: UserWarning: Found `num_iterations` in params. Will use it instead of argument\n",
      "  warnings.warn(\"Found `{}` in params. Will use it instead of argument\".format(alias))\n",
      "/home/matheus_rosso/anaconda3/lib/python3.7/site-packages/lightgbm/engine.py:151: UserWarning: Found `num_iterations` in params. Will use it instead of argument\n",
      "  warnings.warn(\"Found `{}` in params. Will use it instead of argument\".format(alias))\n",
      "/home/matheus_rosso/anaconda3/lib/python3.7/site-packages/lightgbm/engine.py:151: UserWarning: Found `num_iterations` in params. Will use it instead of argument\n",
      "  warnings.warn(\"Found `{}` in params. Will use it instead of argument\".format(alias))\n",
      "\u001b[1mGrid estimation progress:\u001b[0m [---------                                     ]  20%/home/matheus_rosso/anaconda3/lib/python3.7/site-packages/lightgbm/engine.py:151: UserWarning: Found `num_iterations` in params. Will use it instead of argument\n",
      "  warnings.warn(\"Found `{}` in params. Will use it instead of argument\".format(alias))\n",
      "/home/matheus_rosso/anaconda3/lib/python3.7/site-packages/lightgbm/engine.py:151: UserWarning: Found `num_iterations` in params. Will use it instead of argument\n",
      "  warnings.warn(\"Found `{}` in params. Will use it instead of argument\".format(alias))\n",
      "/home/matheus_rosso/anaconda3/lib/python3.7/site-packages/lightgbm/engine.py:151: UserWarning: Found `num_iterations` in params. Will use it instead of argument\n",
      "  warnings.warn(\"Found `{}` in params. Will use it instead of argument\".format(alias))\n",
      "\u001b[1mGrid estimation progress:\u001b[0m [-------------                                 ]  30%/home/matheus_rosso/anaconda3/lib/python3.7/site-packages/lightgbm/engine.py:151: UserWarning: Found `num_iterations` in params. Will use it instead of argument\n",
      "  warnings.warn(\"Found `{}` in params. Will use it instead of argument\".format(alias))\n",
      "/home/matheus_rosso/anaconda3/lib/python3.7/site-packages/lightgbm/engine.py:151: UserWarning: Found `num_iterations` in params. Will use it instead of argument\n",
      "  warnings.warn(\"Found `{}` in params. Will use it instead of argument\".format(alias))\n",
      "/home/matheus_rosso/anaconda3/lib/python3.7/site-packages/lightgbm/engine.py:151: UserWarning: Found `num_iterations` in params. Will use it instead of argument\n",
      "  warnings.warn(\"Found `{}` in params. Will use it instead of argument\".format(alias))\n",
      "\u001b[1mGrid estimation progress:\u001b[0m [------------------                            ]  40%/home/matheus_rosso/anaconda3/lib/python3.7/site-packages/lightgbm/engine.py:151: UserWarning: Found `num_iterations` in params. Will use it instead of argument\n",
      "  warnings.warn(\"Found `{}` in params. Will use it instead of argument\".format(alias))\n"
     ]
    },
    {
     "name": "stdout",
     "output_type": "stream",
     "text": [
      "[LightGBM] [Warning] Accuracy may be bad since you didn't set num_leaves and 2^max_depth > num_leaves\n"
     ]
    },
    {
     "name": "stderr",
     "output_type": "stream",
     "text": [
      "/home/matheus_rosso/anaconda3/lib/python3.7/site-packages/lightgbm/engine.py:151: UserWarning: Found `num_iterations` in params. Will use it instead of argument\n",
      "  warnings.warn(\"Found `{}` in params. Will use it instead of argument\".format(alias))\n"
     ]
    },
    {
     "name": "stdout",
     "output_type": "stream",
     "text": [
      "[LightGBM] [Warning] Accuracy may be bad since you didn't set num_leaves and 2^max_depth > num_leaves\n"
     ]
    },
    {
     "name": "stderr",
     "output_type": "stream",
     "text": [
      "/home/matheus_rosso/anaconda3/lib/python3.7/site-packages/lightgbm/engine.py:151: UserWarning: Found `num_iterations` in params. Will use it instead of argument\n",
      "  warnings.warn(\"Found `{}` in params. Will use it instead of argument\".format(alias))\n"
     ]
    },
    {
     "name": "stdout",
     "output_type": "stream",
     "text": [
      "[LightGBM] [Warning] Accuracy may be bad since you didn't set num_leaves and 2^max_depth > num_leaves\n"
     ]
    },
    {
     "name": "stderr",
     "output_type": "stream",
     "text": [
      "\u001b[1mGrid estimation progress:\u001b[0m [-----------------------                       ]  50%/home/matheus_rosso/anaconda3/lib/python3.7/site-packages/lightgbm/engine.py:151: UserWarning: Found `num_iterations` in params. Will use it instead of argument\n",
      "  warnings.warn(\"Found `{}` in params. Will use it instead of argument\".format(alias))\n"
     ]
    },
    {
     "name": "stdout",
     "output_type": "stream",
     "text": [
      "[LightGBM] [Warning] Accuracy may be bad since you didn't set num_leaves and 2^max_depth > num_leaves\n"
     ]
    },
    {
     "name": "stderr",
     "output_type": "stream",
     "text": [
      "/home/matheus_rosso/anaconda3/lib/python3.7/site-packages/lightgbm/engine.py:151: UserWarning: Found `num_iterations` in params. Will use it instead of argument\n",
      "  warnings.warn(\"Found `{}` in params. Will use it instead of argument\".format(alias))\n"
     ]
    },
    {
     "name": "stdout",
     "output_type": "stream",
     "text": [
      "[LightGBM] [Warning] Accuracy may be bad since you didn't set num_leaves and 2^max_depth > num_leaves\n"
     ]
    },
    {
     "name": "stderr",
     "output_type": "stream",
     "text": [
      "/home/matheus_rosso/anaconda3/lib/python3.7/site-packages/lightgbm/engine.py:151: UserWarning: Found `num_iterations` in params. Will use it instead of argument\n",
      "  warnings.warn(\"Found `{}` in params. Will use it instead of argument\".format(alias))\n"
     ]
    },
    {
     "name": "stdout",
     "output_type": "stream",
     "text": [
      "[LightGBM] [Warning] Accuracy may be bad since you didn't set num_leaves and 2^max_depth > num_leaves\n"
     ]
    },
    {
     "name": "stderr",
     "output_type": "stream",
     "text": [
      "\u001b[1mGrid estimation progress:\u001b[0m [---------------------------                   ]  60%/home/matheus_rosso/anaconda3/lib/python3.7/site-packages/lightgbm/engine.py:151: UserWarning: Found `num_iterations` in params. Will use it instead of argument\n",
      "  warnings.warn(\"Found `{}` in params. Will use it instead of argument\".format(alias))\n"
     ]
    },
    {
     "name": "stdout",
     "output_type": "stream",
     "text": [
      "[LightGBM] [Warning] Accuracy may be bad since you didn't set num_leaves and 2^max_depth > num_leaves\n"
     ]
    },
    {
     "name": "stderr",
     "output_type": "stream",
     "text": [
      "/home/matheus_rosso/anaconda3/lib/python3.7/site-packages/lightgbm/engine.py:151: UserWarning: Found `num_iterations` in params. Will use it instead of argument\n",
      "  warnings.warn(\"Found `{}` in params. Will use it instead of argument\".format(alias))\n"
     ]
    },
    {
     "name": "stdout",
     "output_type": "stream",
     "text": [
      "[LightGBM] [Warning] Accuracy may be bad since you didn't set num_leaves and 2^max_depth > num_leaves\n"
     ]
    },
    {
     "name": "stderr",
     "output_type": "stream",
     "text": [
      "/home/matheus_rosso/anaconda3/lib/python3.7/site-packages/lightgbm/engine.py:151: UserWarning: Found `num_iterations` in params. Will use it instead of argument\n",
      "  warnings.warn(\"Found `{}` in params. Will use it instead of argument\".format(alias))\n"
     ]
    },
    {
     "name": "stdout",
     "output_type": "stream",
     "text": [
      "[LightGBM] [Warning] Accuracy may be bad since you didn't set num_leaves and 2^max_depth > num_leaves\n"
     ]
    },
    {
     "name": "stderr",
     "output_type": "stream",
     "text": [
      "\u001b[1mGrid estimation progress:\u001b[0m [--------------------------------              ]  70%/home/matheus_rosso/anaconda3/lib/python3.7/site-packages/lightgbm/engine.py:151: UserWarning: Found `num_iterations` in params. Will use it instead of argument\n",
      "  warnings.warn(\"Found `{}` in params. Will use it instead of argument\".format(alias))\n"
     ]
    },
    {
     "name": "stdout",
     "output_type": "stream",
     "text": [
      "[LightGBM] [Warning] Accuracy may be bad since you didn't set num_leaves and 2^max_depth > num_leaves\n"
     ]
    },
    {
     "name": "stderr",
     "output_type": "stream",
     "text": [
      "/home/matheus_rosso/anaconda3/lib/python3.7/site-packages/lightgbm/engine.py:151: UserWarning: Found `num_iterations` in params. Will use it instead of argument\n",
      "  warnings.warn(\"Found `{}` in params. Will use it instead of argument\".format(alias))\n"
     ]
    },
    {
     "name": "stdout",
     "output_type": "stream",
     "text": [
      "[LightGBM] [Warning] Accuracy may be bad since you didn't set num_leaves and 2^max_depth > num_leaves\n"
     ]
    },
    {
     "name": "stderr",
     "output_type": "stream",
     "text": [
      "/home/matheus_rosso/anaconda3/lib/python3.7/site-packages/lightgbm/engine.py:151: UserWarning: Found `num_iterations` in params. Will use it instead of argument\n",
      "  warnings.warn(\"Found `{}` in params. Will use it instead of argument\".format(alias))\n"
     ]
    },
    {
     "name": "stdout",
     "output_type": "stream",
     "text": [
      "[LightGBM] [Warning] Accuracy may be bad since you didn't set num_leaves and 2^max_depth > num_leaves\n"
     ]
    },
    {
     "name": "stderr",
     "output_type": "stream",
     "text": [
      "\u001b[1mGrid estimation progress:\u001b[0m [------------------------------------          ]  80%/home/matheus_rosso/anaconda3/lib/python3.7/site-packages/lightgbm/engine.py:151: UserWarning: Found `num_iterations` in params. Will use it instead of argument\n",
      "  warnings.warn(\"Found `{}` in params. Will use it instead of argument\".format(alias))\n",
      "/home/matheus_rosso/anaconda3/lib/python3.7/site-packages/lightgbm/engine.py:151: UserWarning: Found `num_iterations` in params. Will use it instead of argument\n",
      "  warnings.warn(\"Found `{}` in params. Will use it instead of argument\".format(alias))\n",
      "/home/matheus_rosso/anaconda3/lib/python3.7/site-packages/lightgbm/engine.py:151: UserWarning: Found `num_iterations` in params. Will use it instead of argument\n",
      "  warnings.warn(\"Found `{}` in params. Will use it instead of argument\".format(alias))\n",
      "\u001b[1mGrid estimation progress:\u001b[0m [-----------------------------------------     ]  90%/home/matheus_rosso/anaconda3/lib/python3.7/site-packages/lightgbm/engine.py:151: UserWarning: Found `num_iterations` in params. Will use it instead of argument\n",
      "  warnings.warn(\"Found `{}` in params. Will use it instead of argument\".format(alias))\n"
     ]
    },
    {
     "name": "stdout",
     "output_type": "stream",
     "text": [
      "[LightGBM] [Warning] Accuracy may be bad since you didn't set num_leaves and 2^max_depth > num_leaves\n"
     ]
    },
    {
     "name": "stderr",
     "output_type": "stream",
     "text": [
      "/home/matheus_rosso/anaconda3/lib/python3.7/site-packages/lightgbm/engine.py:151: UserWarning: Found `num_iterations` in params. Will use it instead of argument\n",
      "  warnings.warn(\"Found `{}` in params. Will use it instead of argument\".format(alias))\n"
     ]
    },
    {
     "name": "stdout",
     "output_type": "stream",
     "text": [
      "[LightGBM] [Warning] Accuracy may be bad since you didn't set num_leaves and 2^max_depth > num_leaves\n"
     ]
    },
    {
     "name": "stderr",
     "output_type": "stream",
     "text": [
      "/home/matheus_rosso/anaconda3/lib/python3.7/site-packages/lightgbm/engine.py:151: UserWarning: Found `num_iterations` in params. Will use it instead of argument\n",
      "  warnings.warn(\"Found `{}` in params. Will use it instead of argument\".format(alias))\n"
     ]
    },
    {
     "name": "stdout",
     "output_type": "stream",
     "text": [
      "[LightGBM] [Warning] Accuracy may be bad since you didn't set num_leaves and 2^max_depth > num_leaves\n"
     ]
    },
    {
     "name": "stderr",
     "output_type": "stream",
     "text": [
      "\u001b[1mGrid estimation progress:\u001b[0m [----------------------------------------------] 100%/home/matheus_rosso/anaconda3/lib/python3.7/site-packages/lightgbm/engine.py:151: UserWarning: Found `num_iterations` in params. Will use it instead of argument\n",
      "  warnings.warn(\"Found `{}` in params. Will use it instead of argument\".format(alias))\n"
     ]
    },
    {
     "name": "stdout",
     "output_type": "stream",
     "text": [
      "[LightGBM] [Warning] Accuracy may be bad since you didn't set num_leaves and 2^max_depth > num_leaves\n",
      "---------------------------------------------------------------------\n",
      "\u001b[1mTrain-test estimation outcomes:\u001b[0m\n",
      "\n",
      "\n",
      "Outcomes from K-folds CV estimation:\n",
      "   Number of data folds: 3.\n",
      "   Number of samples for random search: 10.\n",
      "   Estimation method: light gbm.\n",
      "   Metric for choosing best hyper-parameter: roc_auc.\n",
      "   Best hyper-parameters: {'bagging_fraction': 0.7885873020172298, 'learning_rate': 0.05315523619935781, 'max_depth': 6, 'num_iterations': 100}.\n",
      "   CV performance metric associated with best hyper-parameters: 0.983.\n",
      "\n",
      "\n",
      "Performance metrics evaluated at test data:\n",
      "   test_roc_auc = 0.9906\n",
      "   test_prec_avg = 0.9635\n",
      "   test_brier = 0.0045\n",
      "---------------------------------------------------------------------\n",
      "\n",
      "\n",
      "------------------------------------\n",
      "\u001b[1mRunning time:\u001b[0m 1.19 minutes.\n",
      "Start time: 2021-06-06, 19:13:10\n",
      "End time: 2021-06-06, 19:14:21\n",
      "------------------------------------\n"
     ]
    }
   ],
   "source": [
    "# Declare grid of hyper-parameters:\n",
    "grid_param = {'bagging_fraction': uniform(0.5, 0.5),\n",
    "              'learning_rate': uniform(0.0001, 0.1),\n",
    "              'max_depth': randint(1, 10),\n",
    "              'num_iterations': [100, 250, 500]}\n",
    "default_param = {'bagging_fraction': 1.0, 'learning_rate': 0.01, 'max_depth': 3, 'num_iterations': 500,\n",
    "                 'verbose': -1}\n",
    "\n",
    "# Declare estimation object:\n",
    "model = Kfolds_fit(task='binary', method='light_gbm',\n",
    "                   metric='roc_auc', num_folds=3, pre_selecting=False,\n",
    "                   random_search=True, n_samples=10,\n",
    "                   grid_param=grid_param, default_param=default_param)\n",
    "\n",
    "# Running train-test estimation:\n",
    "model.fit(train_inputs=df_train.drop(drop_vars, axis=1),\n",
    "          train_output=df_train['y'],\n",
    "          test_inputs=df_test.drop(drop_vars, axis=1),\n",
    "          test_output=df_test['y'])"
   ]
  },
  {
   "cell_type": "markdown",
   "metadata": {},
   "source": [
    "#### Performance metrics"
   ]
  },
  {
   "cell_type": "code",
   "execution_count": 36,
   "metadata": {},
   "outputs": [
    {
     "name": "stdout",
     "output_type": "stream",
     "text": [
      "\u001b[1mPerformance metrics (test data):\u001b[0m\n",
      "Test ROC-AUC: 0.9905934580546053.\n",
      "Test average precision score: 0.9635302207608056.\n",
      "Test Brier score: 0.004497669768866669.\n",
      "\n",
      "\n",
      "\u001b[1mBest hyper-parameters:\u001b[0m\n",
      "{'bagging_fraction': 0.7885873020172298, 'learning_rate': 0.05315523619935781, 'max_depth': 6, 'num_iterations': 100}\n",
      "\n",
      "\n",
      "\u001b[1mLightGBM parameters:\u001b[0m\n",
      "{'metric': 'cross_entropy', 'objective': 'binary', 'bagging_fraction': 0.7885873020172298, 'learning_rate': 0.05315523619935781, 'max_depth': 6, 'verbose': -1, 'num_iterations': 100, 'early_stopping_round': None}\n"
     ]
    }
   ],
   "source": [
    "# Performance metrics:\n",
    "test_roc_auc = model.performance_metrics['test_roc_auc']\n",
    "test_prec_avg = model.performance_metrics['test_prec_avg']\n",
    "test_brier = model.performance_metrics['test_brier']\n",
    "\n",
    "print('\\033[1mPerformance metrics (test data):\\033[0m')\n",
    "print(f'Test ROC-AUC: {test_roc_auc}.')\n",
    "print(f'Test average precision score: {test_prec_avg}.')\n",
    "print(f'Test Brier score: {test_brier}.')\n",
    "print('\\n')\n",
    "\n",
    "print('\\033[1mBest hyper-parameters:\\033[0m')\n",
    "print(model.best_param)\n",
    "print('\\n')\n",
    "\n",
    "print('\\033[1mLightGBM parameters:\\033[0m')\n",
    "print(model.model.params)"
   ]
  },
  {
   "cell_type": "markdown",
   "metadata": {},
   "source": [
    "#### Model outcomes"
   ]
  },
  {
   "cell_type": "code",
   "execution_count": 37,
   "metadata": {},
   "outputs": [],
   "source": [
    "# Features importances:\n",
    "importances = list(model.model.feature_importance())\n",
    "features = list(df_train.drop(drop_vars, axis=1).columns)\n",
    "\n",
    "model_outcomes_gbm = {\n",
    "    'features': features,\n",
    "    'importances': importances\n",
    "}"
   ]
  },
  {
   "cell_type": "markdown",
   "metadata": {},
   "source": [
    "#### Exporting the model"
   ]
  },
  {
   "cell_type": "code",
   "execution_count": 38,
   "metadata": {},
   "outputs": [],
   "source": [
    "if export:\n",
    "    # JSON format:\n",
    "    exp_model = model.model.dump_model()\n",
    "\n",
    "    with open(f'../Models/model_{estimation_id}.json', 'w') as json_file:\n",
    "        json.dump(exp_model, json_file, indent=2)\n",
    "\n",
    "    # Txt format:\n",
    "    exp_model = model.model.save_model(f'../Models/model_{estimation_id}.txt')"
   ]
  },
  {
   "cell_type": "markdown",
   "metadata": {},
   "source": [
    "#### Importing the model"
   ]
  },
  {
   "cell_type": "code",
   "execution_count": 39,
   "metadata": {},
   "outputs": [],
   "source": [
    "imp_model = lgb.Booster(model_file=f'../Models/model_{estimation_id}.txt')"
   ]
  },
  {
   "cell_type": "markdown",
   "metadata": {},
   "source": [
    "#### Making predictions"
   ]
  },
  {
   "cell_type": "code",
   "execution_count": 40,
   "metadata": {},
   "outputs": [
    {
     "data": {
      "text/plain": [
       "array([0.00065104])"
      ]
     },
     "execution_count": 40,
     "metadata": {},
     "output_type": "execute_result"
    }
   ],
   "source": [
    "imp_model.predict(df_test.drop(drop_vars, axis=1).iloc[np.random.randint(low=0,\n",
    "                                                                                high=len(df_test),\n",
    "                                                                                size=1), :])"
   ]
  },
  {
   "cell_type": "code",
   "execution_count": null,
   "metadata": {},
   "outputs": [],
   "source": []
  }
 ],
 "metadata": {
  "kernelspec": {
   "display_name": "Python 3",
   "language": "python",
   "name": "python3"
  },
  "language_info": {
   "codemirror_mode": {
    "name": "ipython",
    "version": 3
   },
   "file_extension": ".py",
   "mimetype": "text/x-python",
   "name": "python",
   "nbconvert_exporter": "python",
   "pygments_lexer": "ipython3",
   "version": "3.7.4"
  }
 },
 "nbformat": 4,
 "nbformat_minor": 2
}
