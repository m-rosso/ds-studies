{
 "cells": [
  {
   "cell_type": "markdown",
   "metadata": {},
   "source": [
    "## Grid vs. random searches\n",
    "## Analysis of results"
   ]
  },
  {
   "cell_type": "markdown",
   "metadata": {},
   "source": [
    "**Experiments**"
   ]
  },
  {
   "cell_type": "markdown",
   "metadata": {},
   "source": [
    "Grid search will be compared against random search based on their implementation using logistic regression and GBM as estimation methods. The tuning hyper-parameter of the first is *regularization parameter* $\\lambda$, while the second method has the following hyper-parameters to be set: *subsample* $\\eta$, *maximum depth* $J$, *learning rate* $v$ and *number of estimators* $M$.\n",
    "<br>\n",
    "<br>\n",
    "Grid search for $\\lambda$ will take place on the following set: $\\Theta_{\\lambda} = [0.0001, 0.0003, 0.001, 0.003, 0.01, 0.03, 0.1, 0.25, 0.3, 0.5, 0.75, 1, 3, 10]$. For random search, its minimum and maximum values conceive the interval $(0.0001, 10)$ over which a three-modal random distribution will be defined: $Uniform(0.0001, 0.1)$, $Uniform(0.1, 1)$ and $Uniform(1, 10)$. A total of 10 random samples will be drawn, preserving the same density of values in each sub-interval $(0.0001, 0.1)$, $(0.1, 1)$ and $(1, 10)$ as found in $\\Theta_{\\lambda}$ - therefore, four random values from $(0.0001, 0.1)$, four from $(0.1, 1)$ and two from $(1, 10)$.\n",
    "<br>\n",
    "<br>\n",
    "When it comes to the definition of $(\\eta, J, v, M)$ for GBM estimation, grid search will look over $\\Theta = \\{0.75\\}x\\{1, 3, 5\\}x\\{0.0001, 0.01, 0.1\\}x\\{100, 250, 500\\}$, so $|\\Theta| = 27$. In order to keep things comparable, 20 random samples $(\\eta, J, v, M)$ will be extracted based on the following distributions for each hyper-parameter: $\\eta = 0.75$ will be kept constant, while $J \\in \\{1, 2, 3, 4, 5\\}$ and $M \\in \\{100, 101, ..., 500\\}$ will be defined from an ordinary random sampling. Finally, $v$ will come from $Uniform(0.0001, 0.1)$."
   ]
  },
  {
   "cell_type": "markdown",
   "metadata": {},
   "source": [
    "**Assessing results**"
   ]
  },
  {
   "cell_type": "markdown",
   "metadata": {},
   "source": [
    "Once logistic regression and GBM estimations are done for all 30 distinct datasets, the analysis of results will follow guidelines for conclusion, which focus on performance metrics (ROC-AUC, average precision score and Brier score - all evaluated on test data) and running time. Therefore, **descriptive statistics** by random search status (True, when random search is performed, and False, when grid search is implemented) will point to which alternative leads to the highest expected performance metrics and to the lowest expected running time, where such averages are taken over all datasets. In order to provide more robustness to the comparison of performances between random and grid searches, **statistical tests** for pair-wised differences in performance metrics are implemented (both sign test and Wilcoxon test). Finally, distributions of performance metrics and running times for random and grid searches are assessed through **data visualization**, namely, using boxplots of outcomes by random search status."
   ]
  },
  {
   "cell_type": "markdown",
   "metadata": {},
   "source": [
    "<a id='main_findings'></a>**Main findings**"
   ]
  },
  {
   "cell_type": "markdown",
   "metadata": {},
   "source": [
    "For both estimation methods, random search reaches the same level of performances as grid search, but requires less time to do so. This is specially true for more complex settings, as it holds for GBM estimation, which has 4 main hyper-parameters, some of them integers while others are continuous variables. It is important to stress that, as indicated during initial discussions, for such fine results to be obtained, previous inquiriments are necessary to define suitable ranges of values for all hyper-parameters involved.\n",
    "<br>\n",
    "1. **Logistic regression:**\n",
    "    * [Performance metrics](#performance_metrics_lr)<a href='#performance_metrics_lr'></a>: grid search results are slightly better than those for random search, with most datasets having a higher test ROC-AUC with grid search.\n",
    "    * [Running times](#running_times_lr)<a href='#running_times_lr'></a>: random search clearly uses less time to run than grid search.\n",
    "    * [Statistical tests](#statistical_tests_lr)<a href='#statistical_tests_lr'></a>: however, there is no evidence of a major advantage of grid search over random search, since two-sided sign test has a p-value of 0.2, while Wilcoxon test with null hypothesis of $H_0: \\mbox{ROC-AUC}_{random} \\geq \\mbox{ROC-AUC}_{grid}$ has a p-value of 0.08.\n",
    "    * [Distribution of outcomes](#data_vis_lr)<a href='#data_vis_lr'></a>: rather similar distributions of performance metrics between two alternatives.\n",
    "<br>\n",
    "<br>\n",
    "2. **GBM:**\n",
    "    * [Performance metrics](#performance_metrics_gbm)<a href='#performance_metrics_gbm'></a>: now, random search results are slightly better than those for grid search, with most datasets having a higher test ROC-AUC with random search.\n",
    "    * [Running times](#running_times_gbm)<a href='#running_times_gbm'></a>: random search clearly uses less time to run than grid search.\n",
    "    * [Statistical tests](#statistical_tests_gbm)<a href='#statistical_tests_gbm'></a>: there is no evidence of statistically significant differences of performance metrics between grid and random searches.\n",
    "    * [Distribution of outcomes](#data_vis_gbm)<a href='#data_vis_gbm'></a>: random search distributions are slightly better."
   ]
  },
  {
   "cell_type": "markdown",
   "metadata": {},
   "source": [
    "-----------"
   ]
  },
  {
   "cell_type": "markdown",
   "metadata": {},
   "source": [
    "This project is based on three notebooks, besides Python scripts for running tests. The first notebook, \"1 Grid vs. Random Searches - Experiments Design\", discussed both alternatives for hyper-parameters definition and presented the experiments that will give answers on which of them that is more appropriate. Notebook \"2 Grid vs. Random Searches - Methodology Development\" contains methodological construction for large scale tests. In this final notebook, results from these tests will be assessed and discussed."
   ]
  },
  {
   "cell_type": "markdown",
   "metadata": {},
   "source": [
    "**Summary:**\n",
    "1. [Libraries](#libraries)<a href='#libraries'></a>.\n",
    "2. [Functions and classes](#functions_classes)<a href='#functions_classes'></a>.\n",
    "3. [Importing data](#imports)<a href='#imports'></a>.\n",
    "4. [Descriptive statistics](#desc_stat)<a href='#desc_stat'></a>.\n",
    "    * [Logistic regression](#desc_stat_lr)<a href='#desc_stat_lr'></a>.\n",
    "        * [Information on estimations](#info_estimations_lr)<a href='#info_estimations_lr'></a>.\n",
    "        * [Performance metrics](#performance_metrics_lr)<a href='#performance_metrics_lr'></a>.\n",
    "        * [Comparing performance metrics for each datasetc](#comp_metrics_lr)<a href='#ccomp_metrics_lr'></a>.\n",
    "        * [Running times](#running_times_lr)<a href='#running_times_lr'></a>.\n",
    "<br>\n",
    "<br>\n",
    "    * [GBM](#desc_stat_gbm)<a href='#desc_stat_gbm'></a>.\n",
    "        * [Information on estimations](#info_estimations_gbm)<a href='#info_estimations_gbm'></a>.\n",
    "        * [Performance metrics](#performance_metrics_gbm)<a href='#performance_metrics_gbm'></a>.\n",
    "        * [Comparing performance metrics for each datasetc](#comp_metrics_gbm)<a href='#ccomp_metrics_gbm'></a>.\n",
    "        * [Running times](#running_times_gbm)<a href='#running_times_gbm'></a>.\n",
    "<br>\n",
    "<br>\n",
    "5. [Statistical tests](#statistical_tests)<a href='#statistical_tests'></a>.\n",
    "    * [Logistic regression](#statistical_tests_lr)<a href='#statistical_tests_lr'></a>.\n",
    "    * [GBM](#statistical_tests_gbm)<a href='#statistical_tests_gbm'></a>.\n",
    "<br>\n",
    "<br>\n",
    "6. [Data visualization](#data_vis)<a href='#data_vis'></a>.\n",
    "    * [Logistic regression](#data_vis_lr)<a href='#data_vis_lr'></a>.\n",
    "    * [GBM](#data_vis_gbm)<a href='#data_vis_gbm'></a>."
   ]
  },
  {
   "cell_type": "markdown",
   "metadata": {},
   "source": [
    "<a id='libraries'></a>"
   ]
  },
  {
   "cell_type": "markdown",
   "metadata": {},
   "source": [
    "## Libraries"
   ]
  },
  {
   "cell_type": "code",
   "execution_count": 1,
   "metadata": {},
   "outputs": [
    {
     "data": {
      "text/html": [
       "        <script type=\"text/javascript\">\n",
       "        window.PlotlyConfig = {MathJaxConfig: 'local'};\n",
       "        if (window.MathJax) {MathJax.Hub.Config({SVG: {font: \"STIX-Web\"}});}\n",
       "        if (typeof require !== 'undefined') {\n",
       "        require.undef(\"plotly\");\n",
       "        requirejs.config({\n",
       "            paths: {\n",
       "                'plotly': ['https://cdn.plot.ly/plotly-latest.min']\n",
       "            }\n",
       "        });\n",
       "        require(['plotly'], function(Plotly) {\n",
       "            window._Plotly = Plotly;\n",
       "        });\n",
       "        }\n",
       "        </script>\n",
       "        "
      ]
     },
     "metadata": {},
     "output_type": "display_data"
    },
    {
     "data": {
      "text/html": [
       "        <script type=\"text/javascript\">\n",
       "        window.PlotlyConfig = {MathJaxConfig: 'local'};\n",
       "        if (window.MathJax) {MathJax.Hub.Config({SVG: {font: \"STIX-Web\"}});}\n",
       "        if (typeof require !== 'undefined') {\n",
       "        require.undef(\"plotly\");\n",
       "        requirejs.config({\n",
       "            paths: {\n",
       "                'plotly': ['https://cdn.plot.ly/plotly-latest.min']\n",
       "            }\n",
       "        });\n",
       "        require(['plotly'], function(Plotly) {\n",
       "            window._Plotly = Plotly;\n",
       "        });\n",
       "        }\n",
       "        </script>\n",
       "        "
      ]
     },
     "metadata": {},
     "output_type": "display_data"
    }
   ],
   "source": [
    "import pandas as pd\n",
    "import numpy as np\n",
    "import json\n",
    "import os\n",
    "\n",
    "from datetime import datetime\n",
    "import time\n",
    "\n",
    "import progressbar\n",
    "from time import sleep\n",
    "\n",
    "from scipy.stats import wilcoxon\n",
    "from statsmodels.stats.descriptivestats import sign_test\n",
    "\n",
    "import matplotlib.pyplot as plt\n",
    "import seaborn as sns\n",
    "%matplotlib inline\n",
    "\n",
    "from plotly import __version__\n",
    "from plotly.offline import download_plotlyjs, init_notebook_mode, plot, iplot\n",
    "# print(__version__) # requires version >= 1.9.0\n",
    "\n",
    "import cufflinks as cf\n",
    "init_notebook_mode(connected=True)\n",
    "cf.go_offline()\n",
    "\n",
    "import plotly.express as px\n",
    "import plotly.graph_objects as go\n",
    "from plotly.subplots import make_subplots"
   ]
  },
  {
   "cell_type": "markdown",
   "metadata": {},
   "source": [
    "<a id='functions_classes'></a>"
   ]
  },
  {
   "cell_type": "markdown",
   "metadata": {},
   "source": [
    "## Functions and classes"
   ]
  },
  {
   "cell_type": "code",
   "execution_count": 2,
   "metadata": {},
   "outputs": [],
   "source": [
    "from utils import epoch_to_date"
   ]
  },
  {
   "cell_type": "markdown",
   "metadata": {},
   "source": [
    "<a id='imports'></a>"
   ]
  },
  {
   "cell_type": "markdown",
   "metadata": {},
   "source": [
    "## Importing data"
   ]
  },
  {
   "cell_type": "code",
   "execution_count": 3,
   "metadata": {},
   "outputs": [],
   "source": [
    "os.chdir('../')\n",
    "with open('Datasets/model_assessment.json') as json_file:\n",
    "    model_assessment = json.load(json_file)"
   ]
  },
  {
   "cell_type": "markdown",
   "metadata": {},
   "source": [
    "### Outcomes from logistic regression estimations"
   ]
  },
  {
   "cell_type": "code",
   "execution_count": 4,
   "metadata": {},
   "outputs": [
    {
     "name": "stdout",
     "output_type": "stream",
     "text": [
      "\u001b[1mShape of metrics_lr:\u001b[0m (60, 20).\n"
     ]
    },
    {
     "data": {
      "text/html": [
       "<div>\n",
       "<style scoped>\n",
       "    .dataframe tbody tr th:only-of-type {\n",
       "        vertical-align: middle;\n",
       "    }\n",
       "\n",
       "    .dataframe tbody tr th {\n",
       "        vertical-align: top;\n",
       "    }\n",
       "\n",
       "    .dataframe thead th {\n",
       "        text-align: right;\n",
       "    }\n",
       "</style>\n",
       "<table border=\"1\" class=\"dataframe\">\n",
       "  <thead>\n",
       "    <tr style=\"text-align: right;\">\n",
       "      <th></th>\n",
       "      <th>store_id</th>\n",
       "      <th>n_orders_train</th>\n",
       "      <th>n_orders_test</th>\n",
       "      <th>n_vars</th>\n",
       "      <th>first_date_train</th>\n",
       "      <th>last_date_train</th>\n",
       "      <th>first_date_test</th>\n",
       "      <th>last_date_test</th>\n",
       "      <th>avg_order_amount_train</th>\n",
       "      <th>avg_order_amount_test</th>\n",
       "      <th>log_transform</th>\n",
       "      <th>standardize</th>\n",
       "      <th>method</th>\n",
       "      <th>random_search</th>\n",
       "      <th>n_samples</th>\n",
       "      <th>best_param</th>\n",
       "      <th>test_roc_auc</th>\n",
       "      <th>test_prec_avg</th>\n",
       "      <th>test_brier</th>\n",
       "      <th>running_time</th>\n",
       "    </tr>\n",
       "  </thead>\n",
       "  <tbody>\n",
       "    <tr>\n",
       "      <td>0</td>\n",
       "      <td>2212</td>\n",
       "      <td>3540</td>\n",
       "      <td>3610</td>\n",
       "      <td>2243</td>\n",
       "      <td>2019-12-31</td>\n",
       "      <td>2020-03-30</td>\n",
       "      <td>2020-03-31</td>\n",
       "      <td>2020-05-31</td>\n",
       "      <td>155.196480</td>\n",
       "      <td>150.540377</td>\n",
       "      <td>True</td>\n",
       "      <td>True</td>\n",
       "      <td>logistic_regression</td>\n",
       "      <td>False</td>\n",
       "      <td>10</td>\n",
       "      <td>{'C': 0.25}</td>\n",
       "      <td>0.939789</td>\n",
       "      <td>0.457001</td>\n",
       "      <td>0.012400</td>\n",
       "      <td>0.63</td>\n",
       "    </tr>\n",
       "    <tr>\n",
       "      <td>1</td>\n",
       "      <td>6966</td>\n",
       "      <td>5899</td>\n",
       "      <td>2080</td>\n",
       "      <td>1827</td>\n",
       "      <td>2019-12-31</td>\n",
       "      <td>2020-03-30</td>\n",
       "      <td>2020-03-31</td>\n",
       "      <td>2020-05-31</td>\n",
       "      <td>1051.275284</td>\n",
       "      <td>1198.870013</td>\n",
       "      <td>True</td>\n",
       "      <td>True</td>\n",
       "      <td>logistic_regression</td>\n",
       "      <td>False</td>\n",
       "      <td>10</td>\n",
       "      <td>{'C': 0.1}</td>\n",
       "      <td>0.876872</td>\n",
       "      <td>0.569408</td>\n",
       "      <td>0.055207</td>\n",
       "      <td>6.38</td>\n",
       "    </tr>\n",
       "    <tr>\n",
       "      <td>2</td>\n",
       "      <td>6256</td>\n",
       "      <td>14436</td>\n",
       "      <td>8787</td>\n",
       "      <td>2033</td>\n",
       "      <td>2019-12-31</td>\n",
       "      <td>2020-03-30</td>\n",
       "      <td>2020-03-31</td>\n",
       "      <td>2020-05-31</td>\n",
       "      <td>320.155748</td>\n",
       "      <td>324.115751</td>\n",
       "      <td>True</td>\n",
       "      <td>True</td>\n",
       "      <td>logistic_regression</td>\n",
       "      <td>False</td>\n",
       "      <td>10</td>\n",
       "      <td>{'C': 0.1}</td>\n",
       "      <td>0.967475</td>\n",
       "      <td>0.534896</td>\n",
       "      <td>0.003936</td>\n",
       "      <td>2.45</td>\n",
       "    </tr>\n",
       "    <tr>\n",
       "      <td>3</td>\n",
       "      <td>5847</td>\n",
       "      <td>6599</td>\n",
       "      <td>8457</td>\n",
       "      <td>3632</td>\n",
       "      <td>2019-12-31</td>\n",
       "      <td>2020-03-30</td>\n",
       "      <td>2020-03-31</td>\n",
       "      <td>2020-05-31</td>\n",
       "      <td>681.107581</td>\n",
       "      <td>579.925495</td>\n",
       "      <td>True</td>\n",
       "      <td>True</td>\n",
       "      <td>logistic_regression</td>\n",
       "      <td>False</td>\n",
       "      <td>10</td>\n",
       "      <td>{'C': 0.25}</td>\n",
       "      <td>0.936715</td>\n",
       "      <td>0.381396</td>\n",
       "      <td>0.025430</td>\n",
       "      <td>2.05</td>\n",
       "    </tr>\n",
       "    <tr>\n",
       "      <td>4</td>\n",
       "      <td>1603</td>\n",
       "      <td>9218</td>\n",
       "      <td>8942</td>\n",
       "      <td>2210</td>\n",
       "      <td>2019-12-31</td>\n",
       "      <td>2020-03-30</td>\n",
       "      <td>2020-03-31</td>\n",
       "      <td>2020-05-31</td>\n",
       "      <td>179.681607</td>\n",
       "      <td>175.679007</td>\n",
       "      <td>True</td>\n",
       "      <td>True</td>\n",
       "      <td>logistic_regression</td>\n",
       "      <td>False</td>\n",
       "      <td>10</td>\n",
       "      <td>{'C': 0.1}</td>\n",
       "      <td>0.931906</td>\n",
       "      <td>0.626619</td>\n",
       "      <td>0.033837</td>\n",
       "      <td>1.85</td>\n",
       "    </tr>\n",
       "  </tbody>\n",
       "</table>\n",
       "</div>"
      ],
      "text/plain": [
       "   store_id  n_orders_train  n_orders_test  n_vars first_date_train  \\\n",
       "0      2212            3540           3610    2243       2019-12-31   \n",
       "1      6966            5899           2080    1827       2019-12-31   \n",
       "2      6256           14436           8787    2033       2019-12-31   \n",
       "3      5847            6599           8457    3632       2019-12-31   \n",
       "4      1603            9218           8942    2210       2019-12-31   \n",
       "\n",
       "  last_date_train first_date_test last_date_test  avg_order_amount_train  \\\n",
       "0      2020-03-30      2020-03-31     2020-05-31              155.196480   \n",
       "1      2020-03-30      2020-03-31     2020-05-31             1051.275284   \n",
       "2      2020-03-30      2020-03-31     2020-05-31              320.155748   \n",
       "3      2020-03-30      2020-03-31     2020-05-31              681.107581   \n",
       "4      2020-03-30      2020-03-31     2020-05-31              179.681607   \n",
       "\n",
       "   avg_order_amount_test  log_transform  standardize               method  \\\n",
       "0             150.540377           True         True  logistic_regression   \n",
       "1            1198.870013           True         True  logistic_regression   \n",
       "2             324.115751           True         True  logistic_regression   \n",
       "3             579.925495           True         True  logistic_regression   \n",
       "4             175.679007           True         True  logistic_regression   \n",
       "\n",
       "   random_search  n_samples   best_param  test_roc_auc  test_prec_avg  \\\n",
       "0          False         10  {'C': 0.25}      0.939789       0.457001   \n",
       "1          False         10   {'C': 0.1}      0.876872       0.569408   \n",
       "2          False         10   {'C': 0.1}      0.967475       0.534896   \n",
       "3          False         10  {'C': 0.25}      0.936715       0.381396   \n",
       "4          False         10   {'C': 0.1}      0.931906       0.626619   \n",
       "\n",
       "   test_brier  running_time  \n",
       "0    0.012400          0.63  \n",
       "1    0.055207          6.38  \n",
       "2    0.003936          2.45  \n",
       "3    0.025430          2.05  \n",
       "4    0.033837          1.85  "
      ]
     },
     "execution_count": 4,
     "metadata": {},
     "output_type": "execute_result"
    }
   ],
   "source": [
    "metrics_lr = pd.DataFrame([model_assessment[e]for e in model_assessment.keys() if\n",
    "                           model_assessment[e]['method'] == 'logistic_regression'])\n",
    "metrics_lr['running_time'] = metrics_lr.running_time.apply(lambda x: float(x.split(' minutes')[0]))\n",
    "\n",
    "print('\\033[1mShape of metrics_lr:\\033[0m {0}.'.format(metrics_lr.shape))\n",
    "metrics_lr.head()"
   ]
  },
  {
   "cell_type": "markdown",
   "metadata": {},
   "source": [
    "### Outcomes from GBM estimations"
   ]
  },
  {
   "cell_type": "code",
   "execution_count": 5,
   "metadata": {},
   "outputs": [
    {
     "name": "stdout",
     "output_type": "stream",
     "text": [
      "\u001b[1mShape of metrics_gbm:\u001b[0m (60, 20).\n"
     ]
    },
    {
     "data": {
      "text/html": [
       "<div>\n",
       "<style scoped>\n",
       "    .dataframe tbody tr th:only-of-type {\n",
       "        vertical-align: middle;\n",
       "    }\n",
       "\n",
       "    .dataframe tbody tr th {\n",
       "        vertical-align: top;\n",
       "    }\n",
       "\n",
       "    .dataframe thead th {\n",
       "        text-align: right;\n",
       "    }\n",
       "</style>\n",
       "<table border=\"1\" class=\"dataframe\">\n",
       "  <thead>\n",
       "    <tr style=\"text-align: right;\">\n",
       "      <th></th>\n",
       "      <th>store_id</th>\n",
       "      <th>n_orders_train</th>\n",
       "      <th>n_orders_test</th>\n",
       "      <th>n_vars</th>\n",
       "      <th>first_date_train</th>\n",
       "      <th>last_date_train</th>\n",
       "      <th>first_date_test</th>\n",
       "      <th>last_date_test</th>\n",
       "      <th>avg_order_amount_train</th>\n",
       "      <th>avg_order_amount_test</th>\n",
       "      <th>log_transform</th>\n",
       "      <th>standardize</th>\n",
       "      <th>method</th>\n",
       "      <th>random_search</th>\n",
       "      <th>n_samples</th>\n",
       "      <th>best_param</th>\n",
       "      <th>test_roc_auc</th>\n",
       "      <th>test_prec_avg</th>\n",
       "      <th>test_brier</th>\n",
       "      <th>running_time</th>\n",
       "    </tr>\n",
       "  </thead>\n",
       "  <tbody>\n",
       "    <tr>\n",
       "      <td>0</td>\n",
       "      <td>2212</td>\n",
       "      <td>3540</td>\n",
       "      <td>3610</td>\n",
       "      <td>2243</td>\n",
       "      <td>2019-12-31</td>\n",
       "      <td>2020-03-30</td>\n",
       "      <td>2020-03-31</td>\n",
       "      <td>2020-05-31</td>\n",
       "      <td>155.196480</td>\n",
       "      <td>150.540377</td>\n",
       "      <td>True</td>\n",
       "      <td>True</td>\n",
       "      <td>GBM</td>\n",
       "      <td>False</td>\n",
       "      <td>20</td>\n",
       "      <td>{'subsample': 0.75, 'learning_rate': 0.01, 'ma...</td>\n",
       "      <td>0.831416</td>\n",
       "      <td>0.459043</td>\n",
       "      <td>0.011842</td>\n",
       "      <td>34.45</td>\n",
       "    </tr>\n",
       "    <tr>\n",
       "      <td>1</td>\n",
       "      <td>6966</td>\n",
       "      <td>5899</td>\n",
       "      <td>2080</td>\n",
       "      <td>1827</td>\n",
       "      <td>2019-12-31</td>\n",
       "      <td>2020-03-30</td>\n",
       "      <td>2020-03-31</td>\n",
       "      <td>2020-05-31</td>\n",
       "      <td>1051.275284</td>\n",
       "      <td>1198.870013</td>\n",
       "      <td>True</td>\n",
       "      <td>True</td>\n",
       "      <td>GBM</td>\n",
       "      <td>False</td>\n",
       "      <td>20</td>\n",
       "      <td>{'subsample': 0.75, 'learning_rate': 0.01, 'ma...</td>\n",
       "      <td>0.880453</td>\n",
       "      <td>0.610075</td>\n",
       "      <td>0.050491</td>\n",
       "      <td>82.22</td>\n",
       "    </tr>\n",
       "    <tr>\n",
       "      <td>2</td>\n",
       "      <td>6256</td>\n",
       "      <td>14436</td>\n",
       "      <td>8787</td>\n",
       "      <td>2033</td>\n",
       "      <td>2019-12-31</td>\n",
       "      <td>2020-03-30</td>\n",
       "      <td>2020-03-31</td>\n",
       "      <td>2020-05-31</td>\n",
       "      <td>320.155748</td>\n",
       "      <td>324.115751</td>\n",
       "      <td>True</td>\n",
       "      <td>True</td>\n",
       "      <td>GBM</td>\n",
       "      <td>False</td>\n",
       "      <td>20</td>\n",
       "      <td>{'subsample': 0.75, 'learning_rate': 0.01, 'ma...</td>\n",
       "      <td>0.953424</td>\n",
       "      <td>0.463554</td>\n",
       "      <td>0.004351</td>\n",
       "      <td>137.05</td>\n",
       "    </tr>\n",
       "    <tr>\n",
       "      <td>3</td>\n",
       "      <td>5847</td>\n",
       "      <td>6599</td>\n",
       "      <td>8457</td>\n",
       "      <td>3632</td>\n",
       "      <td>2019-12-31</td>\n",
       "      <td>2020-03-30</td>\n",
       "      <td>2020-03-31</td>\n",
       "      <td>2020-05-31</td>\n",
       "      <td>681.107581</td>\n",
       "      <td>579.925495</td>\n",
       "      <td>True</td>\n",
       "      <td>True</td>\n",
       "      <td>GBM</td>\n",
       "      <td>False</td>\n",
       "      <td>20</td>\n",
       "      <td>{'subsample': 0.75, 'learning_rate': 0.1, 'max...</td>\n",
       "      <td>0.941362</td>\n",
       "      <td>0.625792</td>\n",
       "      <td>0.017499</td>\n",
       "      <td>143.58</td>\n",
       "    </tr>\n",
       "    <tr>\n",
       "      <td>4</td>\n",
       "      <td>1603</td>\n",
       "      <td>9218</td>\n",
       "      <td>8942</td>\n",
       "      <td>2210</td>\n",
       "      <td>2019-12-31</td>\n",
       "      <td>2020-03-30</td>\n",
       "      <td>2020-03-31</td>\n",
       "      <td>2020-05-31</td>\n",
       "      <td>179.681607</td>\n",
       "      <td>175.679007</td>\n",
       "      <td>True</td>\n",
       "      <td>True</td>\n",
       "      <td>GBM</td>\n",
       "      <td>False</td>\n",
       "      <td>20</td>\n",
       "      <td>{'subsample': 0.75, 'learning_rate': 0.1, 'max...</td>\n",
       "      <td>0.923300</td>\n",
       "      <td>0.585341</td>\n",
       "      <td>0.036275</td>\n",
       "      <td>126.42</td>\n",
       "    </tr>\n",
       "  </tbody>\n",
       "</table>\n",
       "</div>"
      ],
      "text/plain": [
       "   store_id  n_orders_train  n_orders_test  n_vars first_date_train  \\\n",
       "0      2212            3540           3610    2243       2019-12-31   \n",
       "1      6966            5899           2080    1827       2019-12-31   \n",
       "2      6256           14436           8787    2033       2019-12-31   \n",
       "3      5847            6599           8457    3632       2019-12-31   \n",
       "4      1603            9218           8942    2210       2019-12-31   \n",
       "\n",
       "  last_date_train first_date_test last_date_test  avg_order_amount_train  \\\n",
       "0      2020-03-30      2020-03-31     2020-05-31              155.196480   \n",
       "1      2020-03-30      2020-03-31     2020-05-31             1051.275284   \n",
       "2      2020-03-30      2020-03-31     2020-05-31              320.155748   \n",
       "3      2020-03-30      2020-03-31     2020-05-31              681.107581   \n",
       "4      2020-03-30      2020-03-31     2020-05-31              179.681607   \n",
       "\n",
       "   avg_order_amount_test  log_transform  standardize method  random_search  \\\n",
       "0             150.540377           True         True    GBM          False   \n",
       "1            1198.870013           True         True    GBM          False   \n",
       "2             324.115751           True         True    GBM          False   \n",
       "3             579.925495           True         True    GBM          False   \n",
       "4             175.679007           True         True    GBM          False   \n",
       "\n",
       "   n_samples                                         best_param  test_roc_auc  \\\n",
       "0         20  {'subsample': 0.75, 'learning_rate': 0.01, 'ma...      0.831416   \n",
       "1         20  {'subsample': 0.75, 'learning_rate': 0.01, 'ma...      0.880453   \n",
       "2         20  {'subsample': 0.75, 'learning_rate': 0.01, 'ma...      0.953424   \n",
       "3         20  {'subsample': 0.75, 'learning_rate': 0.1, 'max...      0.941362   \n",
       "4         20  {'subsample': 0.75, 'learning_rate': 0.1, 'max...      0.923300   \n",
       "\n",
       "   test_prec_avg  test_brier  running_time  \n",
       "0       0.459043    0.011842         34.45  \n",
       "1       0.610075    0.050491         82.22  \n",
       "2       0.463554    0.004351        137.05  \n",
       "3       0.625792    0.017499        143.58  \n",
       "4       0.585341    0.036275        126.42  "
      ]
     },
     "execution_count": 5,
     "metadata": {},
     "output_type": "execute_result"
    }
   ],
   "source": [
    "metrics_gbm = pd.DataFrame([model_assessment[e]for e in model_assessment.keys() if\n",
    "                           model_assessment[e]['method'] == 'GBM'])\n",
    "metrics_gbm['running_time'] = metrics_gbm.running_time.apply(lambda x: float(x.split(' minutes')[0]))\n",
    "\n",
    "print('\\033[1mShape of metrics_gbm:\\033[0m {0}.'.format(metrics_gbm.shape))\n",
    "metrics_gbm.head()"
   ]
  },
  {
   "cell_type": "markdown",
   "metadata": {},
   "source": [
    "<a id='desc_stat'></a>"
   ]
  },
  {
   "cell_type": "markdown",
   "metadata": {},
   "source": [
    "## Descriptive statistics"
   ]
  },
  {
   "cell_type": "markdown",
   "metadata": {},
   "source": [
    "<a id='desc_stat_lr'></a>"
   ]
  },
  {
   "cell_type": "markdown",
   "metadata": {},
   "source": [
    "### Logistic regression"
   ]
  },
  {
   "cell_type": "markdown",
   "metadata": {},
   "source": [
    "<a id='info_estimations_lr'></a>"
   ]
  },
  {
   "cell_type": "markdown",
   "metadata": {},
   "source": [
    "#### Information on estimations"
   ]
  },
  {
   "cell_type": "code",
   "execution_count": 6,
   "metadata": {},
   "outputs": [],
   "source": [
    "if metrics_lr.isnull().sum().sum() > 0:\n",
    "    print('\\033[1mProblem - Missing values detected!\\033[0m')"
   ]
  },
  {
   "cell_type": "code",
   "execution_count": 7,
   "metadata": {},
   "outputs": [
    {
     "name": "stdout",
     "output_type": "stream",
     "text": [
      "\u001b[1mDistribution of estimations by random search status:\u001b[0m\n"
     ]
    },
    {
     "data": {
      "text/plain": [
       "True     30\n",
       "False    30\n",
       "Name: random_search, dtype: int64"
      ]
     },
     "execution_count": 7,
     "metadata": {},
     "output_type": "execute_result"
    }
   ],
   "source": [
    "print('\\033[1mDistribution of estimations by random search status:\\033[0m')\n",
    "metrics_lr.random_search.value_counts()"
   ]
  },
  {
   "cell_type": "code",
   "execution_count": 8,
   "metadata": {},
   "outputs": [
    {
     "name": "stdout",
     "output_type": "stream",
     "text": [
      "\u001b[1mDistribution of estimations by best hyper-parameter - grid searches:\u001b[0m\n"
     ]
    },
    {
     "data": {
      "text/plain": [
       "{'C': 0.1}     16\n",
       "{'C': 0.25}     9\n",
       "{'C': 0.3}      1\n",
       "{'C': 10.0}     1\n",
       "{'C': 0.5}      1\n",
       "{'C': 0.75}     1\n",
       "{'C': 1}        1\n",
       "Name: best_param, dtype: int64"
      ]
     },
     "execution_count": 8,
     "metadata": {},
     "output_type": "execute_result"
    }
   ],
   "source": [
    "print('\\033[1mDistribution of estimations by best hyper-parameter - grid searches:\\033[0m')\n",
    "metrics_lr[metrics_lr.random_search == False].best_param.value_counts()"
   ]
  },
  {
   "cell_type": "code",
   "execution_count": 9,
   "metadata": {},
   "outputs": [
    {
     "name": "stdout",
     "output_type": "stream",
     "text": [
      "\u001b[1mDistribution of best hyper-parameters - random searches:\u001b[0m\n"
     ]
    },
    {
     "data": {
      "text/plain": [
       "count    30.000000\n",
       "mean      0.302869\n",
       "std       0.310134\n",
       "min       0.045667\n",
       "25%       0.091953\n",
       "50%       0.156493\n",
       "75%       0.378948\n",
       "max       1.311701\n",
       "Name: best_param, dtype: float64"
      ]
     },
     "execution_count": 9,
     "metadata": {},
     "output_type": "execute_result"
    }
   ],
   "source": [
    "print('\\033[1mDistribution of best hyper-parameters - random searches:\\033[0m')\n",
    "metrics_lr[metrics_lr.random_search == True].best_param.apply(lambda x: float(x.split(': ')[1].split('}')[0])).describe()"
   ]
  },
  {
   "cell_type": "code",
   "execution_count": 10,
   "metadata": {},
   "outputs": [
    {
     "name": "stdout",
     "output_type": "stream",
     "text": [
      "\u001b[1mDistribution of running times - grid searches:\u001b[0m\n"
     ]
    },
    {
     "data": {
      "text/plain": [
       "count    30.000000\n",
       "mean      7.004667\n",
       "std       9.606706\n",
       "min       0.400000\n",
       "25%       1.270000\n",
       "50%       2.035000\n",
       "75%       7.122500\n",
       "max      31.630000\n",
       "Name: running_time, dtype: float64"
      ]
     },
     "execution_count": 10,
     "metadata": {},
     "output_type": "execute_result"
    }
   ],
   "source": [
    "print('\\033[1mDistribution of running times - grid searches:\\033[0m')\n",
    "metrics_lr[metrics_lr.random_search == False].running_time.describe()"
   ]
  },
  {
   "cell_type": "code",
   "execution_count": 11,
   "metadata": {},
   "outputs": [
    {
     "name": "stdout",
     "output_type": "stream",
     "text": [
      "\u001b[1mDistribution of running times - random searches:\u001b[0m\n"
     ]
    },
    {
     "data": {
      "text/plain": [
       "count    30.000000\n",
       "mean      5.431333\n",
       "std       7.811835\n",
       "min       0.400000\n",
       "25%       1.285000\n",
       "50%       1.835000\n",
       "75%       4.992500\n",
       "max      27.930000\n",
       "Name: running_time, dtype: float64"
      ]
     },
     "execution_count": 11,
     "metadata": {},
     "output_type": "execute_result"
    }
   ],
   "source": [
    "print('\\033[1mDistribution of running times - random searches:\\033[0m')\n",
    "metrics_lr[metrics_lr.random_search == True].running_time.describe()"
   ]
  },
  {
   "cell_type": "markdown",
   "metadata": {},
   "source": [
    "<a id='performance_metrics_lr'></a>"
   ]
  },
  {
   "cell_type": "markdown",
   "metadata": {},
   "source": [
    "#### Performance metrics by random search status"
   ]
  },
  {
   "cell_type": "code",
   "execution_count": 12,
   "metadata": {},
   "outputs": [
    {
     "name": "stdout",
     "output_type": "stream",
     "text": [
      "\u001b[1mPerformance metric by random search status:\u001b[0m\n"
     ]
    },
    {
     "data": {
      "text/html": [
       "<div>\n",
       "<style scoped>\n",
       "    .dataframe tbody tr th:only-of-type {\n",
       "        vertical-align: middle;\n",
       "    }\n",
       "\n",
       "    .dataframe tbody tr th {\n",
       "        vertical-align: top;\n",
       "    }\n",
       "\n",
       "    .dataframe thead th {\n",
       "        text-align: right;\n",
       "    }\n",
       "</style>\n",
       "<table border=\"1\" class=\"dataframe\">\n",
       "  <thead>\n",
       "    <tr style=\"text-align: right;\">\n",
       "      <th></th>\n",
       "      <th>count</th>\n",
       "      <th>mean</th>\n",
       "      <th>std</th>\n",
       "      <th>min</th>\n",
       "      <th>25%</th>\n",
       "      <th>50%</th>\n",
       "      <th>75%</th>\n",
       "      <th>max</th>\n",
       "    </tr>\n",
       "    <tr>\n",
       "      <th>random_search</th>\n",
       "      <th></th>\n",
       "      <th></th>\n",
       "      <th></th>\n",
       "      <th></th>\n",
       "      <th></th>\n",
       "      <th></th>\n",
       "      <th></th>\n",
       "      <th></th>\n",
       "    </tr>\n",
       "  </thead>\n",
       "  <tbody>\n",
       "    <tr>\n",
       "      <td>False</td>\n",
       "      <td>30.0</td>\n",
       "      <td>0.914307</td>\n",
       "      <td>0.097957</td>\n",
       "      <td>0.467005</td>\n",
       "      <td>0.894108</td>\n",
       "      <td>0.943731</td>\n",
       "      <td>0.962412</td>\n",
       "      <td>0.997625</td>\n",
       "    </tr>\n",
       "    <tr>\n",
       "      <td>True</td>\n",
       "      <td>30.0</td>\n",
       "      <td>0.913000</td>\n",
       "      <td>0.099077</td>\n",
       "      <td>0.456390</td>\n",
       "      <td>0.898200</td>\n",
       "      <td>0.942363</td>\n",
       "      <td>0.962425</td>\n",
       "      <td>0.997465</td>\n",
       "    </tr>\n",
       "  </tbody>\n",
       "</table>\n",
       "</div>"
      ],
      "text/plain": [
       "               count      mean       std       min       25%       50%  \\\n",
       "random_search                                                            \n",
       "False           30.0  0.914307  0.097957  0.467005  0.894108  0.943731   \n",
       "True            30.0  0.913000  0.099077  0.456390  0.898200  0.942363   \n",
       "\n",
       "                    75%       max  \n",
       "random_search                      \n",
       "False          0.962412  0.997625  \n",
       "True           0.962425  0.997465  "
      ]
     },
     "execution_count": 12,
     "metadata": {},
     "output_type": "execute_result"
    }
   ],
   "source": [
    "print('\\033[1mPerformance metric by random search status:\\033[0m')\n",
    "metrics_lr.groupby('random_search').describe()['test_roc_auc']"
   ]
  },
  {
   "cell_type": "code",
   "execution_count": 13,
   "metadata": {},
   "outputs": [
    {
     "name": "stdout",
     "output_type": "stream",
     "text": [
      "\u001b[1mPerformance metric by random search status:\u001b[0m\n"
     ]
    },
    {
     "data": {
      "text/html": [
       "<div>\n",
       "<style scoped>\n",
       "    .dataframe tbody tr th:only-of-type {\n",
       "        vertical-align: middle;\n",
       "    }\n",
       "\n",
       "    .dataframe tbody tr th {\n",
       "        vertical-align: top;\n",
       "    }\n",
       "\n",
       "    .dataframe thead th {\n",
       "        text-align: right;\n",
       "    }\n",
       "</style>\n",
       "<table border=\"1\" class=\"dataframe\">\n",
       "  <thead>\n",
       "    <tr style=\"text-align: right;\">\n",
       "      <th></th>\n",
       "      <th>count</th>\n",
       "      <th>mean</th>\n",
       "      <th>std</th>\n",
       "      <th>min</th>\n",
       "      <th>25%</th>\n",
       "      <th>50%</th>\n",
       "      <th>75%</th>\n",
       "      <th>max</th>\n",
       "    </tr>\n",
       "    <tr>\n",
       "      <th>random_search</th>\n",
       "      <th></th>\n",
       "      <th></th>\n",
       "      <th></th>\n",
       "      <th></th>\n",
       "      <th></th>\n",
       "      <th></th>\n",
       "      <th></th>\n",
       "      <th></th>\n",
       "    </tr>\n",
       "  </thead>\n",
       "  <tbody>\n",
       "    <tr>\n",
       "      <td>False</td>\n",
       "      <td>30.0</td>\n",
       "      <td>0.564047</td>\n",
       "      <td>0.216738</td>\n",
       "      <td>0.007624</td>\n",
       "      <td>0.450836</td>\n",
       "      <td>0.552152</td>\n",
       "      <td>0.741836</td>\n",
       "      <td>0.997110</td>\n",
       "    </tr>\n",
       "    <tr>\n",
       "      <td>True</td>\n",
       "      <td>30.0</td>\n",
       "      <td>0.555859</td>\n",
       "      <td>0.221718</td>\n",
       "      <td>0.006873</td>\n",
       "      <td>0.431145</td>\n",
       "      <td>0.543600</td>\n",
       "      <td>0.740951</td>\n",
       "      <td>0.996833</td>\n",
       "    </tr>\n",
       "  </tbody>\n",
       "</table>\n",
       "</div>"
      ],
      "text/plain": [
       "               count      mean       std       min       25%       50%  \\\n",
       "random_search                                                            \n",
       "False           30.0  0.564047  0.216738  0.007624  0.450836  0.552152   \n",
       "True            30.0  0.555859  0.221718  0.006873  0.431145  0.543600   \n",
       "\n",
       "                    75%       max  \n",
       "random_search                      \n",
       "False          0.741836  0.997110  \n",
       "True           0.740951  0.996833  "
      ]
     },
     "execution_count": 13,
     "metadata": {},
     "output_type": "execute_result"
    }
   ],
   "source": [
    "print('\\033[1mPerformance metric by random search status:\\033[0m')\n",
    "metrics_lr.groupby('random_search').describe()['test_prec_avg']"
   ]
  },
  {
   "cell_type": "code",
   "execution_count": 14,
   "metadata": {},
   "outputs": [
    {
     "name": "stdout",
     "output_type": "stream",
     "text": [
      "\u001b[1mPerformance metric by random search status:\u001b[0m\n"
     ]
    },
    {
     "data": {
      "text/html": [
       "<div>\n",
       "<style scoped>\n",
       "    .dataframe tbody tr th:only-of-type {\n",
       "        vertical-align: middle;\n",
       "    }\n",
       "\n",
       "    .dataframe tbody tr th {\n",
       "        vertical-align: top;\n",
       "    }\n",
       "\n",
       "    .dataframe thead th {\n",
       "        text-align: right;\n",
       "    }\n",
       "</style>\n",
       "<table border=\"1\" class=\"dataframe\">\n",
       "  <thead>\n",
       "    <tr style=\"text-align: right;\">\n",
       "      <th></th>\n",
       "      <th>count</th>\n",
       "      <th>mean</th>\n",
       "      <th>std</th>\n",
       "      <th>min</th>\n",
       "      <th>25%</th>\n",
       "      <th>50%</th>\n",
       "      <th>75%</th>\n",
       "      <th>max</th>\n",
       "    </tr>\n",
       "    <tr>\n",
       "      <th>random_search</th>\n",
       "      <th></th>\n",
       "      <th></th>\n",
       "      <th></th>\n",
       "      <th></th>\n",
       "      <th></th>\n",
       "      <th></th>\n",
       "      <th></th>\n",
       "      <th></th>\n",
       "    </tr>\n",
       "  </thead>\n",
       "  <tbody>\n",
       "    <tr>\n",
       "      <td>False</td>\n",
       "      <td>30.0</td>\n",
       "      <td>0.018937</td>\n",
       "      <td>0.023677</td>\n",
       "      <td>0.001791</td>\n",
       "      <td>0.004936</td>\n",
       "      <td>0.008854</td>\n",
       "      <td>0.022496</td>\n",
       "      <td>0.100069</td>\n",
       "    </tr>\n",
       "    <tr>\n",
       "      <td>True</td>\n",
       "      <td>30.0</td>\n",
       "      <td>0.019287</td>\n",
       "      <td>0.023663</td>\n",
       "      <td>0.001573</td>\n",
       "      <td>0.005075</td>\n",
       "      <td>0.008737</td>\n",
       "      <td>0.025309</td>\n",
       "      <td>0.099272</td>\n",
       "    </tr>\n",
       "  </tbody>\n",
       "</table>\n",
       "</div>"
      ],
      "text/plain": [
       "               count      mean       std       min       25%       50%  \\\n",
       "random_search                                                            \n",
       "False           30.0  0.018937  0.023677  0.001791  0.004936  0.008854   \n",
       "True            30.0  0.019287  0.023663  0.001573  0.005075  0.008737   \n",
       "\n",
       "                    75%       max  \n",
       "random_search                      \n",
       "False          0.022496  0.100069  \n",
       "True           0.025309  0.099272  "
      ]
     },
     "execution_count": 14,
     "metadata": {},
     "output_type": "execute_result"
    }
   ],
   "source": [
    "print('\\033[1mPerformance metric by random search status:\\033[0m')\n",
    "metrics_lr.groupby('random_search').describe()['test_brier']"
   ]
  },
  {
   "cell_type": "markdown",
   "metadata": {},
   "source": [
    "[(Main findings)](#main_findings)<a href='#main_findings'></a>"
   ]
  },
  {
   "cell_type": "markdown",
   "metadata": {},
   "source": [
    "<a id='comp_metrics_lr'></a>"
   ]
  },
  {
   "cell_type": "markdown",
   "metadata": {},
   "source": [
    "#### Comparing performance metrics for each dataset"
   ]
  },
  {
   "cell_type": "code",
   "execution_count": 15,
   "metadata": {
    "scrolled": true
   },
   "outputs": [
    {
     "data": {
      "text/html": [
       "<div>\n",
       "<style scoped>\n",
       "    .dataframe tbody tr th:only-of-type {\n",
       "        vertical-align: middle;\n",
       "    }\n",
       "\n",
       "    .dataframe tbody tr th {\n",
       "        vertical-align: top;\n",
       "    }\n",
       "\n",
       "    .dataframe thead th {\n",
       "        text-align: right;\n",
       "    }\n",
       "</style>\n",
       "<table border=\"1\" class=\"dataframe\">\n",
       "  <thead>\n",
       "    <tr style=\"text-align: right;\">\n",
       "      <th></th>\n",
       "      <th>store_id</th>\n",
       "      <th>test_roc_auc_grid</th>\n",
       "      <th>test_prec_avg_grid</th>\n",
       "      <th>test_brier_grid</th>\n",
       "      <th>test_roc_auc_random</th>\n",
       "      <th>test_prec_avg_random</th>\n",
       "      <th>test_brier_random</th>\n",
       "    </tr>\n",
       "  </thead>\n",
       "  <tbody>\n",
       "    <tr>\n",
       "      <td>0</td>\n",
       "      <td>2212</td>\n",
       "      <td>0.939789</td>\n",
       "      <td>0.457001</td>\n",
       "      <td>0.012400</td>\n",
       "      <td>0.936307</td>\n",
       "      <td>0.445822</td>\n",
       "      <td>0.012654</td>\n",
       "    </tr>\n",
       "    <tr>\n",
       "      <td>1</td>\n",
       "      <td>6966</td>\n",
       "      <td>0.876872</td>\n",
       "      <td>0.569408</td>\n",
       "      <td>0.055207</td>\n",
       "      <td>0.873687</td>\n",
       "      <td>0.563365</td>\n",
       "      <td>0.055480</td>\n",
       "    </tr>\n",
       "    <tr>\n",
       "      <td>2</td>\n",
       "      <td>6256</td>\n",
       "      <td>0.967475</td>\n",
       "      <td>0.534896</td>\n",
       "      <td>0.003936</td>\n",
       "      <td>0.968309</td>\n",
       "      <td>0.368424</td>\n",
       "      <td>0.004922</td>\n",
       "    </tr>\n",
       "    <tr>\n",
       "      <td>3</td>\n",
       "      <td>5847</td>\n",
       "      <td>0.936715</td>\n",
       "      <td>0.381396</td>\n",
       "      <td>0.025430</td>\n",
       "      <td>0.934107</td>\n",
       "      <td>0.369893</td>\n",
       "      <td>0.026916</td>\n",
       "    </tr>\n",
       "    <tr>\n",
       "      <td>4</td>\n",
       "      <td>1603</td>\n",
       "      <td>0.931906</td>\n",
       "      <td>0.626619</td>\n",
       "      <td>0.033837</td>\n",
       "      <td>0.931209</td>\n",
       "      <td>0.626901</td>\n",
       "      <td>0.033794</td>\n",
       "    </tr>\n",
       "  </tbody>\n",
       "</table>\n",
       "</div>"
      ],
      "text/plain": [
       "   store_id  test_roc_auc_grid  test_prec_avg_grid  test_brier_grid  \\\n",
       "0      2212           0.939789            0.457001         0.012400   \n",
       "1      6966           0.876872            0.569408         0.055207   \n",
       "2      6256           0.967475            0.534896         0.003936   \n",
       "3      5847           0.936715            0.381396         0.025430   \n",
       "4      1603           0.931906            0.626619         0.033837   \n",
       "\n",
       "   test_roc_auc_random  test_prec_avg_random  test_brier_random  \n",
       "0             0.936307              0.445822           0.012654  \n",
       "1             0.873687              0.563365           0.055480  \n",
       "2             0.968309              0.368424           0.004922  \n",
       "3             0.934107              0.369893           0.026916  \n",
       "4             0.931209              0.626901           0.033794  "
      ]
     },
     "execution_count": 15,
     "metadata": {},
     "output_type": "execute_result"
    }
   ],
   "source": [
    "# Performance metrics for grid search:\n",
    "comp_lr = metrics_lr[metrics_lr.random_search == False][['store_id', 'test_roc_auc',\n",
    "                                                         'test_prec_avg', 'test_brier']]\n",
    "comp_lr.columns = ['store_id', 'test_roc_auc_grid', 'test_prec_avg_grid', 'test_brier_grid']\n",
    "\n",
    "# Performance metrics for random search:\n",
    "comp_lr = comp_lr.merge(metrics_lr[metrics_lr.random_search == True][['store_id', 'test_roc_auc',\n",
    "                                                                      'test_prec_avg', 'test_brier']],\n",
    "                        on='store_id', how='inner')\n",
    "comp_lr.columns = ['store_id', 'test_roc_auc_grid', 'test_prec_avg_grid', 'test_brier_grid',\n",
    "                   'test_roc_auc_random', 'test_prec_avg_random', 'test_brier_random']\n",
    "comp_lr.head()"
   ]
  },
  {
   "cell_type": "code",
   "execution_count": 16,
   "metadata": {
    "scrolled": true
   },
   "outputs": [],
   "source": [
    "# Comparing performance metrics for grid and random searches for each dataset:\n",
    "comp_lr['roc_auc_random_better'] = comp_lr[['test_roc_auc_grid',\n",
    "                                            'test_roc_auc_random']].apply(lambda x: 1 if x['test_roc_auc_random'] > x['test_roc_auc_grid'] else 0,\n",
    "                                                                          axis=1)\n",
    "\n",
    "comp_lr['prec_avg_random_better'] = comp_lr[['test_prec_avg_grid',\n",
    "                                             'test_prec_avg_random']].apply(lambda x: 1 if x['test_prec_avg_random'] > x['test_prec_avg_grid'] else 0,\n",
    "                                                                            axis=1)\n",
    "\n",
    "comp_lr['brier_random_better'] = comp_lr[['test_brier_grid',\n",
    "                                          'test_brier_random']].apply(lambda x: 1 if x['test_brier_random'] < x['test_brier_grid'] else 0,\n",
    "                                                                      axis=1)"
   ]
  },
  {
   "cell_type": "code",
   "execution_count": 17,
   "metadata": {
    "scrolled": true
   },
   "outputs": [
    {
     "name": "stdout",
     "output_type": "stream",
     "text": [
      "\u001b[1mFrequencies of random search better than grid search:\u001b[0m\n",
      "\u001b[1mTest ROC-AUC:\u001b[0m\n",
      "0    19\n",
      "1    11\n",
      "Name: roc_auc_random_better, dtype: int64\n",
      "\n",
      "\n",
      "\u001b[1mTest average precision score:\u001b[0m\n",
      "0    20\n",
      "1    10\n",
      "Name: prec_avg_random_better, dtype: int64\n",
      "\n",
      "\n",
      "\u001b[1mTest Brier score:\u001b[0m\n",
      "0    19\n",
      "1    11\n",
      "Name: brier_random_better, dtype: int64\n"
     ]
    }
   ],
   "source": [
    "print('\\033[1mFrequencies of random search better than grid search:\\033[0m')\n",
    "print('\\033[1mTest ROC-AUC:\\033[0m')\n",
    "print(comp_lr['roc_auc_random_better'].value_counts())\n",
    "print('\\n')\n",
    "\n",
    "print('\\033[1mTest average precision score:\\033[0m')\n",
    "print(comp_lr['prec_avg_random_better'].value_counts())\n",
    "\n",
    "print('\\n')\n",
    "\n",
    "print('\\033[1mTest Brier score:\\033[0m')\n",
    "print(comp_lr['brier_random_better'].value_counts())"
   ]
  },
  {
   "cell_type": "markdown",
   "metadata": {},
   "source": [
    "<a id='running_times_lr'></a>"
   ]
  },
  {
   "cell_type": "markdown",
   "metadata": {},
   "source": [
    "#### Running times"
   ]
  },
  {
   "cell_type": "code",
   "execution_count": 18,
   "metadata": {
    "scrolled": true
   },
   "outputs": [
    {
     "name": "stdout",
     "output_type": "stream",
     "text": [
      "\u001b[1mRunning time by random search status:\u001b[0m\n"
     ]
    },
    {
     "data": {
      "text/html": [
       "<div>\n",
       "<style scoped>\n",
       "    .dataframe tbody tr th:only-of-type {\n",
       "        vertical-align: middle;\n",
       "    }\n",
       "\n",
       "    .dataframe tbody tr th {\n",
       "        vertical-align: top;\n",
       "    }\n",
       "\n",
       "    .dataframe thead th {\n",
       "        text-align: right;\n",
       "    }\n",
       "</style>\n",
       "<table border=\"1\" class=\"dataframe\">\n",
       "  <thead>\n",
       "    <tr style=\"text-align: right;\">\n",
       "      <th></th>\n",
       "      <th>count</th>\n",
       "      <th>mean</th>\n",
       "      <th>std</th>\n",
       "      <th>min</th>\n",
       "      <th>25%</th>\n",
       "      <th>50%</th>\n",
       "      <th>75%</th>\n",
       "      <th>max</th>\n",
       "    </tr>\n",
       "    <tr>\n",
       "      <th>random_search</th>\n",
       "      <th></th>\n",
       "      <th></th>\n",
       "      <th></th>\n",
       "      <th></th>\n",
       "      <th></th>\n",
       "      <th></th>\n",
       "      <th></th>\n",
       "      <th></th>\n",
       "    </tr>\n",
       "  </thead>\n",
       "  <tbody>\n",
       "    <tr>\n",
       "      <td>False</td>\n",
       "      <td>30.0</td>\n",
       "      <td>7.004667</td>\n",
       "      <td>9.606706</td>\n",
       "      <td>0.4</td>\n",
       "      <td>1.270</td>\n",
       "      <td>2.035</td>\n",
       "      <td>7.1225</td>\n",
       "      <td>31.63</td>\n",
       "    </tr>\n",
       "    <tr>\n",
       "      <td>True</td>\n",
       "      <td>30.0</td>\n",
       "      <td>5.431333</td>\n",
       "      <td>7.811835</td>\n",
       "      <td>0.4</td>\n",
       "      <td>1.285</td>\n",
       "      <td>1.835</td>\n",
       "      <td>4.9925</td>\n",
       "      <td>27.93</td>\n",
       "    </tr>\n",
       "  </tbody>\n",
       "</table>\n",
       "</div>"
      ],
      "text/plain": [
       "               count      mean       std  min    25%    50%     75%    max\n",
       "random_search                                                             \n",
       "False           30.0  7.004667  9.606706  0.4  1.270  2.035  7.1225  31.63\n",
       "True            30.0  5.431333  7.811835  0.4  1.285  1.835  4.9925  27.93"
      ]
     },
     "execution_count": 18,
     "metadata": {},
     "output_type": "execute_result"
    }
   ],
   "source": [
    "print('\\033[1mRunning time by random search status:\\033[0m')\n",
    "metrics_lr.groupby('random_search').describe()['running_time']"
   ]
  },
  {
   "cell_type": "markdown",
   "metadata": {},
   "source": [
    "[(Main findings)](#main_findings)<a href='#main_findings'></a>"
   ]
  },
  {
   "cell_type": "markdown",
   "metadata": {},
   "source": [
    "<a id='desc_stat_gbm'></a>"
   ]
  },
  {
   "cell_type": "markdown",
   "metadata": {},
   "source": [
    "### GBM"
   ]
  },
  {
   "cell_type": "markdown",
   "metadata": {},
   "source": [
    "<a id='info_estimations_gbm'></a>"
   ]
  },
  {
   "cell_type": "markdown",
   "metadata": {},
   "source": [
    "#### Information on estimations"
   ]
  },
  {
   "cell_type": "code",
   "execution_count": 19,
   "metadata": {},
   "outputs": [],
   "source": [
    "if metrics_gbm.isnull().sum().sum() > 0:\n",
    "    print('\\033[1mProblem - Missing values detected!\\033[0m')"
   ]
  },
  {
   "cell_type": "code",
   "execution_count": 20,
   "metadata": {},
   "outputs": [
    {
     "name": "stdout",
     "output_type": "stream",
     "text": [
      "\u001b[1mDistribution of estimations by random search status:\u001b[0m\n"
     ]
    },
    {
     "data": {
      "text/plain": [
       "True     30\n",
       "False    30\n",
       "Name: random_search, dtype: int64"
      ]
     },
     "execution_count": 20,
     "metadata": {},
     "output_type": "execute_result"
    }
   ],
   "source": [
    "print('\\033[1mDistribution of estimations by random search status:\\033[0m')\n",
    "metrics_gbm.random_search.value_counts()"
   ]
  },
  {
   "cell_type": "code",
   "execution_count": 21,
   "metadata": {},
   "outputs": [
    {
     "name": "stdout",
     "output_type": "stream",
     "text": [
      "\u001b[1mDistribution of estimations by best hyper-parameter - grid searches:\u001b[0m\n"
     ]
    },
    {
     "data": {
      "text/plain": [
       "{'subsample': 0.75, 'learning_rate': 0.01, 'max_depth': 5.0, 'n_estimators': 500.0}    9\n",
       "{'subsample': 0.75, 'learning_rate': 0.1, 'max_depth': 3.0, 'n_estimators': 500.0}     6\n",
       "{'subsample': 0.75, 'learning_rate': 0.1, 'max_depth': 1.0, 'n_estimators': 500.0}     6\n",
       "{'subsample': 0.75, 'learning_rate': 0.01, 'max_depth': 3.0, 'n_estimators': 500.0}    3\n",
       "{'subsample': 0.75, 'learning_rate': 0.1, 'max_depth': 3.0, 'n_estimators': 250.0}     2\n",
       "{'subsample': 0.75, 'learning_rate': 0.1, 'max_depth': 5.0, 'n_estimators': 500.0}     1\n",
       "{'subsample': 0.75, 'learning_rate': 0.1, 'max_depth': 1.0, 'n_estimators': 250.0}     1\n",
       "{'subsample': 0.75, 'learning_rate': 0.01, 'max_depth': 3.0, 'n_estimators': 250.0}    1\n",
       "{'subsample': 0.75, 'learning_rate': 0.01, 'max_depth': 3, 'n_estimators': 500}        1\n",
       "Name: best_param, dtype: int64"
      ]
     },
     "execution_count": 21,
     "metadata": {},
     "output_type": "execute_result"
    }
   ],
   "source": [
    "print('\\033[1mDistribution of estimations by best hyper-parameter - grid searches:\\033[0m')\n",
    "metrics_gbm[metrics_gbm.random_search == False].best_param.value_counts()"
   ]
  },
  {
   "cell_type": "code",
   "execution_count": 22,
   "metadata": {},
   "outputs": [
    {
     "name": "stdout",
     "output_type": "stream",
     "text": [
      "\u001b[1mDistribution of best hyper-parameters - random searches:\u001b[0m\n"
     ]
    },
    {
     "data": {
      "text/plain": [
       "count    30.000000\n",
       "mean      0.302869\n",
       "std       0.310134\n",
       "min       0.045667\n",
       "25%       0.091953\n",
       "50%       0.156493\n",
       "75%       0.378948\n",
       "max       1.311701\n",
       "Name: best_param, dtype: float64"
      ]
     },
     "execution_count": 22,
     "metadata": {},
     "output_type": "execute_result"
    }
   ],
   "source": [
    "print('\\033[1mDistribution of best hyper-parameters - random searches:\\033[0m')\n",
    "metrics_lr[metrics_lr.random_search == True].best_param.apply(lambda x: float(x.split(': ')[1].split('}')[0])).describe()"
   ]
  },
  {
   "cell_type": "code",
   "execution_count": 23,
   "metadata": {},
   "outputs": [
    {
     "name": "stdout",
     "output_type": "stream",
     "text": [
      "\u001b[1mDistribution of running times - grid searches:\u001b[0m\n"
     ]
    },
    {
     "data": {
      "text/plain": [
       "count     30.000000\n",
       "mean     188.195333\n",
       "std      184.413068\n",
       "min        7.950000\n",
       "25%       66.807500\n",
       "50%      121.735000\n",
       "75%      317.552500\n",
       "max      688.130000\n",
       "Name: running_time, dtype: float64"
      ]
     },
     "execution_count": 23,
     "metadata": {},
     "output_type": "execute_result"
    }
   ],
   "source": [
    "print('\\033[1mDistribution of running times - grid searches:\\033[0m')\n",
    "metrics_gbm[metrics_gbm.random_search == False].running_time.describe()"
   ]
  },
  {
   "cell_type": "code",
   "execution_count": 24,
   "metadata": {},
   "outputs": [
    {
     "name": "stdout",
     "output_type": "stream",
     "text": [
      "\u001b[1mDistribution of running times - random searches:\u001b[0m\n"
     ]
    },
    {
     "data": {
      "text/plain": [
       "count     30.000000\n",
       "mean     140.496333\n",
       "std      142.873932\n",
       "min        2.600000\n",
       "25%       42.817500\n",
       "50%       95.960000\n",
       "75%      202.920000\n",
       "max      623.400000\n",
       "Name: running_time, dtype: float64"
      ]
     },
     "execution_count": 24,
     "metadata": {},
     "output_type": "execute_result"
    }
   ],
   "source": [
    "print('\\033[1mDistribution of running times - random searches:\\033[0m')\n",
    "metrics_gbm[metrics_gbm.random_search == True].running_time.describe()"
   ]
  },
  {
   "cell_type": "markdown",
   "metadata": {},
   "source": [
    "<a id='performance_metrics_gbm'></a>"
   ]
  },
  {
   "cell_type": "markdown",
   "metadata": {},
   "source": [
    "#### Performance metrics by random search status"
   ]
  },
  {
   "cell_type": "code",
   "execution_count": 25,
   "metadata": {},
   "outputs": [
    {
     "name": "stdout",
     "output_type": "stream",
     "text": [
      "\u001b[1mPerformance metric by random search status:\u001b[0m\n"
     ]
    },
    {
     "data": {
      "text/html": [
       "<div>\n",
       "<style scoped>\n",
       "    .dataframe tbody tr th:only-of-type {\n",
       "        vertical-align: middle;\n",
       "    }\n",
       "\n",
       "    .dataframe tbody tr th {\n",
       "        vertical-align: top;\n",
       "    }\n",
       "\n",
       "    .dataframe thead th {\n",
       "        text-align: right;\n",
       "    }\n",
       "</style>\n",
       "<table border=\"1\" class=\"dataframe\">\n",
       "  <thead>\n",
       "    <tr style=\"text-align: right;\">\n",
       "      <th></th>\n",
       "      <th>count</th>\n",
       "      <th>mean</th>\n",
       "      <th>std</th>\n",
       "      <th>min</th>\n",
       "      <th>25%</th>\n",
       "      <th>50%</th>\n",
       "      <th>75%</th>\n",
       "      <th>max</th>\n",
       "    </tr>\n",
       "    <tr>\n",
       "      <th>random_search</th>\n",
       "      <th></th>\n",
       "      <th></th>\n",
       "      <th></th>\n",
       "      <th></th>\n",
       "      <th></th>\n",
       "      <th></th>\n",
       "      <th></th>\n",
       "      <th></th>\n",
       "    </tr>\n",
       "  </thead>\n",
       "  <tbody>\n",
       "    <tr>\n",
       "      <td>False</td>\n",
       "      <td>30.0</td>\n",
       "      <td>0.896874</td>\n",
       "      <td>0.129526</td>\n",
       "      <td>0.269928</td>\n",
       "      <td>0.882236</td>\n",
       "      <td>0.928344</td>\n",
       "      <td>0.951856</td>\n",
       "      <td>0.997508</td>\n",
       "    </tr>\n",
       "    <tr>\n",
       "      <td>True</td>\n",
       "      <td>30.0</td>\n",
       "      <td>0.905140</td>\n",
       "      <td>0.097506</td>\n",
       "      <td>0.518819</td>\n",
       "      <td>0.886797</td>\n",
       "      <td>0.930427</td>\n",
       "      <td>0.957830</td>\n",
       "      <td>0.997279</td>\n",
       "    </tr>\n",
       "  </tbody>\n",
       "</table>\n",
       "</div>"
      ],
      "text/plain": [
       "               count      mean       std       min       25%       50%  \\\n",
       "random_search                                                            \n",
       "False           30.0  0.896874  0.129526  0.269928  0.882236  0.928344   \n",
       "True            30.0  0.905140  0.097506  0.518819  0.886797  0.930427   \n",
       "\n",
       "                    75%       max  \n",
       "random_search                      \n",
       "False          0.951856  0.997508  \n",
       "True           0.957830  0.997279  "
      ]
     },
     "execution_count": 25,
     "metadata": {},
     "output_type": "execute_result"
    }
   ],
   "source": [
    "print('\\033[1mPerformance metric by random search status:\\033[0m')\n",
    "metrics_gbm.groupby('random_search').describe()['test_roc_auc']"
   ]
  },
  {
   "cell_type": "code",
   "execution_count": 26,
   "metadata": {},
   "outputs": [
    {
     "name": "stdout",
     "output_type": "stream",
     "text": [
      "\u001b[1mPerformance metric by random search status:\u001b[0m\n"
     ]
    },
    {
     "data": {
      "text/html": [
       "<div>\n",
       "<style scoped>\n",
       "    .dataframe tbody tr th:only-of-type {\n",
       "        vertical-align: middle;\n",
       "    }\n",
       "\n",
       "    .dataframe tbody tr th {\n",
       "        vertical-align: top;\n",
       "    }\n",
       "\n",
       "    .dataframe thead th {\n",
       "        text-align: right;\n",
       "    }\n",
       "</style>\n",
       "<table border=\"1\" class=\"dataframe\">\n",
       "  <thead>\n",
       "    <tr style=\"text-align: right;\">\n",
       "      <th></th>\n",
       "      <th>count</th>\n",
       "      <th>mean</th>\n",
       "      <th>std</th>\n",
       "      <th>min</th>\n",
       "      <th>25%</th>\n",
       "      <th>50%</th>\n",
       "      <th>75%</th>\n",
       "      <th>max</th>\n",
       "    </tr>\n",
       "    <tr>\n",
       "      <th>random_search</th>\n",
       "      <th></th>\n",
       "      <th></th>\n",
       "      <th></th>\n",
       "      <th></th>\n",
       "      <th></th>\n",
       "      <th></th>\n",
       "      <th></th>\n",
       "      <th></th>\n",
       "    </tr>\n",
       "  </thead>\n",
       "  <tbody>\n",
       "    <tr>\n",
       "      <td>False</td>\n",
       "      <td>30.0</td>\n",
       "      <td>0.503705</td>\n",
       "      <td>0.264976</td>\n",
       "      <td>0.004968</td>\n",
       "      <td>0.289032</td>\n",
       "      <td>0.479844</td>\n",
       "      <td>0.687865</td>\n",
       "      <td>0.996855</td>\n",
       "    </tr>\n",
       "    <tr>\n",
       "      <td>True</td>\n",
       "      <td>30.0</td>\n",
       "      <td>0.511570</td>\n",
       "      <td>0.249368</td>\n",
       "      <td>0.005877</td>\n",
       "      <td>0.371149</td>\n",
       "      <td>0.487225</td>\n",
       "      <td>0.699803</td>\n",
       "      <td>0.995934</td>\n",
       "    </tr>\n",
       "  </tbody>\n",
       "</table>\n",
       "</div>"
      ],
      "text/plain": [
       "               count      mean       std       min       25%       50%  \\\n",
       "random_search                                                            \n",
       "False           30.0  0.503705  0.264976  0.004968  0.289032  0.479844   \n",
       "True            30.0  0.511570  0.249368  0.005877  0.371149  0.487225   \n",
       "\n",
       "                    75%       max  \n",
       "random_search                      \n",
       "False          0.687865  0.996855  \n",
       "True           0.699803  0.995934  "
      ]
     },
     "execution_count": 26,
     "metadata": {},
     "output_type": "execute_result"
    }
   ],
   "source": [
    "print('\\033[1mPerformance metric by random search status:\\033[0m')\n",
    "metrics_gbm.groupby('random_search').describe()['test_prec_avg']"
   ]
  },
  {
   "cell_type": "code",
   "execution_count": 27,
   "metadata": {},
   "outputs": [
    {
     "name": "stdout",
     "output_type": "stream",
     "text": [
      "\u001b[1mPerformance metric by random search status:\u001b[0m\n"
     ]
    },
    {
     "data": {
      "text/html": [
       "<div>\n",
       "<style scoped>\n",
       "    .dataframe tbody tr th:only-of-type {\n",
       "        vertical-align: middle;\n",
       "    }\n",
       "\n",
       "    .dataframe tbody tr th {\n",
       "        vertical-align: top;\n",
       "    }\n",
       "\n",
       "    .dataframe thead th {\n",
       "        text-align: right;\n",
       "    }\n",
       "</style>\n",
       "<table border=\"1\" class=\"dataframe\">\n",
       "  <thead>\n",
       "    <tr style=\"text-align: right;\">\n",
       "      <th></th>\n",
       "      <th>count</th>\n",
       "      <th>mean</th>\n",
       "      <th>std</th>\n",
       "      <th>min</th>\n",
       "      <th>25%</th>\n",
       "      <th>50%</th>\n",
       "      <th>75%</th>\n",
       "      <th>max</th>\n",
       "    </tr>\n",
       "    <tr>\n",
       "      <th>random_search</th>\n",
       "      <th></th>\n",
       "      <th></th>\n",
       "      <th></th>\n",
       "      <th></th>\n",
       "      <th></th>\n",
       "      <th></th>\n",
       "      <th></th>\n",
       "      <th></th>\n",
       "    </tr>\n",
       "  </thead>\n",
       "  <tbody>\n",
       "    <tr>\n",
       "      <td>False</td>\n",
       "      <td>30.0</td>\n",
       "      <td>0.017852</td>\n",
       "      <td>0.020895</td>\n",
       "      <td>0.002547</td>\n",
       "      <td>0.006029</td>\n",
       "      <td>0.010977</td>\n",
       "      <td>0.016698</td>\n",
       "      <td>0.098081</td>\n",
       "    </tr>\n",
       "    <tr>\n",
       "      <td>True</td>\n",
       "      <td>30.0</td>\n",
       "      <td>0.017676</td>\n",
       "      <td>0.020911</td>\n",
       "      <td>0.003637</td>\n",
       "      <td>0.005742</td>\n",
       "      <td>0.009812</td>\n",
       "      <td>0.017447</td>\n",
       "      <td>0.098184</td>\n",
       "    </tr>\n",
       "  </tbody>\n",
       "</table>\n",
       "</div>"
      ],
      "text/plain": [
       "               count      mean       std       min       25%       50%  \\\n",
       "random_search                                                            \n",
       "False           30.0  0.017852  0.020895  0.002547  0.006029  0.010977   \n",
       "True            30.0  0.017676  0.020911  0.003637  0.005742  0.009812   \n",
       "\n",
       "                    75%       max  \n",
       "random_search                      \n",
       "False          0.016698  0.098081  \n",
       "True           0.017447  0.098184  "
      ]
     },
     "execution_count": 27,
     "metadata": {},
     "output_type": "execute_result"
    }
   ],
   "source": [
    "print('\\033[1mPerformance metric by random search status:\\033[0m')\n",
    "metrics_gbm.groupby('random_search').describe()['test_brier']"
   ]
  },
  {
   "cell_type": "markdown",
   "metadata": {},
   "source": [
    "[(Main findings)](#main_findings)<a href='#main_findings'></a>"
   ]
  },
  {
   "cell_type": "markdown",
   "metadata": {},
   "source": [
    "<a id='comp_metrics_gbm'></a>"
   ]
  },
  {
   "cell_type": "markdown",
   "metadata": {},
   "source": [
    "#### Comparing performance metrics for each dataset"
   ]
  },
  {
   "cell_type": "code",
   "execution_count": 28,
   "metadata": {
    "scrolled": true
   },
   "outputs": [
    {
     "data": {
      "text/html": [
       "<div>\n",
       "<style scoped>\n",
       "    .dataframe tbody tr th:only-of-type {\n",
       "        vertical-align: middle;\n",
       "    }\n",
       "\n",
       "    .dataframe tbody tr th {\n",
       "        vertical-align: top;\n",
       "    }\n",
       "\n",
       "    .dataframe thead th {\n",
       "        text-align: right;\n",
       "    }\n",
       "</style>\n",
       "<table border=\"1\" class=\"dataframe\">\n",
       "  <thead>\n",
       "    <tr style=\"text-align: right;\">\n",
       "      <th></th>\n",
       "      <th>store_id</th>\n",
       "      <th>test_roc_auc_grid</th>\n",
       "      <th>test_prec_avg_grid</th>\n",
       "      <th>test_brier_grid</th>\n",
       "      <th>test_roc_auc_random</th>\n",
       "      <th>test_prec_avg_random</th>\n",
       "      <th>test_brier_random</th>\n",
       "    </tr>\n",
       "  </thead>\n",
       "  <tbody>\n",
       "    <tr>\n",
       "      <td>0</td>\n",
       "      <td>2212</td>\n",
       "      <td>0.831416</td>\n",
       "      <td>0.459043</td>\n",
       "      <td>0.011842</td>\n",
       "      <td>0.863508</td>\n",
       "      <td>0.454041</td>\n",
       "      <td>0.012091</td>\n",
       "    </tr>\n",
       "    <tr>\n",
       "      <td>1</td>\n",
       "      <td>6966</td>\n",
       "      <td>0.880453</td>\n",
       "      <td>0.610075</td>\n",
       "      <td>0.050491</td>\n",
       "      <td>0.881956</td>\n",
       "      <td>0.602313</td>\n",
       "      <td>0.052280</td>\n",
       "    </tr>\n",
       "    <tr>\n",
       "      <td>2</td>\n",
       "      <td>6256</td>\n",
       "      <td>0.953424</td>\n",
       "      <td>0.463554</td>\n",
       "      <td>0.004351</td>\n",
       "      <td>0.938590</td>\n",
       "      <td>0.398818</td>\n",
       "      <td>0.004946</td>\n",
       "    </tr>\n",
       "    <tr>\n",
       "      <td>3</td>\n",
       "      <td>5847</td>\n",
       "      <td>0.941362</td>\n",
       "      <td>0.625792</td>\n",
       "      <td>0.017499</td>\n",
       "      <td>0.937213</td>\n",
       "      <td>0.613035</td>\n",
       "      <td>0.017671</td>\n",
       "    </tr>\n",
       "    <tr>\n",
       "      <td>4</td>\n",
       "      <td>1603</td>\n",
       "      <td>0.923300</td>\n",
       "      <td>0.585341</td>\n",
       "      <td>0.036275</td>\n",
       "      <td>0.921981</td>\n",
       "      <td>0.589481</td>\n",
       "      <td>0.036168</td>\n",
       "    </tr>\n",
       "  </tbody>\n",
       "</table>\n",
       "</div>"
      ],
      "text/plain": [
       "   store_id  test_roc_auc_grid  test_prec_avg_grid  test_brier_grid  \\\n",
       "0      2212           0.831416            0.459043         0.011842   \n",
       "1      6966           0.880453            0.610075         0.050491   \n",
       "2      6256           0.953424            0.463554         0.004351   \n",
       "3      5847           0.941362            0.625792         0.017499   \n",
       "4      1603           0.923300            0.585341         0.036275   \n",
       "\n",
       "   test_roc_auc_random  test_prec_avg_random  test_brier_random  \n",
       "0             0.863508              0.454041           0.012091  \n",
       "1             0.881956              0.602313           0.052280  \n",
       "2             0.938590              0.398818           0.004946  \n",
       "3             0.937213              0.613035           0.017671  \n",
       "4             0.921981              0.589481           0.036168  "
      ]
     },
     "execution_count": 28,
     "metadata": {},
     "output_type": "execute_result"
    }
   ],
   "source": [
    "# Performance metrics for grid search:\n",
    "comp_gbm = metrics_gbm[metrics_gbm.random_search == False][['store_id', 'test_roc_auc',\n",
    "                                                         'test_prec_avg', 'test_brier']]\n",
    "comp_gbm.columns = ['store_id', 'test_roc_auc_grid', 'test_prec_avg_grid', 'test_brier_grid']\n",
    "\n",
    "# Performance metrics for random search:\n",
    "comp_gbm = comp_gbm.merge(metrics_gbm[metrics_gbm.random_search == True][['store_id', 'test_roc_auc',\n",
    "                                                                      'test_prec_avg', 'test_brier']],\n",
    "                        on='store_id', how='inner')\n",
    "comp_gbm.columns = ['store_id', 'test_roc_auc_grid', 'test_prec_avg_grid', 'test_brier_grid',\n",
    "                   'test_roc_auc_random', 'test_prec_avg_random', 'test_brier_random']\n",
    "comp_gbm.head()"
   ]
  },
  {
   "cell_type": "code",
   "execution_count": 29,
   "metadata": {
    "scrolled": true
   },
   "outputs": [],
   "source": [
    "# Comparing performance metrics for grid and random searches for each dataset:\n",
    "comp_gbm['roc_auc_random_better'] = comp_gbm[['test_roc_auc_grid',\n",
    "                                            'test_roc_auc_random']].apply(lambda x: 1 if x['test_roc_auc_random'] > x['test_roc_auc_grid'] else 0,\n",
    "                                                                          axis=1)\n",
    "\n",
    "comp_gbm['prec_avg_random_better'] = comp_gbm[['test_prec_avg_grid',\n",
    "                                             'test_prec_avg_random']].apply(lambda x: 1 if x['test_prec_avg_random'] > x['test_prec_avg_grid'] else 0,\n",
    "                                                                            axis=1)\n",
    "\n",
    "comp_gbm['brier_random_better'] = comp_gbm[['test_brier_grid',\n",
    "                                          'test_brier_random']].apply(lambda x: 1 if x['test_brier_random'] < x['test_brier_grid'] else 0,\n",
    "                                                                      axis=1)"
   ]
  },
  {
   "cell_type": "code",
   "execution_count": 30,
   "metadata": {
    "scrolled": true
   },
   "outputs": [
    {
     "name": "stdout",
     "output_type": "stream",
     "text": [
      "\u001b[1mFrequencies of random search better than grid search:\u001b[0m\n",
      "\u001b[1mTest ROC-AUC:\u001b[0m\n",
      "1    17\n",
      "0    13\n",
      "Name: roc_auc_random_better, dtype: int64\n",
      "\n",
      "\n",
      "\u001b[1mTest average precision score:\u001b[0m\n",
      "0    17\n",
      "1    13\n",
      "Name: prec_avg_random_better, dtype: int64\n",
      "\n",
      "\n",
      "\u001b[1mTest Brier score:\u001b[0m\n",
      "0    18\n",
      "1    12\n",
      "Name: brier_random_better, dtype: int64\n"
     ]
    }
   ],
   "source": [
    "print('\\033[1mFrequencies of random search better than grid search:\\033[0m')\n",
    "print('\\033[1mTest ROC-AUC:\\033[0m')\n",
    "print(comp_gbm['roc_auc_random_better'].value_counts())\n",
    "print('\\n')\n",
    "\n",
    "print('\\033[1mTest average precision score:\\033[0m')\n",
    "print(comp_gbm['prec_avg_random_better'].value_counts())\n",
    "\n",
    "print('\\n')\n",
    "\n",
    "print('\\033[1mTest Brier score:\\033[0m')\n",
    "print(comp_gbm['brier_random_better'].value_counts())"
   ]
  },
  {
   "cell_type": "markdown",
   "metadata": {},
   "source": [
    "<a id='running_times_gbm'></a>"
   ]
  },
  {
   "cell_type": "markdown",
   "metadata": {},
   "source": [
    "#### Running times"
   ]
  },
  {
   "cell_type": "code",
   "execution_count": 31,
   "metadata": {},
   "outputs": [
    {
     "name": "stdout",
     "output_type": "stream",
     "text": [
      "\u001b[1mRunning time by random search status:\u001b[0m\n"
     ]
    },
    {
     "data": {
      "text/html": [
       "<div>\n",
       "<style scoped>\n",
       "    .dataframe tbody tr th:only-of-type {\n",
       "        vertical-align: middle;\n",
       "    }\n",
       "\n",
       "    .dataframe tbody tr th {\n",
       "        vertical-align: top;\n",
       "    }\n",
       "\n",
       "    .dataframe thead th {\n",
       "        text-align: right;\n",
       "    }\n",
       "</style>\n",
       "<table border=\"1\" class=\"dataframe\">\n",
       "  <thead>\n",
       "    <tr style=\"text-align: right;\">\n",
       "      <th></th>\n",
       "      <th>count</th>\n",
       "      <th>mean</th>\n",
       "      <th>std</th>\n",
       "      <th>min</th>\n",
       "      <th>25%</th>\n",
       "      <th>50%</th>\n",
       "      <th>75%</th>\n",
       "      <th>max</th>\n",
       "    </tr>\n",
       "    <tr>\n",
       "      <th>random_search</th>\n",
       "      <th></th>\n",
       "      <th></th>\n",
       "      <th></th>\n",
       "      <th></th>\n",
       "      <th></th>\n",
       "      <th></th>\n",
       "      <th></th>\n",
       "      <th></th>\n",
       "    </tr>\n",
       "  </thead>\n",
       "  <tbody>\n",
       "    <tr>\n",
       "      <td>False</td>\n",
       "      <td>30.0</td>\n",
       "      <td>188.195333</td>\n",
       "      <td>184.413068</td>\n",
       "      <td>7.95</td>\n",
       "      <td>66.8075</td>\n",
       "      <td>121.735</td>\n",
       "      <td>317.5525</td>\n",
       "      <td>688.13</td>\n",
       "    </tr>\n",
       "    <tr>\n",
       "      <td>True</td>\n",
       "      <td>30.0</td>\n",
       "      <td>140.496333</td>\n",
       "      <td>142.873932</td>\n",
       "      <td>2.60</td>\n",
       "      <td>42.8175</td>\n",
       "      <td>95.960</td>\n",
       "      <td>202.9200</td>\n",
       "      <td>623.40</td>\n",
       "    </tr>\n",
       "  </tbody>\n",
       "</table>\n",
       "</div>"
      ],
      "text/plain": [
       "               count        mean         std   min      25%      50%  \\\n",
       "random_search                                                          \n",
       "False           30.0  188.195333  184.413068  7.95  66.8075  121.735   \n",
       "True            30.0  140.496333  142.873932  2.60  42.8175   95.960   \n",
       "\n",
       "                    75%     max  \n",
       "random_search                    \n",
       "False          317.5525  688.13  \n",
       "True           202.9200  623.40  "
      ]
     },
     "execution_count": 31,
     "metadata": {},
     "output_type": "execute_result"
    }
   ],
   "source": [
    "print('\\033[1mRunning time by random search status:\\033[0m')\n",
    "metrics_gbm.groupby('random_search').describe()['running_time']"
   ]
  },
  {
   "cell_type": "markdown",
   "metadata": {},
   "source": [
    "[(Main findings)](#main_findings)<a href='#main_findings'></a>"
   ]
  },
  {
   "cell_type": "markdown",
   "metadata": {},
   "source": [
    "<a id='statistical_tests'></a>"
   ]
  },
  {
   "cell_type": "markdown",
   "metadata": {},
   "source": [
    "## Statistical tests"
   ]
  },
  {
   "cell_type": "markdown",
   "metadata": {},
   "source": [
    "<a id='statistical_tests_lr'></a>"
   ]
  },
  {
   "cell_type": "markdown",
   "metadata": {},
   "source": [
    "### Logistic regression"
   ]
  },
  {
   "cell_type": "code",
   "execution_count": 32,
   "metadata": {
    "scrolled": true
   },
   "outputs": [
    {
     "name": "stdout",
     "output_type": "stream",
     "text": [
      "\u001b[1mSign test:\u001b[0m\n",
      "H0: ROC-AUC (random) != ROC-AUC (grid)\n",
      "H1: ROC-AUC (random) = ROC-AUC (grid)\n",
      "P-value = 0.2005\n",
      "\n",
      "\n",
      "\u001b[1mWilcoxon test:\u001b[0m\n",
      "H0: ROC-AUC (random) >= ROC-AUC (grid)\n",
      "H1: ROC-AUC (random) < ROC-AUC (grid)\n",
      "P-value = 0.0794\n"
     ]
    }
   ],
   "source": [
    "# P-value of sign test:\n",
    "p_value_sign = sign_test([j - i for i, j in zip(comp_lr['test_roc_auc_grid'], \n",
    "                                                comp_lr['test_roc_auc_random'])])[1]\n",
    "\n",
    "# P-value of Wilcoxon test:\n",
    "p_value_wilcoxon = wilcoxon([j - i for i, j in zip(comp_lr['test_roc_auc_grid'],\n",
    "                                                   comp_lr['test_roc_auc_random'])],\n",
    "                            alternative = 'less')[1]\n",
    "\n",
    "print('\\033[1mSign test:\\033[0m')\n",
    "print('H0: ROC-AUC (random) != ROC-AUC (grid)')\n",
    "print('H1: ROC-AUC (random) = ROC-AUC (grid)')\n",
    "print('P-value = {0:.4f}'.format(p_value_sign))\n",
    "print('\\n')\n",
    "\n",
    "print('\\033[1mWilcoxon test:\\033[0m')\n",
    "print('H0: ROC-AUC (random) >= ROC-AUC (grid)')\n",
    "print('H1: ROC-AUC (random) < ROC-AUC (grid)')\n",
    "print('P-value = {0:.4f}'.format(p_value_wilcoxon))"
   ]
  },
  {
   "cell_type": "markdown",
   "metadata": {},
   "source": [
    "[(Main findings)](#main_findings)<a href='#main_findings'></a>"
   ]
  },
  {
   "cell_type": "markdown",
   "metadata": {},
   "source": [
    "<a id='statistical_tests_gbm'></a>"
   ]
  },
  {
   "cell_type": "markdown",
   "metadata": {},
   "source": [
    "### GBM"
   ]
  },
  {
   "cell_type": "code",
   "execution_count": 33,
   "metadata": {},
   "outputs": [
    {
     "name": "stdout",
     "output_type": "stream",
     "text": [
      "\u001b[1mSign test:\u001b[0m\n",
      "H0: ROC-AUC (random) != ROC-AUC (grid)\n",
      "H1: ROC-AUC (random) = ROC-AUC (grid)\n",
      "P-value = 0.5847\n",
      "\n",
      "\n",
      "\u001b[1mWilcoxon test:\u001b[0m\n",
      "H0: ROC-AUC (random) >= ROC-AUC (grid)\n",
      "H1: ROC-AUC (random) < ROC-AUC (grid)\n",
      "P-value = 0.8732\n"
     ]
    }
   ],
   "source": [
    "# P-value of sign test:\n",
    "p_value_sign = sign_test([j - i for i, j in zip(comp_gbm['test_roc_auc_grid'], \n",
    "                                                comp_gbm['test_roc_auc_random'])])[1]\n",
    "\n",
    "# P-value of Wilcoxon test:\n",
    "p_value_wilcoxon = wilcoxon([j - i for i, j in zip(comp_gbm['test_roc_auc_grid'],\n",
    "                                                   comp_gbm['test_roc_auc_random'])],\n",
    "                            alternative = 'less')[1]\n",
    "\n",
    "print('\\033[1mSign test:\\033[0m')\n",
    "print('H0: ROC-AUC (random) != ROC-AUC (grid)')\n",
    "print('H1: ROC-AUC (random) = ROC-AUC (grid)')\n",
    "print('P-value = {0:.4f}'.format(p_value_sign))\n",
    "print('\\n')\n",
    "\n",
    "print('\\033[1mWilcoxon test:\\033[0m')\n",
    "print('H0: ROC-AUC (random) >= ROC-AUC (grid)')\n",
    "print('H1: ROC-AUC (random) < ROC-AUC (grid)')\n",
    "print('P-value = {0:.4f}'.format(p_value_wilcoxon))"
   ]
  },
  {
   "cell_type": "markdown",
   "metadata": {},
   "source": [
    "[(Main findings)](#main_findings)<a href='#main_findings'></a>"
   ]
  },
  {
   "cell_type": "markdown",
   "metadata": {},
   "source": [
    "<a id='data_vis'></a>"
   ]
  },
  {
   "cell_type": "markdown",
   "metadata": {},
   "source": [
    "## Data visualization"
   ]
  },
  {
   "cell_type": "markdown",
   "metadata": {},
   "source": [
    "<a id='data_vis_lr'></a>"
   ]
  },
  {
   "cell_type": "markdown",
   "metadata": {},
   "source": [
    "### Logistic regression"
   ]
  },
  {
   "cell_type": "markdown",
   "metadata": {},
   "source": [
    "#### Boxplot of performance metrics by random search status"
   ]
  },
  {
   "cell_type": "code",
   "execution_count": 34,
   "metadata": {},
   "outputs": [
    {
     "data": {
      "application/vnd.plotly.v1+json": {
       "config": {
        "plotlyServerURL": "https://plot.ly"
       },
       "data": [
        {
         "name": "roc_auc",
         "type": "box",
         "x": [
          false,
          false,
          false,
          false,
          false,
          false,
          false,
          false,
          false,
          false,
          false,
          false,
          false,
          false,
          false,
          false,
          false,
          false,
          false,
          false,
          false,
          false,
          false,
          false,
          false,
          false,
          false,
          false,
          false,
          false,
          true,
          true,
          true,
          true,
          true,
          true,
          true,
          true,
          true,
          true,
          true,
          true,
          true,
          true,
          true,
          true,
          true,
          true,
          true,
          true,
          true,
          true,
          true,
          true,
          true,
          true,
          true,
          true,
          true,
          true
         ],
         "xaxis": "x",
         "y": [
          0.9397888860602974,
          0.8768715478409893,
          0.9674754337527726,
          0.9367153838853564,
          0.931906048061446,
          0.9538184458244658,
          0.8708669394233631,
          0.9727982939938264,
          0.9309306802105801,
          0.9638482870688239,
          0.9483528768904339,
          0.8839967994966731,
          0.9399768354219689,
          0.9625153239567286,
          0.9244398276830335,
          0.9351672681792564,
          0.9474846974888126,
          0.9621009021606984,
          0.9482190960790182,
          0.8796815114709852,
          0.81564581428758,
          0.7736036224076094,
          0.9976253940434026,
          0.4670054047056539,
          0.8748085896914376,
          0.9632027809893976,
          0.9680127956793217,
          0.9564989461631013,
          0.9870725822354833,
          0.9487738736577316,
          0.9363066880023275,
          0.8736871663636679,
          0.9683087988939357,
          0.9341071936983962,
          0.9312085935353689,
          0.9427277269011733,
          0.8735754675292271,
          0.9741707664969919,
          0.9309466244578957,
          0.964143208017187,
          0.9474883835183532,
          0.8938007344744815,
          0.949482764122329,
          0.9629646886337657,
          0.9113966868319223,
          0.9350101948050407,
          0.9492445156693482,
          0.9608058397816864,
          0.9461039608899531,
          0.8586288798920377,
          0.8114064109819628,
          0.7900815855846799,
          0.99746473387617,
          0.4563901744393022,
          0.875136073898352,
          0.9630797827851713,
          0.9671413535162482,
          0.9563261970925003,
          0.986867581426152,
          0.9419980079536449
         ],
         "yaxis": "y"
        },
        {
         "name": "prec_avg",
         "type": "box",
         "x": [
          false,
          false,
          false,
          false,
          false,
          false,
          false,
          false,
          false,
          false,
          false,
          false,
          false,
          false,
          false,
          false,
          false,
          false,
          false,
          false,
          false,
          false,
          false,
          false,
          false,
          false,
          false,
          false,
          false,
          false,
          true,
          true,
          true,
          true,
          true,
          true,
          true,
          true,
          true,
          true,
          true,
          true,
          true,
          true,
          true,
          true,
          true,
          true,
          true,
          true,
          true,
          true,
          true,
          true,
          true,
          true,
          true,
          true,
          true,
          true
         ],
         "xaxis": "x2",
         "y": [
          0.4570013888087228,
          0.5694075038755022,
          0.5348960286125625,
          0.3813958796490768,
          0.6266192242804173,
          0.8021840012016666,
          0.7461126443267538,
          0.7875226733098555,
          0.5955913071633464,
          0.750774409809271,
          0.4802888693771753,
          0.17577554755686667,
          0.4183146324664354,
          0.5281677212401361,
          0.292708809145717,
          0.5064910726847633,
          0.44878043511988314,
          0.7493775624880725,
          0.5163994202190819,
          0.37277505605885697,
          0.27582080653876556,
          0.5865234190429098,
          0.9971095065508092,
          0.007623593456368455,
          0.7040128155651812,
          0.7901914619557098,
          0.7290051978969189,
          0.5134733026399937,
          0.8635889536010978,
          0.7134874825437472,
          0.44582242871475963,
          0.5633649455561881,
          0.36842418443579805,
          0.36989334369815674,
          0.6269010493055573,
          0.778148925267466,
          0.7496683252137977,
          0.7850245448139498,
          0.593537591283642,
          0.7536448108519228,
          0.4809095842011208,
          0.19104240002697237,
          0.42684851499371973,
          0.5238341715796317,
          0.27368675088544653,
          0.5033950059401411,
          0.44626820760923147,
          0.746878119886776,
          0.4440349051042999,
          0.40053734328058943,
          0.2561872514025884,
          0.6022535849657141,
          0.9968333443283374,
          0.0068732596683904554,
          0.7030861085249661,
          0.7898588477321261,
          0.7231707005381586,
          0.51338764144038,
          0.8940988612422257,
          0.71815099760646
         ],
         "yaxis": "y2"
        },
        {
         "name": "running_time",
         "type": "box",
         "x": [
          false,
          false,
          false,
          false,
          false,
          false,
          false,
          false,
          false,
          false,
          false,
          false,
          false,
          false,
          false,
          false,
          false,
          false,
          false,
          false,
          false,
          false,
          false,
          false,
          false,
          false,
          false,
          false,
          false,
          false,
          true,
          true,
          true,
          true,
          true,
          true,
          true,
          true,
          true,
          true,
          true,
          true,
          true,
          true,
          true,
          true,
          true,
          true,
          true,
          true,
          true,
          true,
          true,
          true,
          true,
          true,
          true,
          true,
          true,
          true
         ],
         "xaxis": "x3",
         "y": [
          0.63,
          6.38,
          2.45,
          2.05,
          1.85,
          5.5,
          0.4,
          9.72,
          27.42,
          1.72,
          26.52,
          3.92,
          4.62,
          1.53,
          1.47,
          31.63,
          3.57,
          1.25,
          0.73,
          1.33,
          0.67,
          2.02,
          1.12,
          0.43,
          18.13,
          1.43,
          7.37,
          14.43,
          29.2,
          0.65,
          0.6,
          1.28,
          2.62,
          1.95,
          1.8,
          5.13,
          0.4,
          10.1,
          27.93,
          1.53,
          11.25,
          3.53,
          4.58,
          1.55,
          1.48,
          27.07,
          3.72,
          1.32,
          0.72,
          1.3,
          0.7,
          1.87,
          1.05,
          0.43,
          5.73,
          1.37,
          4.13,
          12.97,
          24.23,
          0.6
         ],
         "yaxis": "y3"
        }
       ],
       "layout": {
        "annotations": [
         {
          "font": {
           "size": 16
          },
          "showarrow": false,
          "text": "Test ROC-AUC",
          "x": 0.14444444444444446,
          "xanchor": "center",
          "xref": "paper",
          "y": 1,
          "yanchor": "bottom",
          "yref": "paper"
         },
         {
          "font": {
           "size": 16
          },
          "showarrow": false,
          "text": "Test average precision score",
          "x": 0.5,
          "xanchor": "center",
          "xref": "paper",
          "y": 1,
          "yanchor": "bottom",
          "yref": "paper"
         },
         {
          "font": {
           "size": 16
          },
          "showarrow": false,
          "text": "Running time (minutes)",
          "x": 0.8555555555555556,
          "xanchor": "center",
          "xref": "paper",
          "y": 1,
          "yanchor": "bottom",
          "yref": "paper"
         }
        ],
        "height": 450,
        "showlegend": false,
        "template": {
         "data": {
          "bar": [
           {
            "error_x": {
             "color": "#2a3f5f"
            },
            "error_y": {
             "color": "#2a3f5f"
            },
            "marker": {
             "line": {
              "color": "#E5ECF6",
              "width": 0.5
             }
            },
            "type": "bar"
           }
          ],
          "barpolar": [
           {
            "marker": {
             "line": {
              "color": "#E5ECF6",
              "width": 0.5
             }
            },
            "type": "barpolar"
           }
          ],
          "carpet": [
           {
            "aaxis": {
             "endlinecolor": "#2a3f5f",
             "gridcolor": "white",
             "linecolor": "white",
             "minorgridcolor": "white",
             "startlinecolor": "#2a3f5f"
            },
            "baxis": {
             "endlinecolor": "#2a3f5f",
             "gridcolor": "white",
             "linecolor": "white",
             "minorgridcolor": "white",
             "startlinecolor": "#2a3f5f"
            },
            "type": "carpet"
           }
          ],
          "choropleth": [
           {
            "colorbar": {
             "outlinewidth": 0,
             "ticks": ""
            },
            "type": "choropleth"
           }
          ],
          "contour": [
           {
            "colorbar": {
             "outlinewidth": 0,
             "ticks": ""
            },
            "colorscale": [
             [
              0,
              "#0d0887"
             ],
             [
              0.1111111111111111,
              "#46039f"
             ],
             [
              0.2222222222222222,
              "#7201a8"
             ],
             [
              0.3333333333333333,
              "#9c179e"
             ],
             [
              0.4444444444444444,
              "#bd3786"
             ],
             [
              0.5555555555555556,
              "#d8576b"
             ],
             [
              0.6666666666666666,
              "#ed7953"
             ],
             [
              0.7777777777777778,
              "#fb9f3a"
             ],
             [
              0.8888888888888888,
              "#fdca26"
             ],
             [
              1,
              "#f0f921"
             ]
            ],
            "type": "contour"
           }
          ],
          "contourcarpet": [
           {
            "colorbar": {
             "outlinewidth": 0,
             "ticks": ""
            },
            "type": "contourcarpet"
           }
          ],
          "heatmap": [
           {
            "colorbar": {
             "outlinewidth": 0,
             "ticks": ""
            },
            "colorscale": [
             [
              0,
              "#0d0887"
             ],
             [
              0.1111111111111111,
              "#46039f"
             ],
             [
              0.2222222222222222,
              "#7201a8"
             ],
             [
              0.3333333333333333,
              "#9c179e"
             ],
             [
              0.4444444444444444,
              "#bd3786"
             ],
             [
              0.5555555555555556,
              "#d8576b"
             ],
             [
              0.6666666666666666,
              "#ed7953"
             ],
             [
              0.7777777777777778,
              "#fb9f3a"
             ],
             [
              0.8888888888888888,
              "#fdca26"
             ],
             [
              1,
              "#f0f921"
             ]
            ],
            "type": "heatmap"
           }
          ],
          "heatmapgl": [
           {
            "colorbar": {
             "outlinewidth": 0,
             "ticks": ""
            },
            "colorscale": [
             [
              0,
              "#0d0887"
             ],
             [
              0.1111111111111111,
              "#46039f"
             ],
             [
              0.2222222222222222,
              "#7201a8"
             ],
             [
              0.3333333333333333,
              "#9c179e"
             ],
             [
              0.4444444444444444,
              "#bd3786"
             ],
             [
              0.5555555555555556,
              "#d8576b"
             ],
             [
              0.6666666666666666,
              "#ed7953"
             ],
             [
              0.7777777777777778,
              "#fb9f3a"
             ],
             [
              0.8888888888888888,
              "#fdca26"
             ],
             [
              1,
              "#f0f921"
             ]
            ],
            "type": "heatmapgl"
           }
          ],
          "histogram": [
           {
            "marker": {
             "colorbar": {
              "outlinewidth": 0,
              "ticks": ""
             }
            },
            "type": "histogram"
           }
          ],
          "histogram2d": [
           {
            "colorbar": {
             "outlinewidth": 0,
             "ticks": ""
            },
            "colorscale": [
             [
              0,
              "#0d0887"
             ],
             [
              0.1111111111111111,
              "#46039f"
             ],
             [
              0.2222222222222222,
              "#7201a8"
             ],
             [
              0.3333333333333333,
              "#9c179e"
             ],
             [
              0.4444444444444444,
              "#bd3786"
             ],
             [
              0.5555555555555556,
              "#d8576b"
             ],
             [
              0.6666666666666666,
              "#ed7953"
             ],
             [
              0.7777777777777778,
              "#fb9f3a"
             ],
             [
              0.8888888888888888,
              "#fdca26"
             ],
             [
              1,
              "#f0f921"
             ]
            ],
            "type": "histogram2d"
           }
          ],
          "histogram2dcontour": [
           {
            "colorbar": {
             "outlinewidth": 0,
             "ticks": ""
            },
            "colorscale": [
             [
              0,
              "#0d0887"
             ],
             [
              0.1111111111111111,
              "#46039f"
             ],
             [
              0.2222222222222222,
              "#7201a8"
             ],
             [
              0.3333333333333333,
              "#9c179e"
             ],
             [
              0.4444444444444444,
              "#bd3786"
             ],
             [
              0.5555555555555556,
              "#d8576b"
             ],
             [
              0.6666666666666666,
              "#ed7953"
             ],
             [
              0.7777777777777778,
              "#fb9f3a"
             ],
             [
              0.8888888888888888,
              "#fdca26"
             ],
             [
              1,
              "#f0f921"
             ]
            ],
            "type": "histogram2dcontour"
           }
          ],
          "mesh3d": [
           {
            "colorbar": {
             "outlinewidth": 0,
             "ticks": ""
            },
            "type": "mesh3d"
           }
          ],
          "parcoords": [
           {
            "line": {
             "colorbar": {
              "outlinewidth": 0,
              "ticks": ""
             }
            },
            "type": "parcoords"
           }
          ],
          "pie": [
           {
            "automargin": true,
            "type": "pie"
           }
          ],
          "scatter": [
           {
            "marker": {
             "colorbar": {
              "outlinewidth": 0,
              "ticks": ""
             }
            },
            "type": "scatter"
           }
          ],
          "scatter3d": [
           {
            "line": {
             "colorbar": {
              "outlinewidth": 0,
              "ticks": ""
             }
            },
            "marker": {
             "colorbar": {
              "outlinewidth": 0,
              "ticks": ""
             }
            },
            "type": "scatter3d"
           }
          ],
          "scattercarpet": [
           {
            "marker": {
             "colorbar": {
              "outlinewidth": 0,
              "ticks": ""
             }
            },
            "type": "scattercarpet"
           }
          ],
          "scattergeo": [
           {
            "marker": {
             "colorbar": {
              "outlinewidth": 0,
              "ticks": ""
             }
            },
            "type": "scattergeo"
           }
          ],
          "scattergl": [
           {
            "marker": {
             "colorbar": {
              "outlinewidth": 0,
              "ticks": ""
             }
            },
            "type": "scattergl"
           }
          ],
          "scattermapbox": [
           {
            "marker": {
             "colorbar": {
              "outlinewidth": 0,
              "ticks": ""
             }
            },
            "type": "scattermapbox"
           }
          ],
          "scatterpolar": [
           {
            "marker": {
             "colorbar": {
              "outlinewidth": 0,
              "ticks": ""
             }
            },
            "type": "scatterpolar"
           }
          ],
          "scatterpolargl": [
           {
            "marker": {
             "colorbar": {
              "outlinewidth": 0,
              "ticks": ""
             }
            },
            "type": "scatterpolargl"
           }
          ],
          "scatterternary": [
           {
            "marker": {
             "colorbar": {
              "outlinewidth": 0,
              "ticks": ""
             }
            },
            "type": "scatterternary"
           }
          ],
          "surface": [
           {
            "colorbar": {
             "outlinewidth": 0,
             "ticks": ""
            },
            "colorscale": [
             [
              0,
              "#0d0887"
             ],
             [
              0.1111111111111111,
              "#46039f"
             ],
             [
              0.2222222222222222,
              "#7201a8"
             ],
             [
              0.3333333333333333,
              "#9c179e"
             ],
             [
              0.4444444444444444,
              "#bd3786"
             ],
             [
              0.5555555555555556,
              "#d8576b"
             ],
             [
              0.6666666666666666,
              "#ed7953"
             ],
             [
              0.7777777777777778,
              "#fb9f3a"
             ],
             [
              0.8888888888888888,
              "#fdca26"
             ],
             [
              1,
              "#f0f921"
             ]
            ],
            "type": "surface"
           }
          ],
          "table": [
           {
            "cells": {
             "fill": {
              "color": "#EBF0F8"
             },
             "line": {
              "color": "white"
             }
            },
            "header": {
             "fill": {
              "color": "#C8D4E3"
             },
             "line": {
              "color": "white"
             }
            },
            "type": "table"
           }
          ]
         },
         "layout": {
          "annotationdefaults": {
           "arrowcolor": "#2a3f5f",
           "arrowhead": 0,
           "arrowwidth": 1
          },
          "coloraxis": {
           "colorbar": {
            "outlinewidth": 0,
            "ticks": ""
           }
          },
          "colorscale": {
           "diverging": [
            [
             0,
             "#8e0152"
            ],
            [
             0.1,
             "#c51b7d"
            ],
            [
             0.2,
             "#de77ae"
            ],
            [
             0.3,
             "#f1b6da"
            ],
            [
             0.4,
             "#fde0ef"
            ],
            [
             0.5,
             "#f7f7f7"
            ],
            [
             0.6,
             "#e6f5d0"
            ],
            [
             0.7,
             "#b8e186"
            ],
            [
             0.8,
             "#7fbc41"
            ],
            [
             0.9,
             "#4d9221"
            ],
            [
             1,
             "#276419"
            ]
           ],
           "sequential": [
            [
             0,
             "#0d0887"
            ],
            [
             0.1111111111111111,
             "#46039f"
            ],
            [
             0.2222222222222222,
             "#7201a8"
            ],
            [
             0.3333333333333333,
             "#9c179e"
            ],
            [
             0.4444444444444444,
             "#bd3786"
            ],
            [
             0.5555555555555556,
             "#d8576b"
            ],
            [
             0.6666666666666666,
             "#ed7953"
            ],
            [
             0.7777777777777778,
             "#fb9f3a"
            ],
            [
             0.8888888888888888,
             "#fdca26"
            ],
            [
             1,
             "#f0f921"
            ]
           ],
           "sequentialminus": [
            [
             0,
             "#0d0887"
            ],
            [
             0.1111111111111111,
             "#46039f"
            ],
            [
             0.2222222222222222,
             "#7201a8"
            ],
            [
             0.3333333333333333,
             "#9c179e"
            ],
            [
             0.4444444444444444,
             "#bd3786"
            ],
            [
             0.5555555555555556,
             "#d8576b"
            ],
            [
             0.6666666666666666,
             "#ed7953"
            ],
            [
             0.7777777777777778,
             "#fb9f3a"
            ],
            [
             0.8888888888888888,
             "#fdca26"
            ],
            [
             1,
             "#f0f921"
            ]
           ]
          },
          "colorway": [
           "#636efa",
           "#EF553B",
           "#00cc96",
           "#ab63fa",
           "#FFA15A",
           "#19d3f3",
           "#FF6692",
           "#B6E880",
           "#FF97FF",
           "#FECB52"
          ],
          "font": {
           "color": "#2a3f5f"
          },
          "geo": {
           "bgcolor": "white",
           "lakecolor": "white",
           "landcolor": "#E5ECF6",
           "showlakes": true,
           "showland": true,
           "subunitcolor": "white"
          },
          "hoverlabel": {
           "align": "left"
          },
          "hovermode": "closest",
          "mapbox": {
           "style": "light"
          },
          "paper_bgcolor": "white",
          "plot_bgcolor": "#E5ECF6",
          "polar": {
           "angularaxis": {
            "gridcolor": "white",
            "linecolor": "white",
            "ticks": ""
           },
           "bgcolor": "#E5ECF6",
           "radialaxis": {
            "gridcolor": "white",
            "linecolor": "white",
            "ticks": ""
           }
          },
          "scene": {
           "xaxis": {
            "backgroundcolor": "#E5ECF6",
            "gridcolor": "white",
            "gridwidth": 2,
            "linecolor": "white",
            "showbackground": true,
            "ticks": "",
            "zerolinecolor": "white"
           },
           "yaxis": {
            "backgroundcolor": "#E5ECF6",
            "gridcolor": "white",
            "gridwidth": 2,
            "linecolor": "white",
            "showbackground": true,
            "ticks": "",
            "zerolinecolor": "white"
           },
           "zaxis": {
            "backgroundcolor": "#E5ECF6",
            "gridcolor": "white",
            "gridwidth": 2,
            "linecolor": "white",
            "showbackground": true,
            "ticks": "",
            "zerolinecolor": "white"
           }
          },
          "shapedefaults": {
           "line": {
            "color": "#2a3f5f"
           }
          },
          "ternary": {
           "aaxis": {
            "gridcolor": "white",
            "linecolor": "white",
            "ticks": ""
           },
           "baxis": {
            "gridcolor": "white",
            "linecolor": "white",
            "ticks": ""
           },
           "bgcolor": "#E5ECF6",
           "caxis": {
            "gridcolor": "white",
            "linecolor": "white",
            "ticks": ""
           }
          },
          "title": {
           "x": 0.05
          },
          "xaxis": {
           "automargin": true,
           "gridcolor": "white",
           "linecolor": "white",
           "ticks": "",
           "title": {
            "standoff": 15
           },
           "zerolinecolor": "white",
           "zerolinewidth": 2
          },
          "yaxis": {
           "automargin": true,
           "gridcolor": "white",
           "linecolor": "white",
           "ticks": "",
           "title": {
            "standoff": 15
           },
           "zerolinecolor": "white",
           "zerolinewidth": 2
          }
         }
        },
        "title": {
         "text": "Outcomes by random search status"
        },
        "width": 1100,
        "xaxis": {
         "anchor": "y",
         "domain": [
          0,
          0.2888888888888889
         ],
         "title": {
          "text": "random_search"
         }
        },
        "xaxis2": {
         "anchor": "y2",
         "domain": [
          0.35555555555555557,
          0.6444444444444445
         ],
         "title": {
          "text": "random_search"
         }
        },
        "xaxis3": {
         "anchor": "y3",
         "domain": [
          0.7111111111111111,
          1
         ],
         "title": {
          "text": "random_search"
         }
        },
        "yaxis": {
         "anchor": "x",
         "domain": [
          0,
          1
         ]
        },
        "yaxis2": {
         "anchor": "x2",
         "domain": [
          0,
          1
         ]
        },
        "yaxis3": {
         "anchor": "x3",
         "domain": [
          0,
          1
         ]
        }
       }
      },
      "text/html": [
       "<div>\n",
       "        \n",
       "        \n",
       "            <div id=\"a941745e-79bd-455c-8065-392888d61d41\" class=\"plotly-graph-div\" style=\"height:450px; width:1100px;\"></div>\n",
       "            <script type=\"text/javascript\">\n",
       "                require([\"plotly\"], function(Plotly) {\n",
       "                    window.PLOTLYENV=window.PLOTLYENV || {};\n",
       "                    \n",
       "                if (document.getElementById(\"a941745e-79bd-455c-8065-392888d61d41\")) {\n",
       "                    Plotly.newPlot(\n",
       "                        'a941745e-79bd-455c-8065-392888d61d41',\n",
       "                        [{\"name\": \"roc_auc\", \"type\": \"box\", \"x\": [false, false, false, false, false, false, false, false, false, false, false, false, false, false, false, false, false, false, false, false, false, false, false, false, false, false, false, false, false, false, true, true, true, true, true, true, true, true, true, true, true, true, true, true, true, true, true, true, true, true, true, true, true, true, true, true, true, true, true, true], \"xaxis\": \"x\", \"y\": [0.9397888860602974, 0.8768715478409893, 0.9674754337527726, 0.9367153838853564, 0.931906048061446, 0.9538184458244658, 0.8708669394233631, 0.9727982939938264, 0.9309306802105801, 0.9638482870688239, 0.9483528768904339, 0.8839967994966731, 0.9399768354219689, 0.9625153239567286, 0.9244398276830335, 0.9351672681792564, 0.9474846974888126, 0.9621009021606984, 0.9482190960790182, 0.8796815114709852, 0.81564581428758, 0.7736036224076094, 0.9976253940434026, 0.4670054047056539, 0.8748085896914376, 0.9632027809893976, 0.9680127956793217, 0.9564989461631013, 0.9870725822354833, 0.9487738736577316, 0.9363066880023275, 0.8736871663636679, 0.9683087988939357, 0.9341071936983962, 0.9312085935353689, 0.9427277269011733, 0.8735754675292271, 0.9741707664969919, 0.9309466244578957, 0.964143208017187, 0.9474883835183532, 0.8938007344744815, 0.949482764122329, 0.9629646886337657, 0.9113966868319223, 0.9350101948050407, 0.9492445156693482, 0.9608058397816864, 0.9461039608899531, 0.8586288798920377, 0.8114064109819628, 0.7900815855846799, 0.99746473387617, 0.4563901744393022, 0.875136073898352, 0.9630797827851713, 0.9671413535162482, 0.9563261970925003, 0.986867581426152, 0.9419980079536449], \"yaxis\": \"y\"}, {\"name\": \"prec_avg\", \"type\": \"box\", \"x\": [false, false, false, false, false, false, false, false, false, false, false, false, false, false, false, false, false, false, false, false, false, false, false, false, false, false, false, false, false, false, true, true, true, true, true, true, true, true, true, true, true, true, true, true, true, true, true, true, true, true, true, true, true, true, true, true, true, true, true, true], \"xaxis\": \"x2\", \"y\": [0.4570013888087228, 0.5694075038755022, 0.5348960286125625, 0.3813958796490768, 0.6266192242804173, 0.8021840012016666, 0.7461126443267538, 0.7875226733098555, 0.5955913071633464, 0.750774409809271, 0.4802888693771753, 0.17577554755686667, 0.4183146324664354, 0.5281677212401361, 0.292708809145717, 0.5064910726847633, 0.44878043511988314, 0.7493775624880725, 0.5163994202190819, 0.37277505605885697, 0.27582080653876556, 0.5865234190429098, 0.9971095065508092, 0.007623593456368455, 0.7040128155651812, 0.7901914619557098, 0.7290051978969189, 0.5134733026399937, 0.8635889536010978, 0.7134874825437472, 0.44582242871475963, 0.5633649455561881, 0.36842418443579805, 0.36989334369815674, 0.6269010493055573, 0.778148925267466, 0.7496683252137977, 0.7850245448139498, 0.593537591283642, 0.7536448108519228, 0.4809095842011208, 0.19104240002697237, 0.42684851499371973, 0.5238341715796317, 0.27368675088544653, 0.5033950059401411, 0.44626820760923147, 0.746878119886776, 0.4440349051042999, 0.40053734328058943, 0.2561872514025884, 0.6022535849657141, 0.9968333443283374, 0.0068732596683904554, 0.7030861085249661, 0.7898588477321261, 0.7231707005381586, 0.51338764144038, 0.8940988612422257, 0.71815099760646], \"yaxis\": \"y2\"}, {\"name\": \"running_time\", \"type\": \"box\", \"x\": [false, false, false, false, false, false, false, false, false, false, false, false, false, false, false, false, false, false, false, false, false, false, false, false, false, false, false, false, false, false, true, true, true, true, true, true, true, true, true, true, true, true, true, true, true, true, true, true, true, true, true, true, true, true, true, true, true, true, true, true], \"xaxis\": \"x3\", \"y\": [0.63, 6.38, 2.45, 2.05, 1.85, 5.5, 0.4, 9.72, 27.42, 1.72, 26.52, 3.92, 4.62, 1.53, 1.47, 31.63, 3.57, 1.25, 0.73, 1.33, 0.67, 2.02, 1.12, 0.43, 18.13, 1.43, 7.37, 14.43, 29.2, 0.65, 0.6, 1.28, 2.62, 1.95, 1.8, 5.13, 0.4, 10.1, 27.93, 1.53, 11.25, 3.53, 4.58, 1.55, 1.48, 27.07, 3.72, 1.32, 0.72, 1.3, 0.7, 1.87, 1.05, 0.43, 5.73, 1.37, 4.13, 12.97, 24.23, 0.6], \"yaxis\": \"y3\"}],\n",
       "                        {\"annotations\": [{\"font\": {\"size\": 16}, \"showarrow\": false, \"text\": \"Test ROC-AUC\", \"x\": 0.14444444444444446, \"xanchor\": \"center\", \"xref\": \"paper\", \"y\": 1.0, \"yanchor\": \"bottom\", \"yref\": \"paper\"}, {\"font\": {\"size\": 16}, \"showarrow\": false, \"text\": \"Test average precision score\", \"x\": 0.5, \"xanchor\": \"center\", \"xref\": \"paper\", \"y\": 1.0, \"yanchor\": \"bottom\", \"yref\": \"paper\"}, {\"font\": {\"size\": 16}, \"showarrow\": false, \"text\": \"Running time (minutes)\", \"x\": 0.8555555555555556, \"xanchor\": \"center\", \"xref\": \"paper\", \"y\": 1.0, \"yanchor\": \"bottom\", \"yref\": \"paper\"}], \"height\": 450, \"showlegend\": false, \"template\": {\"data\": {\"bar\": [{\"error_x\": {\"color\": \"#2a3f5f\"}, \"error_y\": {\"color\": \"#2a3f5f\"}, \"marker\": {\"line\": {\"color\": \"#E5ECF6\", \"width\": 0.5}}, \"type\": \"bar\"}], \"barpolar\": [{\"marker\": {\"line\": {\"color\": \"#E5ECF6\", \"width\": 0.5}}, \"type\": \"barpolar\"}], \"carpet\": [{\"aaxis\": {\"endlinecolor\": \"#2a3f5f\", \"gridcolor\": \"white\", \"linecolor\": \"white\", \"minorgridcolor\": \"white\", \"startlinecolor\": \"#2a3f5f\"}, \"baxis\": {\"endlinecolor\": \"#2a3f5f\", \"gridcolor\": \"white\", \"linecolor\": \"white\", \"minorgridcolor\": \"white\", \"startlinecolor\": \"#2a3f5f\"}, \"type\": \"carpet\"}], \"choropleth\": [{\"colorbar\": {\"outlinewidth\": 0, \"ticks\": \"\"}, \"type\": \"choropleth\"}], \"contour\": [{\"colorbar\": {\"outlinewidth\": 0, \"ticks\": \"\"}, \"colorscale\": [[0.0, \"#0d0887\"], [0.1111111111111111, \"#46039f\"], [0.2222222222222222, \"#7201a8\"], [0.3333333333333333, \"#9c179e\"], [0.4444444444444444, \"#bd3786\"], [0.5555555555555556, \"#d8576b\"], [0.6666666666666666, \"#ed7953\"], [0.7777777777777778, \"#fb9f3a\"], [0.8888888888888888, \"#fdca26\"], [1.0, \"#f0f921\"]], \"type\": \"contour\"}], \"contourcarpet\": [{\"colorbar\": {\"outlinewidth\": 0, \"ticks\": \"\"}, \"type\": \"contourcarpet\"}], \"heatmap\": [{\"colorbar\": {\"outlinewidth\": 0, \"ticks\": \"\"}, \"colorscale\": [[0.0, \"#0d0887\"], [0.1111111111111111, \"#46039f\"], [0.2222222222222222, \"#7201a8\"], [0.3333333333333333, \"#9c179e\"], [0.4444444444444444, \"#bd3786\"], [0.5555555555555556, \"#d8576b\"], [0.6666666666666666, \"#ed7953\"], [0.7777777777777778, \"#fb9f3a\"], [0.8888888888888888, \"#fdca26\"], [1.0, \"#f0f921\"]], \"type\": \"heatmap\"}], \"heatmapgl\": [{\"colorbar\": {\"outlinewidth\": 0, \"ticks\": \"\"}, \"colorscale\": [[0.0, \"#0d0887\"], [0.1111111111111111, \"#46039f\"], [0.2222222222222222, \"#7201a8\"], [0.3333333333333333, \"#9c179e\"], [0.4444444444444444, \"#bd3786\"], [0.5555555555555556, \"#d8576b\"], [0.6666666666666666, \"#ed7953\"], [0.7777777777777778, \"#fb9f3a\"], [0.8888888888888888, \"#fdca26\"], [1.0, \"#f0f921\"]], \"type\": \"heatmapgl\"}], \"histogram\": [{\"marker\": {\"colorbar\": {\"outlinewidth\": 0, \"ticks\": \"\"}}, \"type\": \"histogram\"}], \"histogram2d\": [{\"colorbar\": {\"outlinewidth\": 0, \"ticks\": \"\"}, \"colorscale\": [[0.0, \"#0d0887\"], [0.1111111111111111, \"#46039f\"], [0.2222222222222222, \"#7201a8\"], [0.3333333333333333, \"#9c179e\"], [0.4444444444444444, \"#bd3786\"], [0.5555555555555556, \"#d8576b\"], [0.6666666666666666, \"#ed7953\"], [0.7777777777777778, \"#fb9f3a\"], [0.8888888888888888, \"#fdca26\"], [1.0, \"#f0f921\"]], \"type\": \"histogram2d\"}], \"histogram2dcontour\": [{\"colorbar\": {\"outlinewidth\": 0, \"ticks\": \"\"}, \"colorscale\": [[0.0, \"#0d0887\"], [0.1111111111111111, \"#46039f\"], [0.2222222222222222, \"#7201a8\"], [0.3333333333333333, \"#9c179e\"], [0.4444444444444444, \"#bd3786\"], [0.5555555555555556, \"#d8576b\"], [0.6666666666666666, \"#ed7953\"], [0.7777777777777778, \"#fb9f3a\"], [0.8888888888888888, \"#fdca26\"], [1.0, \"#f0f921\"]], \"type\": \"histogram2dcontour\"}], \"mesh3d\": [{\"colorbar\": {\"outlinewidth\": 0, \"ticks\": \"\"}, \"type\": \"mesh3d\"}], \"parcoords\": [{\"line\": {\"colorbar\": {\"outlinewidth\": 0, \"ticks\": \"\"}}, \"type\": \"parcoords\"}], \"pie\": [{\"automargin\": true, \"type\": \"pie\"}], \"scatter\": [{\"marker\": {\"colorbar\": {\"outlinewidth\": 0, \"ticks\": \"\"}}, \"type\": \"scatter\"}], \"scatter3d\": [{\"line\": {\"colorbar\": {\"outlinewidth\": 0, \"ticks\": \"\"}}, \"marker\": {\"colorbar\": {\"outlinewidth\": 0, \"ticks\": \"\"}}, \"type\": \"scatter3d\"}], \"scattercarpet\": [{\"marker\": {\"colorbar\": {\"outlinewidth\": 0, \"ticks\": \"\"}}, \"type\": \"scattercarpet\"}], \"scattergeo\": [{\"marker\": {\"colorbar\": {\"outlinewidth\": 0, \"ticks\": \"\"}}, \"type\": \"scattergeo\"}], \"scattergl\": [{\"marker\": {\"colorbar\": {\"outlinewidth\": 0, \"ticks\": \"\"}}, \"type\": \"scattergl\"}], \"scattermapbox\": [{\"marker\": {\"colorbar\": {\"outlinewidth\": 0, \"ticks\": \"\"}}, \"type\": \"scattermapbox\"}], \"scatterpolar\": [{\"marker\": {\"colorbar\": {\"outlinewidth\": 0, \"ticks\": \"\"}}, \"type\": \"scatterpolar\"}], \"scatterpolargl\": [{\"marker\": {\"colorbar\": {\"outlinewidth\": 0, \"ticks\": \"\"}}, \"type\": \"scatterpolargl\"}], \"scatterternary\": [{\"marker\": {\"colorbar\": {\"outlinewidth\": 0, \"ticks\": \"\"}}, \"type\": \"scatterternary\"}], \"surface\": [{\"colorbar\": {\"outlinewidth\": 0, \"ticks\": \"\"}, \"colorscale\": [[0.0, \"#0d0887\"], [0.1111111111111111, \"#46039f\"], [0.2222222222222222, \"#7201a8\"], [0.3333333333333333, \"#9c179e\"], [0.4444444444444444, \"#bd3786\"], [0.5555555555555556, \"#d8576b\"], [0.6666666666666666, \"#ed7953\"], [0.7777777777777778, \"#fb9f3a\"], [0.8888888888888888, \"#fdca26\"], [1.0, \"#f0f921\"]], \"type\": \"surface\"}], \"table\": [{\"cells\": {\"fill\": {\"color\": \"#EBF0F8\"}, \"line\": {\"color\": \"white\"}}, \"header\": {\"fill\": {\"color\": \"#C8D4E3\"}, \"line\": {\"color\": \"white\"}}, \"type\": \"table\"}]}, \"layout\": {\"annotationdefaults\": {\"arrowcolor\": \"#2a3f5f\", \"arrowhead\": 0, \"arrowwidth\": 1}, \"coloraxis\": {\"colorbar\": {\"outlinewidth\": 0, \"ticks\": \"\"}}, \"colorscale\": {\"diverging\": [[0, \"#8e0152\"], [0.1, \"#c51b7d\"], [0.2, \"#de77ae\"], [0.3, \"#f1b6da\"], [0.4, \"#fde0ef\"], [0.5, \"#f7f7f7\"], [0.6, \"#e6f5d0\"], [0.7, \"#b8e186\"], [0.8, \"#7fbc41\"], [0.9, \"#4d9221\"], [1, \"#276419\"]], \"sequential\": [[0.0, \"#0d0887\"], [0.1111111111111111, \"#46039f\"], [0.2222222222222222, \"#7201a8\"], [0.3333333333333333, \"#9c179e\"], [0.4444444444444444, \"#bd3786\"], [0.5555555555555556, \"#d8576b\"], [0.6666666666666666, \"#ed7953\"], [0.7777777777777778, \"#fb9f3a\"], [0.8888888888888888, \"#fdca26\"], [1.0, \"#f0f921\"]], \"sequentialminus\": [[0.0, \"#0d0887\"], [0.1111111111111111, \"#46039f\"], [0.2222222222222222, \"#7201a8\"], [0.3333333333333333, \"#9c179e\"], [0.4444444444444444, \"#bd3786\"], [0.5555555555555556, \"#d8576b\"], [0.6666666666666666, \"#ed7953\"], [0.7777777777777778, \"#fb9f3a\"], [0.8888888888888888, \"#fdca26\"], [1.0, \"#f0f921\"]]}, \"colorway\": [\"#636efa\", \"#EF553B\", \"#00cc96\", \"#ab63fa\", \"#FFA15A\", \"#19d3f3\", \"#FF6692\", \"#B6E880\", \"#FF97FF\", \"#FECB52\"], \"font\": {\"color\": \"#2a3f5f\"}, \"geo\": {\"bgcolor\": \"white\", \"lakecolor\": \"white\", \"landcolor\": \"#E5ECF6\", \"showlakes\": true, \"showland\": true, \"subunitcolor\": \"white\"}, \"hoverlabel\": {\"align\": \"left\"}, \"hovermode\": \"closest\", \"mapbox\": {\"style\": \"light\"}, \"paper_bgcolor\": \"white\", \"plot_bgcolor\": \"#E5ECF6\", \"polar\": {\"angularaxis\": {\"gridcolor\": \"white\", \"linecolor\": \"white\", \"ticks\": \"\"}, \"bgcolor\": \"#E5ECF6\", \"radialaxis\": {\"gridcolor\": \"white\", \"linecolor\": \"white\", \"ticks\": \"\"}}, \"scene\": {\"xaxis\": {\"backgroundcolor\": \"#E5ECF6\", \"gridcolor\": \"white\", \"gridwidth\": 2, \"linecolor\": \"white\", \"showbackground\": true, \"ticks\": \"\", \"zerolinecolor\": \"white\"}, \"yaxis\": {\"backgroundcolor\": \"#E5ECF6\", \"gridcolor\": \"white\", \"gridwidth\": 2, \"linecolor\": \"white\", \"showbackground\": true, \"ticks\": \"\", \"zerolinecolor\": \"white\"}, \"zaxis\": {\"backgroundcolor\": \"#E5ECF6\", \"gridcolor\": \"white\", \"gridwidth\": 2, \"linecolor\": \"white\", \"showbackground\": true, \"ticks\": \"\", \"zerolinecolor\": \"white\"}}, \"shapedefaults\": {\"line\": {\"color\": \"#2a3f5f\"}}, \"ternary\": {\"aaxis\": {\"gridcolor\": \"white\", \"linecolor\": \"white\", \"ticks\": \"\"}, \"baxis\": {\"gridcolor\": \"white\", \"linecolor\": \"white\", \"ticks\": \"\"}, \"bgcolor\": \"#E5ECF6\", \"caxis\": {\"gridcolor\": \"white\", \"linecolor\": \"white\", \"ticks\": \"\"}}, \"title\": {\"x\": 0.05}, \"xaxis\": {\"automargin\": true, \"gridcolor\": \"white\", \"linecolor\": \"white\", \"ticks\": \"\", \"title\": {\"standoff\": 15}, \"zerolinecolor\": \"white\", \"zerolinewidth\": 2}, \"yaxis\": {\"automargin\": true, \"gridcolor\": \"white\", \"linecolor\": \"white\", \"ticks\": \"\", \"title\": {\"standoff\": 15}, \"zerolinecolor\": \"white\", \"zerolinewidth\": 2}}}, \"title\": {\"text\": \"Outcomes by random search status\"}, \"width\": 1100, \"xaxis\": {\"anchor\": \"y\", \"domain\": [0.0, 0.2888888888888889], \"title\": {\"text\": \"random_search\"}}, \"xaxis2\": {\"anchor\": \"y2\", \"domain\": [0.35555555555555557, 0.6444444444444445], \"title\": {\"text\": \"random_search\"}}, \"xaxis3\": {\"anchor\": \"y3\", \"domain\": [0.7111111111111111, 1.0], \"title\": {\"text\": \"random_search\"}}, \"yaxis\": {\"anchor\": \"x\", \"domain\": [0.0, 1.0]}, \"yaxis2\": {\"anchor\": \"x2\", \"domain\": [0.0, 1.0]}, \"yaxis3\": {\"anchor\": \"x3\", \"domain\": [0.0, 1.0]}},\n",
       "                        {\"responsive\": true}\n",
       "                    ).then(function(){\n",
       "                            \n",
       "var gd = document.getElementById('a941745e-79bd-455c-8065-392888d61d41');\n",
       "var x = new MutationObserver(function (mutations, observer) {{\n",
       "        var display = window.getComputedStyle(gd).display;\n",
       "        if (!display || display === 'none') {{\n",
       "            console.log([gd, 'removed!']);\n",
       "            Plotly.purge(gd);\n",
       "            observer.disconnect();\n",
       "        }}\n",
       "}});\n",
       "\n",
       "// Listen for the removal of the full notebook cells\n",
       "var notebookContainer = gd.closest('#notebook-container');\n",
       "if (notebookContainer) {{\n",
       "    x.observe(notebookContainer, {childList: true});\n",
       "}}\n",
       "\n",
       "// Listen for the clearing of the current output cell\n",
       "var outputEl = gd.closest('.output');\n",
       "if (outputEl) {{\n",
       "    x.observe(outputEl, {childList: true});\n",
       "}}\n",
       "\n",
       "                        })\n",
       "                };\n",
       "                });\n",
       "            </script>\n",
       "        </div>"
      ]
     },
     "metadata": {},
     "output_type": "display_data"
    }
   ],
   "source": [
    "# Boxplots for the distribution of outcomes by equality of best hyper-parameter:\n",
    "fig = make_subplots(rows=1, cols=3,\n",
    "                    subplot_titles=(\"Test ROC-AUC\", \"Test average precision score\", \"Running time (minutes)\"))\n",
    "\n",
    "# First plot:\n",
    "fig.add_trace(\n",
    "    go.Box(x=metrics_lr['random_search'], y=metrics_lr['test_roc_auc'], name='roc_auc'),\n",
    "    row=1, col=1, secondary_y=False)\n",
    "\n",
    "# Second plot:\n",
    "fig.add_trace(\n",
    "    go.Box(x=metrics_lr['random_search'], y=metrics_lr['test_prec_avg'], name='prec_avg'),\n",
    "    row=1, col=2, secondary_y=False)\n",
    "\n",
    "# Third plot:\n",
    "fig.add_trace(\n",
    "    go.Box(x=metrics_lr['random_search'], y=metrics_lr['running_time'], name='running_time'),\n",
    "    row=1, col=3, secondary_y=False)\n",
    "\n",
    "# Changing layout:\n",
    "fig.update_layout(\n",
    "    title_text='Outcomes by random search status',\n",
    "    width=1100,\n",
    "    height=450,\n",
    "    showlegend=False\n",
    ")\n",
    "\n",
    "# Changing axes:\n",
    "fig.update_xaxes(title_text=\"random_search\", row=1, col=1)\n",
    "fig.update_xaxes(title_text=\"random_search\", row=1, col=2)\n",
    "fig.update_xaxes(title_text=\"random_search\", row=1, col=3)\n",
    "\n",
    "fig.show()"
   ]
  },
  {
   "cell_type": "markdown",
   "metadata": {},
   "source": [
    "[(Main findings)](#main_findings)<a href='#main_findings'></a>"
   ]
  },
  {
   "cell_type": "markdown",
   "metadata": {},
   "source": [
    "<a id='data_vis_gbm'></a>"
   ]
  },
  {
   "cell_type": "markdown",
   "metadata": {},
   "source": [
    "### GBM"
   ]
  },
  {
   "cell_type": "markdown",
   "metadata": {},
   "source": [
    "#### Boxplot of performance metrics by random search status"
   ]
  },
  {
   "cell_type": "code",
   "execution_count": 35,
   "metadata": {},
   "outputs": [
    {
     "data": {
      "application/vnd.plotly.v1+json": {
       "config": {
        "plotlyServerURL": "https://plot.ly"
       },
       "data": [
        {
         "name": "roc_auc",
         "type": "box",
         "x": [
          false,
          false,
          false,
          false,
          false,
          false,
          false,
          false,
          false,
          false,
          false,
          false,
          false,
          false,
          false,
          false,
          false,
          false,
          false,
          false,
          false,
          false,
          false,
          false,
          false,
          false,
          false,
          false,
          false,
          false,
          true,
          true,
          true,
          true,
          true,
          true,
          true,
          true,
          true,
          true,
          true,
          true,
          true,
          true,
          true,
          true,
          true,
          true,
          true,
          true,
          true,
          true,
          true,
          true,
          true,
          true,
          true,
          true,
          true,
          true
         ],
         "xaxis": "x",
         "y": [
          0.831415699894534,
          0.8804525295568499,
          0.9534237948013283,
          0.941362342222644,
          0.9232998174527528,
          0.9443277692781478,
          0.8754520476292111,
          0.9693645670749895,
          0.8957623331168783,
          0.8186195368225708,
          0.9395852314099657,
          0.8040912416995495,
          0.9423722908180823,
          0.8981697190331825,
          0.9088640338093852,
          0.9214167559105565,
          0.9386172165694313,
          0.9611481286296446,
          0.8875860520802155,
          0.9333873144399462,
          0.8114114898495204,
          0.9949431444395147,
          0.9975080938644856,
          0.2699278293795916,
          0.8756421522051098,
          0.9681300121768222,
          0.9681649793765098,
          0.9471534241478425,
          0.9844976277514288,
          0.9201327546220565,
          0.8635078372186057,
          0.8819564260818212,
          0.9385896832364254,
          0.9372131536490462,
          0.9219811470093082,
          0.9402739131292799,
          0.8825457759286705,
          0.9633345180598427,
          0.9668610269543758,
          0.947081444276081,
          0.9191184997432202,
          0.9121157108904228,
          0.960569994416935,
          0.9236406265589145,
          0.8441133603238866,
          0.8156566975752035,
          0.9945690659416315,
          0.9972792748384269,
          0.5188193792679374,
          0.8809104930788771,
          0.9703305269243069,
          0.9666797462513104,
          0.9037092775560354,
          0.899551181517042,
          0.6622473961717054,
          0.9436045744846959,
          0.9445980117121333,
          0.918988207525507,
          0.949608848356046,
          0.9847303881544424
         ],
         "yaxis": "y"
        },
        {
         "name": "prec_avg",
         "type": "box",
         "x": [
          false,
          false,
          false,
          false,
          false,
          false,
          false,
          false,
          false,
          false,
          false,
          false,
          false,
          false,
          false,
          false,
          false,
          false,
          false,
          false,
          false,
          false,
          false,
          false,
          false,
          false,
          false,
          false,
          false,
          false,
          true,
          true,
          true,
          true,
          true,
          true,
          true,
          true,
          true,
          true,
          true,
          true,
          true,
          true,
          true,
          true,
          true,
          true,
          true,
          true,
          true,
          true,
          true,
          true,
          true,
          true,
          true,
          true,
          true,
          true
         ],
         "xaxis": "x2",
         "y": [
          0.4590434975492009,
          0.6100746264688464,
          0.46355415482407575,
          0.6257916006539939,
          0.5853409565463961,
          0.6628661704948166,
          0.7529871362973054,
          0.6961979384342636,
          0.449309674083173,
          0.10713730488817459,
          0.45388613525201404,
          0.061491898845397235,
          0.2488031726467972,
          0.4734141140613046,
          0.2597356505957852,
          0.44649276232768065,
          0.3769219385615258,
          0.7395650201637097,
          0.11369571193546743,
          0.20768864557357927,
          0.22949715532464476,
          0.9790858942573106,
          0.9968545655416332,
          0.004967667952193777,
          0.6977496997348087,
          0.8086566005796375,
          0.6384349507670833,
          0.4862737800167414,
          0.8494636997034725,
          0.626164201416829,
          0.45404077939012044,
          0.6023131797685477,
          0.3988184209843739,
          0.6130353761026788,
          0.5894805276141805,
          0.7094344170524265,
          0.7617614436673318,
          0.5204096436761293,
          0.6360053022248083,
          0.36737393195580026,
          0.4322937919022875,
          0.21169720794611135,
          0.7494136618435823,
          0.3191398970067223,
          0.13800027690628755,
          0.24135502761880614,
          0.9785628422581584,
          0.9959338265424377,
          0.005877101621782473,
          0.7083885748796819,
          0.795771991934777,
          0.674048090886206,
          0.5728734935274586,
          0.4525074052485655,
          0.03489326277228432,
          0.4107319166406302,
          0.382476107100966,
          0.3647858584470198,
          0.4331771095653789,
          0.7925103556764515
         ],
         "yaxis": "y2"
        },
        {
         "name": "running_time",
         "type": "box",
         "x": [
          false,
          false,
          false,
          false,
          false,
          false,
          false,
          false,
          false,
          false,
          false,
          false,
          false,
          false,
          false,
          false,
          false,
          false,
          false,
          false,
          false,
          false,
          false,
          false,
          false,
          false,
          false,
          false,
          false,
          false,
          true,
          true,
          true,
          true,
          true,
          true,
          true,
          true,
          true,
          true,
          true,
          true,
          true,
          true,
          true,
          true,
          true,
          true,
          true,
          true,
          true,
          true,
          true,
          true,
          true,
          true,
          true,
          true,
          true,
          true
         ],
         "xaxis": "x3",
         "y": [
          34.45,
          82.22,
          137.05,
          143.58,
          126.42,
          380.58,
          25.3,
          338.87,
          688.13,
          74.93,
          462.43,
          147.55,
          117.05,
          78.33,
          42.55,
          429.08,
          133.07,
          67.58,
          41.77,
          66.55,
          33.07,
          151.9,
          69.65,
          7.95,
          352.68,
          99.45,
          253.6,
          397.52,
          623.67,
          38.88,
          29.55,
          44.58,
          114.62,
          87.5,
          91.57,
          258.18,
          14.37,
          255.73,
          102.63,
          129.93,
          75.95,
          29.27,
          42.23,
          29.8,
          45.97,
          25.93,
          83.65,
          66.18,
          2.6,
          215.62,
          113.75,
          177.48,
          28.1,
          623.4,
          117.65,
          211.4,
          100.35,
          321.47,
          298.18,
          477.25
         ],
         "yaxis": "y3"
        }
       ],
       "layout": {
        "annotations": [
         {
          "font": {
           "size": 16
          },
          "showarrow": false,
          "text": "Test ROC-AUC",
          "x": 0.14444444444444446,
          "xanchor": "center",
          "xref": "paper",
          "y": 1,
          "yanchor": "bottom",
          "yref": "paper"
         },
         {
          "font": {
           "size": 16
          },
          "showarrow": false,
          "text": "Test average precision score",
          "x": 0.5,
          "xanchor": "center",
          "xref": "paper",
          "y": 1,
          "yanchor": "bottom",
          "yref": "paper"
         },
         {
          "font": {
           "size": 16
          },
          "showarrow": false,
          "text": "Running time (minutes)",
          "x": 0.8555555555555556,
          "xanchor": "center",
          "xref": "paper",
          "y": 1,
          "yanchor": "bottom",
          "yref": "paper"
         }
        ],
        "height": 450,
        "showlegend": false,
        "template": {
         "data": {
          "bar": [
           {
            "error_x": {
             "color": "#2a3f5f"
            },
            "error_y": {
             "color": "#2a3f5f"
            },
            "marker": {
             "line": {
              "color": "#E5ECF6",
              "width": 0.5
             }
            },
            "type": "bar"
           }
          ],
          "barpolar": [
           {
            "marker": {
             "line": {
              "color": "#E5ECF6",
              "width": 0.5
             }
            },
            "type": "barpolar"
           }
          ],
          "carpet": [
           {
            "aaxis": {
             "endlinecolor": "#2a3f5f",
             "gridcolor": "white",
             "linecolor": "white",
             "minorgridcolor": "white",
             "startlinecolor": "#2a3f5f"
            },
            "baxis": {
             "endlinecolor": "#2a3f5f",
             "gridcolor": "white",
             "linecolor": "white",
             "minorgridcolor": "white",
             "startlinecolor": "#2a3f5f"
            },
            "type": "carpet"
           }
          ],
          "choropleth": [
           {
            "colorbar": {
             "outlinewidth": 0,
             "ticks": ""
            },
            "type": "choropleth"
           }
          ],
          "contour": [
           {
            "colorbar": {
             "outlinewidth": 0,
             "ticks": ""
            },
            "colorscale": [
             [
              0,
              "#0d0887"
             ],
             [
              0.1111111111111111,
              "#46039f"
             ],
             [
              0.2222222222222222,
              "#7201a8"
             ],
             [
              0.3333333333333333,
              "#9c179e"
             ],
             [
              0.4444444444444444,
              "#bd3786"
             ],
             [
              0.5555555555555556,
              "#d8576b"
             ],
             [
              0.6666666666666666,
              "#ed7953"
             ],
             [
              0.7777777777777778,
              "#fb9f3a"
             ],
             [
              0.8888888888888888,
              "#fdca26"
             ],
             [
              1,
              "#f0f921"
             ]
            ],
            "type": "contour"
           }
          ],
          "contourcarpet": [
           {
            "colorbar": {
             "outlinewidth": 0,
             "ticks": ""
            },
            "type": "contourcarpet"
           }
          ],
          "heatmap": [
           {
            "colorbar": {
             "outlinewidth": 0,
             "ticks": ""
            },
            "colorscale": [
             [
              0,
              "#0d0887"
             ],
             [
              0.1111111111111111,
              "#46039f"
             ],
             [
              0.2222222222222222,
              "#7201a8"
             ],
             [
              0.3333333333333333,
              "#9c179e"
             ],
             [
              0.4444444444444444,
              "#bd3786"
             ],
             [
              0.5555555555555556,
              "#d8576b"
             ],
             [
              0.6666666666666666,
              "#ed7953"
             ],
             [
              0.7777777777777778,
              "#fb9f3a"
             ],
             [
              0.8888888888888888,
              "#fdca26"
             ],
             [
              1,
              "#f0f921"
             ]
            ],
            "type": "heatmap"
           }
          ],
          "heatmapgl": [
           {
            "colorbar": {
             "outlinewidth": 0,
             "ticks": ""
            },
            "colorscale": [
             [
              0,
              "#0d0887"
             ],
             [
              0.1111111111111111,
              "#46039f"
             ],
             [
              0.2222222222222222,
              "#7201a8"
             ],
             [
              0.3333333333333333,
              "#9c179e"
             ],
             [
              0.4444444444444444,
              "#bd3786"
             ],
             [
              0.5555555555555556,
              "#d8576b"
             ],
             [
              0.6666666666666666,
              "#ed7953"
             ],
             [
              0.7777777777777778,
              "#fb9f3a"
             ],
             [
              0.8888888888888888,
              "#fdca26"
             ],
             [
              1,
              "#f0f921"
             ]
            ],
            "type": "heatmapgl"
           }
          ],
          "histogram": [
           {
            "marker": {
             "colorbar": {
              "outlinewidth": 0,
              "ticks": ""
             }
            },
            "type": "histogram"
           }
          ],
          "histogram2d": [
           {
            "colorbar": {
             "outlinewidth": 0,
             "ticks": ""
            },
            "colorscale": [
             [
              0,
              "#0d0887"
             ],
             [
              0.1111111111111111,
              "#46039f"
             ],
             [
              0.2222222222222222,
              "#7201a8"
             ],
             [
              0.3333333333333333,
              "#9c179e"
             ],
             [
              0.4444444444444444,
              "#bd3786"
             ],
             [
              0.5555555555555556,
              "#d8576b"
             ],
             [
              0.6666666666666666,
              "#ed7953"
             ],
             [
              0.7777777777777778,
              "#fb9f3a"
             ],
             [
              0.8888888888888888,
              "#fdca26"
             ],
             [
              1,
              "#f0f921"
             ]
            ],
            "type": "histogram2d"
           }
          ],
          "histogram2dcontour": [
           {
            "colorbar": {
             "outlinewidth": 0,
             "ticks": ""
            },
            "colorscale": [
             [
              0,
              "#0d0887"
             ],
             [
              0.1111111111111111,
              "#46039f"
             ],
             [
              0.2222222222222222,
              "#7201a8"
             ],
             [
              0.3333333333333333,
              "#9c179e"
             ],
             [
              0.4444444444444444,
              "#bd3786"
             ],
             [
              0.5555555555555556,
              "#d8576b"
             ],
             [
              0.6666666666666666,
              "#ed7953"
             ],
             [
              0.7777777777777778,
              "#fb9f3a"
             ],
             [
              0.8888888888888888,
              "#fdca26"
             ],
             [
              1,
              "#f0f921"
             ]
            ],
            "type": "histogram2dcontour"
           }
          ],
          "mesh3d": [
           {
            "colorbar": {
             "outlinewidth": 0,
             "ticks": ""
            },
            "type": "mesh3d"
           }
          ],
          "parcoords": [
           {
            "line": {
             "colorbar": {
              "outlinewidth": 0,
              "ticks": ""
             }
            },
            "type": "parcoords"
           }
          ],
          "pie": [
           {
            "automargin": true,
            "type": "pie"
           }
          ],
          "scatter": [
           {
            "marker": {
             "colorbar": {
              "outlinewidth": 0,
              "ticks": ""
             }
            },
            "type": "scatter"
           }
          ],
          "scatter3d": [
           {
            "line": {
             "colorbar": {
              "outlinewidth": 0,
              "ticks": ""
             }
            },
            "marker": {
             "colorbar": {
              "outlinewidth": 0,
              "ticks": ""
             }
            },
            "type": "scatter3d"
           }
          ],
          "scattercarpet": [
           {
            "marker": {
             "colorbar": {
              "outlinewidth": 0,
              "ticks": ""
             }
            },
            "type": "scattercarpet"
           }
          ],
          "scattergeo": [
           {
            "marker": {
             "colorbar": {
              "outlinewidth": 0,
              "ticks": ""
             }
            },
            "type": "scattergeo"
           }
          ],
          "scattergl": [
           {
            "marker": {
             "colorbar": {
              "outlinewidth": 0,
              "ticks": ""
             }
            },
            "type": "scattergl"
           }
          ],
          "scattermapbox": [
           {
            "marker": {
             "colorbar": {
              "outlinewidth": 0,
              "ticks": ""
             }
            },
            "type": "scattermapbox"
           }
          ],
          "scatterpolar": [
           {
            "marker": {
             "colorbar": {
              "outlinewidth": 0,
              "ticks": ""
             }
            },
            "type": "scatterpolar"
           }
          ],
          "scatterpolargl": [
           {
            "marker": {
             "colorbar": {
              "outlinewidth": 0,
              "ticks": ""
             }
            },
            "type": "scatterpolargl"
           }
          ],
          "scatterternary": [
           {
            "marker": {
             "colorbar": {
              "outlinewidth": 0,
              "ticks": ""
             }
            },
            "type": "scatterternary"
           }
          ],
          "surface": [
           {
            "colorbar": {
             "outlinewidth": 0,
             "ticks": ""
            },
            "colorscale": [
             [
              0,
              "#0d0887"
             ],
             [
              0.1111111111111111,
              "#46039f"
             ],
             [
              0.2222222222222222,
              "#7201a8"
             ],
             [
              0.3333333333333333,
              "#9c179e"
             ],
             [
              0.4444444444444444,
              "#bd3786"
             ],
             [
              0.5555555555555556,
              "#d8576b"
             ],
             [
              0.6666666666666666,
              "#ed7953"
             ],
             [
              0.7777777777777778,
              "#fb9f3a"
             ],
             [
              0.8888888888888888,
              "#fdca26"
             ],
             [
              1,
              "#f0f921"
             ]
            ],
            "type": "surface"
           }
          ],
          "table": [
           {
            "cells": {
             "fill": {
              "color": "#EBF0F8"
             },
             "line": {
              "color": "white"
             }
            },
            "header": {
             "fill": {
              "color": "#C8D4E3"
             },
             "line": {
              "color": "white"
             }
            },
            "type": "table"
           }
          ]
         },
         "layout": {
          "annotationdefaults": {
           "arrowcolor": "#2a3f5f",
           "arrowhead": 0,
           "arrowwidth": 1
          },
          "coloraxis": {
           "colorbar": {
            "outlinewidth": 0,
            "ticks": ""
           }
          },
          "colorscale": {
           "diverging": [
            [
             0,
             "#8e0152"
            ],
            [
             0.1,
             "#c51b7d"
            ],
            [
             0.2,
             "#de77ae"
            ],
            [
             0.3,
             "#f1b6da"
            ],
            [
             0.4,
             "#fde0ef"
            ],
            [
             0.5,
             "#f7f7f7"
            ],
            [
             0.6,
             "#e6f5d0"
            ],
            [
             0.7,
             "#b8e186"
            ],
            [
             0.8,
             "#7fbc41"
            ],
            [
             0.9,
             "#4d9221"
            ],
            [
             1,
             "#276419"
            ]
           ],
           "sequential": [
            [
             0,
             "#0d0887"
            ],
            [
             0.1111111111111111,
             "#46039f"
            ],
            [
             0.2222222222222222,
             "#7201a8"
            ],
            [
             0.3333333333333333,
             "#9c179e"
            ],
            [
             0.4444444444444444,
             "#bd3786"
            ],
            [
             0.5555555555555556,
             "#d8576b"
            ],
            [
             0.6666666666666666,
             "#ed7953"
            ],
            [
             0.7777777777777778,
             "#fb9f3a"
            ],
            [
             0.8888888888888888,
             "#fdca26"
            ],
            [
             1,
             "#f0f921"
            ]
           ],
           "sequentialminus": [
            [
             0,
             "#0d0887"
            ],
            [
             0.1111111111111111,
             "#46039f"
            ],
            [
             0.2222222222222222,
             "#7201a8"
            ],
            [
             0.3333333333333333,
             "#9c179e"
            ],
            [
             0.4444444444444444,
             "#bd3786"
            ],
            [
             0.5555555555555556,
             "#d8576b"
            ],
            [
             0.6666666666666666,
             "#ed7953"
            ],
            [
             0.7777777777777778,
             "#fb9f3a"
            ],
            [
             0.8888888888888888,
             "#fdca26"
            ],
            [
             1,
             "#f0f921"
            ]
           ]
          },
          "colorway": [
           "#636efa",
           "#EF553B",
           "#00cc96",
           "#ab63fa",
           "#FFA15A",
           "#19d3f3",
           "#FF6692",
           "#B6E880",
           "#FF97FF",
           "#FECB52"
          ],
          "font": {
           "color": "#2a3f5f"
          },
          "geo": {
           "bgcolor": "white",
           "lakecolor": "white",
           "landcolor": "#E5ECF6",
           "showlakes": true,
           "showland": true,
           "subunitcolor": "white"
          },
          "hoverlabel": {
           "align": "left"
          },
          "hovermode": "closest",
          "mapbox": {
           "style": "light"
          },
          "paper_bgcolor": "white",
          "plot_bgcolor": "#E5ECF6",
          "polar": {
           "angularaxis": {
            "gridcolor": "white",
            "linecolor": "white",
            "ticks": ""
           },
           "bgcolor": "#E5ECF6",
           "radialaxis": {
            "gridcolor": "white",
            "linecolor": "white",
            "ticks": ""
           }
          },
          "scene": {
           "xaxis": {
            "backgroundcolor": "#E5ECF6",
            "gridcolor": "white",
            "gridwidth": 2,
            "linecolor": "white",
            "showbackground": true,
            "ticks": "",
            "zerolinecolor": "white"
           },
           "yaxis": {
            "backgroundcolor": "#E5ECF6",
            "gridcolor": "white",
            "gridwidth": 2,
            "linecolor": "white",
            "showbackground": true,
            "ticks": "",
            "zerolinecolor": "white"
           },
           "zaxis": {
            "backgroundcolor": "#E5ECF6",
            "gridcolor": "white",
            "gridwidth": 2,
            "linecolor": "white",
            "showbackground": true,
            "ticks": "",
            "zerolinecolor": "white"
           }
          },
          "shapedefaults": {
           "line": {
            "color": "#2a3f5f"
           }
          },
          "ternary": {
           "aaxis": {
            "gridcolor": "white",
            "linecolor": "white",
            "ticks": ""
           },
           "baxis": {
            "gridcolor": "white",
            "linecolor": "white",
            "ticks": ""
           },
           "bgcolor": "#E5ECF6",
           "caxis": {
            "gridcolor": "white",
            "linecolor": "white",
            "ticks": ""
           }
          },
          "title": {
           "x": 0.05
          },
          "xaxis": {
           "automargin": true,
           "gridcolor": "white",
           "linecolor": "white",
           "ticks": "",
           "title": {
            "standoff": 15
           },
           "zerolinecolor": "white",
           "zerolinewidth": 2
          },
          "yaxis": {
           "automargin": true,
           "gridcolor": "white",
           "linecolor": "white",
           "ticks": "",
           "title": {
            "standoff": 15
           },
           "zerolinecolor": "white",
           "zerolinewidth": 2
          }
         }
        },
        "title": {
         "text": "Outcomes by random search status"
        },
        "width": 1100,
        "xaxis": {
         "anchor": "y",
         "domain": [
          0,
          0.2888888888888889
         ],
         "title": {
          "text": "random_search"
         }
        },
        "xaxis2": {
         "anchor": "y2",
         "domain": [
          0.35555555555555557,
          0.6444444444444445
         ],
         "title": {
          "text": "random_search"
         }
        },
        "xaxis3": {
         "anchor": "y3",
         "domain": [
          0.7111111111111111,
          1
         ],
         "title": {
          "text": "random_search"
         }
        },
        "yaxis": {
         "anchor": "x",
         "domain": [
          0,
          1
         ]
        },
        "yaxis2": {
         "anchor": "x2",
         "domain": [
          0,
          1
         ]
        },
        "yaxis3": {
         "anchor": "x3",
         "domain": [
          0,
          1
         ]
        }
       }
      },
      "text/html": [
       "<div>\n",
       "        \n",
       "        \n",
       "            <div id=\"228b9aab-1010-46ec-9258-edac1ddc0ec0\" class=\"plotly-graph-div\" style=\"height:450px; width:1100px;\"></div>\n",
       "            <script type=\"text/javascript\">\n",
       "                require([\"plotly\"], function(Plotly) {\n",
       "                    window.PLOTLYENV=window.PLOTLYENV || {};\n",
       "                    \n",
       "                if (document.getElementById(\"228b9aab-1010-46ec-9258-edac1ddc0ec0\")) {\n",
       "                    Plotly.newPlot(\n",
       "                        '228b9aab-1010-46ec-9258-edac1ddc0ec0',\n",
       "                        [{\"name\": \"roc_auc\", \"type\": \"box\", \"x\": [false, false, false, false, false, false, false, false, false, false, false, false, false, false, false, false, false, false, false, false, false, false, false, false, false, false, false, false, false, false, true, true, true, true, true, true, true, true, true, true, true, true, true, true, true, true, true, true, true, true, true, true, true, true, true, true, true, true, true, true], \"xaxis\": \"x\", \"y\": [0.831415699894534, 0.8804525295568499, 0.9534237948013283, 0.941362342222644, 0.9232998174527528, 0.9443277692781478, 0.8754520476292111, 0.9693645670749895, 0.8957623331168783, 0.8186195368225708, 0.9395852314099657, 0.8040912416995495, 0.9423722908180823, 0.8981697190331825, 0.9088640338093852, 0.9214167559105565, 0.9386172165694313, 0.9611481286296446, 0.8875860520802155, 0.9333873144399462, 0.8114114898495204, 0.9949431444395147, 0.9975080938644856, 0.2699278293795916, 0.8756421522051098, 0.9681300121768222, 0.9681649793765098, 0.9471534241478425, 0.9844976277514288, 0.9201327546220565, 0.8635078372186057, 0.8819564260818212, 0.9385896832364254, 0.9372131536490462, 0.9219811470093082, 0.9402739131292799, 0.8825457759286705, 0.9633345180598427, 0.9668610269543758, 0.947081444276081, 0.9191184997432202, 0.9121157108904228, 0.960569994416935, 0.9236406265589145, 0.8441133603238866, 0.8156566975752035, 0.9945690659416315, 0.9972792748384269, 0.5188193792679374, 0.8809104930788771, 0.9703305269243069, 0.9666797462513104, 0.9037092775560354, 0.899551181517042, 0.6622473961717054, 0.9436045744846959, 0.9445980117121333, 0.918988207525507, 0.949608848356046, 0.9847303881544424], \"yaxis\": \"y\"}, {\"name\": \"prec_avg\", \"type\": \"box\", \"x\": [false, false, false, false, false, false, false, false, false, false, false, false, false, false, false, false, false, false, false, false, false, false, false, false, false, false, false, false, false, false, true, true, true, true, true, true, true, true, true, true, true, true, true, true, true, true, true, true, true, true, true, true, true, true, true, true, true, true, true, true], \"xaxis\": \"x2\", \"y\": [0.4590434975492009, 0.6100746264688464, 0.46355415482407575, 0.6257916006539939, 0.5853409565463961, 0.6628661704948166, 0.7529871362973054, 0.6961979384342636, 0.449309674083173, 0.10713730488817459, 0.45388613525201404, 0.061491898845397235, 0.2488031726467972, 0.4734141140613046, 0.2597356505957852, 0.44649276232768065, 0.3769219385615258, 0.7395650201637097, 0.11369571193546743, 0.20768864557357927, 0.22949715532464476, 0.9790858942573106, 0.9968545655416332, 0.004967667952193777, 0.6977496997348087, 0.8086566005796375, 0.6384349507670833, 0.4862737800167414, 0.8494636997034725, 0.626164201416829, 0.45404077939012044, 0.6023131797685477, 0.3988184209843739, 0.6130353761026788, 0.5894805276141805, 0.7094344170524265, 0.7617614436673318, 0.5204096436761293, 0.6360053022248083, 0.36737393195580026, 0.4322937919022875, 0.21169720794611135, 0.7494136618435823, 0.3191398970067223, 0.13800027690628755, 0.24135502761880614, 0.9785628422581584, 0.9959338265424377, 0.005877101621782473, 0.7083885748796819, 0.795771991934777, 0.674048090886206, 0.5728734935274586, 0.4525074052485655, 0.03489326277228432, 0.4107319166406302, 0.382476107100966, 0.3647858584470198, 0.4331771095653789, 0.7925103556764515], \"yaxis\": \"y2\"}, {\"name\": \"running_time\", \"type\": \"box\", \"x\": [false, false, false, false, false, false, false, false, false, false, false, false, false, false, false, false, false, false, false, false, false, false, false, false, false, false, false, false, false, false, true, true, true, true, true, true, true, true, true, true, true, true, true, true, true, true, true, true, true, true, true, true, true, true, true, true, true, true, true, true], \"xaxis\": \"x3\", \"y\": [34.45, 82.22, 137.05, 143.58, 126.42, 380.58, 25.3, 338.87, 688.13, 74.93, 462.43, 147.55, 117.05, 78.33, 42.55, 429.08, 133.07, 67.58, 41.77, 66.55, 33.07, 151.9, 69.65, 7.95, 352.68, 99.45, 253.6, 397.52, 623.67, 38.88, 29.55, 44.58, 114.62, 87.5, 91.57, 258.18, 14.37, 255.73, 102.63, 129.93, 75.95, 29.27, 42.23, 29.8, 45.97, 25.93, 83.65, 66.18, 2.6, 215.62, 113.75, 177.48, 28.1, 623.4, 117.65, 211.4, 100.35, 321.47, 298.18, 477.25], \"yaxis\": \"y3\"}],\n",
       "                        {\"annotations\": [{\"font\": {\"size\": 16}, \"showarrow\": false, \"text\": \"Test ROC-AUC\", \"x\": 0.14444444444444446, \"xanchor\": \"center\", \"xref\": \"paper\", \"y\": 1.0, \"yanchor\": \"bottom\", \"yref\": \"paper\"}, {\"font\": {\"size\": 16}, \"showarrow\": false, \"text\": \"Test average precision score\", \"x\": 0.5, \"xanchor\": \"center\", \"xref\": \"paper\", \"y\": 1.0, \"yanchor\": \"bottom\", \"yref\": \"paper\"}, {\"font\": {\"size\": 16}, \"showarrow\": false, \"text\": \"Running time (minutes)\", \"x\": 0.8555555555555556, \"xanchor\": \"center\", \"xref\": \"paper\", \"y\": 1.0, \"yanchor\": \"bottom\", \"yref\": \"paper\"}], \"height\": 450, \"showlegend\": false, \"template\": {\"data\": {\"bar\": [{\"error_x\": {\"color\": \"#2a3f5f\"}, \"error_y\": {\"color\": \"#2a3f5f\"}, \"marker\": {\"line\": {\"color\": \"#E5ECF6\", \"width\": 0.5}}, \"type\": \"bar\"}], \"barpolar\": [{\"marker\": {\"line\": {\"color\": \"#E5ECF6\", \"width\": 0.5}}, \"type\": \"barpolar\"}], \"carpet\": [{\"aaxis\": {\"endlinecolor\": \"#2a3f5f\", \"gridcolor\": \"white\", \"linecolor\": \"white\", \"minorgridcolor\": \"white\", \"startlinecolor\": \"#2a3f5f\"}, \"baxis\": {\"endlinecolor\": \"#2a3f5f\", \"gridcolor\": \"white\", \"linecolor\": \"white\", \"minorgridcolor\": \"white\", \"startlinecolor\": \"#2a3f5f\"}, \"type\": \"carpet\"}], \"choropleth\": [{\"colorbar\": {\"outlinewidth\": 0, \"ticks\": \"\"}, \"type\": \"choropleth\"}], \"contour\": [{\"colorbar\": {\"outlinewidth\": 0, \"ticks\": \"\"}, \"colorscale\": [[0.0, \"#0d0887\"], [0.1111111111111111, \"#46039f\"], [0.2222222222222222, \"#7201a8\"], [0.3333333333333333, \"#9c179e\"], [0.4444444444444444, \"#bd3786\"], [0.5555555555555556, \"#d8576b\"], [0.6666666666666666, \"#ed7953\"], [0.7777777777777778, \"#fb9f3a\"], [0.8888888888888888, \"#fdca26\"], [1.0, \"#f0f921\"]], \"type\": \"contour\"}], \"contourcarpet\": [{\"colorbar\": {\"outlinewidth\": 0, \"ticks\": \"\"}, \"type\": \"contourcarpet\"}], \"heatmap\": [{\"colorbar\": {\"outlinewidth\": 0, \"ticks\": \"\"}, \"colorscale\": [[0.0, \"#0d0887\"], [0.1111111111111111, \"#46039f\"], [0.2222222222222222, \"#7201a8\"], [0.3333333333333333, \"#9c179e\"], [0.4444444444444444, \"#bd3786\"], [0.5555555555555556, \"#d8576b\"], [0.6666666666666666, \"#ed7953\"], [0.7777777777777778, \"#fb9f3a\"], [0.8888888888888888, \"#fdca26\"], [1.0, \"#f0f921\"]], \"type\": \"heatmap\"}], \"heatmapgl\": [{\"colorbar\": {\"outlinewidth\": 0, \"ticks\": \"\"}, \"colorscale\": [[0.0, \"#0d0887\"], [0.1111111111111111, \"#46039f\"], [0.2222222222222222, \"#7201a8\"], [0.3333333333333333, \"#9c179e\"], [0.4444444444444444, \"#bd3786\"], [0.5555555555555556, \"#d8576b\"], [0.6666666666666666, \"#ed7953\"], [0.7777777777777778, \"#fb9f3a\"], [0.8888888888888888, \"#fdca26\"], [1.0, \"#f0f921\"]], \"type\": \"heatmapgl\"}], \"histogram\": [{\"marker\": {\"colorbar\": {\"outlinewidth\": 0, \"ticks\": \"\"}}, \"type\": \"histogram\"}], \"histogram2d\": [{\"colorbar\": {\"outlinewidth\": 0, \"ticks\": \"\"}, \"colorscale\": [[0.0, \"#0d0887\"], [0.1111111111111111, \"#46039f\"], [0.2222222222222222, \"#7201a8\"], [0.3333333333333333, \"#9c179e\"], [0.4444444444444444, \"#bd3786\"], [0.5555555555555556, \"#d8576b\"], [0.6666666666666666, \"#ed7953\"], [0.7777777777777778, \"#fb9f3a\"], [0.8888888888888888, \"#fdca26\"], [1.0, \"#f0f921\"]], \"type\": \"histogram2d\"}], \"histogram2dcontour\": [{\"colorbar\": {\"outlinewidth\": 0, \"ticks\": \"\"}, \"colorscale\": [[0.0, \"#0d0887\"], [0.1111111111111111, \"#46039f\"], [0.2222222222222222, \"#7201a8\"], [0.3333333333333333, \"#9c179e\"], [0.4444444444444444, \"#bd3786\"], [0.5555555555555556, \"#d8576b\"], [0.6666666666666666, \"#ed7953\"], [0.7777777777777778, \"#fb9f3a\"], [0.8888888888888888, \"#fdca26\"], [1.0, \"#f0f921\"]], \"type\": \"histogram2dcontour\"}], \"mesh3d\": [{\"colorbar\": {\"outlinewidth\": 0, \"ticks\": \"\"}, \"type\": \"mesh3d\"}], \"parcoords\": [{\"line\": {\"colorbar\": {\"outlinewidth\": 0, \"ticks\": \"\"}}, \"type\": \"parcoords\"}], \"pie\": [{\"automargin\": true, \"type\": \"pie\"}], \"scatter\": [{\"marker\": {\"colorbar\": {\"outlinewidth\": 0, \"ticks\": \"\"}}, \"type\": \"scatter\"}], \"scatter3d\": [{\"line\": {\"colorbar\": {\"outlinewidth\": 0, \"ticks\": \"\"}}, \"marker\": {\"colorbar\": {\"outlinewidth\": 0, \"ticks\": \"\"}}, \"type\": \"scatter3d\"}], \"scattercarpet\": [{\"marker\": {\"colorbar\": {\"outlinewidth\": 0, \"ticks\": \"\"}}, \"type\": \"scattercarpet\"}], \"scattergeo\": [{\"marker\": {\"colorbar\": {\"outlinewidth\": 0, \"ticks\": \"\"}}, \"type\": \"scattergeo\"}], \"scattergl\": [{\"marker\": {\"colorbar\": {\"outlinewidth\": 0, \"ticks\": \"\"}}, \"type\": \"scattergl\"}], \"scattermapbox\": [{\"marker\": {\"colorbar\": {\"outlinewidth\": 0, \"ticks\": \"\"}}, \"type\": \"scattermapbox\"}], \"scatterpolar\": [{\"marker\": {\"colorbar\": {\"outlinewidth\": 0, \"ticks\": \"\"}}, \"type\": \"scatterpolar\"}], \"scatterpolargl\": [{\"marker\": {\"colorbar\": {\"outlinewidth\": 0, \"ticks\": \"\"}}, \"type\": \"scatterpolargl\"}], \"scatterternary\": [{\"marker\": {\"colorbar\": {\"outlinewidth\": 0, \"ticks\": \"\"}}, \"type\": \"scatterternary\"}], \"surface\": [{\"colorbar\": {\"outlinewidth\": 0, \"ticks\": \"\"}, \"colorscale\": [[0.0, \"#0d0887\"], [0.1111111111111111, \"#46039f\"], [0.2222222222222222, \"#7201a8\"], [0.3333333333333333, \"#9c179e\"], [0.4444444444444444, \"#bd3786\"], [0.5555555555555556, \"#d8576b\"], [0.6666666666666666, \"#ed7953\"], [0.7777777777777778, \"#fb9f3a\"], [0.8888888888888888, \"#fdca26\"], [1.0, \"#f0f921\"]], \"type\": \"surface\"}], \"table\": [{\"cells\": {\"fill\": {\"color\": \"#EBF0F8\"}, \"line\": {\"color\": \"white\"}}, \"header\": {\"fill\": {\"color\": \"#C8D4E3\"}, \"line\": {\"color\": \"white\"}}, \"type\": \"table\"}]}, \"layout\": {\"annotationdefaults\": {\"arrowcolor\": \"#2a3f5f\", \"arrowhead\": 0, \"arrowwidth\": 1}, \"coloraxis\": {\"colorbar\": {\"outlinewidth\": 0, \"ticks\": \"\"}}, \"colorscale\": {\"diverging\": [[0, \"#8e0152\"], [0.1, \"#c51b7d\"], [0.2, \"#de77ae\"], [0.3, \"#f1b6da\"], [0.4, \"#fde0ef\"], [0.5, \"#f7f7f7\"], [0.6, \"#e6f5d0\"], [0.7, \"#b8e186\"], [0.8, \"#7fbc41\"], [0.9, \"#4d9221\"], [1, \"#276419\"]], \"sequential\": [[0.0, \"#0d0887\"], [0.1111111111111111, \"#46039f\"], [0.2222222222222222, \"#7201a8\"], [0.3333333333333333, \"#9c179e\"], [0.4444444444444444, \"#bd3786\"], [0.5555555555555556, \"#d8576b\"], [0.6666666666666666, \"#ed7953\"], [0.7777777777777778, \"#fb9f3a\"], [0.8888888888888888, \"#fdca26\"], [1.0, \"#f0f921\"]], \"sequentialminus\": [[0.0, \"#0d0887\"], [0.1111111111111111, \"#46039f\"], [0.2222222222222222, \"#7201a8\"], [0.3333333333333333, \"#9c179e\"], [0.4444444444444444, \"#bd3786\"], [0.5555555555555556, \"#d8576b\"], [0.6666666666666666, \"#ed7953\"], [0.7777777777777778, \"#fb9f3a\"], [0.8888888888888888, \"#fdca26\"], [1.0, \"#f0f921\"]]}, \"colorway\": [\"#636efa\", \"#EF553B\", \"#00cc96\", \"#ab63fa\", \"#FFA15A\", \"#19d3f3\", \"#FF6692\", \"#B6E880\", \"#FF97FF\", \"#FECB52\"], \"font\": {\"color\": \"#2a3f5f\"}, \"geo\": {\"bgcolor\": \"white\", \"lakecolor\": \"white\", \"landcolor\": \"#E5ECF6\", \"showlakes\": true, \"showland\": true, \"subunitcolor\": \"white\"}, \"hoverlabel\": {\"align\": \"left\"}, \"hovermode\": \"closest\", \"mapbox\": {\"style\": \"light\"}, \"paper_bgcolor\": \"white\", \"plot_bgcolor\": \"#E5ECF6\", \"polar\": {\"angularaxis\": {\"gridcolor\": \"white\", \"linecolor\": \"white\", \"ticks\": \"\"}, \"bgcolor\": \"#E5ECF6\", \"radialaxis\": {\"gridcolor\": \"white\", \"linecolor\": \"white\", \"ticks\": \"\"}}, \"scene\": {\"xaxis\": {\"backgroundcolor\": \"#E5ECF6\", \"gridcolor\": \"white\", \"gridwidth\": 2, \"linecolor\": \"white\", \"showbackground\": true, \"ticks\": \"\", \"zerolinecolor\": \"white\"}, \"yaxis\": {\"backgroundcolor\": \"#E5ECF6\", \"gridcolor\": \"white\", \"gridwidth\": 2, \"linecolor\": \"white\", \"showbackground\": true, \"ticks\": \"\", \"zerolinecolor\": \"white\"}, \"zaxis\": {\"backgroundcolor\": \"#E5ECF6\", \"gridcolor\": \"white\", \"gridwidth\": 2, \"linecolor\": \"white\", \"showbackground\": true, \"ticks\": \"\", \"zerolinecolor\": \"white\"}}, \"shapedefaults\": {\"line\": {\"color\": \"#2a3f5f\"}}, \"ternary\": {\"aaxis\": {\"gridcolor\": \"white\", \"linecolor\": \"white\", \"ticks\": \"\"}, \"baxis\": {\"gridcolor\": \"white\", \"linecolor\": \"white\", \"ticks\": \"\"}, \"bgcolor\": \"#E5ECF6\", \"caxis\": {\"gridcolor\": \"white\", \"linecolor\": \"white\", \"ticks\": \"\"}}, \"title\": {\"x\": 0.05}, \"xaxis\": {\"automargin\": true, \"gridcolor\": \"white\", \"linecolor\": \"white\", \"ticks\": \"\", \"title\": {\"standoff\": 15}, \"zerolinecolor\": \"white\", \"zerolinewidth\": 2}, \"yaxis\": {\"automargin\": true, \"gridcolor\": \"white\", \"linecolor\": \"white\", \"ticks\": \"\", \"title\": {\"standoff\": 15}, \"zerolinecolor\": \"white\", \"zerolinewidth\": 2}}}, \"title\": {\"text\": \"Outcomes by random search status\"}, \"width\": 1100, \"xaxis\": {\"anchor\": \"y\", \"domain\": [0.0, 0.2888888888888889], \"title\": {\"text\": \"random_search\"}}, \"xaxis2\": {\"anchor\": \"y2\", \"domain\": [0.35555555555555557, 0.6444444444444445], \"title\": {\"text\": \"random_search\"}}, \"xaxis3\": {\"anchor\": \"y3\", \"domain\": [0.7111111111111111, 1.0], \"title\": {\"text\": \"random_search\"}}, \"yaxis\": {\"anchor\": \"x\", \"domain\": [0.0, 1.0]}, \"yaxis2\": {\"anchor\": \"x2\", \"domain\": [0.0, 1.0]}, \"yaxis3\": {\"anchor\": \"x3\", \"domain\": [0.0, 1.0]}},\n",
       "                        {\"responsive\": true}\n",
       "                    ).then(function(){\n",
       "                            \n",
       "var gd = document.getElementById('228b9aab-1010-46ec-9258-edac1ddc0ec0');\n",
       "var x = new MutationObserver(function (mutations, observer) {{\n",
       "        var display = window.getComputedStyle(gd).display;\n",
       "        if (!display || display === 'none') {{\n",
       "            console.log([gd, 'removed!']);\n",
       "            Plotly.purge(gd);\n",
       "            observer.disconnect();\n",
       "        }}\n",
       "}});\n",
       "\n",
       "// Listen for the removal of the full notebook cells\n",
       "var notebookContainer = gd.closest('#notebook-container');\n",
       "if (notebookContainer) {{\n",
       "    x.observe(notebookContainer, {childList: true});\n",
       "}}\n",
       "\n",
       "// Listen for the clearing of the current output cell\n",
       "var outputEl = gd.closest('.output');\n",
       "if (outputEl) {{\n",
       "    x.observe(outputEl, {childList: true});\n",
       "}}\n",
       "\n",
       "                        })\n",
       "                };\n",
       "                });\n",
       "            </script>\n",
       "        </div>"
      ]
     },
     "metadata": {},
     "output_type": "display_data"
    }
   ],
   "source": [
    "# Boxplots for the distribution of outcomes by equality of best hyper-parameter:\n",
    "fig = make_subplots(rows=1, cols=3,\n",
    "                    subplot_titles=(\"Test ROC-AUC\", \"Test average precision score\", \"Running time (minutes)\"))\n",
    "\n",
    "# First plot:\n",
    "fig.add_trace(\n",
    "    go.Box(x=metrics_gbm['random_search'], y=metrics_gbm['test_roc_auc'], name='roc_auc'),\n",
    "    row=1, col=1, secondary_y=False)\n",
    "\n",
    "# Second plot:\n",
    "fig.add_trace(\n",
    "    go.Box(x=metrics_gbm['random_search'], y=metrics_gbm['test_prec_avg'], name='prec_avg'),\n",
    "    row=1, col=2, secondary_y=False)\n",
    "\n",
    "# Third plot:\n",
    "fig.add_trace(\n",
    "    go.Box(x=metrics_gbm['random_search'], y=metrics_gbm['running_time'], name='running_time'),\n",
    "    row=1, col=3, secondary_y=False)\n",
    "\n",
    "# Changing layout:\n",
    "fig.update_layout(\n",
    "    title_text='Outcomes by random search status',\n",
    "    width=1100,\n",
    "    height=450,\n",
    "    showlegend=False\n",
    ")\n",
    "\n",
    "# Changing axes:\n",
    "fig.update_xaxes(title_text=\"random_search\", row=1, col=1)\n",
    "fig.update_xaxes(title_text=\"random_search\", row=1, col=2)\n",
    "fig.update_xaxes(title_text=\"random_search\", row=1, col=3)\n",
    "\n",
    "fig.show()"
   ]
  },
  {
   "cell_type": "markdown",
   "metadata": {},
   "source": [
    "[(Main findings)](#main_findings)<a href='#main_findings'></a>"
   ]
  },
  {
   "cell_type": "code",
   "execution_count": null,
   "metadata": {},
   "outputs": [],
   "source": []
  }
 ],
 "metadata": {
  "kernelspec": {
   "display_name": "Python 3",
   "language": "python",
   "name": "python3"
  },
  "language_info": {
   "codemirror_mode": {
    "name": "ipython",
    "version": 3
   },
   "file_extension": ".py",
   "mimetype": "text/x-python",
   "name": "python",
   "nbconvert_exporter": "python",
   "pygments_lexer": "ipython3",
   "version": "3.7.4"
  }
 },
 "nbformat": 4,
 "nbformat_minor": 2
}
