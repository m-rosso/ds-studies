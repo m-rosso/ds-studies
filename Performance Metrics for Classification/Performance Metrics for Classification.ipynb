{
 "cells": [
  {
   "cell_type": "markdown",
   "metadata": {},
   "source": [
    "## Performance metrics for classification problems"
   ]
  },
  {
   "cell_type": "markdown",
   "metadata": {},
   "source": [
    "Classification problems bring several different concepts when it comes to assess the performance of a classifier. First of all, classification may be based either on *binary* or *multinomial* response variables. Although similar, these two settings of classification require attention when calculating metrics for evaluation. In addition to statistics suited for multinomial problems (for example, multinomial deviance), some metrics used for binary problems, such as precision, recall, and F1 score, should be calculated for each class separetely (see references for sources with detailed discussion on metrics for multiclass classification).\n",
    "<br>\n",
    "<br>\n",
    "This notebook focus on performance metrics for binary classification, even though some ideas or results may also hold for multinomial problems. A *statistical learning method* is applied to estimate a model $f(.)$ referenced by *parameters* $\\theta$. These parameters determine how inputs $X$ define the output $Y$. When the response variable is binary, $Y \\in \\{0, 1\\}$, such as for the dataset used here, the estimation of $\\theta$ leads to the calculation of a *score* $P(y = 1|x, \\hat{\\theta})$ for a given data point $x$.\n",
    "<br>\n",
    "<br>\n",
    "Metrics of performance for binary classification problems may either compare true labels with scores or true labels with predicted classes, where these follow from opposing scores with a predefined threshold to allocate data points to $Y = 1$ or to $Y = 0$. Not just that, some metrics may be explicitly dependent on the choice of a given threshold, or may consider several diffent thresholds, or even may not use any threshold at all. The approach here has separated metrics into those whose value consists on a rate and those that report some kind of score. The former class of metrics is prone to use a given threshold in its calculation.\n",
    "<br>\n",
    "<br>\n",
    "Two relevant subjects concerning classification point to *class imbalance* and *domain knowledge*. A given dataset is imbalanced when the prior probability of some class, $P(Y = 1)$ for binary problems, is too low or too high. This should raise special care when applying and interpreting any performance metric. Domaing knowledge is also crucial, since different costs may follow from different sorts of misclassification, even when there are only two possible classes."
   ]
  },
  {
   "cell_type": "markdown",
   "metadata": {},
   "source": [
    "**Summary:**\n",
    "1. [Libraries](#libraries)<a href='#libraries'></a>.\n",
    "2. [Importing datasets](#imports)<a href='#imports'></a>.\n",
    "<br>\n",
    "<br>\n",
    "3. [Rate metrics](#rate)<a href='#rate'> </a>.\n",
    "    * [Confusion matrix](#conf_matrix)<a href='#conf_matrix'></a>.\n",
    "    * [Rates from confusion matrix](#rates_conf_matrix)<a href='#rates_conf_matrix'></a>\n",
    "<br>\n",
    "<br>\n",
    "4. [Score metrics](#score)<a href='#score'></a>.\n",
    "    * [ROC curve](#roc)<a href='#roc'></a>.\n",
    "    * [Precision-recall](#precision_recall)<a href='#precision_recall'></a>.\n",
    "    * [F1 score](#F1)<a href='#F1'></a>.\n",
    "    * [Brier score](#brier_score)<a href='#brier_score'></a>.\n",
    "    * [Binomial deviance](#binomial_deviance)<a href='#binomial_deviance'></a>.\n",
    "    * [Multinomial deviance](#multinomial_deviance)<a href='#multinomial_deviance'></a>.\n",
    "<br>\n",
    "<br>\n",
    "5. [References](#references)<a href='#references'></a>."
   ]
  },
  {
   "cell_type": "markdown",
   "metadata": {},
   "source": [
    "<a id='libraries'> </a>"
   ]
  },
  {
   "cell_type": "markdown",
   "metadata": {},
   "source": [
    "## Libraries"
   ]
  },
  {
   "cell_type": "code",
   "execution_count": 1,
   "metadata": {},
   "outputs": [],
   "source": [
    "import pandas as pd\n",
    "import numpy as np\n",
    "\n",
    "import os\n",
    "import json\n",
    "\n",
    "import matplotlib.pyplot as plt\n",
    "import seaborn as sns\n",
    "%matplotlib inline\n",
    "\n",
    "from sklearn.metrics import confusion_matrix, classification_report\n",
    "from sklearn.metrics import f1_score\n",
    "from sklearn.metrics import roc_auc_score, average_precision_score, brier_score_loss\n",
    "from sklearn.metrics import auc, roc_curve, precision_recall_curve"
   ]
  },
  {
   "cell_type": "markdown",
   "metadata": {},
   "source": [
    "<a id='imports'> </a>"
   ]
  },
  {
   "cell_type": "markdown",
   "metadata": {},
   "source": [
    "## Importing data"
   ]
  },
  {
   "cell_type": "code",
   "execution_count": 2,
   "metadata": {},
   "outputs": [
    {
     "data": {
      "text/html": [
       "<div>\n",
       "<style scoped>\n",
       "    .dataframe tbody tr th:only-of-type {\n",
       "        vertical-align: middle;\n",
       "    }\n",
       "\n",
       "    .dataframe tbody tr th {\n",
       "        vertical-align: top;\n",
       "    }\n",
       "\n",
       "    .dataframe thead th {\n",
       "        text-align: right;\n",
       "    }\n",
       "</style>\n",
       "<table border=\"1\" class=\"dataframe\">\n",
       "  <thead>\n",
       "    <tr style=\"text-align: right;\">\n",
       "      <th></th>\n",
       "      <th>order_id</th>\n",
       "      <th>epoch</th>\n",
       "      <th>y</th>\n",
       "      <th>score</th>\n",
       "    </tr>\n",
       "  </thead>\n",
       "  <tbody>\n",
       "    <tr>\n",
       "      <td>10492</td>\n",
       "      <td>932115</td>\n",
       "      <td>1.581295e+12</td>\n",
       "      <td>0.0</td>\n",
       "      <td>0.000569</td>\n",
       "    </tr>\n",
       "    <tr>\n",
       "      <td>10493</td>\n",
       "      <td>932116</td>\n",
       "      <td>1.581295e+12</td>\n",
       "      <td>0.0</td>\n",
       "      <td>0.053238</td>\n",
       "    </tr>\n",
       "    <tr>\n",
       "      <td>10494</td>\n",
       "      <td>932117</td>\n",
       "      <td>1.581295e+12</td>\n",
       "      <td>0.0</td>\n",
       "      <td>0.013792</td>\n",
       "    </tr>\n",
       "    <tr>\n",
       "      <td>10495</td>\n",
       "      <td>932119</td>\n",
       "      <td>1.581296e+12</td>\n",
       "      <td>0.0</td>\n",
       "      <td>0.008181</td>\n",
       "    </tr>\n",
       "    <tr>\n",
       "      <td>10496</td>\n",
       "      <td>932121</td>\n",
       "      <td>1.581296e+12</td>\n",
       "      <td>0.0</td>\n",
       "      <td>0.001230</td>\n",
       "    </tr>\n",
       "  </tbody>\n",
       "</table>\n",
       "</div>"
      ],
      "text/plain": [
       "      order_id         epoch    y     score\n",
       "10492   932115  1.581295e+12  0.0  0.000569\n",
       "10493   932116  1.581295e+12  0.0  0.053238\n",
       "10494   932117  1.581295e+12  0.0  0.013792\n",
       "10495   932119  1.581296e+12  0.0  0.008181\n",
       "10496   932121  1.581296e+12  0.0  0.001230"
      ]
     },
     "execution_count": 2,
     "metadata": {},
     "output_type": "execute_result"
    }
   ],
   "source": [
    "# Training data (only id, epoch, and true label variables):\n",
    "os.chdir('/home/matheus_rosso/Arquivo/Features/Datasets/')\n",
    "df = pd.read_csv('dataset_1424.csv', dtype={'order_id': str}, usecols=['order_id', 'epoch', 'y'])\n",
    "\n",
    "# Scores estimated through logistic regression for test set observations:\n",
    "os.chdir('/home/matheus_rosso/Arquivo/Modelos Hierárquicos/Datasets/Reference Models')\n",
    "scores = pd.read_json('Scores/test_scores_log_1424.json')\n",
    "\n",
    "# Dataframe with score and true label:\n",
    "scores = pd.concat([df, scores], axis=1)\n",
    "scores.columns = ['y', 'order_id', 'epoch', 'score']\n",
    "scores = scores[['order_id', 'epoch', 'y', 'score']]\n",
    "scores.dropna(inplace=True)\n",
    "scores.head()"
   ]
  },
  {
   "cell_type": "markdown",
   "metadata": {},
   "source": [
    "<a id='rate'> </a>"
   ]
  },
  {
   "cell_type": "markdown",
   "metadata": {},
   "source": [
    "## Rate metrics"
   ]
  },
  {
   "cell_type": "markdown",
   "metadata": {},
   "source": [
    "This first kind of metrics for classification performance requires the definition of a *threshold* above which an estimated probability of $Y = 1$ points to predicting $\\hat{Y} = 1$, and below which an estimated probability indicates $\\hat{Y} = 0$. Although these metrics are more precise to assess how good a model is to accomplish its classification task, they rely on the definition of a threshold parameter, which is particularly tricky when the binary response variable is highly imbalanced, since $0.5$ is inappropriate in such contexts where the prior rate for $Y = 1$ is too lower or too higher than that value."
   ]
  },
  {
   "cell_type": "code",
   "execution_count": 3,
   "metadata": {},
   "outputs": [],
   "source": [
    "# Function for predicting class from estimated probability:\n",
    "def class_pred(x, threshold=0.5):\n",
    "    if x > threshold:\n",
    "        return 1\n",
    "    else:\n",
    "        return 0"
   ]
  },
  {
   "cell_type": "code",
   "execution_count": 4,
   "metadata": {},
   "outputs": [],
   "source": [
    "# Predicting classes:\n",
    "thres = 0.2\n",
    "scores['class_pred'] = scores['score'].apply(class_pred, threshold=thres)"
   ]
  },
  {
   "cell_type": "markdown",
   "metadata": {},
   "source": [
    "<a id='conf_matrix'> </a>"
   ]
  },
  {
   "cell_type": "markdown",
   "metadata": {},
   "source": [
    "### Confusion matrix"
   ]
  },
  {
   "cell_type": "markdown",
   "metadata": {},
   "source": [
    "In binary classification problems, with a response variable $Y \\in \\{0, 1\\}$, there are two kinds of errors when predicting the label for $Y$: **false negative (type-II error)**, that occurs when $\\hat{Y} = 0$ and $Y = 1$, and **false positive (type-I error)**, that holds when $\\hat{Y} = 1$ and $Y = 0$. Analogously, there are also two kinds of correct predictions: **true negative**, when $Y = \\hat{Y} = 0$, and **true positive**, when $Y = \\hat{Y} = 1$. Confusion matrix, that actually applies similarly to multiclass classification problems, summarizes all possible events when predicting labels from a given dataset.\n",
    "<br>\n",
    "<br>\n",
    "Not only the threshold should be chosen carefully when rate metrics are used to assess classification performance, but also which metric to focused on, since false negatives may produce more damage than false positives in some contexts, and vice-versa."
   ]
  },
  {
   "cell_type": "code",
   "execution_count": 5,
   "metadata": {},
   "outputs": [
    {
     "name": "stdout",
     "output_type": "stream",
     "text": [
      "\u001b[1mThreshold:\u001b[0m 0.2.\n"
     ]
    },
    {
     "data": {
      "text/html": [
       "<div>\n",
       "<style scoped>\n",
       "    .dataframe tbody tr th:only-of-type {\n",
       "        vertical-align: middle;\n",
       "    }\n",
       "\n",
       "    .dataframe tbody tr th {\n",
       "        vertical-align: top;\n",
       "    }\n",
       "\n",
       "    .dataframe thead th {\n",
       "        text-align: right;\n",
       "    }\n",
       "</style>\n",
       "<table border=\"1\" class=\"dataframe\">\n",
       "  <thead>\n",
       "    <tr style=\"text-align: right;\">\n",
       "      <th>y_pred</th>\n",
       "      <th>0</th>\n",
       "      <th>1</th>\n",
       "    </tr>\n",
       "    <tr>\n",
       "      <th>y_true</th>\n",
       "      <th></th>\n",
       "      <th></th>\n",
       "    </tr>\n",
       "  </thead>\n",
       "  <tbody>\n",
       "    <tr>\n",
       "      <td>0</td>\n",
       "      <td>8516</td>\n",
       "      <td>495</td>\n",
       "    </tr>\n",
       "    <tr>\n",
       "      <td>1</td>\n",
       "      <td>364</td>\n",
       "      <td>1117</td>\n",
       "    </tr>\n",
       "  </tbody>\n",
       "</table>\n",
       "</div>"
      ],
      "text/plain": [
       "y_pred     0     1\n",
       "y_true            \n",
       "0       8516   495\n",
       "1        364  1117"
      ]
     },
     "execution_count": 5,
     "metadata": {},
     "output_type": "execute_result"
    }
   ],
   "source": [
    "# Confusion matrix implementation:\n",
    "conf_matrix = pd.DataFrame(data=confusion_matrix(scores['y'], scores['class_pred']))\n",
    "conf_matrix.index.name = 'y_true'\n",
    "conf_matrix.columns.name = 'y_pred'\n",
    "\n",
    "print('\\033[1mThreshold:\\033[0m ' + str(thres) + '.')\n",
    "conf_matrix"
   ]
  },
  {
   "cell_type": "code",
   "execution_count": 6,
   "metadata": {},
   "outputs": [
    {
     "name": "stdout",
     "output_type": "stream",
     "text": [
      "\u001b[1mFalse negatives (y_pred = 0 and y_true = 1)\u001b[0m: 364.\n"
     ]
    }
   ],
   "source": [
    "# False negatives:\n",
    "FN = conf_matrix.iloc[1,0]\n",
    "print('\\033[1mFalse negatives (y_pred = 0 and y_true = 1)\\033[0m: ' + str(FN) + '.')"
   ]
  },
  {
   "cell_type": "code",
   "execution_count": 7,
   "metadata": {},
   "outputs": [
    {
     "name": "stdout",
     "output_type": "stream",
     "text": [
      "\u001b[1mTrue negatives (y_pred = 0 and y_true = 0)\u001b[0m: 8516.\n"
     ]
    }
   ],
   "source": [
    "# True negatives:\n",
    "TN = conf_matrix.iloc[0,0]\n",
    "print('\\033[1mTrue negatives (y_pred = 0 and y_true = 0)\\033[0m: ' + str(TN) + '.')"
   ]
  },
  {
   "cell_type": "code",
   "execution_count": 8,
   "metadata": {},
   "outputs": [
    {
     "name": "stdout",
     "output_type": "stream",
     "text": [
      "\u001b[1mFalse positives (y_pred = 1 and y_true = 0)\u001b[0m: 495.\n"
     ]
    }
   ],
   "source": [
    "# False positives:\n",
    "FP = conf_matrix.iloc[0,1]\n",
    "print('\\033[1mFalse positives (y_pred = 1 and y_true = 0)\\033[0m: ' + str(FP) + '.')"
   ]
  },
  {
   "cell_type": "code",
   "execution_count": 9,
   "metadata": {},
   "outputs": [
    {
     "name": "stdout",
     "output_type": "stream",
     "text": [
      "\u001b[1mTrue positives (y_pred = 1 and y_true = 1)\u001b[0m: 1117.\n"
     ]
    }
   ],
   "source": [
    "# True positives:\n",
    "TP = conf_matrix.iloc[1,1]\n",
    "print('\\033[1mTrue positives (y_pred = 1 and y_true = 1)\\033[0m: ' + str(TP) + '.')"
   ]
  },
  {
   "cell_type": "markdown",
   "metadata": {},
   "source": [
    "<a id='rates_conf_matrix'> </a>"
   ]
  },
  {
   "cell_type": "markdown",
   "metadata": {},
   "source": [
    "### Rates from confusion matrix"
   ]
  },
  {
   "cell_type": "markdown",
   "metadata": {},
   "source": [
    "#### False negative rate (*miss rate*)"
   ]
  },
  {
   "cell_type": "markdown",
   "metadata": {},
   "source": [
    "The **false negative rate** is given by the ratio between false negatives and positives:\n",
    "<br>\n",
    "<br>\n",
    "\\begin{equation}\n",
    "\\displaystyle fnr = \\frac{FN}{P} = \\frac{FN}{(FN + TP)}\n",
    "\\end{equation}"
   ]
  },
  {
   "cell_type": "code",
   "execution_count": 10,
   "metadata": {},
   "outputs": [
    {
     "name": "stdout",
     "output_type": "stream",
     "text": [
      "\u001b[1mFalse negative rate (miss rate):\u001b[0m 24.58%.\n"
     ]
    }
   ],
   "source": [
    "fnr = FN/(FN + TP)\n",
    "print('\\033[1mFalse negative rate (miss rate):\\033[0m ' + str(round((fnr*100), 2)) + '%.')"
   ]
  },
  {
   "cell_type": "markdown",
   "metadata": {},
   "source": [
    "#### False positive rate (*fall out*)"
   ]
  },
  {
   "cell_type": "markdown",
   "metadata": {},
   "source": [
    "Similarly, the **false positive rate** is given by the ratio between false positives and negatives:\n",
    "<br>\n",
    "<br>\n",
    "\\begin{equation}\n",
    "\\displaystyle fpr = \\frac{FP}{N} = \\frac{FP}{(FP + TN)}\n",
    "\\end{equation}"
   ]
  },
  {
   "cell_type": "code",
   "execution_count": 11,
   "metadata": {},
   "outputs": [
    {
     "name": "stdout",
     "output_type": "stream",
     "text": [
      "\u001b[1mFalse positive rate (fall out):\u001b[0m 5.49%.\n"
     ]
    }
   ],
   "source": [
    "fpr = FP/(FP + TN)\n",
    "print('\\033[1mFalse positive rate (fall out):\\033[0m ' + str(round((fpr*100), 2)) + '%.')"
   ]
  },
  {
   "cell_type": "markdown",
   "metadata": {},
   "source": [
    "#### Positive predictive value (*precision*)"
   ]
  },
  {
   "cell_type": "markdown",
   "metadata": {},
   "source": [
    "The **positive predictive value**, also known as **precision**, is based on the total number of positive predictions $\\hat{Y} = 1$. Then, it is given by the ratio between true positives and predicted positives:\n",
    "<br>\n",
    "<br>\n",
    "\\begin{equation}\n",
    "\\displaystyle precision = \\frac{TP}{\\hat{P}} = \\frac{TP}{(FP + TP)}\n",
    "\\end{equation}"
   ]
  },
  {
   "cell_type": "code",
   "execution_count": 12,
   "metadata": {},
   "outputs": [
    {
     "name": "stdout",
     "output_type": "stream",
     "text": [
      "\u001b[1mPositive predictive value (precision):\u001b[0m 69.29%.\n"
     ]
    }
   ],
   "source": [
    "prec = TP/(FP + TP)\n",
    "print('\\033[1mPositive predictive value (precision):\\033[0m ' + str(round((prec*100), 2)) + '%.')"
   ]
  },
  {
   "cell_type": "markdown",
   "metadata": {},
   "source": [
    "#### Sensitivity (*recall*, or *true positive rate*)"
   ]
  },
  {
   "cell_type": "markdown",
   "metadata": {},
   "source": [
    "The **true positive rate**, also defined as **recall** or **sensitivity**, focus on true positives, but has actual positives as the reference:\n",
    "<br>\n",
    "<br>\n",
    "\\begin{equation}\n",
    "\\displaystyle recall = \\frac{TP}{P} = \\frac{TP}{(FN + TP)}\n",
    "\\end{equation}"
   ]
  },
  {
   "cell_type": "code",
   "execution_count": 13,
   "metadata": {},
   "outputs": [
    {
     "name": "stdout",
     "output_type": "stream",
     "text": [
      "\u001b[1mSensitivity (recall, or true positive rate):\u001b[0m 75.42%.\n"
     ]
    }
   ],
   "source": [
    "rec = TP/(FN + TP)\n",
    "print('\\033[1mSensitivity (recall, or true positive rate):\\033[0m ' + str(round((rec*100), 2)) + '%.')"
   ]
  },
  {
   "cell_type": "markdown",
   "metadata": {},
   "source": [
    "#### Negative predictive value"
   ]
  },
  {
   "cell_type": "markdown",
   "metadata": {},
   "source": [
    "The **negative predictive value** is analogous to precision, but focused on true negatives:\n",
    "<br>\n",
    "<br>\n",
    "\\begin{equation}\n",
    "\\displaystyle neg\\_pred = \\frac{TN}{\\hat{N}} = \\frac{TN}{(FN + TN)}\n",
    "\\end{equation}"
   ]
  },
  {
   "cell_type": "code",
   "execution_count": 14,
   "metadata": {},
   "outputs": [
    {
     "name": "stdout",
     "output_type": "stream",
     "text": [
      "\u001b[1mNegative predictive value:\u001b[0m 95.9%.\n"
     ]
    }
   ],
   "source": [
    "neg_pred = TN/(FN + TN)\n",
    "print('\\033[1mNegative predictive value:\\033[0m ' + str(round((neg_pred*100), 2)) + '%.')"
   ]
  },
  {
   "cell_type": "markdown",
   "metadata": {},
   "source": [
    "#### Specificity (*true negative rate*)"
   ]
  },
  {
   "cell_type": "markdown",
   "metadata": {},
   "source": [
    "The **specificity**, or **true negative rate** is similar to negative predictive value, but having as reference actual negatives instead of predicted negatives. Besides, is given by the complement to false positive rate (fall out):\n",
    "<br>\n",
    "<br>\n",
    "\\begin{equation}\n",
    "\\displaystyle specificity = \\frac{TN}{N} = \\frac{TN}{(FP + TN)}\n",
    "\\end{equation}"
   ]
  },
  {
   "cell_type": "code",
   "execution_count": 15,
   "metadata": {},
   "outputs": [
    {
     "name": "stdout",
     "output_type": "stream",
     "text": [
      "\u001b[1mSpecificity (true negative rate):\u001b[0m 94.51%.\n"
     ]
    }
   ],
   "source": [
    "tnr = TN/(FP + TN)\n",
    "print('\\033[1mSpecificity (true negative rate):\\033[0m ' + str(round((tnr*100), 2)) + '%.')"
   ]
  },
  {
   "cell_type": "markdown",
   "metadata": {},
   "source": [
    "#### False discovery rate"
   ]
  },
  {
   "cell_type": "markdown",
   "metadata": {},
   "source": [
    "The **false discovery rate** is analogous to precision, but focused on false positives instead of true positives:\n",
    "<br>\n",
    "<br>\n",
    "\\begin{equation}\n",
    "\\displaystyle false\\_disc = \\frac{FP}{\\hat{P}} = \\frac{TP}{(FP + TP)}\n",
    "\\end{equation}"
   ]
  },
  {
   "cell_type": "code",
   "execution_count": 16,
   "metadata": {},
   "outputs": [
    {
     "name": "stdout",
     "output_type": "stream",
     "text": [
      "\u001b[1mFalse discovery rate:\u001b[0m 30.71%.\n"
     ]
    }
   ],
   "source": [
    "false_disc = FP/(FP + TP)\n",
    "print('\\033[1mFalse discovery rate:\\033[0m ' + str(round((false_disc*100), 2)) + '%.')"
   ]
  },
  {
   "cell_type": "markdown",
   "metadata": {},
   "source": [
    "#### Error rate"
   ]
  },
  {
   "cell_type": "markdown",
   "metadata": {},
   "source": [
    "The **error rate** consists on a loss function to be minimized when estimating a classification model, since it aggregates all possible errors when classifying a binary response variable (even though it also applies for multiclass classification problems). Therefore, this rate is given by dividing the sum of false negatives and false positives by the number of observations:\n",
    "<br>\n",
    "<br>\n",
    "\\begin{equation}\n",
    "\\displaystyle err = \\frac{(FN + FP)}{(FN + TN + FP + TP)}\n",
    "\\end{equation}"
   ]
  },
  {
   "cell_type": "code",
   "execution_count": 17,
   "metadata": {},
   "outputs": [
    {
     "name": "stdout",
     "output_type": "stream",
     "text": [
      "\u001b[1mError rate:\u001b[0m 8.19%.\n"
     ]
    }
   ],
   "source": [
    "err = (FN + FP)/(FN + TN + FP + TP)\n",
    "print('\\033[1mError rate:\\033[0m ' + str(round((err*100), 2)) + '%.')"
   ]
  },
  {
   "cell_type": "markdown",
   "metadata": {},
   "source": [
    "<a id='score'> </a>"
   ]
  },
  {
   "cell_type": "markdown",
   "metadata": {},
   "source": [
    "## Score metrics"
   ]
  },
  {
   "cell_type": "markdown",
   "metadata": {},
   "source": [
    "There is a type of metrics for classification performance that does not depend on the choice of threshold, which is particularly useful for comparing different classifiers. Moreover, these metrics reveal more clearly how good is the performance of a classifier, since they condensate information into a single statistic. Basically, they can be divided into two subtypes:\n",
    "1. Those combining rates from confusion matrix ([ROC](#roc)<a href='#roc'></a>, [precision-recall](#roc)<a href='#roc'></a> curves, [F1 score](#F1)<a href='#F1'></a>).\n",
    "2. Those consisting on loss functions for classification ([Brier score](#brier_score)<a href='#brier_score'></a>, [deviance](#binomial_deviance)<a href='#binomial_deviance'></a>)."
   ]
  },
  {
   "cell_type": "markdown",
   "metadata": {},
   "source": [
    "<a id='roc'> </a>"
   ]
  },
  {
   "cell_type": "markdown",
   "metadata": {},
   "source": [
    "### ROC curve"
   ]
  },
  {
   "cell_type": "markdown",
   "metadata": {},
   "source": [
    "ROC stands for **Receiver Operating Characteristic**, and explores the fact that rates such as false positive rate ($fpr = FP/N = FP/(FP + TN)$) and true positive rate ($tpr = TP/(FN + TP)$) are defined as a function of the threshold that assigns each data point to a class, given its estimated score.\n",
    "<br>\n",
    "<br>\n",
    "The construction of a ROC curve involves calculating $fpr$ and $tpr$ for several different threshold, then plotting each $fpr$-$tpr$ pair in a plot where the x-axis receives the $fpr$ value, while the y-axis denotes the $tpr$ value. Consequently, a classifier with good performance has its ROC curve located near to the top-left corner of the plot, suggesting the existence of thresholds for which the $fpr$ is very low (and $tnr$ is very high) - left portion - and the $tpr$ is very high (and $fnr$ is very low) - top portion.\n",
    "<br>\n",
    "<br>\n",
    "The baseline for ROC curve is given by the line for which $tpr = fpr$, reflecting a classifier that has as many chances of correctly predicting $Y = 1$ as of wrongly guessing positives. When the classes are balanced, such classifier is equivalent to random guessing."
   ]
  },
  {
   "cell_type": "markdown",
   "metadata": {},
   "source": [
    "#### ROC curve"
   ]
  },
  {
   "cell_type": "code",
   "execution_count": 18,
   "metadata": {},
   "outputs": [],
   "source": [
    "# Implementation with sklearn:\n",
    "fpr, tpr, threshold = roc_curve(scores['y'], scores['score'])\n",
    "auc_roc = auc(fpr, tpr)"
   ]
  },
  {
   "cell_type": "code",
   "execution_count": 19,
   "metadata": {},
   "outputs": [
    {
     "data": {
      "image/png": "[encoded data removed]",
      "text/plain": [
       "<matplotlib.figure.Figure at 0x7f7ff0285b50>"
      ]
     },
     "metadata": {
      "needs_background": "light"
     },
     "output_type": "display_data"
    }
   ],
   "source": [
    "plt.figure(figsize=(6,4))\n",
    "\n",
    "sns.lineplot(fpr, tpr)\n",
    "plt.plot(np.linspace(0, 1, 1000), np.linspace(0, 1, 1000), '--', linewidth=1, color='black')\n",
    "\n",
    "plt.xlabel('False positive rate')\n",
    "plt.ylabel('True positive rate')\n",
    "plt.title('ROC curve')\n",
    "plt.text(0.82, 0.08, 'AUC = ' + str(round(auc_roc, 4)), fontsize=10, verticalalignment='top')\n",
    "\n",
    "plt.tight_layout()"
   ]
  },
  {
   "cell_type": "markdown",
   "metadata": {},
   "source": [
    "#### ROC-AUC score"
   ]
  },
  {
   "cell_type": "markdown",
   "metadata": {},
   "source": [
    "The performance information provided by a given ROC curve is summarized through the area under the curve (AUC). The higher its value, the nearer the curve is to the top-left corner of the plot, thus suggesting a good classification performance. When it comes to comparing different classifiers, each referenced by $\\theta_m$, the best model among them is that with the highest ROC-AUC value."
   ]
  },
  {
   "cell_type": "code",
   "execution_count": 20,
   "metadata": {},
   "outputs": [
    {
     "data": {
      "text/plain": [
       "0.9474550236484165"
      ]
     },
     "execution_count": 20,
     "metadata": {},
     "output_type": "execute_result"
    }
   ],
   "source": [
    "# Direct implementation with sklearn:\n",
    "roc_auc_score(scores['y'], scores['score'])"
   ]
  },
  {
   "cell_type": "code",
   "execution_count": 21,
   "metadata": {},
   "outputs": [
    {
     "data": {
      "text/plain": [
       "0.9474550236484165"
      ]
     },
     "execution_count": 21,
     "metadata": {},
     "output_type": "execute_result"
    }
   ],
   "source": [
    "# Indirect implementation:\n",
    "auc(fpr, tpr)"
   ]
  },
  {
   "cell_type": "markdown",
   "metadata": {},
   "source": [
    "<a id='precision_recall'> </a>"
   ]
  },
  {
   "cell_type": "markdown",
   "metadata": {},
   "source": [
    "### Precision-recall curve"
   ]
  },
  {
   "cell_type": "markdown",
   "metadata": {},
   "source": [
    "**Precision** is given by the positive predictive value $TP/\\hat{P} = TP/(FP + TP)$, while **recall** is equal to the true positive rate, i.e., the sensitivity $TP/P = TP/(FN + TP)$. Thus, the reference is what differences precision from recall, where the first is constructed relatively from the predictions of label $\\hat{Y} = 1$ and the second is based on the number of actual positives $Y = 1$. Both precision and recall should be maximized by a classifier.\n",
    "<br>\n",
    "<br>\n",
    "Precision and recall focus mainly in the correct prediction of label $Y = 1$, and therefore is relevant for contexts where there is a high imbalance between the classes of a binary response variable $Y$.\n",
    "<br>\n",
    "<br>\n",
    "Since $FP$, $TP$, $FN$ and $TN$ are all entities defined by comparing a score with a given threshold, both precision and recall vary across different values for the threshold. Consequently, it is possible to plot precision-recall pairs for different thresholds, and this gives rise to the **precision-recall curve**. Such a plot has the x-axis given by recall and y-axis by precision.\n",
    "<br>\n",
    "<br>\n",
    "The baseline for precision-recall curve is a horizontal line centered in the value of $P/(P + N)$, and the farthest the curve is to the baseline the better will be the classification model, revealing that the classifier has ability to distinguish between classes, being preferred to the random guess or the constant prediction. Irrespective of the baseline, the perfect scenario is to have a precision-recall curve touching the top-right extreme $(1, 1)$, revealing that there is one threshold for which perfect prediction of label $Y = 1$ is possible.\n",
    "<br>\n",
    "<br>\n",
    "**Note:** since the ROC-AUC statistic uses $fpr$ (the inverse of $tnr$) in its calculation, precision-recall may be preferred to it when the data is highly imbalanced."
   ]
  },
  {
   "cell_type": "markdown",
   "metadata": {},
   "source": [
    "#### Average precision score"
   ]
  },
  {
   "cell_type": "markdown",
   "metadata": {},
   "source": [
    "Precision-recall curve is very convenient to fastly assess a classification performance. However, in order to compare different classifiers, it would be preferred to summarize mathematically a given precision-recall curve. The **average precision score** is a weighted mean for precision where the weights are given by the change in recall from a threshold $t-1$ to another threshold $t$:\n",
    "\\begin{equation}\n",
    "AP = \\sum_{t=1}^T(recall_t - recall_{t-1})precision_t\n",
    "\\end{equation}\n",
    "From this expression, a classifier referenced by $\\theta_m$ is better than another constructed upon a parameter vector $\\theta_{m'}$ if its average precision score is higher."
   ]
  },
  {
   "cell_type": "code",
   "execution_count": 22,
   "metadata": {},
   "outputs": [
    {
     "name": "stdout",
     "output_type": "stream",
     "text": [
      "0.7972092373257834\n"
     ]
    }
   ],
   "source": [
    "# Implementation with sklearn:\n",
    "avg_prec = average_precision_score(scores['y'], scores['score'])\n",
    "print(avg_prec)"
   ]
  },
  {
   "cell_type": "markdown",
   "metadata": {},
   "source": [
    "#### Precision-recall AUC score"
   ]
  },
  {
   "cell_type": "markdown",
   "metadata": {},
   "source": [
    "Another way of summarizing the information provided by a precision-recall curve is to compute the **area under the curve**, where the higher it is the better, since the closer the curve will be to the top-right corner of the plot.\n",
    "<br>\n",
    "<br>\n",
    "**Note:** although very similiar, precision-recall AUC and average precision score may be different."
   ]
  },
  {
   "cell_type": "code",
   "execution_count": 23,
   "metadata": {},
   "outputs": [
    {
     "name": "stdout",
     "output_type": "stream",
     "text": [
      "\u001b[1mArea under the curve:\u001b[0m 0.7971.\n",
      "\u001b[1mBaseline:\u001b[0m 0.1412.\n"
     ]
    }
   ],
   "source": [
    "# Implementation with sklearn:\n",
    "precision, recall, threshold = precision_recall_curve(scores['y'], scores['score'])\n",
    "auc_prec_rec = auc(recall, precision)\n",
    "ref_line = sum(scores.y==1)/len(scores.y)\n",
    "print('\\033[1mArea under the curve:\\033[0m ' + str(round(auc_prec_rec, 4)) + '.')\n",
    "print('\\033[1mBaseline:\\033[0m ' + str(round(ref_line, 4)) + '.')"
   ]
  },
  {
   "cell_type": "code",
   "execution_count": 25,
   "metadata": {},
   "outputs": [
    {
     "data": {
      "image/png": "[encoded data removed]",
      "text/plain": [
       "<matplotlib.figure.Figure at 0x7f7c40888fd0>"
      ]
     },
     "metadata": {
      "needs_background": "light"
     },
     "output_type": "display_data"
    }
   ],
   "source": [
    "# Precision-recall curve:\n",
    "plt.figure(figsize=(6,4))\n",
    "\n",
    "sns.lineplot(x = recall, y = precision)\n",
    "\n",
    "plt.axhline(ref_line, color='black', ls='--', linewidth=1)\n",
    "\n",
    "plt.xlabel('Recall')\n",
    "plt.ylabel('Precision')\n",
    "plt.title('Precision-recall curve')\n",
    "plt.text(0.85, 1, 'AUC = ' + str(round(auc_prec_rec, 4)), fontsize=10, verticalalignment='top')\n",
    "plt.text(0.85, 0.95, 'AP = ' + str(round(avg_prec, 4)), fontsize=10, verticalalignment='top')\n",
    "\n",
    "plt.tight_layout()"
   ]
  },
  {
   "cell_type": "markdown",
   "metadata": {},
   "source": [
    "<a id='F1'> </a>"
   ]
  },
  {
   "cell_type": "markdown",
   "metadata": {},
   "source": [
    "### F1 score"
   ]
  },
  {
   "cell_type": "markdown",
   "metadata": {},
   "source": [
    "The **F1 score** is another metric based on precision and recall. Conventionally, its defined as the harmonic average of precision and recall, thus given by:\n",
    "<br>\n",
    "<br>\n",
    "\\begin{equation}\n",
    "\\displaystyle F1 = \\frac{2}{precision^{-1} + recall^{-1}} = 2*\\frac{precision*recall}{precision + recall}\n",
    "\\end{equation}\n",
    "<br>\n",
    "<br>\n",
    "Another definition takes a weight $\\beta$ for how many times recall is considered as important as precision:\n",
    "<br>\n",
    "<br>\n",
    "\\begin{equation}\n",
    "\\displaystyle F1 = (1 + \\beta^2)\\frac{precision*recall}{(\\beta^2)*precision + recall}\n",
    "\\end{equation}\n",
    "<br>\n",
    "<br>\n",
    "For binary classification problems, main F1 score calculation is as above, while for multiclass classification settings there are mainly three ways to calculate F1: macro-F1, weighted-F1, and micro-F1. *Macro-F1* and *weighted-F1* calculate one F1 score for each class, then averaging all of them through simple average (macro-F1) or using weighted average (weighted-F1), where this weighted average takes the positives of each class as weights. *Micro-F1*, for multiclass classification problems, is given by aggregate true positives divided by aggregate positives, therefore, it is equal to accuracy (1 - error rate). It is worth to notice that micro-F1 for binary classification problems is also equal to accuracy."
   ]
  },
  {
   "cell_type": "code",
   "execution_count": 48,
   "metadata": {},
   "outputs": [
    {
     "data": {
      "text/plain": [
       "0.7227434487220964"
      ]
     },
     "execution_count": 48,
     "metadata": {},
     "output_type": "execute_result"
    }
   ],
   "source": [
    "2*(prec*rec)/(prec + rec)"
   ]
  },
  {
   "cell_type": "code",
   "execution_count": 57,
   "metadata": {},
   "outputs": [
    {
     "name": "stdout",
     "output_type": "stream",
     "text": [
      "\u001b[1mBinary F1 score:\u001b[0m 0.7227434487220964.\n",
      "\u001b[1mMacro-F1 score:\u001b[0m 0.837423811769532.\n",
      "\u001b[1mWeighted-F1 score:\u001b[0m 0.9197287234877163.\n",
      "\u001b[1mMicro-F1 score:\u001b[0m 0.9183187190240183.\n"
     ]
    }
   ],
   "source": [
    "# Implementation with sklearn:\n",
    "print('\\033[1mBinary F1 score:\\033[0m ' + str(f1_score(scores['y'], scores['class_pred'])) + '.')\n",
    "print('\\033[1mMacro-F1 score:\\033[0m ' + str(f1_score(scores['y'], scores['class_pred'],\n",
    "                                                      average='macro')) + '.')\n",
    "print('\\033[1mWeighted-F1 score:\\033[0m ' + str(f1_score(scores['y'], scores['class_pred'],\n",
    "                                                         average='weighted')) + '.')\n",
    "print('\\033[1mMicro-F1 score:\\033[0m ' + str(f1_score(scores['y'], scores['class_pred'],\n",
    "                                                      average='micro')) + '.')"
   ]
  },
  {
   "cell_type": "code",
   "execution_count": 60,
   "metadata": {},
   "outputs": [
    {
     "name": "stdout",
     "output_type": "stream",
     "text": [
      "\u001b[1mMicro-F1 score for binary problems (1 - err):\u001b[0m 0.9183187190240183.\n"
     ]
    }
   ],
   "source": [
    "print('\\033[1mMicro-F1 score for binary problems (1 - err):\\033[0m ' + str(1 - err) + '.')"
   ]
  },
  {
   "cell_type": "markdown",
   "metadata": {},
   "source": [
    "<a id='brier_score'> </a>"
   ]
  },
  {
   "cell_type": "markdown",
   "metadata": {},
   "source": [
    "### Brier score"
   ]
  },
  {
   "cell_type": "markdown",
   "metadata": {},
   "source": [
    "Despite of its name, the **Brier score** can be seen as just the mean of squared-error loss function, more commonly used for regression problems. Thus, for a binary response variable $Y$, and considering a probability prediction $f(x_i; \\theta)$ for data point $x_i$, the Brier score is defined by:\n",
    "\\begin{equation}\n",
    "Brier(\\theta) = \\frac{1}{N}\\sum_{i=1}^N [y_i - f(x_i; \\theta)]^2\n",
    "\\end{equation}\n",
    "<br>\n",
    "In a given estimation of $\\theta$, the smaller the Brier score, the better the estimation will be."
   ]
  },
  {
   "cell_type": "markdown",
   "metadata": {},
   "source": [
    "#### Implementation"
   ]
  },
  {
   "cell_type": "code",
   "execution_count": 27,
   "metadata": {},
   "outputs": [],
   "source": [
    "# Function that calculates squared-error for a set of data points:\n",
    "def brier(y, p):\n",
    "    \"y is a true binary label, while p is an estimated probability for reference class.\"\n",
    "    return (1/len(y))*np.sum(np.square(y - p))"
   ]
  },
  {
   "cell_type": "code",
   "execution_count": 28,
   "metadata": {},
   "outputs": [
    {
     "data": {
      "text/plain": [
       "0.05890284217547327"
      ]
     },
     "execution_count": 28,
     "metadata": {},
     "output_type": "execute_result"
    }
   ],
   "source": [
    "brier(scores['y'], scores['score'])"
   ]
  },
  {
   "cell_type": "code",
   "execution_count": 29,
   "metadata": {},
   "outputs": [
    {
     "data": {
      "text/plain": [
       "0.05890284217547327"
      ]
     },
     "execution_count": 29,
     "metadata": {},
     "output_type": "execute_result"
    }
   ],
   "source": [
    "# Implementation with sklearn:\n",
    "brier_score_loss(scores['y'], scores['score'])"
   ]
  },
  {
   "cell_type": "markdown",
   "metadata": {},
   "source": [
    "<a id='binomial_deviance'> </a>"
   ]
  },
  {
   "cell_type": "markdown",
   "metadata": {},
   "source": [
    "### Binomial deviance"
   ]
  },
  {
   "cell_type": "markdown",
   "metadata": {},
   "source": [
    "Consists on a common loss function to be minimized when estimating statistical learning methods for binary classification problems. Given a probability prediction $f(x_i; \\theta)$ constructed from inputs $x_i$ and parameters $\\theta$, the following equation shows the expression for the **binomial deviance**:\n",
    "\\begin{equation}\n",
    "L(\\theta) = \\sum_{i=1}^N\\log\\{1 + \\exp[-2y_i*f(x_i; \\theta)]\\}\n",
    "\\end{equation}\n",
    "<br>\n",
    "Given models referenced by $\\theta_m$, the best among them, as suggested by the binomial deviance, is that $\\theta_{m^*}$ for which $L(\\theta_{m^*})$ is minimum."
   ]
  },
  {
   "cell_type": "markdown",
   "metadata": {},
   "source": [
    "#### Implementation"
   ]
  },
  {
   "cell_type": "code",
   "execution_count": 30,
   "metadata": {},
   "outputs": [],
   "source": [
    "# Function that calculates binomial deviance for a set of data points:\n",
    "def binomial_deviance(y, p):\n",
    "    \"y is a true binary label, while p is an estimated probability for reference class.\"\n",
    "    return np.sum(np.log(1 + np.exp(-2*y*p)))"
   ]
  },
  {
   "cell_type": "code",
   "execution_count": 31,
   "metadata": {},
   "outputs": [
    {
     "data": {
      "text/plain": [
       "6750.492016872447"
      ]
     },
     "execution_count": 31,
     "metadata": {},
     "output_type": "execute_result"
    }
   ],
   "source": [
    "binomial_deviance(scores['y'], scores['score'])"
   ]
  },
  {
   "cell_type": "markdown",
   "metadata": {},
   "source": [
    "<a id='multinomial_deviance'> </a>"
   ]
  },
  {
   "cell_type": "markdown",
   "metadata": {},
   "source": [
    "### Multinomial deviance"
   ]
  },
  {
   "cell_type": "markdown",
   "metadata": {},
   "source": [
    "Another common loss function, this time used when estimating statistical learning methods for multinomial classification problems. Considering a probability prediction for class $k$ $f_k(x_i; \\theta)$ constructed from inputs $x_i$ and parameters $\\theta$, the **multinomial deviance** is given by:\n",
    "\\begin{equation}\n",
    "L(\\theta) = -\\sum_{i=1}^N\\sum_{k=1}^K y_{ik}\\log(f_k(x_i))\n",
    "\\end{equation}\n",
    "Since $L(\\theta)$ is a loss function minimized during fitting procedures, the smaller $L(\\theta)$ the better is the model referenced by $\\theta$."
   ]
  },
  {
   "cell_type": "markdown",
   "metadata": {},
   "source": [
    "<a id='references'> </a>"
   ]
  },
  {
   "cell_type": "markdown",
   "metadata": {},
   "source": [
    "## References"
   ]
  },
  {
   "cell_type": "markdown",
   "metadata": {},
   "source": [
    "[Reference 1](https://towardsdatascience.com/multi-class-metrics-made-simple-part-i-precision-and-recall-9250280bddc2): discussion on performance metrics for multiclass classification."
   ]
  }
 ],
 "metadata": {
  "kernelspec": {
   "display_name": "Python 3",
   "language": "python",
   "name": "python3"
  },
  "language_info": {
   "codemirror_mode": {
    "name": "ipython",
    "version": 3
   },
   "file_extension": ".py",
   "mimetype": "text/x-python",
   "name": "python",
   "nbconvert_exporter": "python",
   "pygments_lexer": "ipython3",
   "version": "3.7.4"
  }
 },
 "nbformat": 4,
 "nbformat_minor": 2
}
