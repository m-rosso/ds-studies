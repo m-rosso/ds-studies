{
 "cells": [
  {
   "cell_type": "markdown",
   "metadata": {},
   "source": [
    "## Comparing precision-recall AUC and average precision score"
   ]
  },
  {
   "cell_type": "markdown",
   "metadata": {},
   "source": [
    "During studies focused on GBM hyper-parameters, it has emerged the curiosity of assessing empirically the expected relationship between precision-recall AUC and average precision score, where both of these metrics are based on precision (ratio between true predicted positives and total predicted positives). Consequently, the estimated performance metrics related with GBM follow from those tests, while precision metrics for logistic regression models derived from previous estimations of a different research context.\n",
    "<br>\n",
    "Although very similar, these two performance metrics [diverge](https://scikit-learn.org/stable/modules/generated/sklearn.metrics.average_precision_score.html#sklearn.metrics.average_precision_score) in their computation. So, it is reasonable to assess the *difference between average precision score and precision-recall AUC ($test\\_prec\\_avg - test\\_pr\\_auc$)* for different estimations of two alternative methods (logistic regression and GBM).\n",
    "<br>\n",
    "Below, both methods present more than 80% of estimations with average precision score larger than precision-recall AUC. Even so, the average of differences is close to zero (0.007 for logistic regression, and 0.003 for GBM except for outliers). Extreme negative values occurred with GBM estimation, for which 4 estimations had difference smaller than -0.1.\n",
    "<br>\n",
    "In addition to only some outliers presenting high differences between the two metrics, which points to a low average of difference, it was found a very high correlation between them of more than 95%. Therefore, concerning model selection, both metrics may be interchangeably used.\n",
    "<br>\n",
    "**Note:** differences for GBM estimation consist on the mean of differences over a range of values for the number of estimators."
   ]
  },
  {
   "cell_type": "markdown",
   "metadata": {},
   "source": [
    "---------------"
   ]
  },
  {
   "cell_type": "markdown",
   "metadata": {},
   "source": [
    "**Summary:**\n",
    "1. [Libraries](#libraries)<a href='#libraries'></a>.\n",
    "2. [Importing data](#imports)<a href='#imports'></a>.\n",
    "3. [Logistic regression](#lr)<a href='#lr'></a>.\n",
    "4. [GBM](#gbm)<a href='#gbm'></a>."
   ]
  },
  {
   "cell_type": "markdown",
   "metadata": {},
   "source": [
    "<a id='libraries'></a>"
   ]
  },
  {
   "cell_type": "markdown",
   "metadata": {},
   "source": [
    "## Libraries"
   ]
  },
  {
   "cell_type": "code",
   "execution_count": 1,
   "metadata": {},
   "outputs": [
    {
     "data": {
      "text/html": [
       "        <script type=\"text/javascript\">\n",
       "        window.PlotlyConfig = {MathJaxConfig: 'local'};\n",
       "        if (window.MathJax) {MathJax.Hub.Config({SVG: {font: \"STIX-Web\"}});}\n",
       "        if (typeof require !== 'undefined') {\n",
       "        require.undef(\"plotly\");\n",
       "        requirejs.config({\n",
       "            paths: {\n",
       "                'plotly': ['https://cdn.plot.ly/plotly-latest.min']\n",
       "            }\n",
       "        });\n",
       "        require(['plotly'], function(Plotly) {\n",
       "            window._Plotly = Plotly;\n",
       "        });\n",
       "        }\n",
       "        </script>\n",
       "        "
      ]
     },
     "metadata": {},
     "output_type": "display_data"
    },
    {
     "data": {
      "text/html": [
       "        <script type=\"text/javascript\">\n",
       "        window.PlotlyConfig = {MathJaxConfig: 'local'};\n",
       "        if (window.MathJax) {MathJax.Hub.Config({SVG: {font: \"STIX-Web\"}});}\n",
       "        if (typeof require !== 'undefined') {\n",
       "        require.undef(\"plotly\");\n",
       "        requirejs.config({\n",
       "            paths: {\n",
       "                'plotly': ['https://cdn.plot.ly/plotly-latest.min']\n",
       "            }\n",
       "        });\n",
       "        require(['plotly'], function(Plotly) {\n",
       "            window._Plotly = Plotly;\n",
       "        });\n",
       "        }\n",
       "        </script>\n",
       "        "
      ]
     },
     "metadata": {},
     "output_type": "display_data"
    }
   ],
   "source": [
    "import pandas as pd\n",
    "import numpy as np\n",
    "import os\n",
    "import json\n",
    "\n",
    "import matplotlib.pyplot as plt\n",
    "import seaborn as sns\n",
    "%matplotlib inline\n",
    "\n",
    "from plotly.offline import download_plotlyjs, init_notebook_mode, plot, iplot\n",
    "import cufflinks as cf\n",
    "init_notebook_mode(connected=True)\n",
    "cf.go_offline()\n",
    "import plotly.express as px\n",
    "import plotly.graph_objects as go\n",
    "from plotly.subplots import make_subplots"
   ]
  },
  {
   "cell_type": "markdown",
   "metadata": {},
   "source": [
    "<a id='imports'></a>"
   ]
  },
  {
   "cell_type": "markdown",
   "metadata": {},
   "source": [
    "## Importing data"
   ]
  },
  {
   "cell_type": "markdown",
   "metadata": {},
   "source": [
    "### Performance metrics"
   ]
  },
  {
   "cell_type": "code",
   "execution_count": 2,
   "metadata": {},
   "outputs": [],
   "source": [
    "# Outcomes from logistic regression estimations:\n",
    "os.chdir('/home/matheus_rosso/Arquivo/Features/Polynomials/Datasets/')\n",
    "\n",
    "metrics_LR = pd.read_csv('metrics_LR.csv', dtype={'store_id': int})\n",
    "metrics_LR['diff_avg_auc'] = metrics_LR.test_prec_avg - metrics_LR.test_pr_auc\n",
    "\n",
    "# Outcomes from GBM estimations:\n",
    "os.chdir('/home/matheus_rosso/Arquivo/Materiais/Codes/gbm_parameters/Codes')\n",
    "\n",
    "tun_n_estimators = {}\n",
    "with open('../Datasets/tun_n_estimators_005.json') as json_file:\n",
    "    tun_n_estimators['005'] = json.load(json_file)\n",
    "\n",
    "with open('../Datasets/tun_n_estimators_01.json') as json_file:\n",
    "    tun_n_estimators['01'] = json.load(json_file)"
   ]
  },
  {
   "cell_type": "markdown",
   "metadata": {},
   "source": [
    "### Dataset information"
   ]
  },
  {
   "cell_type": "code",
   "execution_count": 3,
   "metadata": {},
   "outputs": [
    {
     "name": "stdout",
     "output_type": "stream",
     "text": [
      "\u001b[1mShape of data_info:\u001b[0m (100, 4).\n"
     ]
    },
    {
     "data": {
      "text/html": [
       "<div>\n",
       "<style scoped>\n",
       "    .dataframe tbody tr th:only-of-type {\n",
       "        vertical-align: middle;\n",
       "    }\n",
       "\n",
       "    .dataframe tbody tr th {\n",
       "        vertical-align: top;\n",
       "    }\n",
       "\n",
       "    .dataframe thead th {\n",
       "        text-align: right;\n",
       "    }\n",
       "</style>\n",
       "<table border=\"1\" class=\"dataframe\">\n",
       "  <thead>\n",
       "    <tr style=\"text-align: right;\">\n",
       "      <th></th>\n",
       "      <th>store_id</th>\n",
       "      <th>n_orders</th>\n",
       "      <th>n_vars</th>\n",
       "      <th>avg_y</th>\n",
       "    </tr>\n",
       "  </thead>\n",
       "  <tbody>\n",
       "    <tr>\n",
       "      <td>0</td>\n",
       "      <td>11729</td>\n",
       "      <td>2570</td>\n",
       "      <td>1596</td>\n",
       "      <td>0.037354</td>\n",
       "    </tr>\n",
       "    <tr>\n",
       "      <td>1</td>\n",
       "      <td>10311</td>\n",
       "      <td>1999</td>\n",
       "      <td>2534</td>\n",
       "      <td>0.014007</td>\n",
       "    </tr>\n",
       "    <tr>\n",
       "      <td>2</td>\n",
       "      <td>7988</td>\n",
       "      <td>1077</td>\n",
       "      <td>3051</td>\n",
       "      <td>0.082637</td>\n",
       "    </tr>\n",
       "    <tr>\n",
       "      <td>3</td>\n",
       "      <td>4736</td>\n",
       "      <td>945</td>\n",
       "      <td>2393</td>\n",
       "      <td>0.048677</td>\n",
       "    </tr>\n",
       "    <tr>\n",
       "      <td>4</td>\n",
       "      <td>3481</td>\n",
       "      <td>4378</td>\n",
       "      <td>2545</td>\n",
       "      <td>0.013020</td>\n",
       "    </tr>\n",
       "  </tbody>\n",
       "</table>\n",
       "</div>"
      ],
      "text/plain": [
       "   store_id  n_orders  n_vars     avg_y\n",
       "0     11729      2570    1596  0.037354\n",
       "1     10311      1999    2534  0.014007\n",
       "2      7988      1077    3051  0.082637\n",
       "3      4736       945    2393  0.048677\n",
       "4      3481      4378    2545  0.013020"
      ]
     },
     "execution_count": 3,
     "metadata": {},
     "output_type": "execute_result"
    }
   ],
   "source": [
    "stores = []\n",
    "n_orders = []\n",
    "n_vars = []\n",
    "avg_y = []\n",
    "\n",
    "# Additional datasets information:\n",
    "with open('../Datasets/data_info_dict.json') as json_file:\n",
    "    data_info_dict = json.load(json_file)\n",
    "\n",
    "# Loop over datasets:\n",
    "for s in tun_n_estimators['01'].keys():\n",
    "    stores.append(int(s))\n",
    "    n_orders.append(int(tun_n_estimators['01'][s]['n_orders']))\n",
    "    n_vars.append(int(tun_n_estimators['01'][s]['n_vars']))\n",
    "    avg_y.append(data_info_dict[s]['avg_y'])\n",
    "\n",
    "data_info = pd.DataFrame(data={'store_id': stores, 'n_orders': n_orders, 'n_vars': n_vars, 'avg_y': avg_y})\n",
    "print('\\033[1mShape of data_info:\\033[0m ' + str(data_info.shape) + '.')\n",
    "data_info.head()"
   ]
  },
  {
   "cell_type": "markdown",
   "metadata": {},
   "source": [
    "<a id='lr'></a>"
   ]
  },
  {
   "cell_type": "markdown",
   "metadata": {},
   "source": [
    "## Logistic regression"
   ]
  },
  {
   "cell_type": "markdown",
   "metadata": {},
   "source": [
    "### Performance metrics"
   ]
  },
  {
   "cell_type": "code",
   "execution_count": 4,
   "metadata": {},
   "outputs": [
    {
     "name": "stdout",
     "output_type": "stream",
     "text": [
      "\u001b[1mShape of metrics_LR:\u001b[0m (100, 17).\n"
     ]
    },
    {
     "data": {
      "text/html": [
       "<div>\n",
       "<style scoped>\n",
       "    .dataframe tbody tr th:only-of-type {\n",
       "        vertical-align: middle;\n",
       "    }\n",
       "\n",
       "    .dataframe tbody tr th {\n",
       "        vertical-align: top;\n",
       "    }\n",
       "\n",
       "    .dataframe thead th {\n",
       "        text-align: right;\n",
       "    }\n",
       "</style>\n",
       "<table border=\"1\" class=\"dataframe\">\n",
       "  <thead>\n",
       "    <tr style=\"text-align: right;\">\n",
       "      <th></th>\n",
       "      <th>store_id</th>\n",
       "      <th>n_orders</th>\n",
       "      <th>n_vars</th>\n",
       "      <th>first_date</th>\n",
       "      <th>last_date</th>\n",
       "      <th>fraud_rate</th>\n",
       "      <th>avg_order_amount</th>\n",
       "      <th>method</th>\n",
       "      <th>best_tun_param</th>\n",
       "      <th>avg_scores</th>\n",
       "      <th>test_roc_auc</th>\n",
       "      <th>test_prec_avg</th>\n",
       "      <th>test_pr_auc</th>\n",
       "      <th>test_deviance</th>\n",
       "      <th>test_brier_score</th>\n",
       "      <th>running_time</th>\n",
       "      <th>diff_avg_auc</th>\n",
       "    </tr>\n",
       "  </thead>\n",
       "  <tbody>\n",
       "    <tr>\n",
       "      <td>0</td>\n",
       "      <td>11729</td>\n",
       "      <td>2570</td>\n",
       "      <td>1596</td>\n",
       "      <td>2020-02-06</td>\n",
       "      <td>2020-03-30</td>\n",
       "      <td>0.037354</td>\n",
       "      <td>228.760144</td>\n",
       "      <td>logistic_regression</td>\n",
       "      <td>0.1</td>\n",
       "      <td>0.043094</td>\n",
       "      <td>0.856387</td>\n",
       "      <td>0.241699</td>\n",
       "      <td>0.234384</td>\n",
       "      <td>884.021760</td>\n",
       "      <td>0.037176</td>\n",
       "      <td>0.17 minutes</td>\n",
       "      <td>0.007315</td>\n",
       "    </tr>\n",
       "    <tr>\n",
       "      <td>1</td>\n",
       "      <td>10311</td>\n",
       "      <td>1999</td>\n",
       "      <td>2534</td>\n",
       "      <td>2019-12-31</td>\n",
       "      <td>2020-03-30</td>\n",
       "      <td>0.014007</td>\n",
       "      <td>267.338549</td>\n",
       "      <td>logistic_regression</td>\n",
       "      <td>0.5</td>\n",
       "      <td>0.039896</td>\n",
       "      <td>0.761467</td>\n",
       "      <td>0.030169</td>\n",
       "      <td>0.021702</td>\n",
       "      <td>692.198446</td>\n",
       "      <td>0.025249</td>\n",
       "      <td>0.17 minutes</td>\n",
       "      <td>0.008467</td>\n",
       "    </tr>\n",
       "    <tr>\n",
       "      <td>2</td>\n",
       "      <td>7988</td>\n",
       "      <td>1077</td>\n",
       "      <td>3051</td>\n",
       "      <td>2020-01-01</td>\n",
       "      <td>2020-03-30</td>\n",
       "      <td>0.082637</td>\n",
       "      <td>1384.930251</td>\n",
       "      <td>logistic_regression</td>\n",
       "      <td>0.1</td>\n",
       "      <td>0.101978</td>\n",
       "      <td>0.673852</td>\n",
       "      <td>0.160857</td>\n",
       "      <td>0.153002</td>\n",
       "      <td>368.544427</td>\n",
       "      <td>0.073025</td>\n",
       "      <td>0.1 minutes</td>\n",
       "      <td>0.007855</td>\n",
       "    </tr>\n",
       "    <tr>\n",
       "      <td>3</td>\n",
       "      <td>4736</td>\n",
       "      <td>945</td>\n",
       "      <td>2393</td>\n",
       "      <td>2019-12-31</td>\n",
       "      <td>2020-03-30</td>\n",
       "      <td>0.048677</td>\n",
       "      <td>162.931524</td>\n",
       "      <td>logistic_regression</td>\n",
       "      <td>0.5</td>\n",
       "      <td>0.048856</td>\n",
       "      <td>0.991060</td>\n",
       "      <td>0.797542</td>\n",
       "      <td>0.788320</td>\n",
       "      <td>320.280417</td>\n",
       "      <td>0.017239</td>\n",
       "      <td>0.08 minutes</td>\n",
       "      <td>0.009221</td>\n",
       "    </tr>\n",
       "    <tr>\n",
       "      <td>4</td>\n",
       "      <td>3481</td>\n",
       "      <td>4378</td>\n",
       "      <td>2545</td>\n",
       "      <td>2020-01-01</td>\n",
       "      <td>2020-03-30</td>\n",
       "      <td>0.013020</td>\n",
       "      <td>175.374966</td>\n",
       "      <td>logistic_regression</td>\n",
       "      <td>0.1</td>\n",
       "      <td>0.021232</td>\n",
       "      <td>0.789114</td>\n",
       "      <td>0.087647</td>\n",
       "      <td>0.067384</td>\n",
       "      <td>1515.899458</td>\n",
       "      <td>0.008738</td>\n",
       "      <td>0.33 minutes</td>\n",
       "      <td>0.020263</td>\n",
       "    </tr>\n",
       "  </tbody>\n",
       "</table>\n",
       "</div>"
      ],
      "text/plain": [
       "   store_id  n_orders  n_vars  first_date   last_date  fraud_rate  \\\n",
       "0     11729      2570    1596  2020-02-06  2020-03-30    0.037354   \n",
       "1     10311      1999    2534  2019-12-31  2020-03-30    0.014007   \n",
       "2      7988      1077    3051  2020-01-01  2020-03-30    0.082637   \n",
       "3      4736       945    2393  2019-12-31  2020-03-30    0.048677   \n",
       "4      3481      4378    2545  2020-01-01  2020-03-30    0.013020   \n",
       "\n",
       "   avg_order_amount               method  best_tun_param  avg_scores  \\\n",
       "0        228.760144  logistic_regression             0.1    0.043094   \n",
       "1        267.338549  logistic_regression             0.5    0.039896   \n",
       "2       1384.930251  logistic_regression             0.1    0.101978   \n",
       "3        162.931524  logistic_regression             0.5    0.048856   \n",
       "4        175.374966  logistic_regression             0.1    0.021232   \n",
       "\n",
       "   test_roc_auc  test_prec_avg  test_pr_auc  test_deviance  test_brier_score  \\\n",
       "0      0.856387       0.241699     0.234384     884.021760          0.037176   \n",
       "1      0.761467       0.030169     0.021702     692.198446          0.025249   \n",
       "2      0.673852       0.160857     0.153002     368.544427          0.073025   \n",
       "3      0.991060       0.797542     0.788320     320.280417          0.017239   \n",
       "4      0.789114       0.087647     0.067384    1515.899458          0.008738   \n",
       "\n",
       "   running_time  diff_avg_auc  \n",
       "0  0.17 minutes      0.007315  \n",
       "1  0.17 minutes      0.008467  \n",
       "2   0.1 minutes      0.007855  \n",
       "3  0.08 minutes      0.009221  \n",
       "4  0.33 minutes      0.020263  "
      ]
     },
     "execution_count": 4,
     "metadata": {},
     "output_type": "execute_result"
    }
   ],
   "source": [
    "print('\\033[1mShape of metrics_LR:\\033[0m ' + str(metrics_LR.shape) + '.')\n",
    "metrics_LR.head()"
   ]
  },
  {
   "cell_type": "markdown",
   "metadata": {},
   "source": [
    "### Correlation between precision metrics"
   ]
  },
  {
   "cell_type": "code",
   "execution_count": 5,
   "metadata": {},
   "outputs": [
    {
     "name": "stdout",
     "output_type": "stream",
     "text": [
      "\u001b[1mCorrelation between average precision score and precison-recall AUC:\u001b[0m\n"
     ]
    },
    {
     "data": {
      "text/html": [
       "<div>\n",
       "<style scoped>\n",
       "    .dataframe tbody tr th:only-of-type {\n",
       "        vertical-align: middle;\n",
       "    }\n",
       "\n",
       "    .dataframe tbody tr th {\n",
       "        vertical-align: top;\n",
       "    }\n",
       "\n",
       "    .dataframe thead th {\n",
       "        text-align: right;\n",
       "    }\n",
       "</style>\n",
       "<table border=\"1\" class=\"dataframe\">\n",
       "  <thead>\n",
       "    <tr style=\"text-align: right;\">\n",
       "      <th></th>\n",
       "      <th>test_prec_avg</th>\n",
       "    </tr>\n",
       "  </thead>\n",
       "  <tbody>\n",
       "    <tr>\n",
       "      <td>test_prec_avg</td>\n",
       "      <td>1.000000</td>\n",
       "    </tr>\n",
       "    <tr>\n",
       "      <td>test_pr_auc</td>\n",
       "      <td>0.999597</td>\n",
       "    </tr>\n",
       "  </tbody>\n",
       "</table>\n",
       "</div>"
      ],
      "text/plain": [
       "               test_prec_avg\n",
       "test_prec_avg       1.000000\n",
       "test_pr_auc         0.999597"
      ]
     },
     "execution_count": 5,
     "metadata": {},
     "output_type": "execute_result"
    }
   ],
   "source": [
    "print('\\033[1mCorrelation between average precision score and precison-recall AUC:\\033[0m')\n",
    "metrics_LR[['test_prec_avg', 'test_pr_auc']].corr()[['test_prec_avg']]"
   ]
  },
  {
   "cell_type": "markdown",
   "metadata": {},
   "source": [
    "### Differences in precision metrics"
   ]
  },
  {
   "cell_type": "code",
   "execution_count": 6,
   "metadata": {},
   "outputs": [
    {
     "name": "stdout",
     "output_type": "stream",
     "text": [
      "\u001b[1mMean differences between average precision score and precision-recall AUC:\u001b[0m\n",
      "Number of positive mean differences: 94.\n",
      "Number of negative mean differences: 2.\n",
      "Number of missings: 3.\n"
     ]
    }
   ],
   "source": [
    "print('\\033[1mMean differences between average precision score and precision-recall AUC:\\033[0m')\n",
    "print('Number of positive mean differences: ' +\n",
    "      str(sum(1 for x in metrics_LR.diff_avg_auc if x > 0)) + '.')\n",
    "print('Number of negative mean differences: ' +\n",
    "      str(sum(1 for x in metrics_LR.diff_avg_auc if x < 0)) + '.')\n",
    "print('Number of missings: ' +\n",
    "      str(sum(1 for x in metrics_LR.diff_avg_auc if np.isnan(x))) + '.')"
   ]
  },
  {
   "cell_type": "code",
   "execution_count": 7,
   "metadata": {},
   "outputs": [
    {
     "name": "stdout",
     "output_type": "stream",
     "text": [
      "\u001b[1mMean differences between average precision score and precision-recall AUC:\u001b[0m\n"
     ]
    },
    {
     "data": {
      "text/html": [
       "<div>\n",
       "<style scoped>\n",
       "    .dataframe tbody tr th:only-of-type {\n",
       "        vertical-align: middle;\n",
       "    }\n",
       "\n",
       "    .dataframe tbody tr th {\n",
       "        vertical-align: top;\n",
       "    }\n",
       "\n",
       "    .dataframe thead th {\n",
       "        text-align: right;\n",
       "    }\n",
       "</style>\n",
       "<table border=\"1\" class=\"dataframe\">\n",
       "  <thead>\n",
       "    <tr style=\"text-align: right;\">\n",
       "      <th></th>\n",
       "      <th>count</th>\n",
       "      <th>mean</th>\n",
       "      <th>std</th>\n",
       "      <th>min</th>\n",
       "      <th>25%</th>\n",
       "      <th>50%</th>\n",
       "      <th>75%</th>\n",
       "      <th>max</th>\n",
       "    </tr>\n",
       "  </thead>\n",
       "  <tbody>\n",
       "    <tr>\n",
       "      <td>diff_avg_auc</td>\n",
       "      <td>97.0</td>\n",
       "      <td>0.006561</td>\n",
       "      <td>0.008729</td>\n",
       "      <td>-0.010943</td>\n",
       "      <td>0.000958</td>\n",
       "      <td>0.0032</td>\n",
       "      <td>0.008638</td>\n",
       "      <td>0.041201</td>\n",
       "    </tr>\n",
       "  </tbody>\n",
       "</table>\n",
       "</div>"
      ],
      "text/plain": [
       "              count      mean       std       min       25%     50%       75%  \\\n",
       "diff_avg_auc   97.0  0.006561  0.008729 -0.010943  0.000958  0.0032  0.008638   \n",
       "\n",
       "                   max  \n",
       "diff_avg_auc  0.041201  "
      ]
     },
     "execution_count": 7,
     "metadata": {},
     "output_type": "execute_result"
    }
   ],
   "source": [
    "print('\\033[1mMean differences between average precision score and precision-recall AUC:\\033[0m')\n",
    "metrics_LR[['diff_avg_auc']].describe().transpose()"
   ]
  },
  {
   "cell_type": "code",
   "execution_count": 8,
   "metadata": {},
   "outputs": [
    {
     "name": "stdout",
     "output_type": "stream",
     "text": [
      "\u001b[1mAverage of diff_avg_auc for diff_avg_auc > 0:\u001b[0m 0.006913.\n",
      "\u001b[1mAverage of diff_avg_auc for diff_avg_auc < 0:\u001b[0m -0.006693.\n"
     ]
    }
   ],
   "source": [
    "print('\\033[1mAverage of diff_avg_auc for diff_avg_auc > 0:\\033[0m ' +\n",
    "      str(round(np.mean([x for x in metrics_LR.diff_avg_auc if x > 0]), 6)) + '.')\n",
    "print('\\033[1mAverage of diff_avg_auc for diff_avg_auc < 0:\\033[0m ' +\n",
    "      str(round(np.mean([x for x in metrics_LR.diff_avg_auc if x < 0]), 6)) + '.')"
   ]
  },
  {
   "cell_type": "code",
   "execution_count": 9,
   "metadata": {},
   "outputs": [
    {
     "data": {
      "text/plain": [
       "<matplotlib.axes._subplots.AxesSubplot at 0x7ff50f16d190>"
      ]
     },
     "execution_count": 9,
     "metadata": {},
     "output_type": "execute_result"
    },
    {
     "data": {
      "image/png": "[encoded data removed]",
      "text/plain": [
       "<matplotlib.figure.Figure at 0x7ff50f16d790>"
      ]
     },
     "metadata": {
      "needs_background": "light"
     },
     "output_type": "display_data"
    }
   ],
   "source": [
    "metrics_LR.diff_avg_auc.hist(bins=30)"
   ]
  },
  {
   "cell_type": "markdown",
   "metadata": {},
   "source": [
    "<a id='gbm'></a>"
   ]
  },
  {
   "cell_type": "markdown",
   "metadata": {},
   "source": [
    "## GBM"
   ]
  },
  {
   "cell_type": "markdown",
   "metadata": {},
   "source": [
    "### Performance metrics"
   ]
  },
  {
   "cell_type": "code",
   "execution_count": 10,
   "metadata": {
    "scrolled": true
   },
   "outputs": [
    {
     "name": "stderr",
     "output_type": "stream",
     "text": [
      "/home/matheus_rosso/anaconda3/lib/python3.7/site-packages/ipykernel_launcher.py:19: RuntimeWarning:\n",
      "\n",
      "Mean of empty slice\n",
      "\n"
     ]
    }
   ],
   "source": [
    "diff_avg_auc = {}\n",
    "mean_diff_avg_auc = []\n",
    "mean_avg_score = []\n",
    "mean_pr_auc = []\n",
    "\n",
    "# Loop over stores:\n",
    "for s in tun_n_estimators['01'].keys():\n",
    "    diff_avg_auc[s] = []\n",
    "    \n",
    "    # Loop over estimations:\n",
    "    for n in tun_n_estimators['01'][s]['test_prec_avg'].keys():\n",
    "        diff_avg_auc[s].append(tun_n_estimators['01'][s]['test_prec_avg'][n] - tun_n_estimators['01'][s]['test_pr_auc'][n])\n",
    "    \n",
    "    # Means of average precision score and precision-recall AUC:\n",
    "    mean_avg_score.append(np.mean(list(tun_n_estimators['01'][s]['test_prec_avg'].values())))\n",
    "    mean_pr_auc.append(np.mean(list(tun_n_estimators['01'][s]['test_pr_auc'].values())))\n",
    "    \n",
    "    # Mean of differences over all estimations and for a given store:\n",
    "    mean_diff_avg_auc.append(np.nanmean(diff_avg_auc[s]))"
   ]
  },
  {
   "cell_type": "markdown",
   "metadata": {},
   "source": [
    "### Correlation between precision metrics"
   ]
  },
  {
   "cell_type": "code",
   "execution_count": 11,
   "metadata": {},
   "outputs": [
    {
     "name": "stdout",
     "output_type": "stream",
     "text": [
      "\u001b[1mCorrelation between average precision score and precison-recall AUC:\u001b[0m\n"
     ]
    },
    {
     "data": {
      "text/html": [
       "<div>\n",
       "<style scoped>\n",
       "    .dataframe tbody tr th:only-of-type {\n",
       "        vertical-align: middle;\n",
       "    }\n",
       "\n",
       "    .dataframe tbody tr th {\n",
       "        vertical-align: top;\n",
       "    }\n",
       "\n",
       "    .dataframe thead th {\n",
       "        text-align: right;\n",
       "    }\n",
       "</style>\n",
       "<table border=\"1\" class=\"dataframe\">\n",
       "  <thead>\n",
       "    <tr style=\"text-align: right;\">\n",
       "      <th></th>\n",
       "      <th>mean_avg_score</th>\n",
       "    </tr>\n",
       "  </thead>\n",
       "  <tbody>\n",
       "    <tr>\n",
       "      <td>mean_avg_score</td>\n",
       "      <td>1.000000</td>\n",
       "    </tr>\n",
       "    <tr>\n",
       "      <td>mean_pr_auc</td>\n",
       "      <td>0.940949</td>\n",
       "    </tr>\n",
       "  </tbody>\n",
       "</table>\n",
       "</div>"
      ],
      "text/plain": [
       "                mean_avg_score\n",
       "mean_avg_score        1.000000\n",
       "mean_pr_auc           0.940949"
      ]
     },
     "execution_count": 11,
     "metadata": {},
     "output_type": "execute_result"
    }
   ],
   "source": [
    "print('\\033[1mCorrelation between average precision score and precison-recall AUC:\\033[0m')\n",
    "pd.DataFrame(data={'mean_avg_score': mean_avg_score, 'mean_pr_auc': mean_pr_auc}).corr()[['mean_avg_score']]"
   ]
  },
  {
   "cell_type": "markdown",
   "metadata": {},
   "source": [
    "### Differences in precision metrics"
   ]
  },
  {
   "cell_type": "code",
   "execution_count": 12,
   "metadata": {},
   "outputs": [
    {
     "name": "stdout",
     "output_type": "stream",
     "text": [
      "\u001b[1mMean differences between average precision score and precision-recall AUC:\u001b[0m\n",
      "Number of positive mean differences: 80.\n",
      "Number of negative mean differences: 17.\n",
      "Number of missings: 3.\n"
     ]
    }
   ],
   "source": [
    "print('\\033[1mMean differences between average precision score and precision-recall AUC:\\033[0m')\n",
    "print('Number of positive mean differences: ' +\n",
    "      str(sum(1 for x in mean_diff_avg_auc if x > 0)) + '.')\n",
    "print('Number of negative mean differences: ' +\n",
    "      str(sum(1 for x in mean_diff_avg_auc if x < 0)) + '.')\n",
    "print('Number of missings: ' +\n",
    "      str(sum(1 for x in mean_diff_avg_auc if np.isnan(x))) + '.')"
   ]
  },
  {
   "cell_type": "code",
   "execution_count": 13,
   "metadata": {},
   "outputs": [
    {
     "name": "stdout",
     "output_type": "stream",
     "text": [
      "\u001b[1mMean differences between average precision score and precision-recall AUC:\u001b[0m\n"
     ]
    },
    {
     "data": {
      "text/html": [
       "<div>\n",
       "<style scoped>\n",
       "    .dataframe tbody tr th:only-of-type {\n",
       "        vertical-align: middle;\n",
       "    }\n",
       "\n",
       "    .dataframe tbody tr th {\n",
       "        vertical-align: top;\n",
       "    }\n",
       "\n",
       "    .dataframe thead th {\n",
       "        text-align: right;\n",
       "    }\n",
       "</style>\n",
       "<table border=\"1\" class=\"dataframe\">\n",
       "  <thead>\n",
       "    <tr style=\"text-align: right;\">\n",
       "      <th></th>\n",
       "      <th>count</th>\n",
       "      <th>mean</th>\n",
       "      <th>std</th>\n",
       "      <th>min</th>\n",
       "      <th>25%</th>\n",
       "      <th>50%</th>\n",
       "      <th>75%</th>\n",
       "      <th>max</th>\n",
       "    </tr>\n",
       "  </thead>\n",
       "  <tbody>\n",
       "    <tr>\n",
       "      <td>mean_diff_avg_auc</td>\n",
       "      <td>97.0</td>\n",
       "      <td>-0.015428</td>\n",
       "      <td>0.091219</td>\n",
       "      <td>-0.499007</td>\n",
       "      <td>0.00048</td>\n",
       "      <td>0.002265</td>\n",
       "      <td>0.006456</td>\n",
       "      <td>0.06015</td>\n",
       "    </tr>\n",
       "  </tbody>\n",
       "</table>\n",
       "</div>"
      ],
      "text/plain": [
       "                   count      mean       std       min      25%       50%  \\\n",
       "mean_diff_avg_auc   97.0 -0.015428  0.091219 -0.499007  0.00048  0.002265   \n",
       "\n",
       "                        75%      max  \n",
       "mean_diff_avg_auc  0.006456  0.06015  "
      ]
     },
     "execution_count": 13,
     "metadata": {},
     "output_type": "execute_result"
    }
   ],
   "source": [
    "print('\\033[1mMean differences between average precision score and precision-recall AUC:\\033[0m')\n",
    "pd.DataFrame(data=mean_diff_avg_auc, columns=['mean_diff_avg_auc']).describe().transpose()"
   ]
  },
  {
   "cell_type": "code",
   "execution_count": 14,
   "metadata": {},
   "outputs": [
    {
     "name": "stdout",
     "output_type": "stream",
     "text": [
      "\u001b[1mAverage of diff_avg_auc for diff_avg_auc > 0:\u001b[0m 0.007135.\n",
      "\u001b[1mAverage of diff_avg_auc for diff_avg_auc < 0:\u001b[0m -0.121607.\n"
     ]
    }
   ],
   "source": [
    "print('\\033[1mAverage of diff_avg_auc for diff_avg_auc > 0:\\033[0m ' +\n",
    "      str(round(np.mean([x for x in mean_diff_avg_auc if x > 0]), 6)) + '.')\n",
    "print('\\033[1mAverage of diff_avg_auc for diff_avg_auc < 0:\\033[0m ' +\n",
    "      str(round(np.mean([x for x in mean_diff_avg_auc if x < 0]), 6)) + '.')"
   ]
  },
  {
   "cell_type": "code",
   "execution_count": 15,
   "metadata": {},
   "outputs": [
    {
     "name": "stdout",
     "output_type": "stream",
     "text": [
      "\u001b[1mAverage of diff_avg_auc without outliers:\u001b[0m 0.004021.\n"
     ]
    }
   ],
   "source": [
    "print('\\033[1mAverage of diff_avg_auc without outliers:\\033[0m ' +\n",
    "      str(round(np.mean([x for x in mean_diff_avg_auc if x > -0.1]), 6)) + '.')"
   ]
  },
  {
   "cell_type": "code",
   "execution_count": 16,
   "metadata": {},
   "outputs": [
    {
     "name": "stdout",
     "output_type": "stream",
     "text": [
      "\u001b[1mMean differences between average precision score and precision-recall AUC:\u001b[0m\n"
     ]
    },
    {
     "data": {
      "text/plain": [
       "<matplotlib.axes._subplots.AxesSubplot at 0x7ff50ce5e890>"
      ]
     },
     "execution_count": 16,
     "metadata": {},
     "output_type": "execute_result"
    },
    {
     "data": {
      "image/png": "[encoded data removed]",
      "text/plain": [
       "<matplotlib.figure.Figure at 0x7ff50ce4d550>"
      ]
     },
     "metadata": {
      "needs_background": "light"
     },
     "output_type": "display_data"
    }
   ],
   "source": [
    "print('\\033[1mMean differences between average precision score and precision-recall AUC:\\033[0m')\n",
    "pd.DataFrame(data=mean_diff_avg_auc, columns=['mean_diff_avg_auc']).mean_diff_avg_auc.hist(bins=30)"
   ]
  },
  {
   "cell_type": "code",
   "execution_count": 17,
   "metadata": {},
   "outputs": [
    {
     "data": {
      "text/html": [
       "<div>\n",
       "<style scoped>\n",
       "    .dataframe tbody tr th:only-of-type {\n",
       "        vertical-align: middle;\n",
       "    }\n",
       "\n",
       "    .dataframe tbody tr th {\n",
       "        vertical-align: top;\n",
       "    }\n",
       "\n",
       "    .dataframe thead th {\n",
       "        text-align: right;\n",
       "    }\n",
       "</style>\n",
       "<table border=\"1\" class=\"dataframe\">\n",
       "  <thead>\n",
       "    <tr style=\"text-align: right;\">\n",
       "      <th></th>\n",
       "      <th>mean_diff_avg_auc</th>\n",
       "    </tr>\n",
       "  </thead>\n",
       "  <tbody>\n",
       "    <tr>\n",
       "      <td>94</td>\n",
       "      <td>-0.499007</td>\n",
       "    </tr>\n",
       "    <tr>\n",
       "      <td>77</td>\n",
       "      <td>-0.498256</td>\n",
       "    </tr>\n",
       "    <tr>\n",
       "      <td>76</td>\n",
       "      <td>-0.456949</td>\n",
       "    </tr>\n",
       "    <tr>\n",
       "      <td>7</td>\n",
       "      <td>-0.275283</td>\n",
       "    </tr>\n",
       "    <tr>\n",
       "      <td>81</td>\n",
       "      <td>-0.136898</td>\n",
       "    </tr>\n",
       "    <tr>\n",
       "      <td>49</td>\n",
       "      <td>-0.077375</td>\n",
       "    </tr>\n",
       "    <tr>\n",
       "      <td>93</td>\n",
       "      <td>-0.033468</td>\n",
       "    </tr>\n",
       "    <tr>\n",
       "      <td>80</td>\n",
       "      <td>-0.023205</td>\n",
       "    </tr>\n",
       "    <tr>\n",
       "      <td>75</td>\n",
       "      <td>-0.022153</td>\n",
       "    </tr>\n",
       "    <tr>\n",
       "      <td>59</td>\n",
       "      <td>-0.015781</td>\n",
       "    </tr>\n",
       "  </tbody>\n",
       "</table>\n",
       "</div>"
      ],
      "text/plain": [
       "    mean_diff_avg_auc\n",
       "94          -0.499007\n",
       "77          -0.498256\n",
       "76          -0.456949\n",
       "7           -0.275283\n",
       "81          -0.136898\n",
       "49          -0.077375\n",
       "93          -0.033468\n",
       "80          -0.023205\n",
       "75          -0.022153\n",
       "59          -0.015781"
      ]
     },
     "execution_count": 17,
     "metadata": {},
     "output_type": "execute_result"
    }
   ],
   "source": [
    "pd.DataFrame(data=mean_diff_avg_auc, columns=['mean_diff_avg_auc']).sort_values('mean_diff_avg_auc').head(10)"
   ]
  },
  {
   "cell_type": "code",
   "execution_count": 18,
   "metadata": {},
   "outputs": [
    {
     "data": {
      "text/html": [
       "<div>\n",
       "<style scoped>\n",
       "    .dataframe tbody tr th:only-of-type {\n",
       "        vertical-align: middle;\n",
       "    }\n",
       "\n",
       "    .dataframe tbody tr th {\n",
       "        vertical-align: top;\n",
       "    }\n",
       "\n",
       "    .dataframe thead th {\n",
       "        text-align: right;\n",
       "    }\n",
       "</style>\n",
       "<table border=\"1\" class=\"dataframe\">\n",
       "  <thead>\n",
       "    <tr style=\"text-align: right;\">\n",
       "      <th></th>\n",
       "      <th>store_id</th>\n",
       "      <th>n_orders</th>\n",
       "      <th>n_vars</th>\n",
       "      <th>first_date</th>\n",
       "      <th>last_date</th>\n",
       "      <th>fraud_rate</th>\n",
       "      <th>avg_order_amount</th>\n",
       "      <th>method</th>\n",
       "      <th>best_tun_param</th>\n",
       "      <th>avg_scores</th>\n",
       "      <th>test_roc_auc</th>\n",
       "      <th>test_prec_avg</th>\n",
       "      <th>test_pr_auc</th>\n",
       "      <th>test_deviance</th>\n",
       "      <th>test_brier_score</th>\n",
       "      <th>running_time</th>\n",
       "      <th>diff_avg_auc</th>\n",
       "    </tr>\n",
       "  </thead>\n",
       "  <tbody>\n",
       "    <tr>\n",
       "      <td>94</td>\n",
       "      <td>1210</td>\n",
       "      <td>4028</td>\n",
       "      <td>2101</td>\n",
       "      <td>2020-01-01</td>\n",
       "      <td>2020-03-30</td>\n",
       "      <td>0.00149</td>\n",
       "      <td>412.945199</td>\n",
       "      <td>logistic_regression</td>\n",
       "      <td>1.0</td>\n",
       "      <td>0.000638</td>\n",
       "      <td>0.404975</td>\n",
       "      <td>0.00308</td>\n",
       "      <td>0.002015</td>\n",
       "      <td>1395.996527</td>\n",
       "      <td>0.001992</td>\n",
       "      <td>0.18 minutes</td>\n",
       "      <td>0.001065</td>\n",
       "    </tr>\n",
       "  </tbody>\n",
       "</table>\n",
       "</div>"
      ],
      "text/plain": [
       "    store_id  n_orders  n_vars  first_date   last_date  fraud_rate  \\\n",
       "94      1210      4028    2101  2020-01-01  2020-03-30     0.00149   \n",
       "\n",
       "    avg_order_amount               method  best_tun_param  avg_scores  \\\n",
       "94        412.945199  logistic_regression             1.0    0.000638   \n",
       "\n",
       "    test_roc_auc  test_prec_avg  test_pr_auc  test_deviance  test_brier_score  \\\n",
       "94      0.404975        0.00308     0.002015    1395.996527          0.001992   \n",
       "\n",
       "    running_time  diff_avg_auc  \n",
       "94  0.18 minutes      0.001065  "
      ]
     },
     "execution_count": 18,
     "metadata": {},
     "output_type": "execute_result"
    }
   ],
   "source": [
    "metrics_LR[metrics_LR.store_id.isin([list(tun_n_estimators['01'].keys())[pd.DataFrame(data=mean_diff_avg_auc,\n",
    "                    columns=['mean_diff_avg_auc']).mean_diff_avg_auc.idxmin()]])]"
   ]
  },
  {
   "cell_type": "code",
   "execution_count": null,
   "metadata": {},
   "outputs": [],
   "source": []
  }
 ],
 "metadata": {
  "kernelspec": {
   "display_name": "Python 3",
   "language": "python",
   "name": "python3"
  },
  "language_info": {
   "codemirror_mode": {
    "name": "ipython",
    "version": 3
   },
   "file_extension": ".py",
   "mimetype": "text/x-python",
   "name": "python",
   "nbconvert_exporter": "python",
   "pygments_lexer": "ipython3",
   "version": "3.7.4"
  }
 },
 "nbformat": 4,
 "nbformat_minor": 2
}
