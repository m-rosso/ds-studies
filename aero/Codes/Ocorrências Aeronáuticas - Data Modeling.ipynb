{
 "cells": [
  {
   "cell_type": "markdown",
   "id": "801a8e25",
   "metadata": {},
   "source": [
    "## Ocorrências aeronáuticas na aviação civil brasileira\n",
    "## Data modeling"
   ]
  },
  {
   "cell_type": "markdown",
   "id": "218ec7ea",
   "metadata": {},
   "source": [
    "Este notebook parte do notebook de exploração de dados para realizar a **classificação de ocorrências aéreas entre acidentes e incidentes**. Uma vez importados os dados, operações de feature engineering são realizadas, sobretudo aquelas para conciliação entre os datasets de ocorrências e de aeronaves, os quais dispõem de entidades básicas diferentes. Então, o procedimento de modelagem inicia com o pré-processamento dos dados, para que então diferentes modelos de classificação sejam treinados a partir de diferentes algoritmos de aprendizado.\n",
    "\n",
    "Quanto às operações de **pré-processamento**, missings são avaliados e features são classificadas entre numéricas, binárias e categóricas, a partir do que as numéricas podem receber a transformação logarítmica e a padronização, enquanto que as categóricas implicam na transformação de one-hot encoding. Além disso, o ocorre o tratamento de missings com a imputação de 0 e a criação de variáveis binárias indicando a ocorrência de um missing para uma dada variável.\n",
    "\n",
    "O treinamento de modelos parte dos seguintes algoritmos de aprendizado:\n",
    "* [Regressão logística com regularização L1](https://scikit-learn.org/stable/modules/generated/sklearn.linear_model.LogisticRegression.html):\n",
    "    * Hiper-parâmetro otimizado via grid search: parâmetro de regularização.\n",
    "\n",
    "\n",
    "* [SVM com kernel polinomial](https://scikit-learn.org/stable/modules/generated/sklearn.svm.SVC.html):\n",
    "    * Hiper-parâmetro otimizado via grid search: grau máximo do polinômio.\n",
    "    \n",
    "\n",
    "* [LightGBM](https://lightgbm.readthedocs.io/en/latest/) e [XGBoost](https://xgboost.readthedocs.io/en/stable/):\n",
    "    * Hiper-parâmetros otimizados via random search: subsample, maximum depth, learning rate e número de estimadores do ensemble.\n",
    "    \n",
    "Uma vez que os hiper-parâmetros sejam otimizados via K-folds cross-validation nos dados de treinamento, os modelos finais são avaliados no dataset de teste, o que permite a escolha do melhor modelo, bem como a otimização do limiar. Quanto às métricas de performance avaliadas, o [ROC-AUC](https://scikit-learn.org/stable/modules/generated/sklearn.metrics.roc_auc_score.html) foi calculado para otimização dos hiper-parâmetros, enquanto que o limiar segue da otimização do [Matthews correlation coefficient (MCC)](https://scikit-learn.org/stable/modules/generated/sklearn.metrics.matthews_corrcoef.html)."
   ]
  },
  {
   "cell_type": "markdown",
   "id": "949d80d7",
   "metadata": {},
   "source": [
    "**Sumário:**\n",
    "1. [Bibliotecas](#libraries)<a href='#libraries'></a>.\n",
    "2. [Funções e classes](#functions_classes)<a href='#functions_classes'></a>.\n",
    "3. [Configurações](#settings)<a href='#settings'></a>.\n",
    "4. [Importando os dados](#imports)<a href='#imports'></a>.\n",
    "    * [Feature engineering](#feat_eng)<a href='#feat_eng'></a>.\n",
    "\n",
    "\n",
    "5. [Modelagem](#data_modeling)<a href='#data_modeling'></a>.\n",
    "    * [Pré-processamento dos dados](#pre_proc)<a href='#pre_proc'></a>.\n",
    "    * [Regressão logística](#lr)<a href='#lr'></a>.\n",
    "    * [SVM](#svm)<a href='#svm'></a>.\n",
    "    * [LightGBM](#lightgbm)<a href='#lightgbm'></a>.\n",
    "    * [XGBoost](#xgboost)<a href='#xgboost'></a>.\n",
    "    * [Model selection](#model_selection)<a href='#model_selection'></a>."
   ]
  },
  {
   "cell_type": "markdown",
   "id": "5a60d70e",
   "metadata": {},
   "source": [
    "<a id='libraries'></a>"
   ]
  },
  {
   "cell_type": "markdown",
   "id": "17ef5792",
   "metadata": {},
   "source": [
    "## Bibliotecas"
   ]
  },
  {
   "cell_type": "code",
   "execution_count": 1,
   "id": "6ae6347d",
   "metadata": {},
   "outputs": [],
   "source": [
    "import pandas as pd\n",
    "import numpy as np\n",
    "from datetime import datetime\n",
    "import time\n",
    "\n",
    "from sklearn.linear_model import LogisticRegression\n",
    "from sklearn.metrics import matthews_corrcoef, confusion_matrix, accuracy_score\n",
    "from scipy.stats import norm, uniform, randint"
   ]
  },
  {
   "cell_type": "markdown",
   "id": "f8b68ebc",
   "metadata": {},
   "source": [
    "<a id='functions_classes'></a>"
   ]
  },
  {
   "cell_type": "markdown",
   "id": "d72b558f",
   "metadata": {},
   "source": [
    "## Funções e classes"
   ]
  },
  {
   "cell_type": "code",
   "execution_count": 2,
   "id": "7f19b485",
   "metadata": {},
   "outputs": [],
   "source": [
    "from utils import train_test_split, running_time\n",
    "from transformations import applying_one_hot\n",
    "from pre_process import pre_process\n",
    "from kfolds import Kfolds_fit\n",
    "from features_selection import FeaturesSelection"
   ]
  },
  {
   "cell_type": "markdown",
   "id": "2e1c10ac",
   "metadata": {},
   "source": [
    "<a id='settings'></a>"
   ]
  },
  {
   "cell_type": "markdown",
   "id": "446878b1",
   "metadata": {},
   "source": [
    "## Configurações"
   ]
  },
  {
   "cell_type": "code",
   "execution_count": 3,
   "id": "edc557fe",
   "metadata": {},
   "outputs": [],
   "source": [
    "# Indique se resultados devem ser exportados:\n",
    "export = True\n",
    "\n",
    "# Indique se as variáveis numéricas devem ser transformadas:\n",
    "numerical_transf = True\n",
    "\n",
    "# Descreve o teste a ser executado:\n",
    "comment = ''"
   ]
  },
  {
   "cell_type": "markdown",
   "id": "ac275689",
   "metadata": {},
   "source": [
    "<a id='imports'></a>"
   ]
  },
  {
   "cell_type": "markdown",
   "id": "59e63920",
   "metadata": {},
   "source": [
    "## Importando os dados"
   ]
  },
  {
   "cell_type": "markdown",
   "id": "cf2cd769",
   "metadata": {},
   "source": [
    "<a id='ocorr'></a>"
   ]
  },
  {
   "cell_type": "markdown",
   "id": "59cf88d2",
   "metadata": {},
   "source": [
    "### Dados de ocorrência"
   ]
  },
  {
   "cell_type": "code",
   "execution_count": 4,
   "id": "73a28019",
   "metadata": {},
   "outputs": [
    {
     "name": "stdout",
     "output_type": "stream",
     "text": [
      "Shape de ocorr: (6114, 25).\n",
      "Número de observações distintas: 6114.\n",
      "Intervalo de tempo: (2010-01-03 00:00:00, 2021-08-18 00:00:00).\n"
     ]
    },
    {
     "data": {
      "text/html": [
       "<div>\n",
       "<style scoped>\n",
       "    .dataframe tbody tr th:only-of-type {\n",
       "        vertical-align: middle;\n",
       "    }\n",
       "\n",
       "    .dataframe tbody tr th {\n",
       "        vertical-align: top;\n",
       "    }\n",
       "\n",
       "    .dataframe thead th {\n",
       "        text-align: right;\n",
       "    }\n",
       "</style>\n",
       "<table border=\"1\" class=\"dataframe\">\n",
       "  <thead>\n",
       "    <tr style=\"text-align: right;\">\n",
       "      <th></th>\n",
       "      <th>codigo_ocorrencia</th>\n",
       "      <th>codigo_ocorrencia1</th>\n",
       "      <th>codigo_ocorrencia2</th>\n",
       "      <th>codigo_ocorrencia3</th>\n",
       "      <th>codigo_ocorrencia4</th>\n",
       "      <th>ocorrencia_classificacao</th>\n",
       "      <th>ocorrencia_latitude</th>\n",
       "      <th>ocorrencia_longitude</th>\n",
       "      <th>ocorrencia_cidade</th>\n",
       "      <th>ocorrencia_uf</th>\n",
       "      <th>...</th>\n",
       "      <th>investigacao_status</th>\n",
       "      <th>divulgacao_relatorio_numero</th>\n",
       "      <th>divulgacao_relatorio_publicado</th>\n",
       "      <th>divulgacao_dia_publicacao</th>\n",
       "      <th>total_recomendacoes</th>\n",
       "      <th>total_aeronaves_envolvidas</th>\n",
       "      <th>ocorrencia_saida_pista</th>\n",
       "      <th>y</th>\n",
       "      <th>weekday</th>\n",
       "      <th>faixa_hora</th>\n",
       "    </tr>\n",
       "  </thead>\n",
       "  <tbody>\n",
       "    <tr>\n",
       "      <th>0</th>\n",
       "      <td>40351</td>\n",
       "      <td>40351</td>\n",
       "      <td>40351</td>\n",
       "      <td>40351</td>\n",
       "      <td>40351</td>\n",
       "      <td>INCIDENTE</td>\n",
       "      <td>NaN</td>\n",
       "      <td>NaN</td>\n",
       "      <td>RIO DE JANEIRO</td>\n",
       "      <td>RJ</td>\n",
       "      <td>...</td>\n",
       "      <td>FINALIZADA</td>\n",
       "      <td>NaN</td>\n",
       "      <td>NÃO</td>\n",
       "      <td>NaN</td>\n",
       "      <td>0</td>\n",
       "      <td>1</td>\n",
       "      <td>NÃO</td>\n",
       "      <td>0</td>\n",
       "      <td>6</td>\n",
       "      <td>03</td>\n",
       "    </tr>\n",
       "    <tr>\n",
       "      <th>1</th>\n",
       "      <td>40349</td>\n",
       "      <td>40349</td>\n",
       "      <td>40349</td>\n",
       "      <td>40349</td>\n",
       "      <td>40349</td>\n",
       "      <td>INCIDENTE</td>\n",
       "      <td>NaN</td>\n",
       "      <td>NaN</td>\n",
       "      <td>BELÉM</td>\n",
       "      <td>PA</td>\n",
       "      <td>...</td>\n",
       "      <td>FINALIZADA</td>\n",
       "      <td>NaN</td>\n",
       "      <td>NÃO</td>\n",
       "      <td>NaN</td>\n",
       "      <td>0</td>\n",
       "      <td>1</td>\n",
       "      <td>NÃO</td>\n",
       "      <td>0</td>\n",
       "      <td>6</td>\n",
       "      <td>11</td>\n",
       "    </tr>\n",
       "    <tr>\n",
       "      <th>2</th>\n",
       "      <td>40211</td>\n",
       "      <td>40211</td>\n",
       "      <td>40211</td>\n",
       "      <td>40211</td>\n",
       "      <td>40211</td>\n",
       "      <td>INCIDENTE</td>\n",
       "      <td>***</td>\n",
       "      <td>***</td>\n",
       "      <td>RIO DE JANEIRO</td>\n",
       "      <td>RJ</td>\n",
       "      <td>...</td>\n",
       "      <td>FINALIZADA</td>\n",
       "      <td>***</td>\n",
       "      <td>NÃO</td>\n",
       "      <td>NaN</td>\n",
       "      <td>0</td>\n",
       "      <td>1</td>\n",
       "      <td>NÃO</td>\n",
       "      <td>0</td>\n",
       "      <td>6</td>\n",
       "      <td>12</td>\n",
       "    </tr>\n",
       "  </tbody>\n",
       "</table>\n",
       "<p>3 rows × 25 columns</p>\n",
       "</div>"
      ],
      "text/plain": [
       "   codigo_ocorrencia  codigo_ocorrencia1  codigo_ocorrencia2  \\\n",
       "0              40351               40351               40351   \n",
       "1              40349               40349               40349   \n",
       "2              40211               40211               40211   \n",
       "\n",
       "   codigo_ocorrencia3  codigo_ocorrencia4 ocorrencia_classificacao  \\\n",
       "0               40351               40351                INCIDENTE   \n",
       "1               40349               40349                INCIDENTE   \n",
       "2               40211               40211                INCIDENTE   \n",
       "\n",
       "  ocorrencia_latitude ocorrencia_longitude ocorrencia_cidade ocorrencia_uf  \\\n",
       "0                 NaN                  NaN    RIO DE JANEIRO            RJ   \n",
       "1                 NaN                  NaN             BELÉM            PA   \n",
       "2                 ***                  ***    RIO DE JANEIRO            RJ   \n",
       "\n",
       "   ... investigacao_status divulgacao_relatorio_numero  \\\n",
       "0  ...          FINALIZADA                         NaN   \n",
       "1  ...          FINALIZADA                         NaN   \n",
       "2  ...          FINALIZADA                         ***   \n",
       "\n",
       "  divulgacao_relatorio_publicado divulgacao_dia_publicacao  \\\n",
       "0                            NÃO                       NaN   \n",
       "1                            NÃO                       NaN   \n",
       "2                            NÃO                       NaN   \n",
       "\n",
       "  total_recomendacoes total_aeronaves_envolvidas ocorrencia_saida_pista  y  \\\n",
       "0                   0                          1                    NÃO  0   \n",
       "1                   0                          1                    NÃO  0   \n",
       "2                   0                          1                    NÃO  0   \n",
       "\n",
       "  weekday  faixa_hora  \n",
       "0       6          03  \n",
       "1       6          11  \n",
       "2       6          12  \n",
       "\n",
       "[3 rows x 25 columns]"
      ]
     },
     "execution_count": 4,
     "metadata": {},
     "output_type": "execute_result"
    }
   ],
   "source": [
    "ocorr = pd.read_csv('../Datasets/ocorrencia.csv', sep=';')\n",
    "\n",
    "# Criando o label de acidente:\n",
    "ocorr['y'] = ocorr.ocorrencia_classificacao.apply(lambda x: 1 if 'acidente' in x.lower() else 0)\n",
    "\n",
    "# Modificando as variáveis de data e hora:\n",
    "ocorr['ocorrencia_dia'] = ocorr['ocorrencia_dia'].apply(lambda x: x.split('/')[2]+'-'+x.split('/')[1]+'-'+\\\n",
    "                                                            x.split('/')[0])\n",
    "ocorr['ocorrencia_dia'] = ocorr['ocorrencia_dia'].apply(lambda x: datetime.strptime(x, '%Y-%m-%d'))\n",
    "ocorr['weekday'] = ocorr['ocorrencia_dia'].apply(lambda x: str(x.weekday()))\n",
    "ocorr['faixa_hora'] = ocorr.ocorrencia_hora.apply(lambda x: str(x).split(':')[0] if len(str(x).split(':')) > 0\n",
    "                                                  else np.NaN)\n",
    "\n",
    "print(f'Shape de ocorr: {ocorr.shape}.')\n",
    "print(f'Número de observações distintas: {ocorr.codigo_ocorrencia.nunique()}.')\n",
    "print(f'Intervalo de tempo: ({ocorr.ocorrencia_dia.min()}, {ocorr.ocorrencia_dia.max()}).')\n",
    "\n",
    "# Conjunto de variáveis de suporte:\n",
    "drop_vars = ['codigo_ocorrencia', 'codigo_ocorrencia1', 'codigo_ocorrencia2', 'codigo_ocorrencia3',\n",
    "             'codigo_ocorrencia4', 'ocorrencia_classificacao', 'ocorrencia_aerodromo',\n",
    "             'investigacao_aeronave_liberada', 'investigacao_status', 'divulgacao_relatorio_numero',\n",
    "             'divulgacao_relatorio_publicado', 'divulgacao_dia_publicacao', 'total_recomendacoes', 'y',\n",
    "             'ocorrencia_latitude', 'ocorrencia_longitude', 'ocorrencia_dia', 'ocorrencia_hora']\n",
    "\n",
    "# Forçando o sorting temporal:\n",
    "ocorr.sort_values(['ocorrencia_dia', 'ocorrencia_hora'], ascending=[True, True], inplace=True)\n",
    "ocorr.reset_index(drop=True, inplace=True)\n",
    "\n",
    "ocorr.head(3)"
   ]
  },
  {
   "cell_type": "markdown",
   "id": "18b7ebc9",
   "metadata": {},
   "source": [
    "#### Tratando missings identificados por \"***\""
   ]
  },
  {
   "cell_type": "code",
   "execution_count": 5,
   "id": "54e624c8",
   "metadata": {},
   "outputs": [],
   "source": [
    "# Loop sobre colunas:\n",
    "for c in list(ocorr.columns):\n",
    "    # Checando a existência de missings identificados por \"***\":\n",
    "    if '***' in list(ocorr[c].unique()):\n",
    "        # Modificando a definição do missing:\n",
    "        ocorr[c] = ocorr[c].apply(lambda x: 'missing_value' if x=='***' else x)"
   ]
  },
  {
   "cell_type": "markdown",
   "id": "0bb95aac",
   "metadata": {},
   "source": [
    "#### Train-test split"
   ]
  },
  {
   "cell_type": "code",
   "execution_count": 6,
   "id": "beaace67",
   "metadata": {},
   "outputs": [],
   "source": [
    "ocorr_train, ocorr_test = train_test_split(ocorr, preserve_date=True, date_var='ocorrencia_dia', test_ratio=0.3,\n",
    "                                           shuffle=False, seed=1)"
   ]
  },
  {
   "cell_type": "markdown",
   "id": "f824bb7e",
   "metadata": {},
   "source": [
    "<a id='aero'></a>"
   ]
  },
  {
   "cell_type": "markdown",
   "id": "5f2d1067",
   "metadata": {},
   "source": [
    "### Dados de aeronave"
   ]
  },
  {
   "cell_type": "code",
   "execution_count": 7,
   "id": "a61c30b8",
   "metadata": {},
   "outputs": [
    {
     "name": "stdout",
     "output_type": "stream",
     "text": [
      "Shape de aero: (6188, 23).\n",
      "Número de observações distintas: 6114.\n"
     ]
    },
    {
     "data": {
      "text/html": [
       "<div>\n",
       "<style scoped>\n",
       "    .dataframe tbody tr th:only-of-type {\n",
       "        vertical-align: middle;\n",
       "    }\n",
       "\n",
       "    .dataframe tbody tr th {\n",
       "        vertical-align: top;\n",
       "    }\n",
       "\n",
       "    .dataframe thead th {\n",
       "        text-align: right;\n",
       "    }\n",
       "</style>\n",
       "<table border=\"1\" class=\"dataframe\">\n",
       "  <thead>\n",
       "    <tr style=\"text-align: right;\">\n",
       "      <th></th>\n",
       "      <th>codigo_ocorrencia2</th>\n",
       "      <th>aeronave_matricula</th>\n",
       "      <th>aeronave_operador_categoria</th>\n",
       "      <th>aeronave_tipo_veiculo</th>\n",
       "      <th>aeronave_fabricante</th>\n",
       "      <th>aeronave_modelo</th>\n",
       "      <th>aeronave_tipo_icao</th>\n",
       "      <th>aeronave_motor_tipo</th>\n",
       "      <th>aeronave_motor_quantidade</th>\n",
       "      <th>aeronave_pmd</th>\n",
       "      <th>...</th>\n",
       "      <th>aeronave_pais_fabricante</th>\n",
       "      <th>aeronave_pais_registro</th>\n",
       "      <th>aeronave_registro_categoria</th>\n",
       "      <th>aeronave_registro_segmento</th>\n",
       "      <th>aeronave_voo_origem</th>\n",
       "      <th>aeronave_voo_destino</th>\n",
       "      <th>aeronave_fase_operacao</th>\n",
       "      <th>aeronave_tipo_operacao</th>\n",
       "      <th>aeronave_nivel_dano</th>\n",
       "      <th>aeronave_fatalidades_total</th>\n",
       "    </tr>\n",
       "  </thead>\n",
       "  <tbody>\n",
       "    <tr>\n",
       "      <th>0</th>\n",
       "      <td>39115</td>\n",
       "      <td>PTNQX</td>\n",
       "      <td>***</td>\n",
       "      <td>AVIÃO</td>\n",
       "      <td>NEIVA INDUSTRIA AERONAUTICA</td>\n",
       "      <td>EMB-711A</td>\n",
       "      <td>P28R</td>\n",
       "      <td>PISTÃO</td>\n",
       "      <td>MONOMOTOR</td>\n",
       "      <td>1202</td>\n",
       "      <td>...</td>\n",
       "      <td>BRASIL</td>\n",
       "      <td>BRASIL</td>\n",
       "      <td>AVIÃO</td>\n",
       "      <td>PARTICULAR</td>\n",
       "      <td>BRIGADEIRO ARARIPE MACEDO</td>\n",
       "      <td>CORRENTINA</td>\n",
       "      <td>DECOLAGEM</td>\n",
       "      <td>PRIVADA</td>\n",
       "      <td>SUBSTANCIAL</td>\n",
       "      <td>0</td>\n",
       "    </tr>\n",
       "    <tr>\n",
       "      <th>1</th>\n",
       "      <td>39155</td>\n",
       "      <td>PTLVI</td>\n",
       "      <td>***</td>\n",
       "      <td>AVIÃO</td>\n",
       "      <td>BEECH AIRCRAFT</td>\n",
       "      <td>C90</td>\n",
       "      <td>BE9L</td>\n",
       "      <td>TURBOÉLICE</td>\n",
       "      <td>BIMOTOR</td>\n",
       "      <td>4377</td>\n",
       "      <td>...</td>\n",
       "      <td>BRASIL</td>\n",
       "      <td>BRASIL</td>\n",
       "      <td>AVIÃO</td>\n",
       "      <td>PARTICULAR</td>\n",
       "      <td>FORA DE AERODROMO</td>\n",
       "      <td>FORA DE AERODROMO</td>\n",
       "      <td>DECOLAGEM</td>\n",
       "      <td>PRIVADA</td>\n",
       "      <td>NENHUM</td>\n",
       "      <td>0</td>\n",
       "    </tr>\n",
       "    <tr>\n",
       "      <th>2</th>\n",
       "      <td>39156</td>\n",
       "      <td>PPPTO</td>\n",
       "      <td>***</td>\n",
       "      <td>AVIÃO</td>\n",
       "      <td>AEROSPATIALE AND ALENIA</td>\n",
       "      <td>ATR-72-212A</td>\n",
       "      <td>AT72</td>\n",
       "      <td>TURBOÉLICE</td>\n",
       "      <td>BIMOTOR</td>\n",
       "      <td>22500</td>\n",
       "      <td>...</td>\n",
       "      <td>BRASIL</td>\n",
       "      <td>BRASIL</td>\n",
       "      <td>AVIÃO</td>\n",
       "      <td>REGULAR</td>\n",
       "      <td>AFONSO PENA</td>\n",
       "      <td>ADALBERTO MENDES DA SILVA</td>\n",
       "      <td>ARREMETIDA NO AR</td>\n",
       "      <td>REGULAR</td>\n",
       "      <td>LEVE</td>\n",
       "      <td>0</td>\n",
       "    </tr>\n",
       "  </tbody>\n",
       "</table>\n",
       "<p>3 rows × 23 columns</p>\n",
       "</div>"
      ],
      "text/plain": [
       "   codigo_ocorrencia2 aeronave_matricula aeronave_operador_categoria  \\\n",
       "0               39115              PTNQX                         ***   \n",
       "1               39155              PTLVI                         ***   \n",
       "2               39156              PPPTO                         ***   \n",
       "\n",
       "  aeronave_tipo_veiculo          aeronave_fabricante aeronave_modelo  \\\n",
       "0                 AVIÃO  NEIVA INDUSTRIA AERONAUTICA        EMB-711A   \n",
       "1                 AVIÃO               BEECH AIRCRAFT             C90   \n",
       "2                 AVIÃO      AEROSPATIALE AND ALENIA     ATR-72-212A   \n",
       "\n",
       "  aeronave_tipo_icao aeronave_motor_tipo aeronave_motor_quantidade  \\\n",
       "0               P28R              PISTÃO                 MONOMOTOR   \n",
       "1               BE9L          TURBOÉLICE                   BIMOTOR   \n",
       "2               AT72          TURBOÉLICE                   BIMOTOR   \n",
       "\n",
       "   aeronave_pmd  ...  aeronave_pais_fabricante  aeronave_pais_registro  \\\n",
       "0          1202  ...                    BRASIL                  BRASIL   \n",
       "1          4377  ...                    BRASIL                  BRASIL   \n",
       "2         22500  ...                    BRASIL                  BRASIL   \n",
       "\n",
       "   aeronave_registro_categoria aeronave_registro_segmento  \\\n",
       "0                        AVIÃO                 PARTICULAR   \n",
       "1                        AVIÃO                 PARTICULAR   \n",
       "2                        AVIÃO                    REGULAR   \n",
       "\n",
       "         aeronave_voo_origem       aeronave_voo_destino  \\\n",
       "0  BRIGADEIRO ARARIPE MACEDO                 CORRENTINA   \n",
       "1          FORA DE AERODROMO          FORA DE AERODROMO   \n",
       "2                AFONSO PENA  ADALBERTO MENDES DA SILVA   \n",
       "\n",
       "  aeronave_fase_operacao aeronave_tipo_operacao aeronave_nivel_dano  \\\n",
       "0              DECOLAGEM                PRIVADA         SUBSTANCIAL   \n",
       "1              DECOLAGEM                PRIVADA              NENHUM   \n",
       "2       ARREMETIDA NO AR                REGULAR                LEVE   \n",
       "\n",
       "  aeronave_fatalidades_total  \n",
       "0                          0  \n",
       "1                          0  \n",
       "2                          0  \n",
       "\n",
       "[3 rows x 23 columns]"
      ]
     },
     "execution_count": 7,
     "metadata": {},
     "output_type": "execute_result"
    }
   ],
   "source": [
    "aero = pd.read_csv('../Datasets/aeronave.csv', sep=';')\n",
    "\n",
    "# Corrigindo a variável de ano de fabricação:\n",
    "aero['aeronave_ano_fabricacao'] = aero.aeronave_ano_fabricacao.apply(lambda x: x if x in range(1900, 2100, 1)\n",
    "                                                                     else np.NaN)\n",
    "\n",
    "print(f'Shape de aero: {aero.shape}.')\n",
    "print(f'Número de observações distintas: {aero.codigo_ocorrencia2.nunique()}.')\n",
    "\n",
    "# Conjunto de variáveis de suporte:\n",
    "drop_vars_aero = ['aeronave_modelo', 'aeronave_matricula', 'aeronave_tipo_icao', 'aeronave_pmd',\n",
    "                  'aeronave_pmd_categoria', 'aeronave_nivel_dano', 'aeronave_fatalidades_total',\n",
    "                  'aeronave_pais_fabricante', 'aeronave_registro_categoria']\n",
    "\n",
    "aero.head(3)"
   ]
  },
  {
   "cell_type": "markdown",
   "id": "0b142ec7",
   "metadata": {},
   "source": [
    "#### Tratando missings identificados por \"***\""
   ]
  },
  {
   "cell_type": "code",
   "execution_count": 8,
   "id": "e4c15db2",
   "metadata": {},
   "outputs": [],
   "source": [
    "# Loop sobre colunas:\n",
    "for c in list(aero.columns):\n",
    "    # Checando a existência de missings identificados por \"***\":\n",
    "    if '***' in list(aero[c].unique()):\n",
    "        # Modificando a definição do missing:\n",
    "        aero[c] = aero[c].apply(lambda x: 'missing_value' if x=='***' else x)"
   ]
  },
  {
   "cell_type": "markdown",
   "id": "47f4ba7b",
   "metadata": {},
   "source": [
    "#### Train-test split"
   ]
  },
  {
   "cell_type": "code",
   "execution_count": 9,
   "id": "654608f8",
   "metadata": {},
   "outputs": [],
   "source": [
    "aero_train = aero[aero.codigo_ocorrencia2.isin(list(ocorr_train.codigo_ocorrencia))]\n",
    "aero_test = aero[aero.codigo_ocorrencia2.isin(list(ocorr_test.codigo_ocorrencia))]"
   ]
  },
  {
   "cell_type": "markdown",
   "id": "7abc489c",
   "metadata": {},
   "source": [
    "<a id='feat_eng'></a>"
   ]
  },
  {
   "cell_type": "markdown",
   "id": "c5184e7d",
   "metadata": {},
   "source": [
    "### Feature engineering"
   ]
  },
  {
   "cell_type": "markdown",
   "id": "2cbd5f33",
   "metadata": {},
   "source": [
    "#### Características das aeronaves"
   ]
  },
  {
   "cell_type": "markdown",
   "id": "b614b8c3",
   "metadata": {},
   "source": [
    "Criando variáveis binárias"
   ]
  },
  {
   "cell_type": "code",
   "execution_count": 10,
   "id": "ffaeb9d1",
   "metadata": {
    "scrolled": true
   },
   "outputs": [
    {
     "name": "stderr",
     "output_type": "stream",
     "text": [
      "/home/matheus.rosso/Downloads/aero/Codes/transformations.py:397: SettingWithCopyWarning: \n",
      "A value is trying to be set on a copy of a slice from a DataFrame.\n",
      "Try using .loc[row_indexer,col_indexer] = value instead\n",
      "\n",
      "See the caveats in the documentation: https://pandas.pydata.org/pandas-docs/stable/user_guide/indexing.html#returning-a-view-versus-a-copy\n",
      "  training_data[f] = training_data[f].apply(text_clean)\n",
      "/home/matheus.rosso/Downloads/aero/Codes/transformations.py:403: SettingWithCopyWarning: \n",
      "A value is trying to be set on a copy of a slice from a DataFrame.\n",
      "Try using .loc[row_indexer,col_indexer] = value instead\n",
      "\n",
      "See the caveats in the documentation: https://pandas.pydata.org/pandas-docs/stable/user_guide/indexing.html#returning-a-view-versus-a-copy\n",
      "  kwargs[d][f] = kwargs[d][f].apply(text_clean)\n",
      "/home/matheus.rosso/Downloads/aero/Codes/transformations.py:158: PerformanceWarning: DataFrame is highly fragmented.  This is usually the result of calling `frame.insert` many times, which has poor performance.  Consider joining all columns at once using pd.concat(axis=1) instead.  To get a de-fragmented frame, use `newframe = frame.copy()`\n",
      "  dummies_cat[c] = [0 for i in range(len(dummies_cat))]\n",
      "/home/matheus.rosso/Downloads/aero/Codes/transformations.py:158: PerformanceWarning: DataFrame is highly fragmented.  This is usually the result of calling `frame.insert` many times, which has poor performance.  Consider joining all columns at once using pd.concat(axis=1) instead.  To get a de-fragmented frame, use `newframe = frame.copy()`\n",
      "  dummies_cat[c] = [0 for i in range(len(dummies_cat))]\n",
      "/home/matheus.rosso/Downloads/aero/Codes/transformations.py:158: PerformanceWarning: DataFrame is highly fragmented.  This is usually the result of calling `frame.insert` many times, which has poor performance.  Consider joining all columns at once using pd.concat(axis=1) instead.  To get a de-fragmented frame, use `newframe = frame.copy()`\n",
      "  dummies_cat[c] = [0 for i in range(len(dummies_cat))]\n"
     ]
    },
    {
     "name": "stdout",
     "output_type": "stream",
     "text": [
      "\u001b[1mNumber of categorical features:\u001b[0m 10\n",
      "\u001b[1mNumber of overall selected dummies:\u001b[0m 1321.\n"
     ]
    }
   ],
   "source": [
    "# Relação de variáveis categóricas:\n",
    "aero_cat_vars = ['aeronave_tipo_veiculo', 'aeronave_fabricante', 'aeronave_motor_tipo',\n",
    "                 'aeronave_motor_quantidade', 'aeronave_pais_registro', 'aeronave_registro_segmento',\n",
    "                 'aeronave_voo_origem', 'aeronave_voo_destino', 'aeronave_fase_operacao', 'aeronave_tipo_operacao']\n",
    "\n",
    "# Aplicando one-hot encoding sobre variáveis categóricas:\n",
    "transf_data = applying_one_hot(aero_train, aero_cat_vars, test_data=aero_test, variance_param=-1)\n",
    "\n",
    "# Dados de treino:\n",
    "aero_cat_vars_train = transf_data['training_data']\n",
    "aero_cat_vars_train = aero_cat_vars_train[[c for c in aero_cat_vars_train.columns if ('C#' in c) |\n",
    "                                           (c=='codigo_ocorrencia2')]]\n",
    "\n",
    "# Dados de teste:\n",
    "aero_cat_vars_test = transf_data['test_data']\n",
    "aero_cat_vars_test = aero_cat_vars_test[[c for c in aero_cat_vars_test.columns if ('C#' in c) |\n",
    "                                         (c=='codigo_ocorrencia2')]]"
   ]
  },
  {
   "cell_type": "markdown",
   "id": "ee8ff2d2",
   "metadata": {},
   "source": [
    "Agregando variáveis por ocorrência"
   ]
  },
  {
   "cell_type": "code",
   "execution_count": 11,
   "id": "55c3a058",
   "metadata": {},
   "outputs": [],
   "source": [
    "# Agregando as variáveis binárias por ocorrência:\n",
    "aero_cat_vars_train = aero_cat_vars_train.groupby('codigo_ocorrencia2').mean().reset_index(drop=False)\n",
    "aero_cat_vars_test = aero_cat_vars_test.groupby('codigo_ocorrencia2').mean().reset_index(drop=False)\n",
    "\n",
    "# Loop sobre colunas:\n",
    "for c in [c for c in aero_cat_vars_train.columns if c!='codigo_ocorrencia2']:\n",
    "    # Tratando os valores:\n",
    "    aero_cat_vars_train[c] = aero_cat_vars_train[c].apply(lambda x: 1 if x > 0 else 0)\n",
    "    \n",
    "# Loop sobre colunas:\n",
    "for c in [c for c in aero_cat_vars_test.columns if c!='codigo_ocorrencia2']:\n",
    "    # Tratando os valores:\n",
    "    aero_cat_vars_test[c] = aero_cat_vars_test[c].apply(lambda x: 1 if x > 0 else 0)\n",
    "    \n",
    "# Seleção de variáveis de acordo com a variância:\n",
    "vars_to_keep = [v for v in [c for c in aero_cat_vars_train.columns if c!='codigo_ocorrencia2'] if\n",
    "                aero_cat_vars_train[v].var() > 0.01]\n",
    "vars_to_keep.insert(0, 'codigo_ocorrencia2')\n",
    "    \n",
    "# Agregando variáveis contínuas por ocorrência:\n",
    "cont_vars_train = aero_train.groupby('codigo_ocorrencia2').mean()[['aeronave_assentos']].reset_index(drop=False)\n",
    "cont_vars_test = aero_test.groupby('codigo_ocorrencia2').mean()[['aeronave_assentos']].reset_index(drop=False)\n",
    "\n",
    "# Merge entre os datasets de características de aeronave:\n",
    "aero_train_transf = aero_cat_vars_train[vars_to_keep].merge(cont_vars_train, on='codigo_ocorrencia2', how='inner')\n",
    "aero_test_transf = aero_cat_vars_test[vars_to_keep].merge(cont_vars_test, on='codigo_ocorrencia2', how='inner')"
   ]
  },
  {
   "cell_type": "markdown",
   "id": "e3d06ca0",
   "metadata": {},
   "source": [
    "#### Idade da aeronave"
   ]
  },
  {
   "cell_type": "code",
   "execution_count": 12,
   "id": "7b265f53",
   "metadata": {},
   "outputs": [],
   "source": [
    "# Merge com o dataset de ocorrências:\n",
    "age_aero_train = aero_train[['codigo_ocorrencia2', 'aeronave_ano_fabricacao']].\\\n",
    "                    merge(ocorr_train[['codigo_ocorrencia2', 'ocorrencia_dia']],\n",
    "                          on='codigo_ocorrencia2', how='left')\n",
    "age_aero_test = aero_test[['codigo_ocorrencia2', 'aeronave_ano_fabricacao']].\\\n",
    "                    merge(ocorr_test[['codigo_ocorrencia2', 'ocorrencia_dia']],\n",
    "                          on='codigo_ocorrencia2', how='left')\n",
    "\n",
    "# Cálculo da idade da aeronave:\n",
    "age_aero_train['idade'] = age_aero_train[['aeronave_ano_fabricacao',\n",
    "                                          'ocorrencia_dia']].apply(lambda x:\n",
    "                                                                   x['ocorrencia_dia'].year-x['aeronave_ano_fabricacao'],\n",
    "                                                                   axis=1)\n",
    "age_aero_test['idade'] = age_aero_test[['aeronave_ano_fabricacao',\n",
    "                                        'ocorrencia_dia']].apply(lambda x:\n",
    "                                                                 x['ocorrencia_dia'].year-x['aeronave_ano_fabricacao'],\n",
    "                                                                 axis=1)\n",
    "\n",
    "# Merge entre os datasets de características de aeronave:\n",
    "aero_train_transf = aero_train_transf.merge(age_aero_train[['codigo_ocorrencia2', 'idade']],\n",
    "                                            on='codigo_ocorrencia2', how='inner')\n",
    "aero_test_transf = aero_test_transf.merge(age_aero_test[['codigo_ocorrencia2', 'idade']],\n",
    "                                          on='codigo_ocorrencia2', how='inner')"
   ]
  },
  {
   "cell_type": "markdown",
   "id": "b8c9a6de",
   "metadata": {},
   "source": [
    "#### Merge com o dataset de ocorrências:"
   ]
  },
  {
   "cell_type": "code",
   "execution_count": 13,
   "id": "f8f784c7",
   "metadata": {},
   "outputs": [],
   "source": [
    "ocorr_train = ocorr_train.merge(aero_train_transf, on='codigo_ocorrencia2', how='left')\n",
    "ocorr_test = ocorr_test.merge(aero_test_transf, on='codigo_ocorrencia2', how='left')"
   ]
  },
  {
   "cell_type": "markdown",
   "id": "eb7dbcb4",
   "metadata": {},
   "source": [
    "<a id='data_modeling'></a>"
   ]
  },
  {
   "cell_type": "markdown",
   "id": "3c08c5ec",
   "metadata": {},
   "source": [
    "## Modelagem"
   ]
  },
  {
   "cell_type": "code",
   "execution_count": 14,
   "id": "448e8a3c",
   "metadata": {},
   "outputs": [],
   "source": [
    "# Parâmetros para a seleção de features:\n",
    "selection_params = {\n",
    "    'method': 'supervised', 'threshold': 0,\n",
    "    'estimator': LogisticRegression(C=1.0, penalty='l1', solver='liblinear')\n",
    "}\n",
    "\n",
    "# Dicionário para model assessment:\n",
    "model_assess = {}"
   ]
  },
  {
   "cell_type": "markdown",
   "id": "09e66a57",
   "metadata": {},
   "source": [
    "<a id='pre_proc'></a>"
   ]
  },
  {
   "cell_type": "markdown",
   "id": "48cc1007",
   "metadata": {},
   "source": [
    "### Pré-processamento dos dados"
   ]
  },
  {
   "cell_type": "code",
   "execution_count": 15,
   "id": "82004ec1",
   "metadata": {
    "scrolled": true
   },
   "outputs": [
    {
     "name": "stdout",
     "output_type": "stream",
     "text": [
      "---------------------------------------------------------------------------------------------------------\n",
      "\u001b[1mCLASSIFYING FEATURES AND EARLY SELECTION\u001b[0m\n",
      "\n",
      "\n",
      "Initial number of features: 79.\n",
      "0 features were dropped for excessive number of missings!\n",
      "0 features were dropped for having no variance!\n",
      "79 remaining features.\n",
      "\n",
      "\n",
      "---------------------------------------------------------------------------------------------------------\n",
      "\n",
      "\n",
      "---------------------------------------------------------------------------------------------------------\n",
      "\u001b[1mASSESSING MISSING VALUES\u001b[0m\n",
      "\n",
      "\n",
      "\u001b[1mTraining data:\u001b[0m\n",
      "\u001b[1mNumber of features with missings:\u001b[0m 9 out of 97 features (9.28%).\n",
      "\u001b[1mAverage number of missings:\u001b[0m 77 out of 4326 observations (1.78%).\n",
      "\n",
      "\u001b[1mTest data:\u001b[0m\n",
      "\u001b[1mNumber of features with missings:\u001b[0m 6 out of 97 features (6.19%).\n",
      "\u001b[1mAverage number of missings:\u001b[0m 24 out of 1862 observations (1.29%).\n",
      "\n",
      "\n",
      "---------------------------------------------------------------------------------------------------------\n",
      "\n",
      "\n",
      "---------------------------------------------------------------------------------------------------------\n",
      "\u001b[1mAPPLYING LOGARITHMIC TRANSFORMATION OVER NUMERICAL DATA\u001b[0m\n",
      "\n",
      "\n",
      "\u001b[1mTraining data:\u001b[0m\n",
      "\u001b[1mNumber of numerical variables log-transformed:\u001b[0m 3.\n",
      "\u001b[1mTest data:\u001b[0m\n",
      "\u001b[1mNumber of numerical variables log-transformed:\u001b[0m 3.\n",
      "\n",
      "\n",
      "---------------------------------------------------------------------------------------------------------\n",
      "\n",
      "\n",
      "---------------------------------------------------------------------------------------------------------\n",
      "\u001b[1mAPPLYING STANDARD SCALE TRANSFORMATION OVER NUMERICAL DATA\u001b[0m\n",
      "\n",
      "\n",
      "\n",
      "\n",
      "---------------------------------------------------------------------------------------------------------\n",
      "\n",
      "\n",
      "---------------------------------------------------------------------------------------------------------\n",
      "\u001b[1mTREATING MISSING VALUES\u001b[0m\n",
      "\n",
      "\n",
      "\u001b[1mTreating missing values of training data...\u001b[0m\n",
      "Problem - Inconsistent number of overall missings!\n",
      "Number of missings before treatment: 7488.\n",
      "Number of missings after treatment: 272.\n",
      "Problem - Number of overall missings detected: 7217.\n",
      "\u001b[1mTreating missing values of test data...\u001b[0m\n",
      "Problem - Inconsistent number of overall missings!\n",
      "Number of missings before treatment: 2373.\n",
      "Number of missings after treatment: 401.\n",
      "Problem - Number of overall missings detected: 1973.\n",
      "\n",
      "\n",
      "---------------------------------------------------------------------------------------------------------\n",
      "\n",
      "\n",
      "---------------------------------------------------------------------------------------------------------\n",
      "\u001b[1mTRANSFORMING CATEGORICAL FEATURES\u001b[0m\n",
      "\n",
      "\n",
      "\u001b[1mNumber of categorical features:\u001b[0m 6\n",
      "\u001b[1mNumber of overall selected dummies:\u001b[0m 63.\n",
      "\u001b[1mShape of df_train_scaled:\u001b[0m (4326, 156).\n",
      "\u001b[1mShape of df_test_scaled:\u001b[0m (1862, 156).\n",
      "\n",
      "\n",
      "---------------------------------------------------------------------------------------------------------\n",
      "\n",
      "\n",
      "---------------------------------------------------------------------------------------------------------\n",
      "\u001b[1mFINAL ASSESSMENT OF MISSINGS AND CHECKING DATASETS CONSISTENCY\u001b[0m\n",
      "\n",
      "\n",
      "Problem - Number of overall missings detected in dataframe df_train_scaled: 7217.\n",
      "Problem - Number of overall missings detected in dataframe df_test_scaled: 1973.\n",
      "Training and test data are consistent with each other.\n",
      "---------------------------------------------------------------------------------------------------------\n",
      "\n",
      "\n"
     ]
    }
   ],
   "source": [
    "# Pré-processamento dos dados:\n",
    "ocorr_train, ocorr_test, ocorr_train_scaled, ocorr_test_scaled, stats = pre_process(training_data=ocorr_train,\n",
    "                                                                                    test_data=ocorr_test,\n",
    "                                                                                    vars_to_drop=drop_vars,\n",
    "                                                                                    log_transform=numerical_transf,\n",
    "                                                                                    standardize=numerical_transf)"
   ]
  },
  {
   "cell_type": "code",
   "execution_count": 16,
   "id": "539c04ac",
   "metadata": {},
   "outputs": [],
   "source": [
    "# Dados de treinamento e de teste:\n",
    "X_train, y_train = (ocorr_train_scaled.drop(drop_vars, axis=1), ocorr_train_scaled['y'])\n",
    "X_test, y_test = (ocorr_test_scaled.drop(drop_vars, axis=1), ocorr_test_scaled['y'])"
   ]
  },
  {
   "cell_type": "markdown",
   "id": "79bd9908",
   "metadata": {},
   "source": [
    "<a id='lr'></a>"
   ]
  },
  {
   "cell_type": "markdown",
   "id": "aa0b5abe",
   "metadata": {},
   "source": [
    "### Regressão logística"
   ]
  },
  {
   "cell_type": "code",
   "execution_count": 17,
   "id": "59ee910f",
   "metadata": {
    "scrolled": true
   },
   "outputs": [
    {
     "name": "stderr",
     "output_type": "stream",
     "text": [
      "\u001b[1mGrid estimation progress:\u001b[0m [--------------------------------------] 100%\r"
     ]
    },
    {
     "name": "stdout",
     "output_type": "stream",
     "text": [
      "---------------------------------------------------------------------\n",
      "\u001b[1mTrain-test estimation outcomes:\u001b[0m\n",
      "\n",
      "\n",
      "Outcomes from K-folds CV estimation:\n",
      "   Number of data folds: 3.\n",
      "   Estimation method: logistic regression.\n",
      "   Metric for choosing best hyper-parameter: roc_auc.\n",
      "   Best hyper-parameters: {'C': 1}.\n",
      "   CV performance metric associated with best hyper-parameters: 0.8805.\n",
      "\n",
      "\n",
      "Performance metrics evaluated at test data:\n",
      "   test_roc_auc = 0.8444\n",
      "   test_prec_avg = 0.6318\n",
      "   test_brier = 0.1665\n",
      "---------------------------------------------------------------------\n",
      "\n",
      "\n",
      "------------------------------------\n",
      "\u001b[1mRunning time:\u001b[0m 0.07 minutes.\n",
      "Start time: 2022-01-02, 15:10:34\n",
      "End time: 2022-01-02, 15:10:38\n",
      "------------------------------------\n"
     ]
    }
   ],
   "source": [
    "# Identificação da estimação:\n",
    "estimation_id = str(int(time.time()))\n",
    "\n",
    "# Grids de hiper-parâmetros:\n",
    "grid_param = {'C': [0.0001, 0.0003, 0.001, 0.003, 0.01, 0.03, 0.1, 0.25, 0.3, 0.5, 0.75, 1, 3, 10]}\n",
    "default_param = {'C': 1.0}\n",
    "fixed_params = {'penalty':'l1', 'solver':'liblinear', 'warm_start':True}\n",
    "\n",
    "# Criando o objeto de K-folds CV fit:\n",
    "model_lr = Kfolds_fit(task='classification', method='logistic_regression',\n",
    "                      metric='roc_auc', num_folds=3, shuffle=False,\n",
    "                      pre_selecting=False, pre_selecting_params=selection_params,\n",
    "                      random_search=False, grid_param=grid_param, default_param=default_param,\n",
    "                      fixed_params=fixed_params)\n",
    "\n",
    "# Treinando o modelo:\n",
    "model_lr.fit(train_inputs=X_train, train_output=y_train, test_inputs=X_test, test_output=y_test)"
   ]
  },
  {
   "cell_type": "markdown",
   "id": "add9bf38",
   "metadata": {},
   "source": [
    "#### Model assessment"
   ]
  },
  {
   "cell_type": "code",
   "execution_count": 18,
   "id": "2285c1ab",
   "metadata": {},
   "outputs": [],
   "source": [
    "model_assess[estimation_id] = {\n",
    "    'estimation_id': estimation_id,\n",
    "    'n_obs_train': len(X_train),\n",
    "    'n_obs_test': len(X_test),\n",
    "    'train_interval': (str(ocorr_train['ocorrencia_dia'].min().date()),\n",
    "                       str(ocorr_train['ocorrencia_dia'].max().date())),\n",
    "    'test_interval': (str(ocorr_test['ocorrencia_dia'].min().date()),\n",
    "                      str(ocorr_test['ocorrencia_dia'].max().date())),\n",
    "    'avg_y_train': y_train.mean(),\n",
    "    'avg_y_test': y_test.mean(),\n",
    "    'n_vars_train': X_train.shape[1],\n",
    "    'n_vars_test': X_test.shape[1],\n",
    "    'numerical_transf': numerical_transf,\n",
    "    'comment': comment,\n",
    "    'method': 'LR',\n",
    "    'performance_metrics': model_lr.performance_metrics\n",
    "}"
   ]
  },
  {
   "cell_type": "markdown",
   "id": "a628e257",
   "metadata": {},
   "source": [
    "#### Feature importances"
   ]
  },
  {
   "cell_type": "code",
   "execution_count": 19,
   "id": "a0416b32",
   "metadata": {},
   "outputs": [
    {
     "data": {
      "text/html": [
       "<div>\n",
       "<style scoped>\n",
       "    .dataframe tbody tr th:only-of-type {\n",
       "        vertical-align: middle;\n",
       "    }\n",
       "\n",
       "    .dataframe tbody tr th {\n",
       "        vertical-align: top;\n",
       "    }\n",
       "\n",
       "    .dataframe thead th {\n",
       "        text-align: right;\n",
       "    }\n",
       "</style>\n",
       "<table border=\"1\" class=\"dataframe\">\n",
       "  <thead>\n",
       "    <tr style=\"text-align: right;\">\n",
       "      <th></th>\n",
       "      <th>feature</th>\n",
       "      <th>beta</th>\n",
       "      <th>abs_beta</th>\n",
       "    </tr>\n",
       "  </thead>\n",
       "  <tbody>\n",
       "    <tr>\n",
       "      <th>89</th>\n",
       "      <td>C#ocorrencia_cidade#RIBEIRAO_PRETO</td>\n",
       "      <td>-2.795677</td>\n",
       "      <td>2.795677</td>\n",
       "    </tr>\n",
       "    <tr>\n",
       "      <th>61</th>\n",
       "      <td>C#aeronave_fase_operacao#TAXI</td>\n",
       "      <td>-2.614535</td>\n",
       "      <td>2.614535</td>\n",
       "    </tr>\n",
       "    <tr>\n",
       "      <th>55</th>\n",
       "      <td>C#aeronave_fase_operacao#ESTACIONAMENTO</td>\n",
       "      <td>-2.251580</td>\n",
       "      <td>2.251580</td>\n",
       "    </tr>\n",
       "    <tr>\n",
       "      <th>69</th>\n",
       "      <td>C#aeronave_tipo_operacao#REGULAR</td>\n",
       "      <td>-1.939718</td>\n",
       "      <td>1.939718</td>\n",
       "    </tr>\n",
       "    <tr>\n",
       "      <th>63</th>\n",
       "      <td>C#aeronave_tipo_operacao#AGRICOLA</td>\n",
       "      <td>1.814772</td>\n",
       "      <td>1.814772</td>\n",
       "    </tr>\n",
       "    <tr>\n",
       "      <th>21</th>\n",
       "      <td>C#aeronave_fabricante#SIKORSKY_AIRCRAFT</td>\n",
       "      <td>-1.721227</td>\n",
       "      <td>1.721227</td>\n",
       "    </tr>\n",
       "    <tr>\n",
       "      <th>97</th>\n",
       "      <td>C#ocorrencia_uf#ES</td>\n",
       "      <td>-1.695939</td>\n",
       "      <td>1.695939</td>\n",
       "    </tr>\n",
       "    <tr>\n",
       "      <th>76</th>\n",
       "      <td>C#ocorrencia_cidade#BELO_HORIZONTE</td>\n",
       "      <td>-1.665141</td>\n",
       "      <td>1.665141</td>\n",
       "    </tr>\n",
       "    <tr>\n",
       "      <th>92</th>\n",
       "      <td>C#ocorrencia_cidade#SAO_PAULO</td>\n",
       "      <td>-1.590181</td>\n",
       "      <td>1.590181</td>\n",
       "    </tr>\n",
       "    <tr>\n",
       "      <th>85</th>\n",
       "      <td>C#ocorrencia_cidade#LONDRINA</td>\n",
       "      <td>-1.512565</td>\n",
       "      <td>1.512565</td>\n",
       "    </tr>\n",
       "  </tbody>\n",
       "</table>\n",
       "</div>"
      ],
      "text/plain": [
       "                                    feature      beta  abs_beta\n",
       "89       C#ocorrencia_cidade#RIBEIRAO_PRETO -2.795677  2.795677\n",
       "61            C#aeronave_fase_operacao#TAXI -2.614535  2.614535\n",
       "55  C#aeronave_fase_operacao#ESTACIONAMENTO -2.251580  2.251580\n",
       "69         C#aeronave_tipo_operacao#REGULAR -1.939718  1.939718\n",
       "63        C#aeronave_tipo_operacao#AGRICOLA  1.814772  1.814772\n",
       "21  C#aeronave_fabricante#SIKORSKY_AIRCRAFT -1.721227  1.721227\n",
       "97                       C#ocorrencia_uf#ES -1.695939  1.695939\n",
       "76       C#ocorrencia_cidade#BELO_HORIZONTE -1.665141  1.665141\n",
       "92            C#ocorrencia_cidade#SAO_PAULO -1.590181  1.590181\n",
       "85             C#ocorrencia_cidade#LONDRINA -1.512565  1.512565"
      ]
     },
     "execution_count": 19,
     "metadata": {},
     "output_type": "execute_result"
    }
   ],
   "source": [
    "# Coeficiente estimado para cada feature:\n",
    "feat_importances_lr = pd.DataFrame(data={\n",
    "    'feature': list(X_train.columns),\n",
    "    'beta': list(model_lr.model.coef_[0]),\n",
    "    'abs_beta': [abs(b) for b in list(model_lr.model.coef_[0])]\n",
    "})\n",
    "\n",
    "feat_importances_lr.sort_values('abs_beta', ascending=False).head(10)"
   ]
  },
  {
   "cell_type": "markdown",
   "id": "a463127e",
   "metadata": {},
   "source": [
    "<a id='svm'></a>"
   ]
  },
  {
   "cell_type": "markdown",
   "id": "5a4f967f",
   "metadata": {},
   "source": [
    "### SVM"
   ]
  },
  {
   "cell_type": "code",
   "execution_count": 20,
   "id": "41a46446",
   "metadata": {},
   "outputs": [
    {
     "name": "stderr",
     "output_type": "stream",
     "text": [
      "\u001b[1mGrid estimation progress:\u001b[0m [--------------------------------------] 100%\r"
     ]
    },
    {
     "name": "stdout",
     "output_type": "stream",
     "text": [
      "---------------------------------------------------------------------\n",
      "\u001b[1mTrain-test estimation outcomes:\u001b[0m\n",
      "\n",
      "\n",
      "Outcomes from K-folds CV estimation:\n",
      "   Number of data folds: 3.\n",
      "   Estimation method: SVM.\n",
      "   Metric for choosing best hyper-parameter: roc_auc.\n",
      "   Best hyper-parameters: {'C': 1, 'kernel': 'poly', 'degree': 2, 'gamma': 'scale'}.\n",
      "   CV performance metric associated with best hyper-parameters: 0.8717.\n",
      "\n",
      "\n",
      "Performance metrics evaluated at test data:\n",
      "   test_roc_auc = 0.8436\n",
      "   test_prec_avg = 0.6431\n",
      "   test_brier = 0.1652\n",
      "---------------------------------------------------------------------\n",
      "\n",
      "\n",
      "------------------------------------\n",
      "\u001b[1mRunning time:\u001b[0m 0.31 minutes.\n",
      "Start time: 2022-01-02, 15:10:38\n",
      "End time: 2022-01-02, 15:10:57\n",
      "------------------------------------\n"
     ]
    }
   ],
   "source": [
    "# Identificação da estimação:\n",
    "estimation_id = str(int(time.time()))\n",
    "\n",
    "# Grids de hiper-parâmetros:\n",
    "params = {'C': [1],\n",
    "          'kernel': ['poly'],\n",
    "          'degree': [1, 2, 3, 4],\n",
    "          'gamma': ['scale']}\n",
    "params_default = {'C': 1.0, 'kernel': 'poly', 'degree': 1, 'gamma': 'scale'}\n",
    "fixed_params = {'probability': True}\n",
    "\n",
    "# Criando o objeto de K-folds CV fit:\n",
    "model_svm = Kfolds_fit(task='classification', method='SVM',\n",
    "                       metric='roc_auc', num_folds=3, random_search=False, shuffle=False,\n",
    "                       pre_selecting=False, pre_selecting_params=selection_params,\n",
    "                       grid_param=params, default_param=params_default, fixed_params=fixed_params,\n",
    "                       parallelize=False)\n",
    "\n",
    "# Treinando o modelo:\n",
    "model_svm.fit(train_inputs=X_train, train_output=y_train, test_inputs=X_test, test_output=y_test)"
   ]
  },
  {
   "cell_type": "markdown",
   "id": "6f14057c",
   "metadata": {},
   "source": [
    "#### Model assessment"
   ]
  },
  {
   "cell_type": "code",
   "execution_count": 21,
   "id": "f511201d",
   "metadata": {},
   "outputs": [],
   "source": [
    "model_assess[estimation_id] = {\n",
    "    'estimation_id': estimation_id,\n",
    "    'n_obs_train': len(X_train),\n",
    "    'n_obs_test': len(X_test),\n",
    "    'train_interval': (str(ocorr_train['ocorrencia_dia'].min().date()),\n",
    "                       str(ocorr_train['ocorrencia_dia'].max().date())),\n",
    "    'test_interval': (str(ocorr_test['ocorrencia_dia'].min().date()),\n",
    "                      str(ocorr_test['ocorrencia_dia'].max().date())),\n",
    "    'avg_y_train': y_train.mean(),\n",
    "    'avg_y_test': y_test.mean(),\n",
    "    'n_vars_train': X_train.shape[1],\n",
    "    'n_vars_test': X_test.shape[1],\n",
    "    'numerical_transf': numerical_transf,\n",
    "    'comment': comment,\n",
    "    'method': 'SVM',\n",
    "    'performance_metrics': model_svm.performance_metrics\n",
    "}"
   ]
  },
  {
   "cell_type": "markdown",
   "id": "e87fd547",
   "metadata": {},
   "source": [
    "<a id='lightgbm'></a>"
   ]
  },
  {
   "cell_type": "markdown",
   "id": "0e79bf5a",
   "metadata": {},
   "source": [
    "### LightGBM"
   ]
  },
  {
   "cell_type": "code",
   "execution_count": 22,
   "id": "729b81df",
   "metadata": {
    "scrolled": true
   },
   "outputs": [
    {
     "name": "stderr",
     "output_type": "stream",
     "text": [
      "/home/matheus.rosso/anaconda3/lib/python3.9/site-packages/lightgbm/engine.py:148: UserWarning: Found `num_iterations` in params. Will use it instead of argument\n",
      "  _log_warning(\"Found `{}` in params. Will use it instead of argument\".format(alias))\n",
      "/home/matheus.rosso/anaconda3/lib/python3.9/site-packages/lightgbm/engine.py:148: UserWarning: Found `num_iterations` in params. Will use it instead of argument\n",
      "  _log_warning(\"Found `{}` in params. Will use it instead of argument\".format(alias))\n",
      "/home/matheus.rosso/anaconda3/lib/python3.9/site-packages/lightgbm/engine.py:148: UserWarning: Found `num_iterations` in params. Will use it instead of argument\n",
      "  _log_warning(\"Found `{}` in params. Will use it instead of argument\".format(alias))\n",
      "/home/matheus.rosso/anaconda3/lib/python3.9/site-packages/lightgbm/engine.py:148: UserWarning: Found `num_iterations` in params. Will use it instead of argument\n",
      "  _log_warning(\"Found `{}` in params. Will use it instead of argument\".format(alias))\n",
      "/home/matheus.rosso/anaconda3/lib/python3.9/site-packages/lightgbm/engine.py:148: UserWarning: Found `num_iterations` in params. Will use it instead of argument\n",
      "  _log_warning(\"Found `{}` in params. Will use it instead of argument\".format(alias))\n",
      "/home/matheus.rosso/anaconda3/lib/python3.9/site-packages/lightgbm/engine.py:148: UserWarning: Found `num_iterations` in params. Will use it instead of argument\n",
      "  _log_warning(\"Found `{}` in params. Will use it instead of argument\".format(alias))\n",
      "/home/matheus.rosso/anaconda3/lib/python3.9/site-packages/lightgbm/engine.py:148: UserWarning: Found `num_iterations` in params. Will use it instead of argument\n",
      "  _log_warning(\"Found `{}` in params. Will use it instead of argument\".format(alias))\n",
      "/home/matheus.rosso/anaconda3/lib/python3.9/site-packages/lightgbm/engine.py:148: UserWarning: Found `num_iterations` in params. Will use it instead of argument\n",
      "  _log_warning(\"Found `{}` in params. Will use it instead of argument\".format(alias))\n",
      "/home/matheus.rosso/anaconda3/lib/python3.9/site-packages/lightgbm/engine.py:148: UserWarning: Found `num_iterations` in params. Will use it instead of argument\n",
      "  _log_warning(\"Found `{}` in params. Will use it instead of argument\".format(alias))\n",
      "/home/matheus.rosso/anaconda3/lib/python3.9/site-packages/lightgbm/engine.py:148: UserWarning: Found `num_iterations` in params. Will use it instead of argument\n",
      "  _log_warning(\"Found `{}` in params. Will use it instead of argument\".format(alias))\n",
      "/home/matheus.rosso/anaconda3/lib/python3.9/site-packages/lightgbm/engine.py:148: UserWarning: Found `num_iterations` in params. Will use it instead of argument\n",
      "  _log_warning(\"Found `{}` in params. Will use it instead of argument\".format(alias))\n",
      "/home/matheus.rosso/anaconda3/lib/python3.9/site-packages/lightgbm/engine.py:148: UserWarning: Found `num_iterations` in params. Will use it instead of argument\n",
      "  _log_warning(\"Found `{}` in params. Will use it instead of argument\".format(alias))\n",
      "/home/matheus.rosso/anaconda3/lib/python3.9/site-packages/lightgbm/engine.py:148: UserWarning: Found `num_iterations` in params. Will use it instead of argument\n",
      "  _log_warning(\"Found `{}` in params. Will use it instead of argument\".format(alias))\n",
      "/home/matheus.rosso/anaconda3/lib/python3.9/site-packages/lightgbm/engine.py:148: UserWarning: Found `num_iterations` in params. Will use it instead of argument\n",
      "  _log_warning(\"Found `{}` in params. Will use it instead of argument\".format(alias))\n",
      "/home/matheus.rosso/anaconda3/lib/python3.9/site-packages/lightgbm/engine.py:148: UserWarning: Found `num_iterations` in params. Will use it instead of argument\n",
      "  _log_warning(\"Found `{}` in params. Will use it instead of argument\".format(alias))\n",
      "/home/matheus.rosso/anaconda3/lib/python3.9/site-packages/lightgbm/engine.py:148: UserWarning: Found `num_iterations` in params. Will use it instead of argument\n",
      "  _log_warning(\"Found `{}` in params. Will use it instead of argument\".format(alias))\n",
      "/home/matheus.rosso/anaconda3/lib/python3.9/site-packages/lightgbm/engine.py:148: UserWarning: Found `num_iterations` in params. Will use it instead of argument\n",
      "  _log_warning(\"Found `{}` in params. Will use it instead of argument\".format(alias))\n",
      "/home/matheus.rosso/anaconda3/lib/python3.9/site-packages/lightgbm/engine.py:148: UserWarning: Found `num_iterations` in params. Will use it instead of argument\n",
      "  _log_warning(\"Found `{}` in params. Will use it instead of argument\".format(alias))\n",
      "/home/matheus.rosso/anaconda3/lib/python3.9/site-packages/lightgbm/engine.py:148: UserWarning: Found `num_iterations` in params. Will use it instead of argument\n",
      "  _log_warning(\"Found `{}` in params. Will use it instead of argument\".format(alias))\n",
      "/home/matheus.rosso/anaconda3/lib/python3.9/site-packages/lightgbm/engine.py:148: UserWarning: Found `num_iterations` in params. Will use it instead of argument\n",
      "  _log_warning(\"Found `{}` in params. Will use it instead of argument\".format(alias))\n",
      "/home/matheus.rosso/anaconda3/lib/python3.9/site-packages/lightgbm/engine.py:148: UserWarning: Found `num_iterations` in params. Will use it instead of argument\n",
      "  _log_warning(\"Found `{}` in params. Will use it instead of argument\".format(alias))\n",
      "/home/matheus.rosso/anaconda3/lib/python3.9/site-packages/lightgbm/engine.py:148: UserWarning: Found `num_iterations` in params. Will use it instead of argument\n",
      "  _log_warning(\"Found `{}` in params. Will use it instead of argument\".format(alias))\n",
      "/home/matheus.rosso/anaconda3/lib/python3.9/site-packages/lightgbm/engine.py:148: UserWarning: Found `num_iterations` in params. Will use it instead of argument\n",
      "  _log_warning(\"Found `{}` in params. Will use it instead of argument\".format(alias))\n",
      "/home/matheus.rosso/anaconda3/lib/python3.9/site-packages/lightgbm/engine.py:148: UserWarning: Found `num_iterations` in params. Will use it instead of argument\n",
      "  _log_warning(\"Found `{}` in params. Will use it instead of argument\".format(alias))\n",
      "/home/matheus.rosso/anaconda3/lib/python3.9/site-packages/lightgbm/engine.py:148: UserWarning: Found `num_iterations` in params. Will use it instead of argument\n",
      "  _log_warning(\"Found `{}` in params. Will use it instead of argument\".format(alias))\n",
      "/home/matheus.rosso/anaconda3/lib/python3.9/site-packages/lightgbm/engine.py:148: UserWarning: Found `num_iterations` in params. Will use it instead of argument\n",
      "  _log_warning(\"Found `{}` in params. Will use it instead of argument\".format(alias))\n",
      "/home/matheus.rosso/anaconda3/lib/python3.9/site-packages/lightgbm/engine.py:148: UserWarning: Found `num_iterations` in params. Will use it instead of argument\n",
      "  _log_warning(\"Found `{}` in params. Will use it instead of argument\".format(alias))\n",
      "/home/matheus.rosso/anaconda3/lib/python3.9/site-packages/lightgbm/engine.py:148: UserWarning: Found `num_iterations` in params. Will use it instead of argument\n",
      "  _log_warning(\"Found `{}` in params. Will use it instead of argument\".format(alias))\n",
      "/home/matheus.rosso/anaconda3/lib/python3.9/site-packages/lightgbm/engine.py:148: UserWarning: Found `num_iterations` in params. Will use it instead of argument\n",
      "  _log_warning(\"Found `{}` in params. Will use it instead of argument\".format(alias))\n",
      "/home/matheus.rosso/anaconda3/lib/python3.9/site-packages/lightgbm/engine.py:148: UserWarning: Found `num_iterations` in params. Will use it instead of argument\n",
      "  _log_warning(\"Found `{}` in params. Will use it instead of argument\".format(alias))\n",
      "/home/matheus.rosso/anaconda3/lib/python3.9/site-packages/lightgbm/engine.py:148: UserWarning: Found `num_iterations` in params. Will use it instead of argument\n",
      "  _log_warning(\"Found `{}` in params. Will use it instead of argument\".format(alias))\n"
     ]
    },
    {
     "name": "stdout",
     "output_type": "stream",
     "text": [
      "---------------------------------------------------------------------\n",
      "\u001b[1mTrain-test estimation outcomes:\u001b[0m\n",
      "\n",
      "\n",
      "Outcomes from K-folds CV estimation:\n",
      "   Number of data folds: 3.\n",
      "   Number of samples for random search: 10.\n",
      "   Estimation method: light gbm.\n",
      "   Metric for choosing best hyper-parameter: roc_auc.\n",
      "   Best hyper-parameters: {'bagging_fraction': 0.781003033650032, 'learning_rate': 0.09066127436435546, 'max_depth': 3, 'num_iterations': 250}.\n",
      "   CV performance metric associated with best hyper-parameters: 0.8831.\n",
      "\n",
      "\n",
      "Performance metrics evaluated at test data:\n",
      "   test_roc_auc = 0.8518\n",
      "   test_prec_avg = 0.6545\n",
      "   test_brier = 0.1619\n",
      "---------------------------------------------------------------------\n",
      "\n",
      "\n",
      "------------------------------------\n",
      "\u001b[1mRunning time:\u001b[0m 0.1 minutes.\n",
      "Start time: 2022-01-02, 15:10:57\n",
      "End time: 2022-01-02, 15:11:03\n",
      "------------------------------------\n"
     ]
    }
   ],
   "source": [
    "# Identificação da estimação:\n",
    "estimation_id = str(int(time.time()))\n",
    "\n",
    "# Grids de hiper-parâmetros:\n",
    "grid_param = {'bagging_fraction': uniform(0.5, 0.5),\n",
    "              'learning_rate': uniform(0.0001, 0.1),\n",
    "              'max_depth': randint(1, 10),\n",
    "              'num_iterations': [100, 250, 500]}\n",
    "default_param = {'bagging_fraction': 0.75, 'learning_rate': 0.01, 'max_depth': 10, 'num_iterations': 500}\n",
    "\n",
    "# Criando o objeto de K-folds CV fit:\n",
    "model_lgbm = Kfolds_fit(task='binary', method='light_gbm',\n",
    "                        metric='roc_auc', num_folds=3, shuffle=False,\n",
    "                        pre_selecting=False, pre_selecting_params=selection_params,\n",
    "                        random_search=True, n_samples=10,\n",
    "                        grid_param=grid_param, default_param=default_param)\n",
    "\n",
    "# Treinando o modelo:\n",
    "model_lgbm.fit(train_inputs=X_train, train_output=y_train, test_inputs=X_test, test_output=y_test)"
   ]
  },
  {
   "cell_type": "markdown",
   "id": "ea6144df",
   "metadata": {},
   "source": [
    "#### Model assessment"
   ]
  },
  {
   "cell_type": "code",
   "execution_count": 23,
   "id": "cc930115",
   "metadata": {},
   "outputs": [],
   "source": [
    "model_assess[estimation_id] = {\n",
    "    'estimation_id': estimation_id,\n",
    "    'n_obs_train': len(X_train),\n",
    "    'n_obs_test': len(X_test),\n",
    "    'train_interval': (str(ocorr_train['ocorrencia_dia'].min().date()),\n",
    "                       str(ocorr_train['ocorrencia_dia'].max().date())),\n",
    "    'test_interval': (str(ocorr_test['ocorrencia_dia'].min().date()),\n",
    "                      str(ocorr_test['ocorrencia_dia'].max().date())),\n",
    "    'avg_y_train': y_train.mean(),\n",
    "    'avg_y_test': y_test.mean(),\n",
    "    'n_vars_train': X_train.shape[1],\n",
    "    'n_vars_test': X_test.shape[1],\n",
    "    'numerical_transf': numerical_transf,\n",
    "    'comment': comment,\n",
    "    'method': 'LightGBM',\n",
    "    'performance_metrics': model_lgbm.performance_metrics\n",
    "}"
   ]
  },
  {
   "cell_type": "markdown",
   "id": "e852cbbd",
   "metadata": {},
   "source": [
    "#### Feature importances"
   ]
  },
  {
   "cell_type": "code",
   "execution_count": 24,
   "id": "d642402d",
   "metadata": {},
   "outputs": [
    {
     "data": {
      "text/html": [
       "<div>\n",
       "<style scoped>\n",
       "    .dataframe tbody tr th:only-of-type {\n",
       "        vertical-align: middle;\n",
       "    }\n",
       "\n",
       "    .dataframe tbody tr th {\n",
       "        vertical-align: top;\n",
       "    }\n",
       "\n",
       "    .dataframe thead th {\n",
       "        text-align: right;\n",
       "    }\n",
       "</style>\n",
       "<table border=\"1\" class=\"dataframe\">\n",
       "  <thead>\n",
       "    <tr style=\"text-align: right;\">\n",
       "      <th></th>\n",
       "      <th>feature</th>\n",
       "      <th>importance</th>\n",
       "    </tr>\n",
       "  </thead>\n",
       "  <tbody>\n",
       "    <tr>\n",
       "      <th>72</th>\n",
       "      <td>L#idade</td>\n",
       "      <td>228</td>\n",
       "    </tr>\n",
       "    <tr>\n",
       "      <th>71</th>\n",
       "      <td>L#aeronave_assentos</td>\n",
       "      <td>115</td>\n",
       "    </tr>\n",
       "    <tr>\n",
       "      <th>46</th>\n",
       "      <td>C#aeronave_voo_destino#FORA_DE_AERODROMO</td>\n",
       "      <td>75</td>\n",
       "    </tr>\n",
       "    <tr>\n",
       "      <th>43</th>\n",
       "      <td>C#aeronave_voo_origem#FORA_DE_AERODROMO</td>\n",
       "      <td>71</td>\n",
       "    </tr>\n",
       "    <tr>\n",
       "      <th>111</th>\n",
       "      <td>C#ocorrencia_saida_pista#NAO</td>\n",
       "      <td>44</td>\n",
       "    </tr>\n",
       "    <tr>\n",
       "      <th>61</th>\n",
       "      <td>C#aeronave_fase_operacao#TAXI</td>\n",
       "      <td>29</td>\n",
       "    </tr>\n",
       "    <tr>\n",
       "      <th>59</th>\n",
       "      <td>C#aeronave_fase_operacao#POUSO</td>\n",
       "      <td>29</td>\n",
       "    </tr>\n",
       "    <tr>\n",
       "      <th>68</th>\n",
       "      <td>C#aeronave_tipo_operacao#PRIVADA</td>\n",
       "      <td>28</td>\n",
       "    </tr>\n",
       "    <tr>\n",
       "      <th>1</th>\n",
       "      <td>C#aeronave_tipo_veiculo#AVIAO</td>\n",
       "      <td>27</td>\n",
       "    </tr>\n",
       "    <tr>\n",
       "      <th>50</th>\n",
       "      <td>C#aeronave_fase_operacao#CORRIDA_APOS_POUSO</td>\n",
       "      <td>27</td>\n",
       "    </tr>\n",
       "  </tbody>\n",
       "</table>\n",
       "</div>"
      ],
      "text/plain": [
       "                                         feature  importance\n",
       "72                                       L#idade         228\n",
       "71                           L#aeronave_assentos         115\n",
       "46      C#aeronave_voo_destino#FORA_DE_AERODROMO          75\n",
       "43       C#aeronave_voo_origem#FORA_DE_AERODROMO          71\n",
       "111                 C#ocorrencia_saida_pista#NAO          44\n",
       "61                 C#aeronave_fase_operacao#TAXI          29\n",
       "59                C#aeronave_fase_operacao#POUSO          29\n",
       "68              C#aeronave_tipo_operacao#PRIVADA          28\n",
       "1                  C#aeronave_tipo_veiculo#AVIAO          27\n",
       "50   C#aeronave_fase_operacao#CORRIDA_APOS_POUSO          27"
      ]
     },
     "execution_count": 24,
     "metadata": {},
     "output_type": "execute_result"
    }
   ],
   "source": [
    "# Feature importances:\n",
    "feat_importances_gbm = pd.DataFrame(data={\n",
    "    'feature': list(X_train.columns),\n",
    "    'importance': list(model_lgbm.model.feature_importance())\n",
    "})\n",
    "\n",
    "feat_importances_gbm.sort_values('importance', ascending=False).head(10)"
   ]
  },
  {
   "cell_type": "markdown",
   "id": "ee400d35",
   "metadata": {},
   "source": [
    "<a id='xgboost'></a>"
   ]
  },
  {
   "cell_type": "markdown",
   "id": "fd1d9e78",
   "metadata": {},
   "source": [
    "### XGBoost"
   ]
  },
  {
   "cell_type": "code",
   "execution_count": 25,
   "id": "8d17b631",
   "metadata": {},
   "outputs": [
    {
     "name": "stderr",
     "output_type": "stream",
     "text": [
      "\u001b[1mGrid estimation progress:\u001b[0m [                                      ]   0%\r"
     ]
    },
    {
     "name": "stdout",
     "output_type": "stream",
     "text": [
      "[15:11:03] WARNING: ../src/learner.cc:1095: Starting in XGBoost 1.3.0, the default evaluation metric used with the objective 'binary:logistic' was changed from 'error' to 'logloss'. Explicitly set eval_metric if you'd like to restore the old behavior.\n",
      "[15:11:04] WARNING: ../src/learner.cc:1095: Starting in XGBoost 1.3.0, the default evaluation metric used with the objective 'binary:logistic' was changed from 'error' to 'logloss'. Explicitly set eval_metric if you'd like to restore the old behavior.\n",
      "[15:11:04] WARNING: ../src/learner.cc:1095: Starting in XGBoost 1.3.0, the default evaluation metric used with the objective 'binary:logistic' was changed from 'error' to 'logloss'. Explicitly set eval_metric if you'd like to restore the old behavior.\n"
     ]
    },
    {
     "name": "stderr",
     "output_type": "stream",
     "text": [
      "\u001b[1mGrid estimation progress:\u001b[0m [---                                   ]  10%\r"
     ]
    },
    {
     "name": "stdout",
     "output_type": "stream",
     "text": [
      "[15:11:05] WARNING: ../src/learner.cc:1095: Starting in XGBoost 1.3.0, the default evaluation metric used with the objective 'binary:logistic' was changed from 'error' to 'logloss'. Explicitly set eval_metric if you'd like to restore the old behavior.\n",
      "[15:11:06] WARNING: ../src/learner.cc:1095: Starting in XGBoost 1.3.0, the default evaluation metric used with the objective 'binary:logistic' was changed from 'error' to 'logloss'. Explicitly set eval_metric if you'd like to restore the old behavior.\n",
      "[15:11:08] WARNING: ../src/learner.cc:1095: Starting in XGBoost 1.3.0, the default evaluation metric used with the objective 'binary:logistic' was changed from 'error' to 'logloss'. Explicitly set eval_metric if you'd like to restore the old behavior.\n"
     ]
    },
    {
     "name": "stderr",
     "output_type": "stream",
     "text": [
      "\u001b[1mGrid estimation progress:\u001b[0m [-------                               ]  20%\r"
     ]
    },
    {
     "name": "stdout",
     "output_type": "stream",
     "text": [
      "[15:11:09] WARNING: ../src/learner.cc:1095: Starting in XGBoost 1.3.0, the default evaluation metric used with the objective 'binary:logistic' was changed from 'error' to 'logloss'. Explicitly set eval_metric if you'd like to restore the old behavior.\n",
      "[15:11:10] WARNING: ../src/learner.cc:1095: Starting in XGBoost 1.3.0, the default evaluation metric used with the objective 'binary:logistic' was changed from 'error' to 'logloss'. Explicitly set eval_metric if you'd like to restore the old behavior.\n",
      "[15:11:10] WARNING: ../src/learner.cc:1095: Starting in XGBoost 1.3.0, the default evaluation metric used with the objective 'binary:logistic' was changed from 'error' to 'logloss'. Explicitly set eval_metric if you'd like to restore the old behavior.\n"
     ]
    },
    {
     "name": "stderr",
     "output_type": "stream",
     "text": [
      "\u001b[1mGrid estimation progress:\u001b[0m [-----------                           ]  30%\r"
     ]
    },
    {
     "name": "stdout",
     "output_type": "stream",
     "text": [
      "[15:11:10] WARNING: ../src/learner.cc:1095: Starting in XGBoost 1.3.0, the default evaluation metric used with the objective 'binary:logistic' was changed from 'error' to 'logloss'. Explicitly set eval_metric if you'd like to restore the old behavior.\n",
      "[15:11:12] WARNING: ../src/learner.cc:1095: Starting in XGBoost 1.3.0, the default evaluation metric used with the objective 'binary:logistic' was changed from 'error' to 'logloss'. Explicitly set eval_metric if you'd like to restore the old behavior.\n",
      "[15:11:14] WARNING: ../src/learner.cc:1095: Starting in XGBoost 1.3.0, the default evaluation metric used with the objective 'binary:logistic' was changed from 'error' to 'logloss'. Explicitly set eval_metric if you'd like to restore the old behavior.\n"
     ]
    },
    {
     "name": "stderr",
     "output_type": "stream",
     "text": [
      "\u001b[1mGrid estimation progress:\u001b[0m [---------------                       ]  40%\r"
     ]
    },
    {
     "name": "stdout",
     "output_type": "stream",
     "text": [
      "[15:11:16] WARNING: ../src/learner.cc:1095: Starting in XGBoost 1.3.0, the default evaluation metric used with the objective 'binary:logistic' was changed from 'error' to 'logloss'. Explicitly set eval_metric if you'd like to restore the old behavior.\n",
      "[15:11:17] WARNING: ../src/learner.cc:1095: Starting in XGBoost 1.3.0, the default evaluation metric used with the objective 'binary:logistic' was changed from 'error' to 'logloss'. Explicitly set eval_metric if you'd like to restore the old behavior.\n",
      "[15:11:18] WARNING: ../src/learner.cc:1095: Starting in XGBoost 1.3.0, the default evaluation metric used with the objective 'binary:logistic' was changed from 'error' to 'logloss'. Explicitly set eval_metric if you'd like to restore the old behavior.\n"
     ]
    },
    {
     "name": "stderr",
     "output_type": "stream",
     "text": [
      "\u001b[1mGrid estimation progress:\u001b[0m [-------------------                   ]  50%\r"
     ]
    },
    {
     "name": "stdout",
     "output_type": "stream",
     "text": [
      "[15:11:19] WARNING: ../src/learner.cc:1095: Starting in XGBoost 1.3.0, the default evaluation metric used with the objective 'binary:logistic' was changed from 'error' to 'logloss'. Explicitly set eval_metric if you'd like to restore the old behavior.\n",
      "[15:11:19] WARNING: ../src/learner.cc:1095: Starting in XGBoost 1.3.0, the default evaluation metric used with the objective 'binary:logistic' was changed from 'error' to 'logloss'. Explicitly set eval_metric if you'd like to restore the old behavior.\n",
      "[15:11:20] WARNING: ../src/learner.cc:1095: Starting in XGBoost 1.3.0, the default evaluation metric used with the objective 'binary:logistic' was changed from 'error' to 'logloss'. Explicitly set eval_metric if you'd like to restore the old behavior.\n"
     ]
    },
    {
     "name": "stderr",
     "output_type": "stream",
     "text": [
      "\u001b[1mGrid estimation progress:\u001b[0m [----------------------                ]  60%\r"
     ]
    },
    {
     "name": "stdout",
     "output_type": "stream",
     "text": [
      "[15:11:20] WARNING: ../src/learner.cc:1095: Starting in XGBoost 1.3.0, the default evaluation metric used with the objective 'binary:logistic' was changed from 'error' to 'logloss'. Explicitly set eval_metric if you'd like to restore the old behavior.\n",
      "[15:11:21] WARNING: ../src/learner.cc:1095: Starting in XGBoost 1.3.0, the default evaluation metric used with the objective 'binary:logistic' was changed from 'error' to 'logloss'. Explicitly set eval_metric if you'd like to restore the old behavior.\n",
      "[15:11:22] WARNING: ../src/learner.cc:1095: Starting in XGBoost 1.3.0, the default evaluation metric used with the objective 'binary:logistic' was changed from 'error' to 'logloss'. Explicitly set eval_metric if you'd like to restore the old behavior.\n"
     ]
    },
    {
     "name": "stderr",
     "output_type": "stream",
     "text": [
      "\u001b[1mGrid estimation progress:\u001b[0m [--------------------------            ]  70%\r"
     ]
    },
    {
     "name": "stdout",
     "output_type": "stream",
     "text": [
      "[15:11:23] WARNING: ../src/learner.cc:1095: Starting in XGBoost 1.3.0, the default evaluation metric used with the objective 'binary:logistic' was changed from 'error' to 'logloss'. Explicitly set eval_metric if you'd like to restore the old behavior.\n",
      "[15:11:24] WARNING: ../src/learner.cc:1095: Starting in XGBoost 1.3.0, the default evaluation metric used with the objective 'binary:logistic' was changed from 'error' to 'logloss'. Explicitly set eval_metric if you'd like to restore the old behavior.\n",
      "[15:11:25] WARNING: ../src/learner.cc:1095: Starting in XGBoost 1.3.0, the default evaluation metric used with the objective 'binary:logistic' was changed from 'error' to 'logloss'. Explicitly set eval_metric if you'd like to restore the old behavior.\n"
     ]
    },
    {
     "name": "stderr",
     "output_type": "stream",
     "text": [
      "\u001b[1mGrid estimation progress:\u001b[0m [------------------------------        ]  80%\r"
     ]
    },
    {
     "name": "stdout",
     "output_type": "stream",
     "text": [
      "[15:11:26] WARNING: ../src/learner.cc:1095: Starting in XGBoost 1.3.0, the default evaluation metric used with the objective 'binary:logistic' was changed from 'error' to 'logloss'. Explicitly set eval_metric if you'd like to restore the old behavior.\n",
      "[15:11:27] WARNING: ../src/learner.cc:1095: Starting in XGBoost 1.3.0, the default evaluation metric used with the objective 'binary:logistic' was changed from 'error' to 'logloss'. Explicitly set eval_metric if you'd like to restore the old behavior.\n",
      "[15:11:27] WARNING: ../src/learner.cc:1095: Starting in XGBoost 1.3.0, the default evaluation metric used with the objective 'binary:logistic' was changed from 'error' to 'logloss'. Explicitly set eval_metric if you'd like to restore the old behavior.\n"
     ]
    },
    {
     "name": "stderr",
     "output_type": "stream",
     "text": [
      "\u001b[1mGrid estimation progress:\u001b[0m [----------------------------------    ]  90%\r"
     ]
    },
    {
     "name": "stdout",
     "output_type": "stream",
     "text": [
      "[15:11:28] WARNING: ../src/learner.cc:1095: Starting in XGBoost 1.3.0, the default evaluation metric used with the objective 'binary:logistic' was changed from 'error' to 'logloss'. Explicitly set eval_metric if you'd like to restore the old behavior.\n",
      "[15:11:29] WARNING: ../src/learner.cc:1095: Starting in XGBoost 1.3.0, the default evaluation metric used with the objective 'binary:logistic' was changed from 'error' to 'logloss'. Explicitly set eval_metric if you'd like to restore the old behavior.\n",
      "[15:11:29] WARNING: ../src/learner.cc:1095: Starting in XGBoost 1.3.0, the default evaluation metric used with the objective 'binary:logistic' was changed from 'error' to 'logloss'. Explicitly set eval_metric if you'd like to restore the old behavior.\n"
     ]
    },
    {
     "name": "stderr",
     "output_type": "stream",
     "text": [
      "\u001b[1mGrid estimation progress:\u001b[0m [--------------------------------------] 100%\r"
     ]
    },
    {
     "name": "stdout",
     "output_type": "stream",
     "text": [
      "[15:11:30] WARNING: ../src/learner.cc:1095: Starting in XGBoost 1.3.0, the default evaluation metric used with the objective 'binary:logistic' was changed from 'error' to 'logloss'. Explicitly set eval_metric if you'd like to restore the old behavior.\n",
      "---------------------------------------------------------------------\n",
      "\u001b[1mTrain-test estimation outcomes:\u001b[0m\n",
      "\n",
      "\n",
      "Outcomes from K-folds CV estimation:\n",
      "   Number of data folds: 3.\n",
      "   Number of samples for random search: 10.\n",
      "   Estimation method: xgboost.\n",
      "   Metric for choosing best hyper-parameter: roc_auc.\n",
      "   Best hyper-parameters: {'subsample': 0.9444406041761167, 'eta': 0.025271558565476228, 'max_depth': 5, 'num_boost_round': 500}.\n",
      "   CV performance metric associated with best hyper-parameters: 0.8807.\n",
      "\n",
      "\n",
      "Performance metrics evaluated at test data:\n",
      "   test_roc_auc = 0.8531\n",
      "   test_prec_avg = 0.6565\n",
      "   test_brier = 0.1611\n",
      "---------------------------------------------------------------------\n",
      "\n",
      "\n",
      "------------------------------------\n",
      "\u001b[1mRunning time:\u001b[0m 0.47 minutes.\n",
      "Start time: 2022-01-02, 15:11:03\n",
      "End time: 2022-01-02, 15:11:31\n",
      "------------------------------------\n"
     ]
    }
   ],
   "source": [
    "# Identificação da estimação:\n",
    "estimation_id = str(int(time.time()))\n",
    "\n",
    "# Grid de hiper-parâmetros\n",
    "grid_param = {'subsample': uniform(0.5, 0.5),\n",
    "              'eta': uniform(0.0001, 0.1),\n",
    "              'max_depth': randint(1, 10),\n",
    "              'num_boost_round': [100, 250, 500]}\n",
    "default_param = {'subsample': 0.75, 'eta': 0.01, 'max_depth': 10, 'num_boost_round': 100}\n",
    "\n",
    "# Criando o objeto de K-folds CV fit:\n",
    "model_xgb = Kfolds_fit(task='binary:logistic', method='xgboost', num_folds=3, metric='roc_auc', shuffle=False,\n",
    "                       random_search=True, n_samples=10,\n",
    "                       grid_param=grid_param, default_param=default_param,\n",
    "                       pre_selecting=False, pre_selecting_params=selection_params,\n",
    "                       parallelize=False)\n",
    "\n",
    "# Treinando o modelo:\n",
    "model_xgb.fit(train_inputs=X_train, train_output=y_train, test_inputs=X_test, test_output=y_test)"
   ]
  },
  {
   "cell_type": "markdown",
   "id": "c37e59ee",
   "metadata": {},
   "source": [
    "#### Model assessment"
   ]
  },
  {
   "cell_type": "code",
   "execution_count": 26,
   "id": "2abf669b",
   "metadata": {},
   "outputs": [],
   "source": [
    "model_assess[estimation_id] = {\n",
    "    'estimation_id': estimation_id,\n",
    "    'n_obs_train': len(X_train),\n",
    "    'n_obs_test': len(X_test),\n",
    "    'train_interval': (str(ocorr_train['ocorrencia_dia'].min().date()),\n",
    "                       str(ocorr_train['ocorrencia_dia'].max().date())),\n",
    "    'test_interval': (str(ocorr_test['ocorrencia_dia'].min().date()),\n",
    "                      str(ocorr_test['ocorrencia_dia'].max().date())),\n",
    "    'avg_y_train': y_train.mean(),\n",
    "    'avg_y_test': y_test.mean(),\n",
    "    'n_vars_train': X_train.shape[1],\n",
    "    'n_vars_test': X_test.shape[1],\n",
    "    'numerical_transf': numerical_transf,\n",
    "    'comment': comment,\n",
    "    'method': 'XGBoost',\n",
    "    'performance_metrics': model_xgb.performance_metrics\n",
    "}"
   ]
  },
  {
   "cell_type": "markdown",
   "id": "ee3bce2a",
   "metadata": {},
   "source": [
    "<a id='model_selection'></a>"
   ]
  },
  {
   "cell_type": "markdown",
   "id": "94f91e1f",
   "metadata": {},
   "source": [
    "### Model selection"
   ]
  },
  {
   "cell_type": "code",
   "execution_count": 31,
   "id": "e1eb32d0",
   "metadata": {},
   "outputs": [
    {
     "data": {
      "text/html": [
       "<div>\n",
       "<style scoped>\n",
       "    .dataframe tbody tr th:only-of-type {\n",
       "        vertical-align: middle;\n",
       "    }\n",
       "\n",
       "    .dataframe tbody tr th {\n",
       "        vertical-align: top;\n",
       "    }\n",
       "\n",
       "    .dataframe thead th {\n",
       "        text-align: right;\n",
       "    }\n",
       "</style>\n",
       "<table border=\"1\" class=\"dataframe\">\n",
       "  <thead>\n",
       "    <tr style=\"text-align: right;\">\n",
       "      <th></th>\n",
       "      <th>estimation_id</th>\n",
       "      <th>n_obs_train</th>\n",
       "      <th>n_obs_test</th>\n",
       "      <th>train_interval</th>\n",
       "      <th>test_interval</th>\n",
       "      <th>avg_y_train</th>\n",
       "      <th>avg_y_test</th>\n",
       "      <th>n_vars_train</th>\n",
       "      <th>n_vars_test</th>\n",
       "      <th>method</th>\n",
       "      <th>test_roc_auc</th>\n",
       "      <th>test_prec_avg</th>\n",
       "      <th>test_brier</th>\n",
       "    </tr>\n",
       "  </thead>\n",
       "  <tbody>\n",
       "    <tr>\n",
       "      <th>3</th>\n",
       "      <td>1641147063</td>\n",
       "      <td>4326</td>\n",
       "      <td>1862</td>\n",
       "      <td>(2010-01-03, 2017-12-03)</td>\n",
       "      <td>(2017-12-06, 2021-08-18)</td>\n",
       "      <td>0.319464</td>\n",
       "      <td>0.301289</td>\n",
       "      <td>138</td>\n",
       "      <td>138</td>\n",
       "      <td>XGBoost</td>\n",
       "      <td>0.853072</td>\n",
       "      <td>0.656459</td>\n",
       "      <td>0.161125</td>\n",
       "    </tr>\n",
       "    <tr>\n",
       "      <th>2</th>\n",
       "      <td>1641147057</td>\n",
       "      <td>4326</td>\n",
       "      <td>1862</td>\n",
       "      <td>(2010-01-03, 2017-12-03)</td>\n",
       "      <td>(2017-12-06, 2021-08-18)</td>\n",
       "      <td>0.319464</td>\n",
       "      <td>0.301289</td>\n",
       "      <td>138</td>\n",
       "      <td>138</td>\n",
       "      <td>LightGBM</td>\n",
       "      <td>0.851791</td>\n",
       "      <td>0.654457</td>\n",
       "      <td>0.161925</td>\n",
       "    </tr>\n",
       "    <tr>\n",
       "      <th>0</th>\n",
       "      <td>1641147034</td>\n",
       "      <td>4326</td>\n",
       "      <td>1862</td>\n",
       "      <td>(2010-01-03, 2017-12-03)</td>\n",
       "      <td>(2017-12-06, 2021-08-18)</td>\n",
       "      <td>0.319464</td>\n",
       "      <td>0.301289</td>\n",
       "      <td>138</td>\n",
       "      <td>138</td>\n",
       "      <td>LR</td>\n",
       "      <td>0.844413</td>\n",
       "      <td>0.631759</td>\n",
       "      <td>0.166467</td>\n",
       "    </tr>\n",
       "    <tr>\n",
       "      <th>1</th>\n",
       "      <td>1641147038</td>\n",
       "      <td>4326</td>\n",
       "      <td>1862</td>\n",
       "      <td>(2010-01-03, 2017-12-03)</td>\n",
       "      <td>(2017-12-06, 2021-08-18)</td>\n",
       "      <td>0.319464</td>\n",
       "      <td>0.301289</td>\n",
       "      <td>138</td>\n",
       "      <td>138</td>\n",
       "      <td>SVM</td>\n",
       "      <td>0.843643</td>\n",
       "      <td>0.643145</td>\n",
       "      <td>0.165225</td>\n",
       "    </tr>\n",
       "  </tbody>\n",
       "</table>\n",
       "</div>"
      ],
      "text/plain": [
       "  estimation_id  n_obs_train  n_obs_test            train_interval  \\\n",
       "3    1641147063         4326        1862  (2010-01-03, 2017-12-03)   \n",
       "2    1641147057         4326        1862  (2010-01-03, 2017-12-03)   \n",
       "0    1641147034         4326        1862  (2010-01-03, 2017-12-03)   \n",
       "1    1641147038         4326        1862  (2010-01-03, 2017-12-03)   \n",
       "\n",
       "              test_interval  avg_y_train  avg_y_test  n_vars_train  \\\n",
       "3  (2017-12-06, 2021-08-18)     0.319464    0.301289           138   \n",
       "2  (2017-12-06, 2021-08-18)     0.319464    0.301289           138   \n",
       "0  (2017-12-06, 2021-08-18)     0.319464    0.301289           138   \n",
       "1  (2017-12-06, 2021-08-18)     0.319464    0.301289           138   \n",
       "\n",
       "   n_vars_test    method  test_roc_auc  test_prec_avg  test_brier  \n",
       "3          138   XGBoost      0.853072       0.656459    0.161125  \n",
       "2          138  LightGBM      0.851791       0.654457    0.161925  \n",
       "0          138        LR      0.844413       0.631759    0.166467  \n",
       "1          138       SVM      0.843643       0.643145    0.165225  "
      ]
     },
     "execution_count": 31,
     "metadata": {},
     "output_type": "execute_result"
    }
   ],
   "source": [
    "pd.DataFrame(data={\n",
    "    'estimation_id': [model_assess[es_id]['estimation_id'] for es_id in model_assess],\n",
    "    'n_obs_train': [model_assess[es_id]['n_obs_train'] for es_id in model_assess],\n",
    "    'n_obs_test': [model_assess[es_id]['n_obs_test'] for es_id in model_assess],\n",
    "    'train_interval': [model_assess[es_id]['train_interval'] for es_id in model_assess],\n",
    "    'test_interval': [model_assess[es_id]['test_interval'] for es_id in model_assess],\n",
    "    'avg_y_train': [model_assess[es_id]['avg_y_train'] for es_id in model_assess],\n",
    "    'avg_y_test': [model_assess[es_id]['avg_y_test'] for es_id in model_assess],\n",
    "    'n_vars_train': [model_assess[es_id]['n_vars_train'] for es_id in model_assess],\n",
    "    'n_vars_test': [model_assess[es_id]['n_vars_test'] for es_id in model_assess],\n",
    "    'method': [model_assess[es_id]['method'] for es_id in model_assess],\n",
    "    'test_roc_auc': [model_assess[es_id]['performance_metrics']['test_roc_auc'] for es_id in model_assess],\n",
    "    'test_prec_avg': [model_assess[es_id]['performance_metrics']['test_prec_avg'] for es_id in model_assess],\n",
    "    'test_brier': [model_assess[es_id]['performance_metrics']['test_brier'] for es_id in model_assess]\n",
    "}).sort_values('test_roc_auc', ascending=False)"
   ]
  },
  {
   "cell_type": "markdown",
   "id": "d56f10fd",
   "metadata": {},
   "source": [
    "#### Model evaluation"
   ]
  },
  {
   "cell_type": "markdown",
   "id": "457d53cd",
   "metadata": {},
   "source": [
    "Matthews correlation coefficient (MCC) para definição de limiar"
   ]
  },
  {
   "cell_type": "code",
   "execution_count": 44,
   "id": "b836f53d",
   "metadata": {},
   "outputs": [
    {
     "name": "stderr",
     "output_type": "stream",
     "text": [
      "/home/matheus.rosso/anaconda3/lib/python3.9/site-packages/sklearn/metrics/_classification.py:873: RuntimeWarning: invalid value encountered in double_scalars\n",
      "  mcc = cov_ytyp / np.sqrt(cov_ytyt * cov_ypyp)\n",
      "/home/matheus.rosso/anaconda3/lib/python3.9/site-packages/sklearn/metrics/_classification.py:873: RuntimeWarning: invalid value encountered in double_scalars\n",
      "  mcc = cov_ytyp / np.sqrt(cov_ytyt * cov_ypyp)\n",
      "/home/matheus.rosso/anaconda3/lib/python3.9/site-packages/sklearn/metrics/_classification.py:873: RuntimeWarning: invalid value encountered in double_scalars\n",
      "  mcc = cov_ytyp / np.sqrt(cov_ytyt * cov_ypyp)\n",
      "/home/matheus.rosso/anaconda3/lib/python3.9/site-packages/sklearn/metrics/_classification.py:873: RuntimeWarning: invalid value encountered in double_scalars\n",
      "  mcc = cov_ytyp / np.sqrt(cov_ytyt * cov_ypyp)\n"
     ]
    },
    {
     "data": {
      "text/html": [
       "<div>\n",
       "<style scoped>\n",
       "    .dataframe tbody tr th:only-of-type {\n",
       "        vertical-align: middle;\n",
       "    }\n",
       "\n",
       "    .dataframe tbody tr th {\n",
       "        vertical-align: top;\n",
       "    }\n",
       "\n",
       "    .dataframe thead th {\n",
       "        text-align: right;\n",
       "    }\n",
       "</style>\n",
       "<table border=\"1\" class=\"dataframe\">\n",
       "  <thead>\n",
       "    <tr style=\"text-align: right;\">\n",
       "      <th></th>\n",
       "      <th>threshold</th>\n",
       "      <th>mcc</th>\n",
       "    </tr>\n",
       "  </thead>\n",
       "  <tbody>\n",
       "    <tr>\n",
       "      <th>55</th>\n",
       "      <td>0.555556</td>\n",
       "      <td>0.544934</td>\n",
       "    </tr>\n",
       "    <tr>\n",
       "      <th>54</th>\n",
       "      <td>0.545455</td>\n",
       "      <td>0.539649</td>\n",
       "    </tr>\n",
       "    <tr>\n",
       "      <th>57</th>\n",
       "      <td>0.575758</td>\n",
       "      <td>0.537538</td>\n",
       "    </tr>\n",
       "    <tr>\n",
       "      <th>56</th>\n",
       "      <td>0.565657</td>\n",
       "      <td>0.536892</td>\n",
       "    </tr>\n",
       "    <tr>\n",
       "      <th>51</th>\n",
       "      <td>0.515152</td>\n",
       "      <td>0.531161</td>\n",
       "    </tr>\n",
       "    <tr>\n",
       "      <th>53</th>\n",
       "      <td>0.535354</td>\n",
       "      <td>0.529800</td>\n",
       "    </tr>\n",
       "    <tr>\n",
       "      <th>49</th>\n",
       "      <td>0.494949</td>\n",
       "      <td>0.529631</td>\n",
       "    </tr>\n",
       "    <tr>\n",
       "      <th>48</th>\n",
       "      <td>0.484848</td>\n",
       "      <td>0.528202</td>\n",
       "    </tr>\n",
       "    <tr>\n",
       "      <th>50</th>\n",
       "      <td>0.505051</td>\n",
       "      <td>0.527990</td>\n",
       "    </tr>\n",
       "    <tr>\n",
       "      <th>52</th>\n",
       "      <td>0.525253</td>\n",
       "      <td>0.526501</td>\n",
       "    </tr>\n",
       "  </tbody>\n",
       "</table>\n",
       "</div>"
      ],
      "text/plain": [
       "    threshold       mcc\n",
       "55   0.555556  0.544934\n",
       "54   0.545455  0.539649\n",
       "57   0.575758  0.537538\n",
       "56   0.565657  0.536892\n",
       "51   0.515152  0.531161\n",
       "53   0.535354  0.529800\n",
       "49   0.494949  0.529631\n",
       "48   0.484848  0.528202\n",
       "50   0.505051  0.527990\n",
       "52   0.525253  0.526501"
      ]
     },
     "execution_count": 44,
     "metadata": {},
     "output_type": "execute_result"
    }
   ],
   "source": [
    "# MCC por limiar:\n",
    "pd.DataFrame(data={\n",
    "    'threshold': np.linspace(0,1, 100),\n",
    "    'mcc': [matthews_corrcoef(model_xgb.test_scores['y_true'],\n",
    "                              model_xgb.test_scores['test_score'].apply(lambda x: 1 if x > t else 0))\n",
    "            for t in np.linspace(0,1, 100)]}).sort_values('mcc', ascending=False).head(10)"
   ]
  },
  {
   "cell_type": "markdown",
   "id": "83b65845",
   "metadata": {},
   "source": [
    "Matriz de confusão"
   ]
  },
  {
   "cell_type": "code",
   "execution_count": 56,
   "id": "ae654180",
   "metadata": {},
   "outputs": [
    {
     "name": "stdout",
     "output_type": "stream",
     "text": [
      "Acurácia: 78%.\n"
     ]
    },
    {
     "data": {
      "text/plain": [
       "array([[1004,  297],\n",
       "       [ 106,  455]])"
      ]
     },
     "execution_count": 56,
     "metadata": {},
     "output_type": "execute_result"
    }
   ],
   "source": [
    "test_acc = accuracy_score(model_xgb.test_scores['y_true'],\n",
    "                          model_xgb.test_scores['test_score'].apply(lambda x: 1 if x > 0.555556 else 0))\n",
    "\n",
    "print(f'Acurácia: {test_acc*100:.0f}%.')\n",
    "confusion_matrix(model_xgb.test_scores['y_true'],\n",
    "                 model_xgb.test_scores['test_score'].apply(lambda x: 1 if x > 0.555556 else 0))"
   ]
  },
  {
   "cell_type": "code",
   "execution_count": null,
   "id": "aa0be336",
   "metadata": {},
   "outputs": [],
   "source": []
  }
 ],
 "metadata": {
  "kernelspec": {
   "display_name": "Python 3 (ipykernel)",
   "language": "python",
   "name": "python3"
  },
  "language_info": {
   "codemirror_mode": {
    "name": "ipython",
    "version": 3
   },
   "file_extension": ".py",
   "mimetype": "text/x-python",
   "name": "python",
   "nbconvert_exporter": "python",
   "pygments_lexer": "ipython3",
   "version": "3.9.7"
  }
 },
 "nbformat": 4,
 "nbformat_minor": 5
}
